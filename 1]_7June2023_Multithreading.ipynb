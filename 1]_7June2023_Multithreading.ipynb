{
  "nbformat": 4,
  "nbformat_minor": 0,
  "metadata": {
    "colab": {
      "provenance": []
    },
    "kernelspec": {
      "name": "python3",
      "display_name": "Python 3"
    },
    "language_info": {
      "name": "python"
    }
  },
  "cells": [
    {
      "cell_type": "markdown",
      "source": [
        "Suppose you have quad core processor ( 4 processors ). Hence, multithreading allows us to run multiple instances of a program on a single core or single processor without interfering with each other"
      ],
      "metadata": {
        "id": "mBL0QsFUDKyX"
      }
    },
    {
      "cell_type": "markdown",
      "source": [
        "A thread is the smallest unit of a program or process executed independently.Multithreading is a threading technique in Python programming to run multiple threads concurrently by rapidly switching between threads with a CPU help (called context switching). \n",
        "\n",
        "*  Multithreading aims to perform multiple tasks simultaneously, which increases performance, speed and improves the rendering of the application."
      ],
      "metadata": {
        "id": "DzWXxMM2OrIJ"
      }
    },
    {
      "cell_type": "markdown",
      "source": [
        "Following are the benefits to create a multithreaded application in Python, as follows:\n",
        "\n",
        "* It ensures effective utilization of computer system resources.\n",
        "* Multithreaded applications are more responsive.\n",
        "* It shares resources and its state with sub-threads (child) which makes it more economical.\n",
        "* It makes the multiprocessor architecture more effective due to similarity.\n",
        "* It saves time by executing multiple threads at the same time.\n",
        "* The system does not require too much memory to store multiple threads."
      ],
      "metadata": {
        "id": "qV5YLYYrQfTn"
      }
    },
    {
      "cell_type": "code",
      "execution_count": null,
      "metadata": {
        "colab": {
          "base_uri": "https://localhost:8080/"
        },
        "id": "0poLofz8MRl-",
        "outputId": "633da413-0f81-4f1d-a519-7b3c4c879e45"
      },
      "outputs": [
        {
          "output_type": "stream",
          "name": "stdout",
          "text": [
            "This is my id : 10\n"
          ]
        }
      ],
      "source": [
        "def test(id):\n",
        "  print(\"This is my id : %d\" %id)\n",
        "\n",
        "test(10)"
      ]
    },
    {
      "cell_type": "code",
      "source": [
        "test(1)"
      ],
      "metadata": {
        "colab": {
          "base_uri": "https://localhost:8080/"
        },
        "id": "aNRLo9KFPLVT",
        "outputId": "9d3c430b-5f09-4c01-c8a2-fb1a9d35ad7c"
      },
      "execution_count": null,
      "outputs": [
        {
          "output_type": "stream",
          "name": "stdout",
          "text": [
            "This is my id : 1\n"
          ]
        }
      ]
    },
    {
      "cell_type": "code",
      "source": [
        "test(2)"
      ],
      "metadata": {
        "colab": {
          "base_uri": "https://localhost:8080/"
        },
        "id": "j6ZmYFESPOhq",
        "outputId": "9da4cda7-a4a2-4d11-ac1d-f33747b86e7a"
      },
      "execution_count": null,
      "outputs": [
        {
          "output_type": "stream",
          "name": "stdout",
          "text": [
            "This is my id : 2\n"
          ]
        }
      ]
    },
    {
      "cell_type": "markdown",
      "source": [
        "IN above case, the program is run three times. Consider you want to run the programs simultaneously .i.e parallely and not sequntially. Then, you can use threading"
      ],
      "metadata": {
        "id": "vobaEGIkPR0n"
      }
    },
    {
      "cell_type": "code",
      "source": [
        "import threading"
      ],
      "metadata": {
        "id": "6C3pHSExPPEu"
      },
      "execution_count": null,
      "outputs": []
    },
    {
      "cell_type": "code",
      "source": [
        "thread =  [threading.Thread( target = test, args =(i, ))  for i in [10,1,2]]\n"
      ],
      "metadata": {
        "id": "aTRQzK-FPka0"
      },
      "execution_count": null,
      "outputs": []
    },
    {
      "cell_type": "code",
      "source": [
        "thread"
      ],
      "metadata": {
        "colab": {
          "base_uri": "https://localhost:8080/"
        },
        "id": "b3W8gnD7PzqA",
        "outputId": "6cdc3a32-f809-4334-b402-d1b92995be38"
      },
      "execution_count": null,
      "outputs": [
        {
          "output_type": "execute_result",
          "data": {
            "text/plain": [
              "[<Thread(Thread-10 (test), initial)>,\n",
              " <Thread(Thread-11 (test), initial)>,\n",
              " <Thread(Thread-12 (test), initial)>]"
            ]
          },
          "metadata": {},
          "execution_count": 6
        }
      ]
    },
    {
      "cell_type": "code",
      "source": [
        "for t in thread:\n",
        "  t.start()"
      ],
      "metadata": {
        "colab": {
          "base_uri": "https://localhost:8080/"
        },
        "id": "BdiD8-qYP2zw",
        "outputId": "30555f86-5fcc-423c-b7fa-788bfbce5313"
      },
      "execution_count": null,
      "outputs": [
        {
          "output_type": "stream",
          "name": "stdout",
          "text": [
            "This is my id : 10\n",
            "This is my id : 1\n",
            "This is my id : 2\n"
          ]
        }
      ]
    },
    {
      "cell_type": "markdown",
      "source": [
        "The above programs are run in a single core by default"
      ],
      "metadata": {
        "id": "gDXEg7ntQV3V"
      }
    },
    {
      "cell_type": "markdown",
      "source": [
        "# **WAP to fetch data from three different urls/links and then store it in a local file**"
      ],
      "metadata": {
        "id": "jNVucVTCQ-ut"
      }
    },
    {
      "cell_type": "code",
      "execution_count": null,
      "metadata": {
        "id": "870f948f-3b57-402f-b78f-b1bfc7bc45c5"
      },
      "outputs": [],
      "source": [
        "# links:\n",
        "\n",
        "url_list = ['https://raw.githubusercontent.com/itsfoss/text-files/master/agatha.txt' , 'https://raw.githubusercontent.com/itsfoss/text-files/master/sherlock.txt' ,'https://raw.githubusercontent.com/itsfoss/text-files/master/sample_log_file.txt' ]"
      ]
    },
    {
      "cell_type": "code",
      "source": [
        "url_list"
      ],
      "metadata": {
        "colab": {
          "base_uri": "https://localhost:8080/"
        },
        "id": "lzeXpA1VR_8J",
        "outputId": "4b575eed-3c6d-442a-c68f-586b98e191b5"
      },
      "execution_count": null,
      "outputs": [
        {
          "output_type": "execute_result",
          "data": {
            "text/plain": [
              "['https://raw.githubusercontent.com/itsfoss/text-files/master/agatha.txt',\n",
              " 'https://raw.githubusercontent.com/itsfoss/text-files/master/sherlock.txt',\n",
              " 'https://raw.githubusercontent.com/itsfoss/text-files/master/sample_log_file.txt']"
            ]
          },
          "metadata": {},
          "execution_count": 9
        }
      ]
    },
    {
      "cell_type": "code",
      "source": [
        "import urllib.request\n",
        "\n",
        "def download(url, filename):             # url -> url from which we want to retrieve data                     filename -> name of local file\n",
        "  urllib.request.urlretrieve(url, filename)"
      ],
      "metadata": {
        "id": "EwInLxRISBCr"
      },
      "execution_count": null,
      "outputs": []
    },
    {
      "cell_type": "code",
      "source": [
        "download(\"https://raw.githubusercontent.com/itsfoss/text-files/master/agatha.txt\", \"test1.txt\")"
      ],
      "metadata": {
        "id": "lwZpTKENSZfn"
      },
      "execution_count": null,
      "outputs": []
    },
    {
      "cell_type": "code",
      "source": [
        "download(\"https://raw.githubusercontent.com/itsfoss/text-files/master/sherlock.txt\", \"test2.txt\")"
      ],
      "metadata": {
        "id": "lSY1cJEXS_NX"
      },
      "execution_count": null,
      "outputs": []
    },
    {
      "cell_type": "code",
      "source": [
        "download(\"https://raw.githubusercontent.com/itsfoss/text-files/master/sample_log_file.txt\", \"test3.txt\")"
      ],
      "metadata": {
        "id": "eHl3C14UTiaS"
      },
      "execution_count": null,
      "outputs": []
    },
    {
      "cell_type": "markdown",
      "source": [
        "Now, by using threading"
      ],
      "metadata": {
        "id": "r755iKOjTpMo"
      }
    },
    {
      "cell_type": "code",
      "source": [
        "data_list = [\"data1.txt\", \"data2.txt\", \"data3.txt\"]"
      ],
      "metadata": {
        "id": "M7bvCgkWT0es"
      },
      "execution_count": null,
      "outputs": []
    },
    {
      "cell_type": "code",
      "source": [
        "thread = [threading.Thread(target = download, args = (url_list[i], data_list[i])) for i in range(len(url_list))]"
      ],
      "metadata": {
        "id": "Y-0Egug8TnJy"
      },
      "execution_count": null,
      "outputs": []
    },
    {
      "cell_type": "code",
      "source": [
        "thread"
      ],
      "metadata": {
        "colab": {
          "base_uri": "https://localhost:8080/"
        },
        "id": "2JKpi1TEUHFC",
        "outputId": "2104c6a6-cbb9-4f09-c6f5-fe135b9e2ed2"
      },
      "execution_count": null,
      "outputs": [
        {
          "output_type": "execute_result",
          "data": {
            "text/plain": [
              "[<Thread(Thread-13 (download), initial)>,\n",
              " <Thread(Thread-14 (download), initial)>,\n",
              " <Thread(Thread-15 (download), initial)>]"
            ]
          },
          "metadata": {},
          "execution_count": 16
        }
      ]
    },
    {
      "cell_type": "code",
      "source": [
        "for t in thread:\n",
        "  t.start()"
      ],
      "metadata": {
        "id": "Rwd_-pwSUI5v"
      },
      "execution_count": null,
      "outputs": []
    },
    {
      "cell_type": "markdown",
      "source": [
        "Hence, code is optimized and a single core is used"
      ],
      "metadata": {
        "id": "Z6Tarq1zUZ58"
      }
    },
    {
      "cell_type": "code",
      "source": [
        "#Another example\n",
        "\n",
        "import time\n",
        "\n",
        "def test(x):\n",
        "  for i in range(10):\n",
        "    print(\"value of x = %d and value of i = %d\" %(x,i))\n",
        "\n",
        "test(10)"
      ],
      "metadata": {
        "id": "9bjJR7JmULdC",
        "colab": {
          "base_uri": "https://localhost:8080/"
        },
        "outputId": "143a3f0a-10cb-4dc8-9692-baab3771716a"
      },
      "execution_count": null,
      "outputs": [
        {
          "output_type": "stream",
          "name": "stdout",
          "text": [
            "value of x = 10 and value of i = 0\n",
            "value of x = 10 and value of i = 1\n",
            "value of x = 10 and value of i = 2\n",
            "value of x = 10 and value of i = 3\n",
            "value of x = 10 and value of i = 4\n",
            "value of x = 10 and value of i = 5\n",
            "value of x = 10 and value of i = 6\n",
            "value of x = 10 and value of i = 7\n",
            "value of x = 10 and value of i = 8\n",
            "value of x = 10 and value of i = 9\n"
          ]
        }
      ]
    },
    {
      "cell_type": "code",
      "source": [
        "# Now consider you want to see each output after some time\n",
        "\n",
        "def test2(x):\n",
        "  for i in range(10):\n",
        "    print(\"value of x = %d and value of i = %d\" %(x,i))\n",
        "    time.sleep(1)                 # each output will be printed after 1 second\n",
        "test2(10)"
      ],
      "metadata": {
        "colab": {
          "base_uri": "https://localhost:8080/"
        },
        "id": "DOpyQiuDApyt",
        "outputId": "5a5c1e3e-e14e-4869-fe26-0d22eaab4c1e"
      },
      "execution_count": null,
      "outputs": [
        {
          "output_type": "stream",
          "name": "stdout",
          "text": [
            "value of x = 10 and value of i = 0\n",
            "value of x = 10 and value of i = 1\n",
            "value of x = 10 and value of i = 2\n",
            "value of x = 10 and value of i = 3\n",
            "value of x = 10 and value of i = 4\n",
            "value of x = 10 and value of i = 5\n",
            "value of x = 10 and value of i = 6\n",
            "value of x = 10 and value of i = 7\n",
            "value of x = 10 and value of i = 8\n",
            "value of x = 10 and value of i = 9\n"
          ]
        }
      ]
    },
    {
      "cell_type": "code",
      "source": [
        "# Using Multithreading    ---> using time.sleep(1)\n",
        " \n",
        "thread2 = [threading.Thread(target = test2, args = (x,)) for x in [100,20,30,10]]\n",
        "\n",
        "for t in thread2:\n",
        "  t.start()"
      ],
      "metadata": {
        "colab": {
          "base_uri": "https://localhost:8080/"
        },
        "id": "eRTzmcxRA2hw",
        "outputId": "87253a16-8047-427a-c7a3-5079e4f13571"
      },
      "execution_count": null,
      "outputs": [
        {
          "output_type": "stream",
          "name": "stdout",
          "text": [
            "value of x = 100 and value of i = 0\n",
            "value of x = 20 and value of i = 0\n",
            "value of x = 30 and value of i = 0\n",
            "value of x = 10 and value of i = 0"
          ]
        }
      ]
    },
    {
      "cell_type": "code",
      "source": [
        "thread3 = threading.Thread(target = test2, args = (10,))\n",
        "thread3.start() "
      ],
      "metadata": {
        "colab": {
          "base_uri": "https://localhost:8080/"
        },
        "id": "XEgICSkwDMJv",
        "outputId": "d220b1a8-f8c6-4841-dcef-cbe35aa1cd09"
      },
      "execution_count": null,
      "outputs": [
        {
          "output_type": "stream",
          "name": "stdout",
          "text": [
            "value of x = 10 and value of i = 0"
          ]
        }
      ]
    },
    {
      "cell_type": "code",
      "source": [
        "def test2(x):\n",
        "  for i in range(10):\n",
        "    print(\"value of x = %d and value of i = %d\" %(x,i))\n",
        "    \n",
        "# Using Multithreading    ---> without using time.sleep(1)\n",
        " \n",
        "thread2 = [threading.Thread(target = test2, args = (x,)) for x in [100,20,30,10]]\n",
        "\n",
        "for t in thread2:\n",
        "  t.start()"
      ],
      "metadata": {
        "colab": {
          "base_uri": "https://localhost:8080/"
        },
        "id": "IbSD228aE73o",
        "outputId": "9cf12ca8-c7c9-4347-a4ef-22f11748a066"
      },
      "execution_count": null,
      "outputs": [
        {
          "output_type": "stream",
          "name": "stdout",
          "text": [
            "value of x = 100 and value of i = 0value of x = 20 and value of i = 0\n",
            "value of x = 20 and value of i = 1\n",
            "value of x = 20 and value of i = 2\n",
            "value of x = 20 and value of i = 3\n",
            "value of x = 20 and value of i = 4\n",
            "value of x = 20 and value of i = 5\n",
            "value of x = 100 and value of i = 1\n",
            "value of x = 100 and value of i = 2\n",
            "value of x = 100 and value of i = 3\n",
            "value of x = 20 and value of i = 6\n",
            "value of x = 20 and value of i = 7\n",
            "value of x = 20 and value of i = 8\n",
            "value of x = 20 and value of i = 9\n",
            "value of x = 30 and value of i = 0\n",
            "value of x = 30 and value of i = 1\n",
            "value of x = 30 and value of i = 2\n",
            "value of x = 100 and value of i = 4\n",
            "value of x = 100 and value of i = 5\n",
            "value of x = 100 and value of i = 6\n",
            "value of x = 100 and value of i = 7\n",
            "value of x = 100 and value of i = 8\n",
            "value of x = 100 and value of i = 9\n",
            "value of x = 10 and value of i = 0\n",
            "\n",
            "value of x = 30 and value of i = 3\n",
            "value of x = 30 and value of i = 4\n",
            "value of x = 30 and value of i = 5\n",
            "value of x = 30 and value of i = 6\n",
            "value of x = 30 and value of i = 7\n",
            "value of x = 30 and value of i = 8\n",
            "value of x = 30 and value of i = 9\n",
            "value of x = 10 and value of i = 1\n",
            "value of x = 10 and value of i = 2\n",
            "value of x = 10 and value of i = 3\n",
            "value of x = 10 and value of i = 4\n",
            "value of x = 10 and value of i = 5\n",
            "value of x = 10 and value of i = 6\n",
            "value of x = 10 and value of i = 7\n",
            "value of x = 10 and value of i = 8\n",
            "value of x = 10 and value of i = 9\n"
          ]
        }
      ]
    },
    {
      "cell_type": "code",
      "source": [
        "shared_var = 0\n",
        "lock_var = threading.Lock()\n",
        "\n",
        "def test4(x):\n",
        "  global shared_var\n",
        "  with lock_var:\n",
        "    shared_var = shared_var + 1\n",
        "    print(\"Value of x : %d and Value of shared_lock = %d\" %(x,shared_var))\n",
        "    # time.sleep(0.5)\n",
        "\n"
      ],
      "metadata": {
        "id": "NIBFJeRUHUpV"
      },
      "execution_count": null,
      "outputs": []
    },
    {
      "cell_type": "code",
      "source": [
        "test4(10)"
      ],
      "metadata": {
        "colab": {
          "base_uri": "https://localhost:8080/"
        },
        "id": "RqAobVAsLA-j",
        "outputId": "b1975237-0fb3-43a6-f216-e7b98faff92d"
      },
      "execution_count": null,
      "outputs": [
        {
          "output_type": "stream",
          "name": "stdout",
          "text": [
            "Value of x : 10 and Value of shared_lock = 1\n"
          ]
        }
      ]
    },
    {
      "cell_type": "code",
      "source": [
        "test4(15)"
      ],
      "metadata": {
        "colab": {
          "base_uri": "https://localhost:8080/"
        },
        "id": "CQb0jwb7MVGn",
        "outputId": "e46ef071-d11d-4042-9249-635bbb901dc0"
      },
      "execution_count": null,
      "outputs": [
        {
          "output_type": "stream",
          "name": "stdout",
          "text": [
            "Value of x : 15 and Value of shared_lock = 2\n"
          ]
        }
      ]
    },
    {
      "cell_type": "code",
      "source": [
        "test4(20)"
      ],
      "metadata": {
        "colab": {
          "base_uri": "https://localhost:8080/"
        },
        "id": "e4thrTsQMXcT",
        "outputId": "cdfef816-9643-4f87-e497-8614462ffb27"
      },
      "execution_count": null,
      "outputs": [
        {
          "output_type": "stream",
          "name": "stdout",
          "text": [
            "Value of x : 20 and Value of shared_lock = 3\n"
          ]
        }
      ]
    },
    {
      "cell_type": "markdown",
      "source": [
        "# As you can see, value of shared_lock keeps on increasing"
      ],
      "metadata": {
        "id": "JLlut3rQMZuq"
      }
    },
    {
      "cell_type": "code",
      "source": [
        "thread4 = [threading.Thread(target = test4, args = (i,) ) for i in [1,2,3,4,4,5]]"
      ],
      "metadata": {
        "id": "l4M6Vak6L9ym"
      },
      "execution_count": null,
      "outputs": []
    },
    {
      "cell_type": "code",
      "source": [
        "for t in thread4:\n",
        "  t.start()"
      ],
      "metadata": {
        "colab": {
          "base_uri": "https://localhost:8080/"
        },
        "id": "WrHV92K6M_Q1",
        "outputId": "28182434-f081-4f09-eac1-c57a95fb72e6"
      },
      "execution_count": null,
      "outputs": [
        {
          "output_type": "stream",
          "name": "stdout",
          "text": [
            "Value of x : 1 and Value of shared_lock = 4\n",
            "Value of x : 2 and Value of shared_lock = 5\n",
            "Value of x : 3 and Value of shared_lock = 6\n",
            "Value of x : 4 and Value of shared_lock = 7\n",
            "Value of x : 4 and Value of shared_lock = 8\n",
            "Value of x : 5 and Value of shared_lock = 9\n"
          ]
        }
      ]
    },
    {
      "cell_type": "markdown",
      "source": [
        "Lock ensures that when one thread is using a resource(shared_var), other thread cannot use it. Hence, it avoids interruption of threads"
      ],
      "metadata": {
        "id": "sKhMut66NvHb"
      }
    }
  ]
}