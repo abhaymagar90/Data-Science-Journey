{
  "nbformat": 4,
  "nbformat_minor": 0,
  "metadata": {
    "colab": {
      "provenance": []
    },
    "kernelspec": {
      "name": "python3",
      "display_name": "Python 3"
    },
    "language_info": {
      "name": "python"
    }
  },
  "cells": [
    {
      "cell_type": "code",
      "execution_count": 35,
      "metadata": {
        "colab": {
          "base_uri": "https://localhost:8080/",
          "height": 36
        },
        "id": "slqVPoVDRhtZ",
        "outputId": "fa98f5ab-e76f-4428-e0a7-8be226890d13"
      },
      "outputs": [
        {
          "output_type": "execute_result",
          "data": {
            "text/plain": [
              "'/content'"
            ],
            "application/vnd.google.colaboratory.intrinsic+json": {
              "type": "string"
            }
          },
          "metadata": {},
          "execution_count": 35
        }
      ],
      "source": [
        "pwd     # -> Shows current directory"
      ]
    },
    {
      "cell_type": "code",
      "source": [
        "ls    # shows all files in current directory"
      ],
      "metadata": {
        "colab": {
          "base_uri": "https://localhost:8080/"
        },
        "id": "Y9CKVOczRjB-",
        "outputId": "8453fc3f-ad0c-4af0-99ca-33fd578ff26c"
      },
      "execution_count": 36,
      "outputs": [
        {
          "output_type": "stream",
          "name": "stdout",
          "text": [
            "\u001b[0m\u001b[01;34msample_data\u001b[0m/  test.txt\n"
          ]
        }
      ]
    },
    {
      "cell_type": "code",
      "source": [
        "f = open(\"test.txt\", \"w\")"
      ],
      "metadata": {
        "id": "PckCFn9IRqRz"
      },
      "execution_count": 37,
      "outputs": []
    },
    {
      "cell_type": "code",
      "source": [
        "ls"
      ],
      "metadata": {
        "colab": {
          "base_uri": "https://localhost:8080/"
        },
        "id": "meP2uJiGSDFJ",
        "outputId": "321f47e4-28cb-4473-a640-d6f0d7ed877d"
      },
      "execution_count": 38,
      "outputs": [
        {
          "output_type": "stream",
          "name": "stdout",
          "text": [
            "\u001b[0m\u001b[01;34msample_data\u001b[0m/  test.txt\n"
          ]
        }
      ]
    },
    {
      "cell_type": "code",
      "source": [
        "f.write(\"This is my first file operation\")         # The output will give bytes"
      ],
      "metadata": {
        "colab": {
          "base_uri": "https://localhost:8080/"
        },
        "id": "kBag0JtdSDlo",
        "outputId": "506e01ef-6263-4fd2-83bf-4a26e3bd1176"
      },
      "execution_count": 39,
      "outputs": [
        {
          "output_type": "execute_result",
          "data": {
            "text/plain": [
              "31"
            ]
          },
          "metadata": {},
          "execution_count": 39
        }
      ]
    },
    {
      "cell_type": "markdown",
      "source": [
        "You won't see any text in the file unless you close the file. Hence, you must close file after operation"
      ],
      "metadata": {
        "id": "ErZJY048ScyJ"
      }
    },
    {
      "cell_type": "code",
      "source": [
        "f.close()           # unless you close, you won't be able to write"
      ],
      "metadata": {
        "id": "vpOwkkeeSXc4"
      },
      "execution_count": 40,
      "outputs": []
    },
    {
      "cell_type": "code",
      "source": [
        "f = open(\"test.txt\", \"w\")"
      ],
      "metadata": {
        "id": "YUwahweRSnQF"
      },
      "execution_count": 41,
      "outputs": []
    },
    {
      "cell_type": "code",
      "source": [
        "f.write(\"This is my second file operation\")  "
      ],
      "metadata": {
        "colab": {
          "base_uri": "https://localhost:8080/"
        },
        "id": "BYdM1KU3TDXx",
        "outputId": "16f83e9f-bf67-4fdb-dc86-1f4c80cc3876"
      },
      "execution_count": 42,
      "outputs": [
        {
          "output_type": "execute_result",
          "data": {
            "text/plain": [
              "32"
            ]
          },
          "metadata": {},
          "execution_count": 42
        }
      ]
    },
    {
      "cell_type": "code",
      "source": [
        "f.close()"
      ],
      "metadata": {
        "id": "qN2Wty27TFt8"
      },
      "execution_count": 43,
      "outputs": []
    },
    {
      "cell_type": "markdown",
      "source": [
        "After f.close() You can see that test.txt doen't have first write operation but it has second write operation. This is because \"w\" means open for writing, truncating the file first.\n",
        "\n",
        "To append, use \"a\" instead of \"w\""
      ],
      "metadata": {
        "id": "gvqrpb_aTJKZ"
      }
    },
    {
      "cell_type": "code",
      "source": [
        "# f.write(\"Hello\")      # error  -> You have to open file first"
      ],
      "metadata": {
        "id": "Gk68c6QOTGr0"
      },
      "execution_count": 44,
      "outputs": []
    },
    {
      "cell_type": "code",
      "source": [
        "f = open(\"test.txt\", \"a\")    # -> append mode"
      ],
      "metadata": {
        "id": "KRj1o1r5TtFl"
      },
      "execution_count": 45,
      "outputs": []
    },
    {
      "cell_type": "code",
      "source": [
        "f.write(\" This is third operation\")"
      ],
      "metadata": {
        "colab": {
          "base_uri": "https://localhost:8080/"
        },
        "id": "o5xdkUUVT2Rc",
        "outputId": "c35d0b0d-dd85-438b-bb1f-c4e5046aa22b"
      },
      "execution_count": 46,
      "outputs": [
        {
          "output_type": "execute_result",
          "data": {
            "text/plain": [
              "24"
            ]
          },
          "metadata": {},
          "execution_count": 46
        }
      ]
    },
    {
      "cell_type": "code",
      "source": [
        "f.close()"
      ],
      "metadata": {
        "id": "oF2drnzrT58K"
      },
      "execution_count": 47,
      "outputs": []
    },
    {
      "cell_type": "code",
      "source": [
        "# Opening file for read operation  -> read mode (\"r\")\n",
        "\n",
        "data = open(\"test.txt\", \"r\")"
      ],
      "metadata": {
        "id": "NwCTRQB0T6vp"
      },
      "execution_count": 49,
      "outputs": []
    },
    {
      "cell_type": "code",
      "source": [
        "data.read()"
      ],
      "metadata": {
        "colab": {
          "base_uri": "https://localhost:8080/",
          "height": 36
        },
        "id": "YqrsqYI2UV8n",
        "outputId": "75f3193b-9491-4b49-d20e-8fcc6735c43b"
      },
      "execution_count": 50,
      "outputs": [
        {
          "output_type": "execute_result",
          "data": {
            "text/plain": [
              "'This is my second file operation This is third operation'"
            ],
            "application/vnd.google.colaboratory.intrinsic+json": {
              "type": "string"
            }
          },
          "metadata": {},
          "execution_count": 50
        }
      ]
    },
    {
      "cell_type": "code",
      "source": [
        "data.read()"
      ],
      "metadata": {
        "colab": {
          "base_uri": "https://localhost:8080/",
          "height": 36
        },
        "id": "YIuj2ocWUY9e",
        "outputId": "2072acea-de2e-429a-a018-72ead0e34546"
      },
      "execution_count": 51,
      "outputs": [
        {
          "output_type": "execute_result",
          "data": {
            "text/plain": [
              "''"
            ],
            "application/vnd.google.colaboratory.intrinsic+json": {
              "type": "string"
            }
          },
          "metadata": {},
          "execution_count": 51
        }
      ]
    },
    {
      "cell_type": "markdown",
      "source": [
        "When First read() operation takes place, the cursor moves from first letter of the file and returns everything one by one, letter by letter, word by word, in the console. After end of first read(), the cursor is present at the end .i.e last letter. Hence, the second read() gives \"\" .i.e nothing, as cursor is already at the last positive .i.e after last letter."
      ],
      "metadata": {
        "id": "C2SpJ3EQUmTs"
      }
    },
    {
      "cell_type": "code",
      "source": [
        "# In order to reset the cursor, we can use seek()\n",
        "\n",
        "data.seek(0)"
      ],
      "metadata": {
        "colab": {
          "base_uri": "https://localhost:8080/"
        },
        "id": "wnK4RAoYUdcy",
        "outputId": "419513df-4451-40f1-8516-1207e797e293"
      },
      "execution_count": 57,
      "outputs": [
        {
          "output_type": "execute_result",
          "data": {
            "text/plain": [
              "0"
            ]
          },
          "metadata": {},
          "execution_count": 57
        }
      ]
    },
    {
      "cell_type": "code",
      "source": [
        "data.read()"
      ],
      "metadata": {
        "colab": {
          "base_uri": "https://localhost:8080/",
          "height": 36
        },
        "id": "kLkSmAvBVMVY",
        "outputId": "e72be71f-4b9d-431e-aa17-a0cc172cb1bf"
      },
      "execution_count": 58,
      "outputs": [
        {
          "output_type": "execute_result",
          "data": {
            "text/plain": [
              "'This is my second file operation This is third operation'"
            ],
            "application/vnd.google.colaboratory.intrinsic+json": {
              "type": "string"
            }
          },
          "metadata": {},
          "execution_count": 58
        }
      ]
    },
    {
      "cell_type": "code",
      "source": [
        "data.read()"
      ],
      "metadata": {
        "colab": {
          "base_uri": "https://localhost:8080/",
          "height": 36
        },
        "id": "oylwNmVaVN5i",
        "outputId": "f0d6c3ef-e6ef-4a52-f223-595cdf6494bb"
      },
      "execution_count": 59,
      "outputs": [
        {
          "output_type": "execute_result",
          "data": {
            "text/plain": [
              "''"
            ],
            "application/vnd.google.colaboratory.intrinsic+json": {
              "type": "string"
            }
          },
          "metadata": {},
          "execution_count": 59
        }
      ]
    },
    {
      "cell_type": "code",
      "source": [
        "data.seek(3)     #-> moves cursor to index[3] .i.e 4th letter "
      ],
      "metadata": {
        "colab": {
          "base_uri": "https://localhost:8080/"
        },
        "id": "uF9YzQJnVPPc",
        "outputId": "30a3a189-01ac-4a0a-ce51-41490270c229"
      },
      "execution_count": 61,
      "outputs": [
        {
          "output_type": "execute_result",
          "data": {
            "text/plain": [
              "3"
            ]
          },
          "metadata": {},
          "execution_count": 61
        }
      ]
    },
    {
      "cell_type": "code",
      "source": [
        "data.read()"
      ],
      "metadata": {
        "colab": {
          "base_uri": "https://localhost:8080/",
          "height": 36
        },
        "id": "Ky9ye7EQVRZW",
        "outputId": "b262c2b7-50f6-4431-a440-bd9b22beb41c"
      },
      "execution_count": 62,
      "outputs": [
        {
          "output_type": "execute_result",
          "data": {
            "text/plain": [
              "'s is my second file operation This is third operation'"
            ],
            "application/vnd.google.colaboratory.intrinsic+json": {
              "type": "string"
            }
          },
          "metadata": {},
          "execution_count": 62
        }
      ]
    },
    {
      "cell_type": "markdown",
      "source": [
        "# Another way to read a file"
      ],
      "metadata": {
        "id": "4GLp6wBJV2yQ"
      }
    },
    {
      "cell_type": "code",
      "source": [
        "data1 = open(\"test.txt\", \"r\")"
      ],
      "metadata": {
        "id": "RaRbc2vBVSb_"
      },
      "execution_count": 63,
      "outputs": []
    },
    {
      "cell_type": "code",
      "source": [
        "for i in data1:\n",
        "  print(i)"
      ],
      "metadata": {
        "colab": {
          "base_uri": "https://localhost:8080/"
        },
        "id": "hLZVaVe-V9M3",
        "outputId": "00f4bb5a-26d7-4fb9-f69d-6eea9ff93a2f"
      },
      "execution_count": 64,
      "outputs": [
        {
          "output_type": "stream",
          "name": "stdout",
          "text": [
            "This is my second file operation This is third operation\n"
          ]
        }
      ]
    },
    {
      "cell_type": "code",
      "source": [
        "# Find size of file     -> in bytes\n",
        "\n",
        "import os\n",
        "\n",
        "os.path.getsize(\"test.txt\")"
      ],
      "metadata": {
        "colab": {
          "base_uri": "https://localhost:8080/"
        },
        "id": "w-vHPmuTV-pK",
        "outputId": "cf3dfbfb-e8d0-42c0-f6b2-dd3b93519d3d"
      },
      "execution_count": 74,
      "outputs": [
        {
          "output_type": "execute_result",
          "data": {
            "text/plain": [
              "56"
            ]
          },
          "metadata": {},
          "execution_count": 74
        }
      ]
    },
    {
      "cell_type": "code",
      "source": [
        "# To make copy of a file          --> shutil.copy(\"oldname\",\"newname\")\n",
        "\n",
        "import shutil\n",
        "\n",
        "shutil.copy(\"test.txt\", \"new_test.txt\")"
      ],
      "metadata": {
        "colab": {
          "base_uri": "https://localhost:8080/",
          "height": 36
        },
        "id": "1gMXsNUVWmiT",
        "outputId": "ac70bc54-7152-43e2-bd4d-7190e007acca"
      },
      "execution_count": 75,
      "outputs": [
        {
          "output_type": "execute_result",
          "data": {
            "text/plain": [
              "'new_test.txt'"
            ],
            "application/vnd.google.colaboratory.intrinsic+json": {
              "type": "string"
            }
          },
          "metadata": {},
          "execution_count": 75
        }
      ]
    },
    {
      "cell_type": "code",
      "source": [
        "os.path.getsize(\"new_test.txt\")"
      ],
      "metadata": {
        "colab": {
          "base_uri": "https://localhost:8080/"
        },
        "id": "iXGJ5QM1Wspu",
        "outputId": "33f461c7-6a4e-450d-8e72-0a5c017bdda3"
      },
      "execution_count": 76,
      "outputs": [
        {
          "output_type": "execute_result",
          "data": {
            "text/plain": [
              "56"
            ]
          },
          "metadata": {},
          "execution_count": 76
        }
      ]
    },
    {
      "cell_type": "code",
      "source": [
        "# Deleting a file\n",
        "\n",
        "os.remove(\"test.txt\")"
      ],
      "metadata": {
        "id": "PWU4NgszW2db"
      },
      "execution_count": 77,
      "outputs": []
    },
    {
      "cell_type": "code",
      "source": [
        "# Another way to open a file\n",
        "\n",
        "with open(\"new_test.txt\", \"r\") as f:\n",
        "  print(f.read())"
      ],
      "metadata": {
        "colab": {
          "base_uri": "https://localhost:8080/"
        },
        "id": "I1BnHkaUXVh0",
        "outputId": "4af77221-8a12-4b7e-97a6-b8bed69f340c"
      },
      "execution_count": 78,
      "outputs": [
        {
          "output_type": "stream",
          "name": "stdout",
          "text": [
            "This is my second file operation This is third operation\n"
          ]
        }
      ]
    },
    {
      "cell_type": "code",
      "source": [
        "# Renaming an existing file      -> os.rename(\"oldname\", \"newname\")\n",
        "\n",
        "os.rename(\"new_test.txt\", \"test1.txt\")"
      ],
      "metadata": {
        "id": "ErbuD0L6Xzhn"
      },
      "execution_count": 83,
      "outputs": []
    },
    {
      "cell_type": "code",
      "source": [],
      "metadata": {
        "id": "mflUoHwCYTK3"
      },
      "execution_count": null,
      "outputs": []
    }
  ]
}