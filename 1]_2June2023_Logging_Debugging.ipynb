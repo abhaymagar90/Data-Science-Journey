{
  "nbformat": 4,
  "nbformat_minor": 0,
  "metadata": {
    "colab": {
      "provenance": []
    },
    "kernelspec": {
      "name": "python3",
      "display_name": "Python 3"
    },
    "language_info": {
      "name": "python"
    }
  },
  "cells": [
    {
      "cell_type": "markdown",
      "source": [
        "Logging is a popular solution for tracking events in a code or debugging. Many of us (Python programmers and data scientists) have this bad habit of using print() to debug and track events in our codes.\n",
        "\n",
        "Why using print() for logging and debugging is not a good practice?\n",
        "\n",
        "* The print() statement fails if your code does not have access to the console.\n",
        "* To define basic logging needs, several lines of code are needed.\n",
        "* Including additional logging information is not easy.\n",
        "* The print() statement only displays messages on the console. Recording logging data inside a file or sending it over the internet needs additional works.\n",
        "\n",
        "\n",
        "A better way to track your code events and do debugging is using the “Logging” library (a Python standard library).\n",
        "\n",
        "The logging library provides you five tools to accomplish the logging tasks.\n",
        "\n",
        "* Debug (logging.debug()): Providing information to diagnosing problems.\n",
        "* Info (logging.info()): Tracking the normal operation of a program.\n",
        "* Warning (logging.warning()): Although the code is still working as expected, * something unexpected happened.\n",
        "* Error (logging.error()): The code was unable to run some parts.\n",
        "* Critical (logging.critical()): The code cannot run."
      ],
      "metadata": {
        "id": "SOTRZP5OOkus"
      }
    },
    {
      "cell_type": "code",
      "source": [
        "import logging"
      ],
      "metadata": {
        "id": "bWlNG1TeOlOG"
      },
      "execution_count": 78,
      "outputs": []
    },
    {
      "cell_type": "code",
      "source": [
        "logging.basicConfig(filename = \"test.log\", level = logging.INFO, force = True)      # After executing this, a file names 'test.log' will be created"
      ],
      "metadata": {
        "id": "6ZoJaW5JPqB0"
      },
      "execution_count": 79,
      "outputs": []
    },
    {
      "cell_type": "markdown",
      "source": [
        "(force = True) is used if the file is not created after above line of code"
      ],
      "metadata": {
        "id": "owsBvVFMU6Lk"
      }
    },
    {
      "cell_type": "code",
      "source": [
        "logging.info(\"This is my info\")            # check test.log after exe this line"
      ],
      "metadata": {
        "id": "TzOV3eXXP-vE"
      },
      "execution_count": 80,
      "outputs": []
    },
    {
      "cell_type": "code",
      "source": [
        "logging.error(\"This is an error\")"
      ],
      "metadata": {
        "id": "PQ9ofcJ6QHcO"
      },
      "execution_count": 81,
      "outputs": []
    },
    {
      "cell_type": "code",
      "source": [
        "logging.warning(\"This is a warning\")"
      ],
      "metadata": {
        "id": "_ci0nYJPQPM0"
      },
      "execution_count": 82,
      "outputs": []
    },
    {
      "cell_type": "code",
      "source": [
        "logging.critical(\"This is critical\")"
      ],
      "metadata": {
        "id": "3AjiH8wkSOyL"
      },
      "execution_count": 83,
      "outputs": []
    },
    {
      "cell_type": "code",
      "source": [
        "logging.debug(\"This is debug\")       # Check \"test.log\" now"
      ],
      "metadata": {
        "id": "gy1MRQUZSW20"
      },
      "execution_count": 84,
      "outputs": []
    },
    {
      "cell_type": "markdown",
      "source": [],
      "metadata": {
        "id": "z_1Ob8jYS2PG"
      }
    },
    {
      "cell_type": "markdown",
      "source": [
        "EVen if logging.debug() executed, it is not reflected in \"test.log\". This is beacuse logging has levels and the level set during logging allows for that level and everything under that level. In our case, as level = logging.INFO, the \"test.log\" will only contain INFO, WARNING, ERROR, CRITICAL. If our level was level = logging.WARNING, test.log would only contain WARNING and CRITICAL.\n",
        "\n",
        "* DEBUG\n",
        "* INFO\n",
        "* WARNING\n",
        "* ERROR\n",
        "* CRITICAL"
      ],
      "metadata": {
        "id": "tydplkn8Shr-"
      }
    },
    {
      "cell_type": "code",
      "source": [
        "logging.shutdown()   # to close or shut down the logging"
      ],
      "metadata": {
        "id": "-dhER1Q9ScMc"
      },
      "execution_count": 85,
      "outputs": []
    },
    {
      "cell_type": "code",
      "source": [
        "import os\n",
        "\n",
        "os.remove(\"test.log\")"
      ],
      "metadata": {
        "id": "EcSWT0XMT_f9"
      },
      "execution_count": 86,
      "outputs": []
    },
    {
      "cell_type": "markdown",
      "source": [
        " The below logging file will contain time and message"
      ],
      "metadata": {
        "id": "_6thikBOWydL"
      }
    },
    {
      "cell_type": "code",
      "source": [
        "logging.basicConfig(filename = \"test1.log\", level = logging.DEBUG, force = True, format = '%(asctime)s %(message)s')  # format helps us to decide how code will appear"
      ],
      "metadata": {
        "id": "b2atniSFUS6I"
      },
      "execution_count": 87,
      "outputs": []
    },
    {
      "cell_type": "code",
      "source": [
        "logging.debug(\"This is debug\")"
      ],
      "metadata": {
        "id": "L9IykP9GVdTQ"
      },
      "execution_count": 88,
      "outputs": []
    },
    {
      "cell_type": "code",
      "source": [
        "logging.info(\"This is info\")"
      ],
      "metadata": {
        "id": "VtFlnDEkVftX"
      },
      "execution_count": 89,
      "outputs": []
    },
    {
      "cell_type": "code",
      "source": [
        "logging.error(\"This is error\")"
      ],
      "metadata": {
        "id": "oDxDdtTzVh-H"
      },
      "execution_count": 90,
      "outputs": []
    },
    {
      "cell_type": "code",
      "source": [
        "os.remove(\"test1.log\")"
      ],
      "metadata": {
        "id": "yo9v_c4WVlDM"
      },
      "execution_count": 91,
      "outputs": []
    },
    {
      "cell_type": "markdown",
      "source": [
        " The below logging file will contain system name as well as levelname as well as time and message"
      ],
      "metadata": {
        "id": "obhFSgtOWmVs"
      }
    },
    {
      "cell_type": "code",
      "source": [
        "logging.basicConfig(filename = \"test2.log\", level = logging.DEBUG, force = True, format = '%(asctime)s %(name)s %(levelname)s %(message)s')  "
      ],
      "metadata": {
        "id": "Em3UJ8yNV0GW"
      },
      "execution_count": 92,
      "outputs": []
    },
    {
      "cell_type": "code",
      "source": [
        "logging.debug(\"This is debug\")"
      ],
      "metadata": {
        "id": "kwhf5z-jWeIY"
      },
      "execution_count": 93,
      "outputs": []
    },
    {
      "cell_type": "code",
      "source": [
        "logging.info(\"This is info\")"
      ],
      "metadata": {
        "id": "3YOCNym_Wgdf"
      },
      "execution_count": 94,
      "outputs": []
    },
    {
      "cell_type": "code",
      "source": [
        "logging.error(\"This is error\")"
      ],
      "metadata": {
        "id": "vlrfl77hWhKq"
      },
      "execution_count": 95,
      "outputs": []
    },
    {
      "cell_type": "code",
      "source": [
        "os.remove(\"test2.log\")"
      ],
      "metadata": {
        "id": "lKZpYuIKWiaP"
      },
      "execution_count": 96,
      "outputs": []
    },
    {
      "cell_type": "markdown",
      "source": [
        "Now we will see an example"
      ],
      "metadata": {
        "id": "fbuqOMHyYjkT"
      }
    },
    {
      "cell_type": "code",
      "source": [
        "# Program to separate a list into integers and string\n",
        "\n",
        "lst = [1,3,[7,5,2], \"abhay\", \"magar\"]\n",
        "\n",
        "l1 = []\n",
        "l2 = []\n",
        "\n",
        "for i in lst:\n",
        "  if type(i) == int:\n",
        "    l1.append(i)\n",
        "  elif type(i) == list:\n",
        "    for j in i:\n",
        "      if type(j) == int:\n",
        "        l1.append(j)\n",
        "  else:\n",
        "    if type(i) == str:\n",
        "      l2.append(i)"
      ],
      "metadata": {
        "id": "9YPhVpkrYiSq"
      },
      "execution_count": 97,
      "outputs": []
    },
    {
      "cell_type": "code",
      "source": [
        "l1"
      ],
      "metadata": {
        "colab": {
          "base_uri": "https://localhost:8080/"
        },
        "id": "V93nobWkZD0F",
        "outputId": "7180d172-178d-4431-d0c3-b3cceb587ec0"
      },
      "execution_count": 98,
      "outputs": [
        {
          "output_type": "execute_result",
          "data": {
            "text/plain": [
              "[1, 3, 7, 5, 2]"
            ]
          },
          "metadata": {},
          "execution_count": 98
        }
      ]
    },
    {
      "cell_type": "code",
      "source": [
        "l2"
      ],
      "metadata": {
        "colab": {
          "base_uri": "https://localhost:8080/"
        },
        "id": "2em96INEZEO9",
        "outputId": "bb74c05a-ca9b-44d0-81bc-4d332030f94b"
      },
      "execution_count": 99,
      "outputs": [
        {
          "output_type": "execute_result",
          "data": {
            "text/plain": [
              "['abhay', 'magar']"
            ]
          },
          "metadata": {},
          "execution_count": 99
        }
      ]
    },
    {
      "cell_type": "markdown",
      "source": [
        "# Now, using logging"
      ],
      "metadata": {
        "id": "8MoL1x4pZ9Pb"
      }
    },
    {
      "cell_type": "code",
      "source": [
        "logging.basicConfig(filename = \"listprog.log\", level = logging.DEBUG, force = True, format = '%(asctime)s %(name)s %(levelname)s %(message)s')  "
      ],
      "metadata": {
        "id": "d2Ll2VF-ZEdy"
      },
      "execution_count": 115,
      "outputs": []
    },
    {
      "cell_type": "code",
      "source": [
        "# Program to separate a list into integers and string\n",
        "\n",
        "lst = [1,3,[7,5,2], \"abhay\", \"magar\"]\n",
        "\n",
        "l1 = []\n",
        "l2 = []\n",
        "logging.info(\"Program has started\")\n",
        "for i in lst:\n",
        "  logging.info(f\"Value of i = {i}\")\n",
        "  if type(i) == int:\n",
        "    l1.append(i)\n",
        "  elif type(i) == list:\n",
        "    for j in i:\n",
        "      logging.info(f\"list found. element inside {i} is {j}\")\n",
        "      if type(j) == int:\n",
        "        l1.append(j)\n",
        "  else:\n",
        "    if type(i) == str:\n",
        "      l2.append(i)\n",
        "logging.info(\"LOOP DONE. This is my final result\")\n",
        "\n",
        "print(l1)\n",
        "print(l2)\n",
        "logging.info(\"Integer list : {} \\n Str list : {}\". format(l1,l2))"
      ],
      "metadata": {
        "colab": {
          "base_uri": "https://localhost:8080/"
        },
        "id": "Fdt4fmj_aPLy",
        "outputId": "4a8df2ec-19b1-4f0d-9b9a-4e383e5c1460"
      },
      "execution_count": 116,
      "outputs": [
        {
          "output_type": "stream",
          "name": "stdout",
          "text": [
            "[1, 3, 7, 5, 2]\n",
            "['abhay', 'magar']\n"
          ]
        }
      ]
    },
    {
      "cell_type": "code",
      "source": [
        "os.remove(\"listprog.log\")"
      ],
      "metadata": {
        "id": "kWm818KeajZh"
      },
      "execution_count": 114,
      "outputs": []
    },
    {
      "cell_type": "markdown",
      "source": [
        "Logging is a very useful tool in a programmer’s toolbox. It can help you develop a better understanding of the flow of a program and discover scenarios that you might not even have thought of while developing.\n",
        "\n",
        "Logs provide developers with an extra set of eyes that are constantly looking at the flow that an application is going through. They can store information, like which user or IP accessed the application. If an error occurs, then they can provide more insights than a stack trace by telling you what the state of the program was before it arrived at the line of code where the error occurred."
      ],
      "metadata": {
        "id": "RlrRjVO9gXy-"
      }
    },
    {
      "cell_type": "markdown",
      "source": [
        "# One big advantage of logging over print is that logging will store the details permanently in the log file whereas print statement will temporarily display it over console. Hence, using logging is >>> using print "
      ],
      "metadata": {
        "id": "2T8SQmOvhwTl"
      }
    }
  ]
}