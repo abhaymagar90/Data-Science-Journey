{
  "nbformat": 4,
  "nbformat_minor": 0,
  "metadata": {
    "colab": {
      "provenance": []
    },
    "kernelspec": {
      "name": "python3",
      "display_name": "Python 3"
    },
    "language_info": {
      "name": "python"
    }
  },
  "cells": [
    {
      "cell_type": "markdown",
      "source": [
        "A decorator is a design pattern in Python that allows a user to add new functionality to an existing object without modifying its structure. Decorators are usually called before the definition of a function you want to decorate."
      ],
      "metadata": {
        "id": "G0RH77zqNzU8"
      }
    },
    {
      "cell_type": "code",
      "source": [
        "def deco(func):\n",
        "  def inner():\n",
        "    print(\"Hello Brothe \")\n",
        "    func()\n",
        "    print(\"HOw are u \")\n",
        "  return inner\n",
        "\n",
        "@deco\n",
        "def test():\n",
        "  print(\" Tell me one Thing \")\n",
        "\n",
        "test()\n",
        "\n",
        "# Here we hace DECORATED test() with a deco function"
      ],
      "metadata": {
        "colab": {
          "base_uri": "https://localhost:8080/"
        },
        "id": "2gYIFsgON0-A",
        "outputId": "bd3c5d5f-5ce4-4f3c-a710-b530d55a4504"
      },
      "execution_count": 18,
      "outputs": [
        {
          "output_type": "stream",
          "name": "stdout",
          "text": [
            "Hello Brothe \n",
            " Tell me one Thing \n",
            "HOw are u \n"
          ]
        }
      ]
    },
    {
      "cell_type": "code",
      "source": [
        "# Exmaplle 2\n",
        "\n",
        "def deco(func):\n",
        "  def inner():\n",
        "    print(\"\\n START\")\n",
        "    func()\n",
        "    print(\"END\")\n",
        "  return inner\n",
        "\n",
        "def test():\n",
        "  print(5+3)\n",
        "\n",
        "test()\n",
        "\n",
        "@deco\n",
        "def test2():\n",
        "  print(5+3)\n",
        "test2()"
      ],
      "metadata": {
        "colab": {
          "base_uri": "https://localhost:8080/"
        },
        "id": "jPyXvjX7PAhP",
        "outputId": "93486357-0b76-456b-da4e-b21b10d7b7ea"
      },
      "execution_count": 19,
      "outputs": [
        {
          "output_type": "stream",
          "name": "stdout",
          "text": [
            "8\n",
            "\n",
            " START\n",
            "8\n",
            "END\n"
          ]
        }
      ]
    },
    {
      "cell_type": "code",
      "source": [
        "# Example 3\n",
        "\n",
        "import time\n",
        "\n",
        "def timer(function,):\n",
        "  def inner_time():\n",
        "    start = time.time()\n",
        "    function()\n",
        "    end = time.time()\n",
        "    print(\"TIme Takn = \", end - start )\n",
        "  return inner_time\n",
        "\n",
        "@timer\n",
        "def sqr():\n",
        "  print(5*2)\n",
        "\n",
        "sqr()"
      ],
      "metadata": {
        "colab": {
          "base_uri": "https://localhost:8080/"
        },
        "id": "ExlOg-HqQ5cy",
        "outputId": "64e2eb88-2ef4-4cba-b2c0-bc4865660522"
      },
      "execution_count": 20,
      "outputs": [
        {
          "output_type": "stream",
          "name": "stdout",
          "text": [
            "10\n",
            "TIme Takn =  0.001285552978515625\n"
          ]
        }
      ]
    },
    {
      "cell_type": "markdown",
      "source": [
        "THE above timer() is used to decoarate other function and specify the time taken by that other function to run. Suppose you want to find taken my a for loop which runs 20 times "
      ],
      "metadata": {
        "id": "cOdlILVzTQuR"
      }
    },
    {
      "cell_type": "code",
      "source": [
        "@timer\n",
        "def frloop():\n",
        "  for i in range(200000000):\n",
        "    pass"
      ],
      "metadata": {
        "id": "yvipP_UVSLli"
      },
      "execution_count": 21,
      "outputs": []
    },
    {
      "cell_type": "code",
      "source": [
        "frloop()"
      ],
      "metadata": {
        "colab": {
          "base_uri": "https://localhost:8080/"
        },
        "id": "u244Kq36Tqp1",
        "outputId": "1f7cad5b-f336-443d-f476-101483d63c73"
      },
      "execution_count": 22,
      "outputs": [
        {
          "output_type": "stream",
          "name": "stdout",
          "text": [
            "TIme Takn =  5.778023719787598\n"
          ]
        }
      ]
    },
    {
      "cell_type": "markdown",
      "source": [
        "You'll use a decorator when you need to change the behavior of a function without modifying the function itself."
      ],
      "metadata": {
        "id": "QUWkrO6NUEBV"
      }
    }
  ]
}