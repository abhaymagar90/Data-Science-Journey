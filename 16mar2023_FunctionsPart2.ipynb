{
  "nbformat": 4,
  "nbformat_minor": 0,
  "metadata": {
    "colab": {
      "provenance": []
    },
    "kernelspec": {
      "name": "python3",
      "display_name": "Python 3"
    },
    "language_info": {
      "name": "python"
    }
  },
  "cells": [
    {
      "cell_type": "markdown",
      "source": [
        "# Functions Part 2"
      ],
      "metadata": {
        "id": "l_m0uFGHI-U3"
      }
    },
    {
      "cell_type": "code",
      "source": [
        "def test(a,b,c,d,e):\n",
        "  pass"
      ],
      "metadata": {
        "id": "Hlp4gZmMI-oX"
      },
      "execution_count": 1,
      "outputs": []
    },
    {
      "cell_type": "code",
      "source": [
        "test(1,2,3,4,5)"
      ],
      "metadata": {
        "id": "r6GcLrG9JE1S"
      },
      "execution_count": 2,
      "outputs": []
    },
    {
      "cell_type": "code",
      "source": [
        "# test(1,2,3,4,5,6,7)      error-> arguments expected(5) and given(7)"
      ],
      "metadata": {
        "id": "eHjZiDqVJJ0G"
      },
      "execution_count": 4,
      "outputs": []
    },
    {
      "cell_type": "code",
      "source": [
        "def test1(*args):    # (*args) represents it can take any number of arguments\n",
        "  return args\n",
        "print(test1(2))\n",
        "print(test1(3,4,5))\n",
        "print(test1(34.56,34,True))\n",
        "print(test1([1,2,3,4], \"abhay\", (6,7,8), {\"rollno\":35}, {10,22,34}))"
      ],
      "metadata": {
        "colab": {
          "base_uri": "https://localhost:8080/"
        },
        "id": "N5WjaP_6JNDd",
        "outputId": "c2879d34-f5d0-42ca-832f-9205b982d1b1"
      },
      "execution_count": 7,
      "outputs": [
        {
          "output_type": "stream",
          "name": "stdout",
          "text": [
            "(2,)\n",
            "(3, 4, 5)\n",
            "(34.56, 34, True)\n",
            "([1, 2, 3, 4], 'abhay', (6, 7, 8), {'rollno': 35}, {10, 34, 22})\n"
          ]
        }
      ]
    },
    {
      "cell_type": "code",
      "source": [
        "#(*args) can be replaced by anything. using '*' is must\n",
        "\n",
        "def test2(*abhay):\n",
        "  return abhay\n",
        "\n",
        "print(test2(2))\n",
        "print(test2(3,4,5))\n",
        "print(test2(34.56,34,True))\n",
        "print(test2([1,2,3,4], \"abhay\", (6,7,8), {\"rollno\":35}, {10,22,34}))"
      ],
      "metadata": {
        "colab": {
          "base_uri": "https://localhost:8080/"
        },
        "id": "vbkS5YZFK8a7",
        "outputId": "547b5300-2bf6-4501-a9ac-d318bfbbb62e"
      },
      "execution_count": 8,
      "outputs": [
        {
          "output_type": "stream",
          "name": "stdout",
          "text": [
            "(2,)\n",
            "(3, 4, 5)\n",
            "(34.56, 34, True)\n",
            "([1, 2, 3, 4], 'abhay', (6, 7, 8), {'rollno': 35}, {10, 34, 22})\n"
          ]
        }
      ]
    },
    {
      "cell_type": "code",
      "source": [
        "def test3(*args, a):    # you must give keyword arg for a while calling test3().    for example: ' test3(1,2,3, a = 56) '\n",
        "  return args, a      # args can be empty or anything but you must specify a\n",
        "\n",
        "# test3(1)           -> error\n",
        "\n",
        "# print(test3(1,2,3))  \n",
        "print(test3(a=\"abhay\"))\n",
        "print(test3(1,2,3, a = 56))"
      ],
      "metadata": {
        "colab": {
          "base_uri": "https://localhost:8080/"
        },
        "id": "75GkWW5FPm_V",
        "outputId": "5e1b3ebb-1200-430e-d501-b666eaa668d6"
      },
      "execution_count": 14,
      "outputs": [
        {
          "output_type": "stream",
          "name": "stdout",
          "text": [
            "((), 'abhay')\n",
            "((1, 2, 3), 56)\n"
          ]
        }
      ]
    },
    {
      "cell_type": "code",
      "source": [
        "# create a func that takes any datatype as input but returns only lists \n",
        "\n",
        "def test4(*args):\n",
        "  l = []\n",
        "  for m in args:\n",
        "    if type(m) == list:\n",
        "      l.append(m)\n",
        "  return l\n",
        "print(test4( [1,2,3,4], {5,6,7,8}, [12,34], \"abhay\", True, [\"magar\", \"vaibhav\"], {\"id\":56} ))"
      ],
      "metadata": {
        "colab": {
          "base_uri": "https://localhost:8080/"
        },
        "id": "-flPaeBZQHLN",
        "outputId": "143f011e-003a-4ecd-d448-cebd8797c286"
      },
      "execution_count": 21,
      "outputs": [
        {
          "output_type": "stream",
          "name": "stdout",
          "text": [
            "[[1, 2, 3, 4], [12, 34], ['magar', 'vaibhav']]\n"
          ]
        }
      ]
    },
    {
      "cell_type": "code",
      "source": [
        "def myfun(k, v, n):\n",
        "  d = {}\n",
        "  for i in range(1, n+1):\n",
        "    k = input()\n",
        "    v = input()\n",
        "    d[k] = v\n",
        "  return d\n",
        "print(myfun(1,1,5))\n",
        "\n"
      ],
      "metadata": {
        "colab": {
          "base_uri": "https://localhost:8080/"
        },
        "id": "e4od5hVfRT3j",
        "outputId": "9410cff1-8512-4887-8e6d-6064c60b8ab0"
      },
      "execution_count": 26,
      "outputs": [
        {
          "output_type": "stream",
          "name": "stdout",
          "text": [
            "name\n",
            "abhay\n",
            "surname\n",
            "magar\n",
            "father\n",
            "shivaji\n",
            "brother\n",
            "vaibhav\n",
            "mom\n",
            "anjali\n",
            "{'name': 'abhay', 'surname': 'magar', 'father': 'shivaji', 'brother': 'vaibhav', 'mom': 'anjali'}\n"
          ]
        }
      ]
    },
    {
      "cell_type": "code",
      "source": [
        "# create a function that can take multiple inputs of k-v pairs and return a dictionary\n",
        "\n",
        "def test5(**kwargs):          # take any number of values in form of key-value pairs\n",
        "  return kwargs\n",
        "print( test5() )\n",
        "type(test5())"
      ],
      "metadata": {
        "colab": {
          "base_uri": "https://localhost:8080/"
        },
        "id": "8FSODaFBSts1",
        "outputId": "d16f281a-6659-4310-c255-7fea6eac35c0"
      },
      "execution_count": 31,
      "outputs": [
        {
          "output_type": "stream",
          "name": "stdout",
          "text": [
            "{}\n"
          ]
        },
        {
          "output_type": "execute_result",
          "data": {
            "text/plain": [
              "dict"
            ]
          },
          "metadata": {},
          "execution_count": 31
        }
      ]
    },
    {
      "cell_type": "code",
      "source": [
        "a = test5(a=5, b=34, c=[1,2,3,4], d={6,7,8}, e=\"ABHAY\", f=True, g=2+5j, h=78.43 )\n",
        "print(a)"
      ],
      "metadata": {
        "colab": {
          "base_uri": "https://localhost:8080/"
        },
        "id": "n6e0maDvTy5A",
        "outputId": "54d4352f-2ff8-4da8-a58a-73f3b7de0019"
      },
      "execution_count": 33,
      "outputs": [
        {
          "output_type": "stream",
          "name": "stdout",
          "text": [
            "{'a': 5, 'b': 34, 'c': [1, 2, 3, 4], 'd': {8, 6, 7}, 'e': 'ABHAY', 'f': True, 'g': (2+5j), 'h': 78.43}\n"
          ]
        }
      ]
    },
    {
      "cell_type": "code",
      "source": [
        "def test6(**kwargs):          # takes k-v pairs and returns dictionary\n",
        "  d = []\n",
        "  print(kwargs)\n",
        "  for i in kwargs.keys():\n",
        "    if type(kwargs[i]) == list:    # if value of i(key) is list\n",
        "      return i, kwargs[i]\n",
        "test6(a=5, b=34, c=[1,2,3,4], d={6,7,8}, e=\"ABHAY\", f=True, g=2+5j, h=78.43)"
      ],
      "metadata": {
        "colab": {
          "base_uri": "https://localhost:8080/"
        },
        "id": "ErR3I8dEUGZy",
        "outputId": "754f1b02-f414-4b9a-8271-de52ea2a85e6"
      },
      "execution_count": 41,
      "outputs": [
        {
          "output_type": "stream",
          "name": "stdout",
          "text": [
            "{'a': 5, 'b': 34, 'c': [1, 2, 3, 4], 'd': {8, 6, 7}, 'e': 'ABHAY', 'f': True, 'g': (2+5j), 'h': 78.43}\n"
          ]
        },
        {
          "output_type": "execute_result",
          "data": {
            "text/plain": [
              "('c', [1, 2, 3, 4])"
            ]
          },
          "metadata": {},
          "execution_count": 41
        }
      ]
    },
    {
      "cell_type": "code",
      "source": [
        "def test7(*args, **kwargs):   # can take n no. of inputs and n no of k-v pairs\n",
        "  return args, kwargs\n",
        "\n",
        "print(test7(2,3,4,5, a=45,b=\"abhay\", c={23,67}, d=False))\n"
      ],
      "metadata": {
        "colab": {
          "base_uri": "https://localhost:8080/"
        },
        "id": "33V58B1xVRjU",
        "outputId": "941f8005-49c9-4cc7-f995-661dd11ab1c6"
      },
      "execution_count": 42,
      "outputs": [
        {
          "output_type": "stream",
          "name": "stdout",
          "text": [
            "((2, 3, 4, 5), {'a': 45, 'b': 'abhay', 'c': {67, 23}, 'd': False})\n"
          ]
        }
      ]
    },
    {
      "cell_type": "markdown",
      "source": [
        "Above function returns a tuple of values for args and a dictionary for kwargs"
      ],
      "metadata": {
        "id": "h3N3kmgYXJ3e"
      }
    }
  ]
}