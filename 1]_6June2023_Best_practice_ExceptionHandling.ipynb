{
  "nbformat": 4,
  "nbformat_minor": 0,
  "metadata": {
    "colab": {
      "provenance": []
    },
    "kernelspec": {
      "name": "python3",
      "display_name": "Python 3"
    },
    "language_info": {
      "name": "python"
    }
  },
  "cells": [
    {
      "cell_type": "code",
      "source": [
        "# Always use specific exception and not generic exception.   Exception(Generic)         ZeroDivisionError/ TypeError/ NameError(Specific)\n",
        "\n",
        "try:\n",
        "  10/0\n",
        "except Exception as e:           # This is not a good practice\n",
        "  print(e)"
      ],
      "metadata": {
        "colab": {
          "base_uri": "https://localhost:8080/"
        },
        "id": "PpUbGLkINY8m",
        "outputId": "6226a82e-f2bf-4145-f62f-ecd6fb63a65c"
      },
      "execution_count": 4,
      "outputs": [
        {
          "output_type": "stream",
          "name": "stdout",
          "text": [
            "division by zero\n"
          ]
        }
      ]
    },
    {
      "cell_type": "code",
      "source": [
        "try:\n",
        "  10/0\n",
        "except ZeroDivisionError as e:          # This is good practice, as we specify the error type\n",
        "  print(e)"
      ],
      "metadata": {
        "colab": {
          "base_uri": "https://localhost:8080/"
        },
        "id": "FeFa0LvoNgyx",
        "outputId": "f0423342-f2f3-4d9d-b342-74bbd8c7890e"
      },
      "execution_count": 6,
      "outputs": [
        {
          "output_type": "stream",
          "name": "stdout",
          "text": [
            "division by zero\n"
          ]
        }
      ]
    },
    {
      "cell_type": "code",
      "source": [
        "# Always print a valid and proper message while handling, which helps to understand exception better and makes it easy to debug\n",
        "\n",
        "try:\n",
        "  a = [1,2,3,4,5]\n",
        "  a[10]\n",
        "except IndexError as e:\n",
        "  print(\"Error : \", e, \"\\nYou can specify maximum index of \", len(a)-1)"
      ],
      "metadata": {
        "colab": {
          "base_uri": "https://localhost:8080/"
        },
        "id": "Ht7oVLwIOFK3",
        "outputId": "4711e819-d5cf-433d-d471-ecdd890b1a44"
      },
      "execution_count": 11,
      "outputs": [
        {
          "output_type": "stream",
          "name": "stdout",
          "text": [
            "Error :  list index out of range \n",
            "You can specify maximum index of  4\n"
          ]
        }
      ]
    },
    {
      "cell_type": "code",
      "source": [
        "# Always try to log\n",
        "\n",
        "import logging\n",
        "logging.basicConfig(filename = \"error.log\",force = True, level = logging.INFO )\n",
        "\n",
        "\n",
        "try:\n",
        "  logging.info(\"This is start of program\")\n",
        "  10 / 0\n",
        "except ZeroDivisionError as e:\n",
        "  logging.error(e)"
      ],
      "metadata": {
        "id": "uCKCqYSJOq49"
      },
      "execution_count": 13,
      "outputs": []
    },
    {
      "cell_type": "code",
      "source": [
        "# Always try to avoid multiple exception handling\n",
        "\n",
        "try:\n",
        "  10/0\n",
        "except FileNotFoundError as e:\n",
        "  print(e)\n",
        "except IndexError as e:\n",
        "  print(e)\n",
        "except NameError as e:\n",
        "  print(e)\n",
        "except ZeroDivisionError as e:\n",
        "  print(e)\n",
        "\n",
        "# Here, the only possible exception for code in try block is ZeroDivisionError. Hence, no need to introduce other handling methods like NameError, IndexError, etc"
      ],
      "metadata": {
        "colab": {
          "base_uri": "https://localhost:8080/"
        },
        "id": "Ai4ctLkmRyD_",
        "outputId": "26f41fc6-bd91-426e-d0be-0cdaf9658df3"
      },
      "execution_count": 15,
      "outputs": [
        {
          "output_type": "stream",
          "name": "stdout",
          "text": [
            "division by zero\n"
          ]
        }
      ]
    },
    {
      "cell_type": "code",
      "source": [
        "# Always try to prepare proper documentation"
      ],
      "metadata": {
        "id": "mEDPVQvmSZK0"
      },
      "execution_count": 16,
      "outputs": []
    },
    {
      "cell_type": "code",
      "source": [
        "#cleanup all the resources\n",
        "\n",
        "try:\n",
        "  f =open(\"test.txt\", \"w\")\n",
        "  f.write(\"This is my first line\")\n",
        "except FileNotFoundError as e:\n",
        "  logging.error(\"This is my file not found error: \", e)\n",
        "\n",
        "finally:\n",
        "  f.close()\n",
        "\n",
        "\n",
        "# If you open a file, you must end it after your work is done so as to disconnect database connectivity. This is a good practice"
      ],
      "metadata": {
        "id": "zX0-HJKuS5jt"
      },
      "execution_count": 23,
      "outputs": []
    }
  ]
}