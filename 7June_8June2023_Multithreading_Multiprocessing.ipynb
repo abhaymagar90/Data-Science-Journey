{
  "nbformat": 4,
  "nbformat_minor": 0,
  "metadata": {
    "colab": {
      "provenance": []
    },
    "kernelspec": {
      "name": "python3",
      "display_name": "Python 3"
    },
    "language_info": {
      "name": "python"
    }
  },
  "cells": [
    {
      "cell_type": "markdown",
      "source": [
        "What is multithreading?\n",
        "Multithreading is a programming technique that assigns multiple code segments to a single process. These code segments, also referred to as threads, run concurrently and parallel to each other. These threads share the same memory space within a parent process. This saves system memory, increases computing speed and improves application performance.\n",
        "\n",
        "For example, if you're working on your computer, you might have multiple browser tabs open while searching the internet. You might also be listening to music through a desktop application at the same time. The internet browser and music application represent two different processes, even though they are operating simultaneously. However, the multiple tabs you have open while browsing the internet represent threads of your internet browser, which is the parent process."
      ],
      "metadata": {
        "id": "IwdZjxuvX34Q"
      }
    },
    {
      "cell_type": "markdown",
      "source": [
        "What is multiprocessing?\n",
        "Multiprocessing refers to a system that has more than two central processing units (CPUs). Every additional CPU added to a system increases its speed, power and memory. This allows users to run multiple processes simultaneously. Each CPU may also function independently, and some CPUs may remain idle if they don't have anything to process. This can improve the reliability of a system because unused CPUs can act as a backup if technical issues arise. There are two primary categories of multiprocessing systems:\n",
        "\n",
        "Symmetric multiprocessing: This multiprocessing system uses computer hardware and software that incorporates two or more identical processors connected by one memory space. These processors have complete access to all input and output devices and receive equal treatment.\n",
        "\n",
        "Asymmetric multiprocessing: In this multiprocessing system, different CPUs have access to separate input and output (I/O) devices. For example, one CPU might perform I/O operations, while another CPU might focus on maintaining the operating system."
      ],
      "metadata": {
        "id": "mWXvKSztX6zp"
      }
    },
    {
      "cell_type": "markdown",
      "source": [
        "Multithreading vs. multiprocessing\n",
        "\n",
        "* While multithreading and multiprocessing can both be used to increase the computing power of a system, there are some key differences between these approaches. Here are some of the primary ways these methods differ from one another:\n",
        "\n",
        "* Multiprocessing uses two or more CPUs to increase computing power, whereas multithreading uses a single process with multiple code segments to increase computing power.\n",
        "* Multithreading focuses on generating computing threads from a single process, whereas multiprocessing increases computing power by adding CPUs.\n",
        "* Multiprocessing is used to create a more reliable system, whereas multithreading is used to create threads that run parallel to each other.\n",
        "* multithreading is quick to create and requires few resources, whereas multiprocessing requires a significant amount of time and specific resources to create.\n",
        "* Multiprocessing executes many processes simultaneously, whereas multithreading executes many threads simultaneously.\n",
        "* Multithreading uses a common address space for all the threads, whereas multiprocessing creates a separate address space for each process."
      ],
      "metadata": {
        "id": "4qiaUujAYCAT"
      }
    },
    {
      "cell_type": "markdown",
      "source": [
        "Benefits of multithreading\n",
        "Here are some of the key benefits of multithreading:\n",
        "\n",
        "* It requires less memory storage.\n",
        "* Accessing memory is easier since threads share the same parent process.\n",
        "* Switching between threads is fast and efficient.\n",
        "* It's faster to generate new threads within an existing process than to create an entirely new process.\n",
        "* All threads share one process memory pool and the same address space.\n",
        "* Threads are more lightweight and have lower overhead.\n",
        "* The cost of communication between threads is relatively low.\n",
        "* Creating responsive user interfaces (UIs) is easy.\n",
        "\n",
        "\n",
        "Drawbacks of multithreading\n",
        "Here are some potential drawbacks associated with multithreading:\n",
        "\n",
        "* A multithreading system cannot be interrupted.\n",
        "* The code can be more challenging to understand.\n",
        "* The overhead associated with managing different threads may be too costly for basic tasks.\n",
        "* Debugging and troubleshooting issues may become more challenging because the code can be complex."
      ],
      "metadata": {
        "id": "Wqrw9rnMYGI2"
      }
    },
    {
      "cell_type": "markdown",
      "source": [
        "Benefits of multiprocessing\n",
        "Here are some of the benefits of multiprocessing:\n",
        "\n",
        "* It uses simple coding that's easy to understand.\n",
        "* It helps you overcome global interpreter lock (GIL) limitations in CPython.\n",
        "* Child processes can be interrupted.\n",
        "* It completes tasks faster and analyzes large amounts of data.\n",
        "* It uses multiple CPUs to improve a system's overall power.\n",
        "* It removes synchronization primitives.\n",
        "* It's more cost-effective than single processor systems.\n",
        "\n",
        "Drawbacks of multiprocessing\n",
        "Here are some potential drawbacks associated with multiprocessing:\n",
        "\n",
        "* It requires more memory storage and overhead than threads to move data between processes.\n",
        "* Spawning processes take longer than spawning threads.\n",
        "* An inter-process communication (IPC) model must be implemented to share objects between processes.\n",
        "* The entire memory is copied into each subprocess, which can also create more overhead.\n"
      ],
      "metadata": {
        "id": "sYOd4kZOYiCH"
      }
    }
  ]
}