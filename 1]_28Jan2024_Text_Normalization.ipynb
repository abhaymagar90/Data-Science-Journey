{
  "nbformat": 4,
  "nbformat_minor": 0,
  "metadata": {
    "colab": {
      "provenance": []
    },
    "kernelspec": {
      "name": "python3",
      "display_name": "Python 3"
    },
    "language_info": {
      "name": "python"
    }
  },
  "cells": [
    {
      "cell_type": "markdown",
      "source": [
        "# Basic Techniques of Text Normalization\n",
        "\n",
        "1. Redundancy Removal and Whitespace Management - Eliminate redundant information and excessive spaces from the data\n",
        "2. Lowering for Consistency - Convert all characters to lowercase to ensure consistent text processing.\n",
        "eg -> \"ABHAY\" to \"abhay\"\n",
        "3. Visualizing Punctuation Removal - Use visual aids to showcase the process of removing punctuation marks.\n",
        "eg -> \"Hello, world\" to \"Hello World\" to simplify text analysis\n",
        "\n",
        "This helps for further processing"
      ],
      "metadata": {
        "id": "NO9zbOzJkULJ"
      }
    },
    {
      "cell_type": "code",
      "source": [
        "text = \"I can't believe it's that easy. Won't you join us?\""
      ],
      "metadata": {
        "id": "yQcDK8NklRtm"
      },
      "execution_count": 1,
      "outputs": []
    },
    {
      "cell_type": "code",
      "source": [
        "# lower case\n",
        "\n",
        "lowercase_text = text.lower()\n",
        "lowercase_text"
      ],
      "metadata": {
        "colab": {
          "base_uri": "https://localhost:8080/",
          "height": 36
        },
        "id": "z6LSP7WbppUx",
        "outputId": "3040f5f2-d614-475f-e450-6d6bb313a8b8"
      },
      "execution_count": 2,
      "outputs": [
        {
          "output_type": "execute_result",
          "data": {
            "text/plain": [
              "\"i can't believe it's that easy. won't you join us?\""
            ],
            "application/vnd.google.colaboratory.intrinsic+json": {
              "type": "string"
            }
          },
          "metadata": {},
          "execution_count": 2
        }
      ]
    },
    {
      "cell_type": "code",
      "source": [
        "# Remove Punctuation\n",
        "import re\n",
        "\n",
        "cleaned_text = re.sub(r'[^\\w\\s]', '', lowercase_text)\n",
        "cleaned_text"
      ],
      "metadata": {
        "colab": {
          "base_uri": "https://localhost:8080/",
          "height": 36
        },
        "id": "vMaqLebhpvX1",
        "outputId": "665e6b54-804a-4a41-cb66-70d029f40b1e"
      },
      "execution_count": 3,
      "outputs": [
        {
          "output_type": "execute_result",
          "data": {
            "text/plain": [
              "'i cant believe its that easy wont you join us'"
            ],
            "application/vnd.google.colaboratory.intrinsic+json": {
              "type": "string"
            }
          },
          "metadata": {},
          "execution_count": 3
        }
      ]
    },
    {
      "cell_type": "code",
      "source": [
        "# Expand Contractions\n",
        "\n",
        "print(\"Expand Contractions: \")\n",
        "contractions_dict = {\n",
        "    \"can't\" : 'cannot',\n",
        "    \"won't\" : 'will not',\n",
        "    \"I'm\": 'I am',\n",
        "    \"it's\" : \"it is\"\n",
        "}\n",
        "print(contractions_dict)"
      ],
      "metadata": {
        "id": "pdjWthshrVzy",
        "colab": {
          "base_uri": "https://localhost:8080/"
        },
        "outputId": "097ce32b-8801-421e-aa41-1043bbf7238b"
      },
      "execution_count": 8,
      "outputs": [
        {
          "output_type": "stream",
          "name": "stdout",
          "text": [
            "Expand Contractions: \n",
            "{\"can't\": 'cannot', \"won't\": 'will not', \"I'm\": 'I am', \"it's\": 'it is'}\n"
          ]
        }
      ]
    },
    {
      "cell_type": "code",
      "source": [
        "words = lowercase_text.split()\n",
        "expanded_words = [contractions_dict[word] if word in contractions_dict else word for word in words]\n",
        "expanded_text = ' '.join(expanded_words)\n",
        "print(\"Text with expanded contractions : \", expanded_text)"
      ],
      "metadata": {
        "id": "-U5X4JMfSmX6",
        "colab": {
          "base_uri": "https://localhost:8080/"
        },
        "outputId": "7baad080-0364-41f7-b35f-c1eb8dadeed6"
      },
      "execution_count": 9,
      "outputs": [
        {
          "output_type": "stream",
          "name": "stdout",
          "text": [
            "Text with expanded contractions :  i cannot believe it is that easy. will not you join us?\n"
          ]
        }
      ]
    },
    {
      "cell_type": "code",
      "source": [],
      "metadata": {
        "id": "QaNIIpwQ-Mti"
      },
      "execution_count": null,
      "outputs": []
    }
  ]
}