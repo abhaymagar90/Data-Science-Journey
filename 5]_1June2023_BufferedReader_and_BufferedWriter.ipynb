{
  "nbformat": 4,
  "nbformat_minor": 0,
  "metadata": {
    "colab": {
      "provenance": []
    },
    "kernelspec": {
      "name": "python3",
      "display_name": "Python 3"
    },
    "language_info": {
      "name": "python"
    }
  },
  "cells": [
    {
      "cell_type": "markdown",
      "source": [
        "BufferedReader is used to read a file in chunks. Suppose file size is extremely large(1 TB). Then, reading the whole file is tike taking and memory inefficient Hence, we can read these big files in small chunks/ pieces."
      ],
      "metadata": {
        "id": "YPWr3sCtVK0J"
      }
    },
    {
      "cell_type": "code",
      "source": [
        "import io\n",
        "\n",
        "f = open(\"test.txt\", \"wb\")\n",
        "write = io.BufferedWriter(f)\n",
        "f.write(b\" Data science is the study of data to extract meaningful insights for business. It is a multidisciplinary approach that combines principles and practices from the fields of mathematics, statistics, artificial intelligence, and computer engineering to analyze large amounts of data. This analysis helps data scientists to ask and answer questions like what happened, why it happened, what will happen, and what can be done with the results. \")\n",
        "f.write(b\"Data science is important because it combines tools, methods, and technology to generate meaning from data. Modern organizations are inundated with data; there is a proliferation of devices that can automatically collect and store information. Online systems and payment portals capture more data in the fields of e-commerce, medicine, finance, and every other aspect of human life. We have text, audio, video, and image data available in vast quantities.  \")\n",
        "f.flush()   "
      ],
      "metadata": {
        "id": "K1tgwbwMVtY_"
      },
      "execution_count": 61,
      "outputs": []
    },
    {
      "cell_type": "code",
      "source": [
        "with open(\"test.txt\", \"rb\") as f:\n",
        "  r = io.BufferedReader(f)\n",
        "  data = r.read()\n",
        "  print(data)"
      ],
      "metadata": {
        "colab": {
          "base_uri": "https://localhost:8080/"
        },
        "id": "tM27jSh8WmD_",
        "outputId": "37695d46-4852-4e0f-ecb6-602331e8c1ea"
      },
      "execution_count": 62,
      "outputs": [
        {
          "output_type": "stream",
          "name": "stdout",
          "text": [
            "b' Data science is the study of data to extract meaningful insights for business. It is a multidisciplinary approach that combines principles and practices from the fields of mathematics, statistics, artificial intelligence, and computer engineering to analyze large amounts of data. This analysis helps data scientists to ask and answer questions like what happened, why it happened, what will happen, and what can be done with the results. Data science is important because it combines tools, methods, and technology to generate meaning from data. Modern organizations are inundated with data; there is a proliferation of devices that can automatically collect and store information. Online systems and payment portals capture more data in the fields of e-commerce, medicine, finance, and every other aspect of human life. We have text, audio, video, and image data available in vast quantities.  '\n"
          ]
        }
      ]
    },
    {
      "cell_type": "code",
      "source": [
        "with open(\"test.txt\", \"rb\") as f:\n",
        "  r = io.BufferedReader(f)\n",
        "  data = r.read(10)\n",
        "  print(data)"
      ],
      "metadata": {
        "colab": {
          "base_uri": "https://localhost:8080/"
        },
        "id": "D3QidZEuXdlM",
        "outputId": "443d13d7-6960-4261-95e9-4d0999f59cf8"
      },
      "execution_count": 63,
      "outputs": [
        {
          "output_type": "stream",
          "name": "stdout",
          "text": [
            "b' Data scie'\n"
          ]
        }
      ]
    },
    {
      "cell_type": "code",
      "source": [
        "with open(\"test.txt\", \"rb\") as f:\n",
        "  r = io.BufferedReader(f)\n",
        "  data = r.read(20)\n",
        "  print(data)"
      ],
      "metadata": {
        "colab": {
          "base_uri": "https://localhost:8080/"
        },
        "id": "v_09IxlgXjvB",
        "outputId": "a41a5844-4348-4b4e-c349-7b5d316b5081"
      },
      "execution_count": 64,
      "outputs": [
        {
          "output_type": "stream",
          "name": "stdout",
          "text": [
            "b' Data science is the'\n"
          ]
        }
      ]
    },
    {
      "cell_type": "code",
      "source": [
        "f = open(\"test.txt\", \"rb\")\n",
        "reader = io.BufferedReader(f)\n",
        "data = reader.read(20)\n",
        "data"
      ],
      "metadata": {
        "colab": {
          "base_uri": "https://localhost:8080/"
        },
        "id": "BBbqAXZwXmkf",
        "outputId": "133d3443-d5f7-47dc-da39-de83cc31b458"
      },
      "execution_count": 65,
      "outputs": [
        {
          "output_type": "execute_result",
          "data": {
            "text/plain": [
              "b' Data science is the'"
            ]
          },
          "metadata": {},
          "execution_count": 65
        }
      ]
    },
    {
      "cell_type": "code",
      "source": [
        "data = reader.read(10)\n",
        "data"
      ],
      "metadata": {
        "colab": {
          "base_uri": "https://localhost:8080/"
        },
        "id": "6l9D586KYsip",
        "outputId": "3696a0ea-42bc-4de7-cdb6-3ae3d1c7ddc1"
      },
      "execution_count": 66,
      "outputs": [
        {
          "output_type": "execute_result",
          "data": {
            "text/plain": [
              "b' study of '"
            ]
          },
          "metadata": {},
          "execution_count": 66
        }
      ]
    },
    {
      "cell_type": "code",
      "source": [
        "data = reader.read(25)\n",
        "data"
      ],
      "metadata": {
        "colab": {
          "base_uri": "https://localhost:8080/"
        },
        "id": "aHzMSKu5YwXM",
        "outputId": "f13e0f68-fbe8-4354-f191-d1de157d9b0c"
      },
      "execution_count": 67,
      "outputs": [
        {
          "output_type": "execute_result",
          "data": {
            "text/plain": [
              "b'data to extract meaningfu'"
            ]
          },
          "metadata": {},
          "execution_count": 67
        }
      ]
    },
    {
      "cell_type": "code",
      "source": [
        "data = reader.read(50)\n",
        "data"
      ],
      "metadata": {
        "colab": {
          "base_uri": "https://localhost:8080/"
        },
        "id": "YX5yH2JqY2MC",
        "outputId": "378179ab-a63b-452d-d078-95ea5d1b89df"
      },
      "execution_count": 68,
      "outputs": [
        {
          "output_type": "execute_result",
          "data": {
            "text/plain": [
              "b'l insights for business. It is a multidisciplinary'"
            ]
          },
          "metadata": {},
          "execution_count": 68
        }
      ]
    },
    {
      "cell_type": "markdown",
      "source": [
        "AS YOU CAN SEE IN ABOVE CELLS THAT THE BUFFEREDREAD OPRERTION ENABLES US TO READ DATA IN CHUNKS. AND THE SIZE OF A CHUNK CAN BE GIVEN BY US IN read()\n",
        "\n",
        "During BufferedReader, \n",
        "use this way ->      __f = open(\"filename\", \"mode\")__     rather than \n",
        "   __open(\"filename\",\"mode\") as f__  .   It will give correct output as above example\n"
      ],
      "metadata": {
        "id": "gBtE16l2Y81K"
      }
    }
  ]
}