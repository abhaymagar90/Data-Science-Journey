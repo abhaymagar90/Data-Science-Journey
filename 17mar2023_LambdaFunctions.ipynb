{
  "nbformat": 4,
  "nbformat_minor": 0,
  "metadata": {
    "colab": {
      "provenance": []
    },
    "kernelspec": {
      "name": "python3",
      "display_name": "Python 3"
    },
    "language_info": {
      "name": "python"
    }
  },
  "cells": [
    {
      "cell_type": "markdown",
      "source": [
        "Lambda Function"
      ],
      "metadata": {
        "id": "rL_SEsoY34fk"
      }
    },
    {
      "cell_type": "code",
      "execution_count": 13,
      "metadata": {
        "colab": {
          "base_uri": "https://localhost:8080/"
        },
        "id": "BTx1istZ3zzI",
        "outputId": "a8d7c5f9-aa37-4672-d595-f6672a5afa79"
      },
      "outputs": [
        {
          "output_type": "stream",
          "name": "stdout",
          "text": [
            "8\n",
            "3125\n"
          ]
        }
      ],
      "source": [
        "# creating a function that returns power of a number\n",
        "\n",
        "def pow(a,b):\n",
        "  return a**b\n",
        "\n",
        "print(pow(2,3))\n",
        "print(pow(5,5))"
      ]
    },
    {
      "cell_type": "markdown",
      "source": [
        "### Lambda function is an anonymous function as it does not have a name"
      ],
      "metadata": {
        "id": "sW3A6ftq4cet"
      }
    },
    {
      "cell_type": "code",
      "source": [
        "lambda n,p : n**p"
      ],
      "metadata": {
        "colab": {
          "base_uri": "https://localhost:8080/"
        },
        "id": "EX_Zq42M4PQR",
        "outputId": "f1ddce11-f38c-478d-e3e9-59b547d733ad"
      },
      "execution_count": 14,
      "outputs": [
        {
          "output_type": "execute_result",
          "data": {
            "text/plain": [
              "<function __main__.<lambda>(n, p)>"
            ]
          },
          "metadata": {},
          "execution_count": 14
        }
      ]
    },
    {
      "cell_type": "code",
      "source": [
        "# Now we store the lambda function in a variable. This is mandatory as that variable will be used to call the lambda func which itself doesn't have a name\n",
        "\n",
        "a = lambda n,p : n**p\n",
        "\n",
        "print(  a(2,3)  )\n",
        "print(  a(5,5)  )\n"
      ],
      "metadata": {
        "colab": {
          "base_uri": "https://localhost:8080/"
        },
        "id": "0uT3SXgI4kBm",
        "outputId": "df5db760-7fc7-4310-deec-e9418029a84a"
      },
      "execution_count": 15,
      "outputs": [
        {
          "output_type": "stream",
          "name": "stdout",
          "text": [
            "8\n",
            "3125\n"
          ]
        }
      ]
    },
    {
      "cell_type": "code",
      "source": [
        "# lambda function to add two numbers\n",
        "\n",
        "addfun = lambda x,y : x + y\n",
        "\n",
        "addfun( 3,4 )"
      ],
      "metadata": {
        "colab": {
          "base_uri": "https://localhost:8080/"
        },
        "id": "fESVHO_k5Wyr",
        "outputId": "a2b3fce9-4553-486c-fab1-2c1355b638df"
      },
      "execution_count": 16,
      "outputs": [
        {
          "output_type": "execute_result",
          "data": {
            "text/plain": [
              "7"
            ]
          },
          "metadata": {},
          "execution_count": 16
        }
      ]
    },
    {
      "cell_type": "markdown",
      "source": [
        "Lambda function is maily used when we have to write a small or one line function. It is also called short-hand func"
      ],
      "metadata": {
        "id": "zEkt12yO6VX-"
      }
    },
    {
      "cell_type": "code",
      "source": [
        "# celcius to faren\n",
        "\n",
        "c_to_f = lambda c : (9/5)*c + 32\n",
        "\n",
        "print( c_to_f(38) )"
      ],
      "metadata": {
        "colab": {
          "base_uri": "https://localhost:8080/"
        },
        "id": "FufL1l2P6Jd8",
        "outputId": "fff363b7-3997-442d-dee0-cb2aaad0aaef"
      },
      "execution_count": 17,
      "outputs": [
        {
          "output_type": "stream",
          "name": "stdout",
          "text": [
            "100.4\n"
          ]
        }
      ]
    },
    {
      "cell_type": "code",
      "source": [
        "# max of two numbers\n",
        "\n",
        "# maxfun = lambda m,n : max(m,n)\n",
        "\n",
        "# orrr\n",
        "\n",
        "maxfun = lambda m,n : m if m>n else n\n",
        "\n",
        "print( maxfun(34,65) )"
      ],
      "metadata": {
        "colab": {
          "base_uri": "https://localhost:8080/"
        },
        "id": "-FgOZUnr6yUR",
        "outputId": "44ecaa1a-faee-41b6-b617-6019584940fc"
      },
      "execution_count": 18,
      "outputs": [
        {
          "output_type": "stream",
          "name": "stdout",
          "text": [
            "65\n"
          ]
        }
      ]
    },
    {
      "cell_type": "code",
      "source": [
        "len_fun = lambda s : len(s)\n",
        "\n",
        "len_fun( \"abhay magar\" )"
      ],
      "metadata": {
        "colab": {
          "base_uri": "https://localhost:8080/"
        },
        "id": "GXeAtvuS7HKS",
        "outputId": "ae62880b-19fb-43cc-f73a-366401a347bf"
      },
      "execution_count": 19,
      "outputs": [
        {
          "output_type": "execute_result",
          "data": {
            "text/plain": [
              "11"
            ]
          },
          "metadata": {},
          "execution_count": 19
        }
      ]
    }
  ]
}