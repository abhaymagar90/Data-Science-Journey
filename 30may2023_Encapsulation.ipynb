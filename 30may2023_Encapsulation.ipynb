{
  "nbformat": 4,
  "nbformat_minor": 0,
  "metadata": {
    "colab": {
      "provenance": []
    },
    "kernelspec": {
      "name": "python3",
      "display_name": "Python 3"
    },
    "language_info": {
      "name": "python"
    }
  },
  "cells": [
    {
      "cell_type": "markdown",
      "source": [
        "Encapsulation is a way to restrict the direct access to some components of an object, so users cannot access state values for all of the variables of a particular object. "
      ],
      "metadata": {
        "id": "z8gV09FP4ZKC"
      }
    },
    {
      "cell_type": "code",
      "source": [
        "class test:\n",
        "  def __init__(self,a,b):\n",
        "    self.a = a\n",
        "    self.b = b"
      ],
      "metadata": {
        "id": "QG2-_HZ49LGO"
      },
      "execution_count": 67,
      "outputs": []
    },
    {
      "cell_type": "code",
      "source": [
        "# a = test() # error -> test.__init__() missing 2 required positional arguments: 'a' and 'b'"
      ],
      "metadata": {
        "id": "K1X_8cNT9g7u"
      },
      "execution_count": 68,
      "outputs": []
    },
    {
      "cell_type": "code",
      "source": [
        "a1 = test(34,56)\n",
        "a1.a"
      ],
      "metadata": {
        "colab": {
          "base_uri": "https://localhost:8080/"
        },
        "id": "9PbowlTP9iTn",
        "outputId": "8568b698-fbde-46f8-dcf0-90d3a2b11116"
      },
      "execution_count": 69,
      "outputs": [
        {
          "output_type": "execute_result",
          "data": {
            "text/plain": [
              "34"
            ]
          },
          "metadata": {},
          "execution_count": 69
        }
      ]
    },
    {
      "cell_type": "code",
      "source": [
        "a1.b"
      ],
      "metadata": {
        "colab": {
          "base_uri": "https://localhost:8080/"
        },
        "id": "sewAXsIp9wq7",
        "outputId": "4567272b-8904-4c5c-b08c-7b2b3f02864c"
      },
      "execution_count": 70,
      "outputs": [
        {
          "output_type": "execute_result",
          "data": {
            "text/plain": [
              "56"
            ]
          },
          "metadata": {},
          "execution_count": 70
        }
      ]
    },
    {
      "cell_type": "markdown",
      "source": [
        "Here, we can also change value outside class"
      ],
      "metadata": {
        "id": "ERksG4To-HaG"
      }
    },
    {
      "cell_type": "markdown",
      "source": [],
      "metadata": {
        "id": "ty9eKbUJ-HTd"
      }
    },
    {
      "cell_type": "code",
      "source": [
        "a1.a = 78"
      ],
      "metadata": {
        "id": "EoASUgAr9zB8"
      },
      "execution_count": 71,
      "outputs": []
    },
    {
      "cell_type": "code",
      "source": [
        "a1.a, a1.b         # This is dangerous as no unauthoirzed modification should be possible"
      ],
      "metadata": {
        "colab": {
          "base_uri": "https://localhost:8080/"
        },
        "id": "4OOfcv4M-ND_",
        "outputId": "ab2dabac-f146-466e-eb9c-14200e0c3d6d"
      },
      "execution_count": 72,
      "outputs": [
        {
          "output_type": "execute_result",
          "data": {
            "text/plain": [
              "(78, 56)"
            ]
          },
          "metadata": {},
          "execution_count": 72
        }
      ]
    },
    {
      "cell_type": "code",
      "source": [
        "# class car:\n",
        "#   def __init__(self,year,car,company,speed):\n",
        "#     self.year = year\n",
        "#     self.car = car\n",
        "#     self.company = company\n",
        "#     self.speed = 0\n",
        "\n",
        "# car_obj = car(2012, \"City\", \"Honda\", 12)\n",
        "# car_obj.year                                                    # can access class variables and hence UNsafe. (try by typing \"objname.\" and then click Shift+Tab)"
      ],
      "metadata": {
        "id": "UxEmM7P0-P98"
      },
      "execution_count": 73,
      "outputs": []
    },
    {
      "cell_type": "code",
      "source": [
        "class car:\n",
        "  def __init__(self,year,car,company,speed):\n",
        "    self.__year = year\n",
        "    self.__car = car\n",
        "    self.__company = company\n",
        "    self.__speed = 0\n",
        "  def set_speed(self,speed):\n",
        "    if speed<0:\n",
        "      self.__speed = 0\n",
        "    else:\n",
        "      self.__speed = speed\n",
        "\n",
        "  def get_speed(self):\n",
        "    return self.__speed\n",
        "\n",
        "car_obj = car(2012, \"City\", \"Honda\", 12)"
      ],
      "metadata": {
        "id": "q29SUBW7A61S"
      },
      "execution_count": 74,
      "outputs": []
    },
    {
      "cell_type": "code",
      "source": [
        "# car_obj.__car   # error --> 'car' object has no attribute '__car'.  HENCE WE CANT DIRECTLY ACCESS CLASS VARIABLE AND IT IS SAFER"
      ],
      "metadata": {
        "id": "OJHZT2tkEBDl"
      },
      "execution_count": 75,
      "outputs": []
    },
    {
      "cell_type": "code",
      "source": [
        "car_obj._car__car              # accessible after specifying class. Only accessible to owner."
      ],
      "metadata": {
        "colab": {
          "base_uri": "https://localhost:8080/",
          "height": 36
        },
        "id": "SJiEh2xQET17",
        "outputId": "dc227e30-3294-46dc-e202-d6f3eab987af"
      },
      "execution_count": 76,
      "outputs": [
        {
          "output_type": "execute_result",
          "data": {
            "text/plain": [
              "'City'"
            ],
            "application/vnd.google.colaboratory.intrinsic+json": {
              "type": "string"
            }
          },
          "metadata": {},
          "execution_count": 76
        }
      ]
    },
    {
      "cell_type": "code",
      "source": [
        "car_obj._car__year"
      ],
      "metadata": {
        "colab": {
          "base_uri": "https://localhost:8080/"
        },
        "id": "OJgFMBXn19hI",
        "outputId": "f31a410c-83d6-4a67-9b86-3a915ebd455d"
      },
      "execution_count": 77,
      "outputs": [
        {
          "output_type": "execute_result",
          "data": {
            "text/plain": [
              "2012"
            ]
          },
          "metadata": {},
          "execution_count": 77
        }
      ]
    },
    {
      "cell_type": "code",
      "source": [
        "car_obj._car__year = 1999"
      ],
      "metadata": {
        "id": "kjljDY7810HS"
      },
      "execution_count": 78,
      "outputs": []
    },
    {
      "cell_type": "code",
      "source": [
        "car_obj._car__year"
      ],
      "metadata": {
        "colab": {
          "base_uri": "https://localhost:8080/"
        },
        "id": "Tr-2HFSz15US",
        "outputId": "fab21e22-dda2-4317-fef8-2740d34656eb"
      },
      "execution_count": 79,
      "outputs": [
        {
          "output_type": "execute_result",
          "data": {
            "text/plain": [
              "1999"
            ]
          },
          "metadata": {},
          "execution_count": 79
        }
      ]
    },
    {
      "cell_type": "code",
      "source": [
        "# In order to change the speed, User can make use of set_speed function and to acess its value, user can use get speed\n"
      ],
      "metadata": {
        "id": "Zy7N2ggSEfhd"
      },
      "execution_count": 80,
      "outputs": []
    },
    {
      "cell_type": "code",
      "source": [
        "car_obj.set_speed(-12)"
      ],
      "metadata": {
        "id": "iA0LEoGAyeMG"
      },
      "execution_count": 81,
      "outputs": []
    },
    {
      "cell_type": "code",
      "source": [
        "car_obj.get_speed()"
      ],
      "metadata": {
        "colab": {
          "base_uri": "https://localhost:8080/"
        },
        "id": "9bs6DFi0zAzk",
        "outputId": "5c4539e5-67bb-4220-fdbc-e6b2c4e7b4e5"
      },
      "execution_count": 82,
      "outputs": [
        {
          "output_type": "execute_result",
          "data": {
            "text/plain": [
              "0"
            ]
          },
          "metadata": {},
          "execution_count": 82
        }
      ]
    },
    {
      "cell_type": "code",
      "source": [
        "car_obj.set_speed(32)"
      ],
      "metadata": {
        "id": "tCkcjvXVzRNq"
      },
      "execution_count": 83,
      "outputs": []
    },
    {
      "cell_type": "code",
      "source": [
        "car_obj.get_speed()"
      ],
      "metadata": {
        "colab": {
          "base_uri": "https://localhost:8080/"
        },
        "id": "nkkzUaT8zUpL",
        "outputId": "650b9127-febe-4ec4-9c29-bcab80d46b4a"
      },
      "execution_count": 85,
      "outputs": [
        {
          "output_type": "execute_result",
          "data": {
            "text/plain": [
              "32"
            ]
          },
          "metadata": {},
          "execution_count": 85
        }
      ]
    },
    {
      "cell_type": "code",
      "source": [
        "car_obj._car__speed    # only OWNER can use this as ONLY OWNER KNOWS EXACT CLASSNAME AND VARIABLENAME"
      ],
      "metadata": {
        "colab": {
          "base_uri": "https://localhost:8080/"
        },
        "id": "VzVgCneH3PJZ",
        "outputId": "961e000f-28e4-4016-ff60-11860988c442"
      },
      "execution_count": 86,
      "outputs": [
        {
          "output_type": "execute_result",
          "data": {
            "text/plain": [
              "32"
            ]
          },
          "metadata": {},
          "execution_count": 86
        }
      ]
    },
    {
      "cell_type": "markdown",
      "source": [
        "If during initialization (  __init__) you directly use ( self.speed = speed) ,then anyone can SET the value or GET the value which is unsafe and dangerous.\n",
        "\n",
        "Using encapsulation, one can chose which variable it allows to SET or GET for the user.\n",
        "(self.__speed = speed) does not allow user/obj to access or GET value.\n",
        " However, specifying class can help to SET or GET value \n",
        "\n",
        " The class owner can chose which variable he wants to allow for user to SET or GET and hence can create methods for that\n",
        "\n",
        " NOTE : User can SET or GET speed but it can not SET or GET any other variable"
      ],
      "metadata": {
        "id": "zC_tnXXzzZjV"
      }
    },
    {
      "cell_type": "code",
      "source": [
        "class bank_account:\n",
        "  def __init__(self,balance):\n",
        "    self.__balance = balance           # encapsulated\n",
        "\n",
        "  def deposit(self,amount):\n",
        "    self.__balance = self.__balance + amount\n",
        "  def withdraw(self,amount):\n",
        "    if self.__balance > amount:\n",
        "      self.__balance = self.__balance - amount\n",
        "      return True\n",
        "    else:\n",
        "      return False\n",
        "\n",
        "# Now OWNER doesn't want user to access the balance directly using CLASSNAME AND VARIABLENAME       --->  \n",
        "# \"objname._bank_account__balance\" should only be known to the OWNER and NOT USER. Hence method is used\n",
        "\n",
        "  def get_balance(self):\n",
        "    return self.__balance"
      ],
      "metadata": {
        "id": "6aFyZdE13lYq"
      },
      "execution_count": 88,
      "outputs": []
    },
    {
      "cell_type": "code",
      "source": [
        "o1 = bank_account(50000)"
      ],
      "metadata": {
        "id": "xXVIW6G88rZD"
      },
      "execution_count": 90,
      "outputs": []
    },
    {
      "cell_type": "code",
      "source": [
        "# o1.balance()   -> Error as we have used self.__balance and not self.balance"
      ],
      "metadata": {
        "colab": {
          "base_uri": "https://localhost:8080/",
          "height": 171
        },
        "id": "LWNF0oVq9HB-",
        "outputId": "d6cb4c3a-b936-45b2-e8c8-5806d74abcad"
      },
      "execution_count": 91,
      "outputs": [
        {
          "output_type": "error",
          "ename": "AttributeError",
          "evalue": "ignored",
          "traceback": [
            "\u001b[0;31m---------------------------------------------------------------------------\u001b[0m",
            "\u001b[0;31mAttributeError\u001b[0m                            Traceback (most recent call last)",
            "\u001b[0;32m<ipython-input-91-c0ad967d424b>\u001b[0m in \u001b[0;36m<cell line: 1>\u001b[0;34m()\u001b[0m\n\u001b[0;32m----> 1\u001b[0;31m \u001b[0mo1\u001b[0m\u001b[0;34m.\u001b[0m\u001b[0mbalance\u001b[0m\u001b[0;34m(\u001b[0m\u001b[0;34m)\u001b[0m\u001b[0;34m\u001b[0m\u001b[0;34m\u001b[0m\u001b[0m\n\u001b[0m",
            "\u001b[0;31mAttributeError\u001b[0m: 'bank_account' object has no attribute 'balance'"
          ]
        }
      ]
    },
    {
      "cell_type": "code",
      "source": [
        "o1._bank_account__balance             # should only be known to OWNER and NOT THE USER"
      ],
      "metadata": {
        "colab": {
          "base_uri": "https://localhost:8080/"
        },
        "id": "fJGOuoXm9QhF",
        "outputId": "8cc24430-bbd3-44a3-cb88-0a60ca95f3d1"
      },
      "execution_count": 92,
      "outputs": [
        {
          "output_type": "execute_result",
          "data": {
            "text/plain": [
              "50000"
            ]
          },
          "metadata": {},
          "execution_count": 92
        }
      ]
    },
    {
      "cell_type": "code",
      "source": [
        "# If user wants to deposit money\n",
        "\n",
        "o1.deposit(10000)"
      ],
      "metadata": {
        "id": "vObVnPpx9aBv"
      },
      "execution_count": 94,
      "outputs": []
    },
    {
      "cell_type": "code",
      "source": [
        "# TO ACCESS THE BALANCE, USER CAN USE get_balance() method\n",
        "\n",
        "o1.get_balance()"
      ],
      "metadata": {
        "colab": {
          "base_uri": "https://localhost:8080/"
        },
        "id": "TrVvdnSt9i-E",
        "outputId": "5462eb77-e62f-4f7a-863b-07ad777603f8"
      },
      "execution_count": 96,
      "outputs": [
        {
          "output_type": "execute_result",
          "data": {
            "text/plain": [
              "60000"
            ]
          },
          "metadata": {},
          "execution_count": 96
        }
      ]
    },
    {
      "cell_type": "code",
      "source": [
        "# To withdraw Money\n",
        "o1.withdraw(90000)         # Not possible as balance is only 60000 now"
      ],
      "metadata": {
        "colab": {
          "base_uri": "https://localhost:8080/"
        },
        "id": "JSrUaL6s9omH",
        "outputId": "4760294a-4c7d-488e-fe73-83c4e63a8bc2"
      },
      "execution_count": 98,
      "outputs": [
        {
          "output_type": "execute_result",
          "data": {
            "text/plain": [
              "False"
            ]
          },
          "metadata": {},
          "execution_count": 98
        }
      ]
    },
    {
      "cell_type": "code",
      "source": [
        "o1.withdraw(20000)"
      ],
      "metadata": {
        "colab": {
          "base_uri": "https://localhost:8080/"
        },
        "id": "DNnyNewO990i",
        "outputId": "e4eb5951-479f-4e39-d934-b9e93a16e38c"
      },
      "execution_count": 99,
      "outputs": [
        {
          "output_type": "execute_result",
          "data": {
            "text/plain": [
              "True"
            ]
          },
          "metadata": {},
          "execution_count": 99
        }
      ]
    },
    {
      "cell_type": "code",
      "source": [
        "o1.get_balance()"
      ],
      "metadata": {
        "colab": {
          "base_uri": "https://localhost:8080/"
        },
        "id": "KfcMwgeY-FPV",
        "outputId": "b4f90b9a-cd5a-4510-b324-3b68bb024ee2"
      },
      "execution_count": 100,
      "outputs": [
        {
          "output_type": "execute_result",
          "data": {
            "text/plain": [
              "40000"
            ]
          },
          "metadata": {},
          "execution_count": 100
        }
      ]
    },
    {
      "cell_type": "code",
      "source": [
        "o1.withdraw(20000)"
      ],
      "metadata": {
        "colab": {
          "base_uri": "https://localhost:8080/"
        },
        "id": "9jnOjyrv-GyS",
        "outputId": "5801876a-0871-41e0-e9c8-4cd199d7c311"
      },
      "execution_count": 101,
      "outputs": [
        {
          "output_type": "execute_result",
          "data": {
            "text/plain": [
              "True"
            ]
          },
          "metadata": {},
          "execution_count": 101
        }
      ]
    },
    {
      "cell_type": "code",
      "source": [
        "o1.get_balance()"
      ],
      "metadata": {
        "colab": {
          "base_uri": "https://localhost:8080/"
        },
        "id": "wvc7lySD-JCe",
        "outputId": "bf59e9d0-8363-4c39-effc-9b3f1df68a64"
      },
      "execution_count": 102,
      "outputs": [
        {
          "output_type": "execute_result",
          "data": {
            "text/plain": [
              "20000"
            ]
          },
          "metadata": {},
          "execution_count": 102
        }
      ]
    },
    {
      "cell_type": "markdown",
      "source": [
        "Hence, The USER is not using or toucing the variables at all but he is using the methods which are made public by the user. Hence, This is a way to provide Encpasulation .i.e HIDING IMPLEMENTATION while making required functions available"
      ],
      "metadata": {
        "id": "iYpQHQ8C-ZJm"
      }
    }
  ]
}