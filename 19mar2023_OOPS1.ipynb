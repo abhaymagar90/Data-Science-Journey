{
  "nbformat": 4,
  "nbformat_minor": 0,
  "metadata": {
    "colab": {
      "provenance": []
    },
    "kernelspec": {
      "name": "python3",
      "display_name": "Python 3"
    },
    "language_info": {
      "name": "python"
    }
  },
  "cells": [
    {
      "cell_type": "code",
      "execution_count": 126,
      "metadata": {
        "id": "aHf6OD7PWSUj"
      },
      "outputs": [],
      "source": [
        "a = 1"
      ]
    },
    {
      "cell_type": "code",
      "source": [
        "print(type(a))"
      ],
      "metadata": {
        "colab": {
          "base_uri": "https://localhost:8080/"
        },
        "id": "7NWYUjJQatHa",
        "outputId": "130e2530-4418-49f7-ed15-e302a8b65a72"
      },
      "execution_count": 127,
      "outputs": [
        {
          "output_type": "stream",
          "name": "stdout",
          "text": [
            "<class 'int'>\n"
          ]
        }
      ]
    },
    {
      "cell_type": "code",
      "source": [
        "print(type(\"abhay\"))"
      ],
      "metadata": {
        "colab": {
          "base_uri": "https://localhost:8080/"
        },
        "id": "s3p3fBYXavBH",
        "outputId": "980e6906-d301-4ace-b2ad-629c1546708a"
      },
      "execution_count": 128,
      "outputs": [
        {
          "output_type": "stream",
          "name": "stdout",
          "text": [
            "<class 'str'>\n"
          ]
        }
      ]
    },
    {
      "cell_type": "code",
      "source": [
        "class test:\n",
        "  pass"
      ],
      "metadata": {
        "id": "fzyTi2VNayX-"
      },
      "execution_count": 129,
      "outputs": []
    },
    {
      "cell_type": "code",
      "source": [
        "# making an instance of class test / object\n",
        "\n",
        "a = test()"
      ],
      "metadata": {
        "id": "DIwpDWFVa0mz"
      },
      "execution_count": 130,
      "outputs": []
    },
    {
      "cell_type": "code",
      "source": [
        "print(type(a))"
      ],
      "metadata": {
        "colab": {
          "base_uri": "https://localhost:8080/"
        },
        "id": "jm3pjLM4a8H8",
        "outputId": "aa2f550d-1eb9-4bf6-dcf0-6c39b225a1ae"
      },
      "execution_count": 131,
      "outputs": [
        {
          "output_type": "stream",
          "name": "stdout",
          "text": [
            "<class '__main__.test'>\n"
          ]
        }
      ]
    },
    {
      "cell_type": "code",
      "source": [
        "# class datascience:\n",
        "  \n",
        "#   def welcome_msg():\n",
        "#     print(\"welcome to the world of data science\")"
      ],
      "metadata": {
        "id": "t60-hzlfa9Rl"
      },
      "execution_count": 132,
      "outputs": []
    },
    {
      "cell_type": "code",
      "source": [
        "# abhay = datascience()     # abhay -> object\n",
        "# abhay.welcome_msg()    ----> error because welcome_msg() takes 0 arg but was given 1"
      ],
      "metadata": {
        "id": "q9x9XSQtbnrA"
      },
      "execution_count": 133,
      "outputs": []
    },
    {
      "cell_type": "code",
      "source": [
        "# solution:\n",
        "\n",
        "class datascience:\n",
        "  \n",
        "  def welcome_msg(self):    # using self is must\n",
        "    print(\"welcome to the world of data science\")"
      ],
      "metadata": {
        "id": "U9EzRDiUbrrl"
      },
      "execution_count": 134,
      "outputs": []
    },
    {
      "cell_type": "code",
      "source": [
        "abhay = datascience()     # abhay -> object\n",
        "abhay.welcome_msg()\n",
        "\n",
        "magar = datascience()\n",
        "magar.welcome_msg()"
      ],
      "metadata": {
        "colab": {
          "base_uri": "https://localhost:8080/"
        },
        "id": "bVv1lyVmcIYg",
        "outputId": "2931a7c4-359f-48e3-ef25-19a9bb4e6eac"
      },
      "execution_count": 135,
      "outputs": [
        {
          "output_type": "stream",
          "name": "stdout",
          "text": [
            "welcome to the world of data science\n",
            "welcome to the world of data science\n"
          ]
        }
      ]
    },
    {
      "cell_type": "code",
      "source": [
        "a = 1\n",
        "b = 2\n",
        "print(a,b,end=\" \")"
      ],
      "metadata": {
        "id": "4JuIj13bcTGV",
        "colab": {
          "base_uri": "https://localhost:8080/"
        },
        "outputId": "6123dbe6-de91-487c-e34e-c645a9dd6db3"
      },
      "execution_count": 136,
      "outputs": [
        {
          "output_type": "stream",
          "name": "stdout",
          "text": [
            "1 2 "
          ]
        }
      ]
    },
    {
      "cell_type": "code",
      "source": [
        "class test1:\n",
        "\n",
        "  def __init__(self,phone, email, id ):                # __init__ is inbuild constructor\n",
        "    \n",
        "    self.phone = phone\n",
        "    self.email = email\n",
        "    self.id = id\n",
        "\n",
        "  def show(self):\n",
        "    # return self.phone, self.email, self.id\n",
        "\n",
        "    # ORR\n",
        "\n",
        "    print(f\"roll no = {self.id}\")         # inside class  -> self.id\n",
        "    print(\"email = {}\".format(self.email))\n",
        "    print(\"accessing phone no. inside class = \", self.phone)\n",
        "\n",
        "s1 = test1(3451235, \"abhay@gmail.com\", 34)\n",
        "s1.show()          # outside class   -> objname.id\n",
        "\n",
        "# accessing phone no. of s1 ouside class\n",
        "print(f\"accessing phone no. of rohan outside class = {s1.phone}\")\n",
        "\n",
        "# inside class   -> self.id is used to access id\n",
        "# outside class  -> objectname.id is used to access id"
      ],
      "metadata": {
        "colab": {
          "base_uri": "https://localhost:8080/"
        },
        "id": "M0fCZG1oguqA",
        "outputId": "b23c271c-4d64-40bc-b14e-b24a80b10829"
      },
      "execution_count": 137,
      "outputs": [
        {
          "output_type": "stream",
          "name": "stdout",
          "text": [
            "roll no = 34\n",
            "email = abhay@gmail.com\n",
            "accessing phone no. inside class =  3451235\n",
            "accessing phone no. of rohan outside class = 3451235\n"
          ]
        }
      ]
    },
    {
      "cell_type": "markdown",
      "source": [
        "flow : from object making, PARAMETER values will go to __init__ arguments and then the values will be assigned to respective variables. eg-> email --> self.email.  Then flow will go to class. 'self' is a pointer which points to the current class. Hence, we can access the varialble using an object of that class"
      ],
      "metadata": {
        "id": "6-h4cW0zk2WM"
      }
    },
    {
      "cell_type": "code",
      "source": [
        "sohan = test1(67890, \"sohan@gmail.com\", 12)"
      ],
      "metadata": {
        "id": "UCmZ2NHJiWQB"
      },
      "execution_count": 138,
      "outputs": []
    },
    {
      "cell_type": "code",
      "source": [
        "sohan.show()"
      ],
      "metadata": {
        "colab": {
          "base_uri": "https://localhost:8080/"
        },
        "id": "m8f7byZwpcyq",
        "outputId": "4f488eb0-41ee-46a3-e55b-adc13f8e602b"
      },
      "execution_count": 139,
      "outputs": [
        {
          "output_type": "stream",
          "name": "stdout",
          "text": [
            "roll no = 12\n",
            "email = sohan@gmail.com\n",
            "accessing phone no. inside class =  67890\n"
          ]
        }
      ]
    },
    {
      "cell_type": "code",
      "source": [
        "sohan.phone"
      ],
      "metadata": {
        "colab": {
          "base_uri": "https://localhost:8080/"
        },
        "id": "hIkO9ImPpd9Q",
        "outputId": "9ab49fd5-4fdb-44ee-c94e-25a6d54e2958"
      },
      "execution_count": 140,
      "outputs": [
        {
          "output_type": "execute_result",
          "data": {
            "text/plain": [
              "67890"
            ]
          },
          "metadata": {},
          "execution_count": 140
        }
      ]
    },
    {
      "cell_type": "markdown",
      "source": [
        "# We can use anything in place of SELF"
      ],
      "metadata": {
        "id": "TVdLVrDGpq5N"
      }
    },
    {
      "cell_type": "code",
      "source": [
        "class test2:\n",
        "\n",
        "  def __init__(abhay,phone, email, id ):          \n",
        "    \n",
        "    abhay.phone = phone\n",
        "    abhay.email = email\n",
        "    abhay.id = id\n",
        "\n",
        "  def show(abhay):\n",
        "    return abhay.phone, abhay.email, abhay.id  # inside class abhay.phone"
      ],
      "metadata": {
        "id": "8Jhwoh89pgST"
      },
      "execution_count": 141,
      "outputs": []
    },
    {
      "cell_type": "code",
      "source": [
        "s2 = test2(222222,\"gmail.com\", 99)"
      ],
      "metadata": {
        "id": "eCE2ZIucqCqm"
      },
      "execution_count": 142,
      "outputs": []
    },
    {
      "cell_type": "code",
      "source": [
        "s2.show()"
      ],
      "metadata": {
        "colab": {
          "base_uri": "https://localhost:8080/"
        },
        "id": "i2F9oCGSriwi",
        "outputId": "99f541b2-7d2e-4c31-90e0-8eef06f5a619"
      },
      "execution_count": 143,
      "outputs": [
        {
          "output_type": "execute_result",
          "data": {
            "text/plain": [
              "(222222, 'gmail.com', 99)"
            ]
          },
          "metadata": {},
          "execution_count": 143
        }
      ]
    },
    {
      "cell_type": "code",
      "source": [
        "s2.phone               #  # inside class objname.phone"
      ],
      "metadata": {
        "colab": {
          "base_uri": "https://localhost:8080/"
        },
        "id": "AFLEa29LrjdY",
        "outputId": "f0158c58-9885-4ff4-feca-32c0e38344aa"
      },
      "execution_count": 144,
      "outputs": [
        {
          "output_type": "execute_result",
          "data": {
            "text/plain": [
              "222222"
            ]
          },
          "metadata": {},
          "execution_count": 144
        }
      ]
    },
    {
      "cell_type": "markdown",
      "source": [
        "# Outside class -> objectname.id \n",
        "\n",
        "#Inside class  -> self.id"
      ],
      "metadata": {
        "id": "lzmkluVLsdJB"
      }
    }
  ]
}