{
  "nbformat": 4,
  "nbformat_minor": 0,
  "metadata": {
    "colab": {
      "provenance": []
    },
    "kernelspec": {
      "name": "python3",
      "display_name": "Python 3"
    },
    "language_info": {
      "name": "python"
    }
  },
  "cells": [
    {
      "cell_type": "markdown",
      "source": [
        "If you have four processors and you have to exceute four programs, then using multiprocessing, parallel processing can be done so that four processors exceute four programs simultaneously. Hence, time decreases.\n",
        "\n",
        "In multithreading, a single processor is used and no two threads interfere with each other"
      ],
      "metadata": {
        "id": "jrtVi7_sNGWb"
      }
    },
    {
      "cell_type": "code",
      "source": [
        "import multiprocessing\n",
        "\n",
        "def test():\n",
        "  print(\"This is test funcion \")"
      ],
      "metadata": {
        "id": "rsJIb8TxNoNF"
      },
      "execution_count": 1,
      "outputs": []
    },
    {
      "cell_type": "code",
      "source": [
        "test()"
      ],
      "metadata": {
        "colab": {
          "base_uri": "https://localhost:8080/"
        },
        "id": "uc1G_HhxQcw6",
        "outputId": "f9dcf2b5-dcf5-4eef-da3c-79830b72c159"
      },
      "execution_count": 2,
      "outputs": [
        {
          "output_type": "stream",
          "name": "stdout",
          "text": [
            "This is test funcion \n"
          ]
        }
      ]
    },
    {
      "cell_type": "code",
      "source": [
        "if __name__ == \"__main__\":           # It invokes python compiler .i.e python main module\n",
        "  m = multiprocessing.Process(target = test)        # This creates a child or another instance in main program\n",
        "  print(\"This is multiprocessing\")"
      ],
      "metadata": {
        "colab": {
          "base_uri": "https://localhost:8080/"
        },
        "id": "85isSP79RRLq",
        "outputId": "539162f6-d86a-4196-892d-7eb8ba122c34"
      },
      "execution_count": 7,
      "outputs": [
        {
          "output_type": "stream",
          "name": "stdout",
          "text": [
            "This is multiprocessing\n"
          ]
        }
      ]
    },
    {
      "cell_type": "code",
      "source": [
        "if __name__ == \"__main__\":           # It invokes python compiler .i.e python main module\n",
        "  m = multiprocessing.Process(target = test)        # This creates a child or another instance in main program\n",
        "  print(\"This is multiprocessing\")\n",
        "  m.start()   # -> starts child process. Here, it is test() function\n",
        "  m.join()    # -> Wait until child process terminates and then resumes parent/main process\n"
      ],
      "metadata": {
        "colab": {
          "base_uri": "https://localhost:8080/"
        },
        "id": "A1lbraR6QdO4",
        "outputId": "9ccc050a-58f1-4a64-deca-592bb9d503f5"
      },
      "execution_count": 9,
      "outputs": [
        {
          "output_type": "stream",
          "name": "stdout",
          "text": [
            "This is multiprocessing\n",
            "This is test funcion \n"
          ]
        }
      ]
    },
    {
      "cell_type": "markdown",
      "source": [
        "The join method blocks the execution of the main process until the process whose join method is called terminates. Without the join method, the main process won't wait until the process gets terminated"
      ],
      "metadata": {
        "id": "TZQRp8mYRjy3"
      }
    },
    {
      "cell_type": "code",
      "source": [
        "def square(x):\n",
        "  return x**2\n",
        "\n",
        "if __name__ == \"__main__\":\n",
        "  pool = multiprocessing.Pool(processes = 5)   # Whatever data you give will be allocated to 5 different processes and each of them will be executed parallely and result will be accumulated and given\n",
        "  op = pool.map(square, [1,2,3,4,5,6,7,8,9,10])\n",
        "  print(op)"
      ],
      "metadata": {
        "colab": {
          "base_uri": "https://localhost:8080/"
        },
        "id": "VFKOYZgMQr_T",
        "outputId": "51d05e4d-ea7e-48d2-9a26-29419e8f95ab"
      },
      "execution_count": 11,
      "outputs": [
        {
          "output_type": "stream",
          "name": "stdout",
          "text": [
            "[1, 4, 9, 16, 25, 36, 49, 64, 81, 100]\n"
          ]
        }
      ]
    },
    {
      "cell_type": "markdown",
      "source": [
        "Hence, the above list along with square() function will be given to 5 different processes and parallel processing will take place. The combined result is given as an output\n",
        "\n",
        "The above function can be used normally by using forloop or just map() function. Difference is that, it will be executed by one process only"
      ],
      "metadata": {
        "id": "mZDOAlY7TU7Y"
      }
    },
    {
      "cell_type": "code",
      "source": [
        "import multiprocessing\n",
        "\n",
        "def put_value(q):                  # q -> queue\n",
        "  for i in [\"abhay\", \"vaibhav\", \"arnav\", \"dipesh\"]:\n",
        "    q.put(i)\n",
        "\n",
        "def get_value(q):\n",
        "  while True:\n",
        "    item = q.get()\n",
        "    if item == None:\n",
        "      break\n",
        "    print(item)\n",
        "\n",
        "if __name__ == \"__main__\":\n",
        "  queue = multiprocessing.Queue()      # -> It will create a queue\n",
        "  m1 = multiprocessing.Process(target = put_value, args=(queue,))\n",
        "  m2 = multiprocessing.Process(target = get_value, args=(queue,))\n",
        "  m1.start()\n",
        "  m2.start()\n",
        "  queue.put(\"suhas\")\n"
      ],
      "metadata": {
        "colab": {
          "base_uri": "https://localhost:8080/"
        },
        "id": "IsHYqY7wS-vB",
        "outputId": "8da60de2-26e2-44d2-d649-27ee200c455e"
      },
      "execution_count": 29,
      "outputs": [
        {
          "output_type": "stream",
          "name": "stdout",
          "text": [
            "abhay\n",
            "vaibhav\n",
            "arnav\n",
            "dipesh\n",
            "suhas\n"
          ]
        }
      ]
    },
    {
      "cell_type": "code",
      "source": [
        "import multiprocessing\n",
        "\n",
        "def square(index , value ):\n",
        "    value[index] = value[index] **2\n",
        "    \n",
        "if __name__ == '__main__':\n",
        "    arr = multiprocessing.Array('i', [2,3,6,7,8,8,9,3,3,3])\n",
        "    process = []\n",
        "    for i in range(10) : \n",
        "        m = multiprocessing.Process(target=square , args = (i ,arr ))\n",
        "        process.append(m)\n",
        "        m.start()\n",
        "    for m in process:\n",
        "        m.join()\n",
        "    print(list(arr))\n"
      ],
      "metadata": {
        "colab": {
          "base_uri": "https://localhost:8080/"
        },
        "id": "S7RMk7h5etG7",
        "outputId": "c59020c0-075c-4bbb-9c28-b716169da26f"
      },
      "execution_count": 39,
      "outputs": [
        {
          "output_type": "stream",
          "name": "stdout",
          "text": [
            "[4, 9, 36, 49, 64, 64, 81, 9, 9, 9]\n"
          ]
        }
      ]
    },
    {
      "cell_type": "code",
      "source": [
        "# Pipe      ( sender wants to send message to receiver through pipe. We will need two connections, one for sender and one for receiver)\n",
        "\n",
        "def sender(conn, msg):\n",
        "  for i in msg:\n",
        "    conn.send(i)\n",
        "  conn.close()\n",
        "\n",
        "def receiver(conn):\n",
        "  while True:\n",
        "    try:\n",
        "      message = conn.recv()\n",
        "    except Exception as e:\n",
        "      print(e)\n",
        "      break\n",
        "    print(message)\n",
        "\n",
        "if __name__ == \"__main__\":\n",
        "  msg = [\"Hi\", \"Hello\", \"How are you\", \"Bye\"]\n",
        "  parent_conn, child_conn = multiprocessing.Pipe()         # creates pipe between parent_conn and child_conn for communication\n",
        "\n",
        "  m1 = multiprocessing.Process(target = sender, args = (parent_conn, msg))\n",
        "  m2 = multiprocessing.Process(target = receiver, args = (child_conn,))\n",
        "  m1.start()\n",
        "  m2.start()"
      ],
      "metadata": {
        "colab": {
          "base_uri": "https://localhost:8080/"
        },
        "id": "OCDToXICh0D6",
        "outputId": "8b34cd4e-af61-4257-876e-6a66418b1181"
      },
      "execution_count": 47,
      "outputs": [
        {
          "output_type": "stream",
          "name": "stdout",
          "text": [
            "Hi\n",
            "Hello\n",
            "How are you\n",
            "Bye\n"
          ]
        }
      ]
    }
  ]
}