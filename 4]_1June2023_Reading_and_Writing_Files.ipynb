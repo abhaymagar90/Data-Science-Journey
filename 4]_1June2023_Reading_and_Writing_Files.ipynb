{
  "nbformat": 4,
  "nbformat_minor": 0,
  "metadata": {
    "colab": {
      "provenance": []
    },
    "kernelspec": {
      "name": "python3",
      "display_name": "Python 3"
    },
    "language_info": {
      "name": "python"
    }
  },
  "cells": [
    {
      "cell_type": "code",
      "source": [
        "data = {\n",
        "    \"name\" : \"Abhay Magar\",\n",
        "    \"roll_no\" : 34,\n",
        "    \"hobbies\" : [\"Cricket\", \"Badminton\", \"Gaminvg\"]\n",
        "}"
      ],
      "metadata": {
        "id": "laKXCcixi2Zi"
      },
      "execution_count": 116,
      "outputs": []
    },
    {
      "cell_type": "code",
      "source": [
        "# To save a dictionary in a file, we use json\n",
        "\n",
        "import json\n",
        "\n",
        "f = open(\"txt.json\", \"w\")"
      ],
      "metadata": {
        "id": "lAB8ymyDjEnp"
      },
      "execution_count": 117,
      "outputs": []
    },
    {
      "cell_type": "code",
      "source": [
        "json.dump(data, f)"
      ],
      "metadata": {
        "id": "SOYZx6wujPHF"
      },
      "execution_count": 118,
      "outputs": []
    },
    {
      "cell_type": "code",
      "source": [
        "f.close()"
      ],
      "metadata": {
        "id": "VWhE_b_fjRr2"
      },
      "execution_count": 119,
      "outputs": []
    },
    {
      "cell_type": "code",
      "source": [
        "# To read data from json file\n",
        "\n",
        "f = open(\"txt.json\", \"r\")\n",
        "json.load(f)"
      ],
      "metadata": {
        "colab": {
          "base_uri": "https://localhost:8080/"
        },
        "id": "Dq1BppPRjZ7U",
        "outputId": "777284f9-bb28-4d33-98ef-8366e51506f6"
      },
      "execution_count": 120,
      "outputs": [
        {
          "output_type": "execute_result",
          "data": {
            "text/plain": [
              "{'name': 'Abhay Magar',\n",
              " 'roll_no': 34,\n",
              " 'hobbies': ['Cricket', 'Badminton', 'Gaminvg']}"
            ]
          },
          "metadata": {},
          "execution_count": 120
        }
      ]
    },
    {
      "cell_type": "code",
      "source": [
        "import os\n",
        "\n",
        "os.remove(\"txt.json\")"
      ],
      "metadata": {
        "id": "0PdKIJ7zjpUi"
      },
      "execution_count": 121,
      "outputs": []
    },
    {
      "cell_type": "code",
      "source": [
        "# Another way to write and read json file\n",
        "\n",
        "with open(\"txt.json\", \"w\") as fe:\n",
        "  json.dump(data, fe)"
      ],
      "metadata": {
        "id": "tcmcOnXkjls2"
      },
      "execution_count": 122,
      "outputs": []
    },
    {
      "cell_type": "code",
      "source": [
        "with open(\"txt.json\", \"r\") as re:\n",
        "  json.load(re)"
      ],
      "metadata": {
        "id": "oiIIGoPtkZKK"
      },
      "execution_count": 123,
      "outputs": []
    },
    {
      "cell_type": "markdown",
      "source": [
        "We have to load data from file re in a variable"
      ],
      "metadata": {
        "id": "CMaYNLSHkocf"
      }
    },
    {
      "cell_type": "code",
      "source": [
        "with open(\"txt.json\", \"r\") as re:\n",
        "  data1 = json.load(re)\n",
        "\n",
        "print(data1)"
      ],
      "metadata": {
        "colab": {
          "base_uri": "https://localhost:8080/"
        },
        "id": "3CSdfaKlkljO",
        "outputId": "7396ea69-9ee7-47ea-cec5-3768d44ef25a"
      },
      "execution_count": 124,
      "outputs": [
        {
          "output_type": "stream",
          "name": "stdout",
          "text": [
            "{'name': 'Abhay Magar', 'roll_no': 34, 'hobbies': ['Cricket', 'Badminton', 'Gaminvg']}\n"
          ]
        }
      ]
    },
    {
      "cell_type": "code",
      "source": [
        "data1[\"hobbies\"][1]"
      ],
      "metadata": {
        "colab": {
          "base_uri": "https://localhost:8080/",
          "height": 36
        },
        "id": "Bq6e1zB0kxl9",
        "outputId": "d895bbbc-3c51-4bb7-accc-57bc0294567f"
      },
      "execution_count": 125,
      "outputs": [
        {
          "output_type": "execute_result",
          "data": {
            "text/plain": [
              "'Badminton'"
            ],
            "application/vnd.google.colaboratory.intrinsic+json": {
              "type": "string"
            }
          },
          "metadata": {},
          "execution_count": 125
        }
      ]
    },
    {
      "cell_type": "code",
      "source": [
        "# Writing into a csv file\n",
        "\n",
        "import csv\n",
        "\n",
        "data = [\n",
        "    [\"name\", \"address\", \"marks\"],\n",
        "    [\"Abhay\", \"India\", 95],\n",
        "    [\"Joseph\", \"Canada\", 80],\n",
        "    [\"Yuta\", \"Japan\", 89]\n",
        "]\n",
        "\n",
        "with open(\"txt.csv\", \"w\") as f:\n",
        "  w = csv.writer(f)\n",
        "  for i in data:\n",
        "    w.writerow(i)\n"
      ],
      "metadata": {
        "id": "Le4MBwsglARm"
      },
      "execution_count": 126,
      "outputs": []
    },
    {
      "cell_type": "code",
      "source": [
        "# Reading a csv file\n",
        "\n",
        "with open(\"txt.csv\", \"r\") as f:\n",
        "  r = csv.reader(f)\n",
        "  for i in r:\n",
        "    print(i)"
      ],
      "metadata": {
        "colab": {
          "base_uri": "https://localhost:8080/"
        },
        "id": "2bFy4EJHnM21",
        "outputId": "119acd09-24d1-4823-df54-0f273e09eec5"
      },
      "execution_count": 127,
      "outputs": [
        {
          "output_type": "stream",
          "name": "stdout",
          "text": [
            "['name', 'address', 'marks']\n",
            "['Abhay', 'India', '95']\n",
            "['Joseph', 'Canada', '80']\n",
            "['Yuta', 'Japan', '89']\n"
          ]
        }
      ]
    },
    {
      "cell_type": "code",
      "source": [
        "# Writing into binary file\n",
        "\n",
        "f = open(\"txt.bin\", \"wb\")\n",
        "f.write(b\"\\x01\\x02\\x03\")"
      ],
      "metadata": {
        "colab": {
          "base_uri": "https://localhost:8080/"
        },
        "id": "1gkf0zA9npcV",
        "outputId": "a059b397-fdf0-482d-84f5-a1ef3c755947"
      },
      "execution_count": 128,
      "outputs": [
        {
          "output_type": "execute_result",
          "data": {
            "text/plain": [
              "3"
            ]
          },
          "metadata": {},
          "execution_count": 128
        }
      ]
    },
    {
      "cell_type": "code",
      "source": [
        "f.close()"
      ],
      "metadata": {
        "id": "iBB9VttMo39v"
      },
      "execution_count": 129,
      "outputs": []
    },
    {
      "cell_type": "code",
      "source": [
        "with open(\"txt.bin\", \"rb\") as f:\n",
        "  print( f.read() )"
      ],
      "metadata": {
        "colab": {
          "base_uri": "https://localhost:8080/"
        },
        "id": "oBq7_0agpAcK",
        "outputId": "8030a96f-1381-41fa-af43-6abe764e563f"
      },
      "execution_count": 130,
      "outputs": [
        {
          "output_type": "stream",
          "name": "stdout",
          "text": [
            "b'\\x01\\x02\\x03'\n"
          ]
        }
      ]
    }
  ]
}