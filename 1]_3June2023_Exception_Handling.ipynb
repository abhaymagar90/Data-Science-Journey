{
  "nbformat": 4,
  "nbformat_minor": 0,
  "metadata": {
    "colab": {
      "provenance": []
    },
    "kernelspec": {
      "name": "python3",
      "display_name": "Python 3"
    },
    "language_info": {
      "name": "python"
    }
  },
  "cells": [
    {
      "cell_type": "markdown",
      "source": [
        "When a Python program meets an error, it stops the execution of the rest of the program. An error in Python might be either an error in the syntax of an expression or a Python exception. \n",
        "\n",
        "An exception in Python is an incident that happens while executing a program that causes the regular course of the program's commands to be disrupted. When a Python code comes across a condition it can't handle, it raises an exception."
      ],
      "metadata": {
        "id": "f6L71JTlfAlc"
      }
    },
    {
      "cell_type": "code",
      "source": [
        "10 / 0          "
      ],
      "metadata": {
        "colab": {
          "base_uri": "https://localhost:8080/",
          "height": 171
        },
        "id": "SLpw1YbyfJvR",
        "outputId": "5808ca68-54fe-48ac-c01c-a2aa0d0fbb35"
      },
      "execution_count": 1,
      "outputs": [
        {
          "output_type": "error",
          "ename": "ZeroDivisionError",
          "evalue": "ignored",
          "traceback": [
            "\u001b[0;31m---------------------------------------------------------------------------\u001b[0m",
            "\u001b[0;31mZeroDivisionError\u001b[0m                         Traceback (most recent call last)",
            "\u001b[0;32m<ipython-input-1-cd759d3fcf39>\u001b[0m in \u001b[0;36m<cell line: 1>\u001b[0;34m()\u001b[0m\n\u001b[0;32m----> 1\u001b[0;31m \u001b[0;36m10\u001b[0m \u001b[0;34m/\u001b[0m \u001b[0;36m0\u001b[0m\u001b[0;34m\u001b[0m\u001b[0;34m\u001b[0m\u001b[0m\n\u001b[0m",
            "\u001b[0;31mZeroDivisionError\u001b[0m: division by zero"
          ]
        }
      ]
    },
    {
      "cell_type": "code",
      "source": [
        "f = open(\"test.txt\", \"r\")\n",
        "print(\"Hello World\")                 # this line won't be exexuted"
      ],
      "metadata": {
        "colab": {
          "base_uri": "https://localhost:8080/",
          "height": 189
        },
        "id": "AxXgxweFfL78",
        "outputId": "50dd0292-3cdf-43bc-94a3-122e417ea3dd"
      },
      "execution_count": 4,
      "outputs": [
        {
          "output_type": "error",
          "ename": "FileNotFoundError",
          "evalue": "ignored",
          "traceback": [
            "\u001b[0;31m---------------------------------------------------------------------------\u001b[0m",
            "\u001b[0;31mFileNotFoundError\u001b[0m                         Traceback (most recent call last)",
            "\u001b[0;32m<ipython-input-4-6ef1111e63c0>\u001b[0m in \u001b[0;36m<cell line: 1>\u001b[0;34m()\u001b[0m\n\u001b[0;32m----> 1\u001b[0;31m \u001b[0mf\u001b[0m \u001b[0;34m=\u001b[0m \u001b[0mopen\u001b[0m\u001b[0;34m(\u001b[0m\u001b[0;34m\"test.txt\"\u001b[0m\u001b[0;34m,\u001b[0m \u001b[0;34m\"r\"\u001b[0m\u001b[0;34m)\u001b[0m\u001b[0;34m\u001b[0m\u001b[0;34m\u001b[0m\u001b[0m\n\u001b[0m\u001b[1;32m      2\u001b[0m \u001b[0mprint\u001b[0m\u001b[0;34m(\u001b[0m\u001b[0;34m\"Hello World\"\u001b[0m\u001b[0;34m)\u001b[0m                 \u001b[0;31m# this line won't be exexuted\u001b[0m\u001b[0;34m\u001b[0m\u001b[0;34m\u001b[0m\u001b[0m\n",
            "\u001b[0;31mFileNotFoundError\u001b[0m: [Errno 2] No such file or directory: 'test.txt'"
          ]
        }
      ]
    },
    {
      "cell_type": "markdown",
      "source": [
        "Hence, Due to exceptions, all the lines below the line of exception won't run. To eliminate this, EXCEPTION HANDLING IS USED"
      ],
      "metadata": {
        "id": "eSa0K8Xwfc3D"
      }
    },
    {
      "cell_type": "markdown",
      "source": [
        "NOTE : IMPLEMENTING LOGGING AND EXCEPTION HANDLING IN YOUR CODE IS A GOOD PRACTICE"
      ],
      "metadata": {
        "id": "X1pONBzqgTCf"
      }
    },
    {
      "cell_type": "code",
      "source": [
        "# Handling exception\n",
        "\n",
        "try:\n",
        "  f = open(\"test.txt\", \"r\")\n",
        "except Exception as e:\n",
        "  print(\"There is an issue with your code: \",e)\n",
        "print(\"Hello World\")  \n",
        "a = 10\n",
        "print(a , \" + 6 = \", a+6)  "
      ],
      "metadata": {
        "colab": {
          "base_uri": "https://localhost:8080/"
        },
        "id": "zUKQIhrhfUE9",
        "outputId": "6f30f0a9-1466-43e2-a200-4d5138f8cf23"
      },
      "execution_count": 6,
      "outputs": [
        {
          "output_type": "stream",
          "name": "stdout",
          "text": [
            "There is an issue with your code:  [Errno 2] No such file or directory: 'test.txt'\n",
            "Hello World\n",
            "10  + 6 =  16\n"
          ]
        }
      ]
    },
    {
      "cell_type": "markdown",
      "source": [
        "Hecne, the exception is handled amd all lines after line of exception are running properly. No interruption takes place in execution of code"
      ],
      "metadata": {
        "id": "L44dXfCXhli9"
      }
    },
    {
      "cell_type": "code",
      "source": [
        "try:\n",
        "  f = open(\"test.txt\", \"w\")\n",
        "  f.write(\"This is first line\")\n",
        "except Exception as e:\n",
        "  print(e)\n",
        "else:\n",
        "  f.close()\n",
        "  print(\"This else block will only run when there is no exception in try\")"
      ],
      "metadata": {
        "colab": {
          "base_uri": "https://localhost:8080/"
        },
        "id": "lgwhvOE0hU5m",
        "outputId": "7a3a3ece-7bfe-4779-87c5-49f3eed9fb77"
      },
      "execution_count": 8,
      "outputs": [
        {
          "output_type": "stream",
          "name": "stdout",
          "text": [
            "This else block will only run when there is no exception in try\n"
          ]
        }
      ]
    },
    {
      "cell_type": "markdown",
      "source": [
        "If There is exception in try, else block will not run"
      ],
      "metadata": {
        "id": "c0JpgYP9jh0s"
      }
    },
    {
      "cell_type": "code",
      "source": [
        "try:\n",
        "  f = open(\"test.txt\", \"w\")\n",
        "  f.write(\"This is first line\")\n",
        "  10/0\n",
        "except Exception as e:\n",
        "  print(e)\n",
        "else:\n",
        "  f.close()\n",
        "  print(\"This else block will only run when there is no exception in try\")"
      ],
      "metadata": {
        "colab": {
          "base_uri": "https://localhost:8080/"
        },
        "id": "Ee3bs6bajMWI",
        "outputId": "177ee291-87b4-4dfb-e558-a19001b6af95"
      },
      "execution_count": 9,
      "outputs": [
        {
          "output_type": "stream",
          "name": "stdout",
          "text": [
            "division by zero\n"
          ]
        }
      ]
    },
    {
      "cell_type": "markdown",
      "source": [
        "Hence, you can see that \"test.txt\" is blank as f.close() did not run. Also print() did not run"
      ],
      "metadata": {
        "id": "PqQcAxNcjrh3"
      }
    },
    {
      "cell_type": "code",
      "source": [
        "try:\n",
        "  f = open(\"test2.txt\", \"r\")\n",
        "  f.write(\"This is first line\")\n",
        "except Exception as e:\n",
        "  print(e)\n",
        "  print(\"Hence, else block will not run\")\n",
        "else:\n",
        "  f.close()\n",
        "  print(\"This else block will only run when there is no exception in try\")"
      ],
      "metadata": {
        "colab": {
          "base_uri": "https://localhost:8080/"
        },
        "id": "K3nAcumBjn9W",
        "outputId": "5ce2b181-1b2a-4c7e-e080-7faefcbf8e62"
      },
      "execution_count": 14,
      "outputs": [
        {
          "output_type": "stream",
          "name": "stdout",
          "text": [
            "[Errno 2] No such file or directory: 'test2.txt'\n",
            "Hence, else block will not run\n"
          ]
        }
      ]
    },
    {
      "cell_type": "markdown",
      "source": [
        "Hence, you can keep a part of code in else block which you want to run only when the code in try block runs successfully"
      ],
      "metadata": {
        "id": "PEcUNZ-7kewm"
      }
    },
    {
      "cell_type": "code",
      "source": [
        "# Finally block will always run \n",
        "\n",
        "try:\n",
        "  f = open(\"test2.txt\", \"r\")\n",
        "  f.write(\"This is first line\")\n",
        "except Exception as e:\n",
        "  print(e)\n",
        "  print(\"Hence, else block will not run\")\n",
        "else:\n",
        "  f.close()\n",
        "  print(\"This else block will only run when there is no exception in try\")\n",
        "finally:\n",
        "  print(\"This line will always run\")"
      ],
      "metadata": {
        "colab": {
          "base_uri": "https://localhost:8080/"
        },
        "id": "9yhZtldWkAGG",
        "outputId": "edda5379-bc06-4ad8-998c-b7abcdfe72be"
      },
      "execution_count": 15,
      "outputs": [
        {
          "output_type": "stream",
          "name": "stdout",
          "text": [
            "[Errno 2] No such file or directory: 'test2.txt'\n",
            "Hence, else block will not run\n",
            "This line will always run\n"
          ]
        }
      ]
    },
    {
      "cell_type": "code",
      "source": [
        "try:\n",
        "  f = open(\"test2.txt\", \"r\")\n",
        "  f.write(\"This is first line\")\n",
        "finally:\n",
        "  print(\"This line will always run\")"
      ],
      "metadata": {
        "colab": {
          "base_uri": "https://localhost:8080/",
          "height": 262
        },
        "id": "ekDcHUUxkzjr",
        "outputId": "74247584-39e0-44be-bbed-27560c485cba"
      },
      "execution_count": 18,
      "outputs": [
        {
          "output_type": "stream",
          "name": "stdout",
          "text": [
            "This line will always run\n"
          ]
        },
        {
          "output_type": "error",
          "ename": "FileNotFoundError",
          "evalue": "ignored",
          "traceback": [
            "\u001b[0;31m---------------------------------------------------------------------------\u001b[0m",
            "\u001b[0;31mFileNotFoundError\u001b[0m                         Traceback (most recent call last)",
            "\u001b[0;32m<ipython-input-18-51723172a19e>\u001b[0m in \u001b[0;36m<cell line: 1>\u001b[0;34m()\u001b[0m\n\u001b[1;32m      1\u001b[0m \u001b[0;32mtry\u001b[0m\u001b[0;34m:\u001b[0m\u001b[0;34m\u001b[0m\u001b[0;34m\u001b[0m\u001b[0m\n\u001b[0;32m----> 2\u001b[0;31m   \u001b[0mf\u001b[0m \u001b[0;34m=\u001b[0m \u001b[0mopen\u001b[0m\u001b[0;34m(\u001b[0m\u001b[0;34m\"test2.txt\"\u001b[0m\u001b[0;34m,\u001b[0m \u001b[0;34m\"r\"\u001b[0m\u001b[0;34m)\u001b[0m\u001b[0;34m\u001b[0m\u001b[0;34m\u001b[0m\u001b[0m\n\u001b[0m\u001b[1;32m      3\u001b[0m   \u001b[0mf\u001b[0m\u001b[0;34m.\u001b[0m\u001b[0mwrite\u001b[0m\u001b[0;34m(\u001b[0m\u001b[0;34m\"This is first line\"\u001b[0m\u001b[0;34m)\u001b[0m\u001b[0;34m\u001b[0m\u001b[0;34m\u001b[0m\u001b[0m\n\u001b[1;32m      4\u001b[0m \u001b[0;32mfinally\u001b[0m\u001b[0;34m:\u001b[0m\u001b[0;34m\u001b[0m\u001b[0;34m\u001b[0m\u001b[0m\n\u001b[1;32m      5\u001b[0m   \u001b[0mprint\u001b[0m\u001b[0;34m(\u001b[0m\u001b[0;34m\"This line will always run\"\u001b[0m\u001b[0;34m)\u001b[0m\u001b[0;34m\u001b[0m\u001b[0;34m\u001b[0m\u001b[0m\n",
            "\u001b[0;31mFileNotFoundError\u001b[0m: [Errno 2] No such file or directory: 'test2.txt'"
          ]
        }
      ]
    },
    {
      "cell_type": "markdown",
      "source": [
        "Even if there is an error above finally ,still finally block will run. Hence, in finally block, you can put the part of code which you want to run even if there is an error or exception"
      ],
      "metadata": {
        "id": "ZGDa0LVJlK0j"
      }
    }
  ]
}