{
  "nbformat": 4,
  "nbformat_minor": 0,
  "metadata": {
    "colab": {
      "provenance": []
    },
    "kernelspec": {
      "name": "python3",
      "display_name": "Python 3"
    },
    "language_info": {
      "name": "python"
    }
  },
  "cells": [
    {
      "cell_type": "code",
      "execution_count": 3,
      "metadata": {
        "id": "vVyo6eAMx77C",
        "colab": {
          "base_uri": "https://localhost:8080/"
        },
        "outputId": "e42cf074-b0ec-4c26-ad8f-2c590b36ee87"
      },
      "outputs": [
        {
          "output_type": "stream",
          "name": "stdout",
          "text": [
            "division by zero\n"
          ]
        }
      ],
      "source": [
        "try:\n",
        "  a = 10\n",
        "  a/0\n",
        "except ZeroDivisionError as e:\n",
        "  print(e)"
      ]
    },
    {
      "cell_type": "code",
      "source": [
        "try:\n",
        "  int(\"abhay\")          #- -> ValueError\n",
        "  # \"abhay\" + 23\n",
        "except (ValueError, TypeError) as e:\n",
        "  print(e)"
      ],
      "metadata": {
        "colab": {
          "base_uri": "https://localhost:8080/"
        },
        "id": "vRpW-ckSyksD",
        "outputId": "a56ee7c3-1b83-4424-bc44-a3fdea23c3ff"
      },
      "execution_count": 11,
      "outputs": [
        {
          "output_type": "stream",
          "name": "stdout",
          "text": [
            "invalid literal for int() with base 10: 'abhay'\n"
          ]
        }
      ]
    },
    {
      "cell_type": "code",
      "source": [
        "try:\n",
        "  # int(\"abhay\")\n",
        "  \"abhay\" + 23              # -> TypeError\n",
        "except (ValueError, TypeError) as e:\n",
        "  print(e)"
      ],
      "metadata": {
        "colab": {
          "base_uri": "https://localhost:8080/"
        },
        "id": "Uq1Bjq2gzF2T",
        "outputId": "0aca3d63-8feb-4cac-9371-0f5d839a5d0a"
      },
      "execution_count": 12,
      "outputs": [
        {
          "output_type": "stream",
          "name": "stdout",
          "text": [
            "can only concatenate str (not \"int\") to str\n"
          ]
        }
      ]
    },
    {
      "cell_type": "code",
      "source": [
        "# If you are not aware about the errortype, then this is one solution    BUT THIS IS NOT RECOMMENDED. During handling exceptions, you must mention errortype\n",
        "\n",
        "try:\n",
        "  a = 10\n",
        "  10/0\n",
        "except:\n",
        "  print(\"cannot divide by zero\")"
      ],
      "metadata": {
        "colab": {
          "base_uri": "https://localhost:8080/"
        },
        "id": "sksj3WrE1jIZ",
        "outputId": "63250e05-e8d0-4e51-a40f-22ec5fae675e"
      },
      "execution_count": 15,
      "outputs": [
        {
          "output_type": "stream",
          "name": "stdout",
          "text": [
            "cannot divide by zero\n"
          ]
        }
      ]
    },
    {
      "cell_type": "code",
      "source": [
        "try:\n",
        "  import Abhay\n",
        "except ImportError as e:\n",
        "  print(e)"
      ],
      "metadata": {
        "colab": {
          "base_uri": "https://localhost:8080/"
        },
        "id": "UqqBYKon18TX",
        "outputId": "f5ffe438-b12c-4e9e-a265-83d328bcc8e9"
      },
      "execution_count": 19,
      "outputs": [
        {
          "output_type": "stream",
          "name": "stdout",
          "text": [
            "No module named 'Abhay'\n"
          ]
        }
      ]
    },
    {
      "cell_type": "code",
      "source": [
        "try:\n",
        "  d = {\"Name\": \"Abhay Magar\", \"rno\" : 34}\n",
        "  d[\"address\"]\n",
        "except KeyError as e:\n",
        "  print(e)"
      ],
      "metadata": {
        "colab": {
          "base_uri": "https://localhost:8080/"
        },
        "id": "T5TY1tiw2KDz",
        "outputId": "2b655fa5-ea4c-4b10-cef2-41151065607c"
      },
      "execution_count": 21,
      "outputs": [
        {
          "output_type": "stream",
          "name": "stdout",
          "text": [
            "'address'\n"
          ]
        }
      ]
    },
    {
      "cell_type": "code",
      "source": [
        "try:\n",
        "  \"abhay\".test()\n",
        "except AttributeError as e:\n",
        "  print(e)"
      ],
      "metadata": {
        "colab": {
          "base_uri": "https://localhost:8080/"
        },
        "id": "CLPKOIzK2o6z",
        "outputId": "101306f5-f4e1-4a6c-f19c-3e62b19aab5b"
      },
      "execution_count": 23,
      "outputs": [
        {
          "output_type": "stream",
          "name": "stdout",
          "text": [
            "'str' object has no attribute 'test'\n"
          ]
        }
      ]
    },
    {
      "cell_type": "code",
      "source": [
        "a = [1,2,3,4]\n",
        "a[1]"
      ],
      "metadata": {
        "colab": {
          "base_uri": "https://localhost:8080/"
        },
        "id": "InvLPR9m23Za",
        "outputId": "1e57848c-1f7c-4a5f-b57d-fc3997849833"
      },
      "execution_count": 24,
      "outputs": [
        {
          "output_type": "execute_result",
          "data": {
            "text/plain": [
              "2"
            ]
          },
          "metadata": {},
          "execution_count": 24
        }
      ]
    },
    {
      "cell_type": "code",
      "source": [
        "try:\n",
        "  a = [1,2,3,4]\n",
        "  a[10]\n",
        "except IndexError as e:\n",
        "  print(e)"
      ],
      "metadata": {
        "colab": {
          "base_uri": "https://localhost:8080/"
        },
        "id": "HLGM1QRk3C99",
        "outputId": "d11344b0-bf4a-44cd-972d-1ee5b7f2caad"
      },
      "execution_count": 26,
      "outputs": [
        {
          "output_type": "stream",
          "name": "stdout",
          "text": [
            "list index out of range\n"
          ]
        }
      ]
    },
    {
      "cell_type": "code",
      "source": [
        "try:\n",
        "  with open(\"test.txt\", r) as f:\n",
        "    f.read() \n",
        "except NameError as n:\n",
        "  print(n)"
      ],
      "metadata": {
        "colab": {
          "base_uri": "https://localhost:8080/"
        },
        "id": "RtJw6m5-3Ezj",
        "outputId": "d8561332-66c5-495f-e3f7-38f716202492"
      },
      "execution_count": 28,
      "outputs": [
        {
          "output_type": "stream",
          "name": "stdout",
          "text": [
            "name 'r' is not defined\n"
          ]
        }
      ]
    },
    {
      "cell_type": "code",
      "source": [
        "try:\n",
        "  with open(\"test.txt\", \"r\") as f:\n",
        "    f.read() \n",
        "except FileNotFoundError as n:\n",
        "  print(n)"
      ],
      "metadata": {
        "colab": {
          "base_uri": "https://localhost:8080/"
        },
        "id": "vEOZ4ezU3Y60",
        "outputId": "74047a35-35c9-40f3-903b-e5ffdeecbb1c"
      },
      "execution_count": 30,
      "outputs": [
        {
          "output_type": "stream",
          "name": "stdout",
          "text": [
            "[Errno 2] No such file or directory: 'test.txt'\n"
          ]
        }
      ]
    },
    {
      "cell_type": "markdown",
      "source": [
        "If superclass Exception is placed above other subclass exceptions(TypeError,IndexError,etc), The superclass Exception will run"
      ],
      "metadata": {
        "id": "XYjph4d53ycy"
      }
    },
    {
      "cell_type": "code",
      "source": [
        "try:\n",
        "  a = 20\n",
        "  a/0\n",
        "except Exception as e:\n",
        "  print(e)\n",
        "  print(\"This is superclass\")\n",
        "except ZeroDivisionError as e:\n",
        "  print(e)"
      ],
      "metadata": {
        "colab": {
          "base_uri": "https://localhost:8080/"
        },
        "id": "S7or2rQU3nRo",
        "outputId": "96ade5ac-d89b-4707-c4e5-04db0a5c0f26"
      },
      "execution_count": 32,
      "outputs": [
        {
          "output_type": "stream",
          "name": "stdout",
          "text": [
            "division by zero\n",
            "This is superclass\n"
          ]
        }
      ]
    },
    {
      "cell_type": "markdown",
      "source": [
        "Here, except Exception ran but ZeroDivisionError did not"
      ],
      "metadata": {
        "id": "k_7fH-0G5e3M"
      }
    }
  ]
}