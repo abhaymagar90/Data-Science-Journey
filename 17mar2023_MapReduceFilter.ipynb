{
  "nbformat": 4,
  "nbformat_minor": 0,
  "metadata": {
    "colab": {
      "provenance": []
    },
    "kernelspec": {
      "name": "python3",
      "display_name": "Python 3"
    },
    "language_info": {
      "name": "python"
    }
  },
  "cells": [
    {
      "cell_type": "markdown",
      "source": [
        "# Map, Reduce and Filter Function"
      ],
      "metadata": {
        "id": "cQ9N4p2x-D5Q"
      }
    },
    {
      "cell_type": "code",
      "execution_count": 45,
      "metadata": {
        "colab": {
          "base_uri": "https://localhost:8080/"
        },
        "id": "53qNarNY90R6",
        "outputId": "3629fb31-9337-4d6b-b68b-b67403a346ab"
      },
      "outputs": [
        {
          "output_type": "execute_result",
          "data": {
            "text/plain": [
              "[1, 4, 9, 16, 25]"
            ]
          },
          "metadata": {},
          "execution_count": 45
        }
      ],
      "source": [
        "l = [1,2,3,4,5]\n",
        "\n",
        "def test(lst):\n",
        "  l1 = []\n",
        "  for i in lst:\n",
        "    l1.append(i**2)\n",
        "  return l1\n",
        "test(l)"
      ]
    },
    {
      "cell_type": "code",
      "source": [
        "# square function\n",
        "\n",
        "def sqr(x):\n",
        "  return x**2"
      ],
      "metadata": {
        "id": "f88Ja0T7-84s"
      },
      "execution_count": 46,
      "outputs": []
    },
    {
      "cell_type": "markdown",
      "source": [
        "### A map() func takes two parameters. First parameter is a function which performs your desired opertion and the second parameter is iterables on which you want to perform the operations. In order to print output, you can put the output in list() .i.e typecast"
      ],
      "metadata": {
        "id": "xE4txGBQ_Vu6"
      }
    },
    {
      "cell_type": "code",
      "source": [
        "map(sqr, l)"
      ],
      "metadata": {
        "colab": {
          "base_uri": "https://localhost:8080/"
        },
        "id": "xg7Nf7ZQ-bet",
        "outputId": "64ec468e-40cc-4536-ab98-72d45e204359"
      },
      "execution_count": 47,
      "outputs": [
        {
          "output_type": "execute_result",
          "data": {
            "text/plain": [
              "<map at 0x7f51a088e3d0>"
            ]
          },
          "metadata": {},
          "execution_count": 47
        }
      ]
    },
    {
      "cell_type": "code",
      "source": [
        "list(map(sqr, l))"
      ],
      "metadata": {
        "colab": {
          "base_uri": "https://localhost:8080/"
        },
        "id": "nVtvEWtj_EDc",
        "outputId": "e3aa8139-39af-41a5-dc66-2c630ed95001"
      },
      "execution_count": 48,
      "outputs": [
        {
          "output_type": "execute_result",
          "data": {
            "text/plain": [
              "[1, 4, 9, 16, 25]"
            ]
          },
          "metadata": {},
          "execution_count": 48
        }
      ]
    },
    {
      "cell_type": "markdown",
      "source": [
        "The map() function automatically maps each element of the iterable with the function and performs the operation one by one"
      ],
      "metadata": {
        "id": "NL8F4k2HAJhw"
      }
    },
    {
      "cell_type": "code",
      "source": [
        "# using map() with lambda function\n",
        "\n",
        "map( (lambda c : c**2), [2,3,4,5] )"
      ],
      "metadata": {
        "colab": {
          "base_uri": "https://localhost:8080/"
        },
        "id": "GLI9c29q_MTq",
        "outputId": "f04d2acb-b5f9-41d3-b24f-49bb6e23ef22"
      },
      "execution_count": 49,
      "outputs": [
        {
          "output_type": "execute_result",
          "data": {
            "text/plain": [
              "<map at 0x7f51a088e130>"
            ]
          },
          "metadata": {},
          "execution_count": 49
        }
      ]
    },
    {
      "cell_type": "code",
      "source": [
        "list(  map( (lambda c : c**2), [2,3,4,5] )  )"
      ],
      "metadata": {
        "colab": {
          "base_uri": "https://localhost:8080/"
        },
        "id": "EDCV5jA0AjUI",
        "outputId": "33904db1-7038-4500-d2c5-5e91b3f3a5c3"
      },
      "execution_count": 50,
      "outputs": [
        {
          "output_type": "execute_result",
          "data": {
            "text/plain": [
              "[4, 9, 16, 25]"
            ]
          },
          "metadata": {},
          "execution_count": 50
        }
      ]
    },
    {
      "cell_type": "code",
      "source": [
        "a = lambda x : x+10\n",
        "list( map(a,l) )"
      ],
      "metadata": {
        "colab": {
          "base_uri": "https://localhost:8080/"
        },
        "id": "xWFQwt_XApo1",
        "outputId": "e47d13d0-0a85-4dbd-cf18-cfe2400a5ae2"
      },
      "execution_count": 51,
      "outputs": [
        {
          "output_type": "execute_result",
          "data": {
            "text/plain": [
              "[11, 12, 13, 14, 15]"
            ]
          },
          "metadata": {},
          "execution_count": 51
        }
      ]
    },
    {
      "cell_type": "code",
      "source": [
        "# add elements having same index from two lists\n",
        "\n",
        "l1 = [1,2,3,4,5]\n",
        "l2 = [6,7,8,9,10]\n",
        "\n",
        "list(  map( lambda x,y : x+y , l1 , l2 )  )             # x will contain element of l1(one at a time) and y will contain element of l2(one at a time)"
      ],
      "metadata": {
        "colab": {
          "base_uri": "https://localhost:8080/"
        },
        "id": "p_4ZX2CDBP5X",
        "outputId": "2cf42582-3217-4748-f0b9-04d362247aef"
      },
      "execution_count": 52,
      "outputs": [
        {
          "output_type": "execute_result",
          "data": {
            "text/plain": [
              "[7, 9, 11, 13, 15]"
            ]
          },
          "metadata": {},
          "execution_count": 52
        }
      ]
    },
    {
      "cell_type": "code",
      "source": [
        "# return a string in uppercase\n",
        "\n",
        "strupper = lambda x : x.upper()\n",
        "\n",
        "list( map(strupper, [\"magar\", \"abhay\", \"vaibhav\"]) )\n",
        "\n",
        "# MAPPING IS SIMPLY MAPPING OF EACH AND EVERY ELEMENT WITH THE OPERATIONS"
      ],
      "metadata": {
        "colab": {
          "base_uri": "https://localhost:8080/"
        },
        "id": "x1OWf_gYCtl9",
        "outputId": "aa519c85-3c52-4900-8f31-96f9f9adca5f"
      },
      "execution_count": 53,
      "outputs": [
        {
          "output_type": "execute_result",
          "data": {
            "text/plain": [
              "['MAGAR', 'ABHAY', 'VAIBHAV']"
            ]
          },
          "metadata": {},
          "execution_count": 53
        }
      ]
    },
    {
      "cell_type": "code",
      "source": [
        "# In order to use reduce() we first have to import it from functools package\n",
        "\n",
        "from functools import reduce"
      ],
      "metadata": {
        "id": "zLarV0TaDD98"
      },
      "execution_count": 54,
      "outputs": []
    },
    {
      "cell_type": "markdown",
      "source": [
        "#### The reduce(fun,seq) function is used to apply a particular function passed in its argument to all of the list elements mentioned in the sequence passed along.This function is defined in “functools” module.\n",
        "\n",
        "Working :  \n",
        "\n",
        "At first step, first two elements of sequence are picked and the result is obtained.\n",
        "Next step is to apply the same function to the previously attained result and the number just succeeding the second element and the result is again stored.\n",
        "This process continues till no more elements are left in the container.\n",
        "The final returned result is returned and printed on console."
      ],
      "metadata": {
        "id": "UpFxktNeEzx-"
      }
    },
    {
      "cell_type": "code",
      "source": [
        "reduce( lambda x,y : x+y, [1,2,3,4,5] )   # two arg for function but a single iterable as it tries to reduce the list to a single result"
      ],
      "metadata": {
        "colab": {
          "base_uri": "https://localhost:8080/"
        },
        "id": "gTSUv2ZLDp3L",
        "outputId": "9ec4167a-a2c5-4425-ead9-382de747a90f"
      },
      "execution_count": 55,
      "outputs": [
        {
          "output_type": "execute_result",
          "data": {
            "text/plain": [
              "15"
            ]
          },
          "metadata": {},
          "execution_count": 55
        }
      ]
    },
    {
      "cell_type": "code",
      "source": [
        "# list( map( lambda x,y : x+y, [1,2,3,4,5] ) )  # error as if we have two arguments for function, we have to pass two iterables in map() as it maps one element of iterable to operation "
      ],
      "metadata": {
        "id": "L-LeQiy-E-o4"
      },
      "execution_count": 56,
      "outputs": []
    },
    {
      "cell_type": "code",
      "source": [
        "reduce( lambda x,y: x*y, [4,5,6] )"
      ],
      "metadata": {
        "colab": {
          "base_uri": "https://localhost:8080/"
        },
        "id": "Ha34qMyfFDDc",
        "outputId": "fd87cb7d-4f81-4298-9e67-67e900763ddb"
      },
      "execution_count": 57,
      "outputs": [
        {
          "output_type": "execute_result",
          "data": {
            "text/plain": [
              "120"
            ]
          },
          "metadata": {},
          "execution_count": 57
        }
      ]
    },
    {
      "cell_type": "code",
      "source": [
        "def sub(m,n):\n",
        "  return m-n\n",
        "\n",
        "reduce(sub, [10,5,3,1])"
      ],
      "metadata": {
        "colab": {
          "base_uri": "https://localhost:8080/"
        },
        "id": "FilkF2ZLFkqG",
        "outputId": "a2e28bf9-4b93-43ce-aa97-dcf111c4ca2c"
      },
      "execution_count": 58,
      "outputs": [
        {
          "output_type": "execute_result",
          "data": {
            "text/plain": [
              "1"
            ]
          },
          "metadata": {},
          "execution_count": 58
        }
      ]
    },
    {
      "cell_type": "code",
      "source": [
        "# reduce( lambda c : c**2, [1,2,3,4] )   --->    TypeError: <lambda>() takes 1 positional argument but 2 were given"
      ],
      "metadata": {
        "id": "WuGXXECHF4-2"
      },
      "execution_count": 59,
      "outputs": []
    },
    {
      "cell_type": "markdown",
      "source": [
        "map()  : no. of argument of func == no. of list/iterables\n",
        "\n",
        "reduce() : 2 argument for function == one list/ iterable"
      ],
      "metadata": {
        "id": "uiJY46djGlKO"
      }
    },
    {
      "cell_type": "code",
      "source": [
        "# reduce( lambda x,y: x*y, [] )     --> error for empty list"
      ],
      "metadata": {
        "id": "btn-0ezwGAQY"
      },
      "execution_count": 60,
      "outputs": []
    },
    {
      "cell_type": "code",
      "source": [
        "reduce( lambda x,y: x*y, [4] )  # exceptional case. (only one element)"
      ],
      "metadata": {
        "colab": {
          "base_uri": "https://localhost:8080/"
        },
        "id": "LRLcTA77HBfE",
        "outputId": "2c87040e-ece5-47c6-ac49-3e030a8830a4"
      },
      "execution_count": 61,
      "outputs": [
        {
          "output_type": "execute_result",
          "data": {
            "text/plain": [
              "4"
            ]
          },
          "metadata": {},
          "execution_count": 61
        }
      ]
    },
    {
      "cell_type": "code",
      "source": [
        "# reduce( lambda x,y : max(x,y), [1,2,3,5,4] )\n",
        "\n",
        "# Orr\n",
        "\n",
        "reduce( lambda x,y : x if x>y else y, [1,2,3,5,4] )"
      ],
      "metadata": {
        "colab": {
          "base_uri": "https://localhost:8080/"
        },
        "id": "aDrWKotyHHQy",
        "outputId": "e2d840d9-53f7-4897-c4ec-375abd56efd6"
      },
      "execution_count": 62,
      "outputs": [
        {
          "output_type": "execute_result",
          "data": {
            "text/plain": [
              "5"
            ]
          },
          "metadata": {},
          "execution_count": 62
        }
      ]
    },
    {
      "cell_type": "markdown",
      "source": [
        "The filter() method filters the given sequence with the help of a function that tests each element in the sequence to be true or not. \n",
        "\n",
        "Here, condition is checked for one element at a time"
      ],
      "metadata": {
        "id": "Q9W97WJ1KVkW"
      }
    },
    {
      "cell_type": "code",
      "source": [
        "# even no.s in list\n",
        "\n",
        "list(  filter(lambda x : x%2 == 0, [1,2,3,4,5,6])  )"
      ],
      "metadata": {
        "colab": {
          "base_uri": "https://localhost:8080/"
        },
        "id": "fRQV94RhJ30X",
        "outputId": "12f0bbc4-638f-4f76-c4a1-eeb4a28f86fd"
      },
      "execution_count": 63,
      "outputs": [
        {
          "output_type": "execute_result",
          "data": {
            "text/plain": [
              "[2, 4, 6]"
            ]
          },
          "metadata": {},
          "execution_count": 63
        }
      ]
    },
    {
      "cell_type": "code",
      "source": [
        "# odd no.s in list\n",
        "\n",
        "list(  filter(lambda x : x%2 != 0, [1,2,3,4,5,6])  )"
      ],
      "metadata": {
        "colab": {
          "base_uri": "https://localhost:8080/"
        },
        "id": "nYDKZW0bKrxs",
        "outputId": "82833ebd-4685-41ef-94ea-e536e7239c3b"
      },
      "execution_count": 64,
      "outputs": [
        {
          "output_type": "execute_result",
          "data": {
            "text/plain": [
              "[1, 3, 5]"
            ]
          },
          "metadata": {},
          "execution_count": 64
        }
      ]
    },
    {
      "cell_type": "code",
      "source": [
        "# return only negative number from a list\n",
        "\n",
        "lst = [1,3,-4,6,-11,23,-87,-3,-56]\n",
        "\n",
        "neg = lambda x : x<0\n",
        "\n",
        "list( filter(neg, lst) )"
      ],
      "metadata": {
        "colab": {
          "base_uri": "https://localhost:8080/"
        },
        "id": "1XkdhMQqLAXB",
        "outputId": "fa6b7b75-a6cd-4bb8-aa8c-26089965ae90"
      },
      "execution_count": 65,
      "outputs": [
        {
          "output_type": "execute_result",
          "data": {
            "text/plain": [
              "[-4, -11, -87, -3, -56]"
            ]
          },
          "metadata": {},
          "execution_count": 65
        }
      ]
    },
    {
      "cell_type": "code",
      "source": [
        "# return strings with length < 6\n",
        "\n",
        "lststr = [\"abhay\", \"vaibhav\", \"bhehul\", \"magar\", \"shreyas\", \"arnav\"]\n",
        "\n",
        "list(  filter( lambda x : len(x)<6, lststr )  )"
      ],
      "metadata": {
        "colab": {
          "base_uri": "https://localhost:8080/"
        },
        "id": "2mCdnyXVLZt-",
        "outputId": "907aa888-d742-4e24-dc91-5a5fdc433410"
      },
      "execution_count": 66,
      "outputs": [
        {
          "output_type": "execute_result",
          "data": {
            "text/plain": [
              "['abhay', 'magar', 'arnav']"
            ]
          },
          "metadata": {},
          "execution_count": 66
        }
      ]
    },
    {
      "cell_type": "markdown",
      "source": [
        "Map() is used to map each element of an iterable with an operation(funtion) with which the iterable is passed. In Map(), no. of arg = no. of iterables passed as each argument holds elements of each iterable\n",
        "\n",
        "reduce() is used to reduce a list to a final outcome. reduce() has 2 arg for a function and one iterable is passed. for adding all list elements [1,2,3,4] take two arg x and y. x=1, y=2 ....x = x+y, y=next elem and so on\n",
        "\n",
        "filter() is used to filter elements of an iterable according to a condition. It checks each element for condition one at a time. one arg for function and one iterable is used in filter()"
      ],
      "metadata": {
        "id": "LYpwp3pJMBjo"
      }
    }
  ]
}