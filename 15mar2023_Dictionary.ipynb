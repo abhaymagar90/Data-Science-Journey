{
  "nbformat": 4,
  "nbformat_minor": 0,
  "metadata": {
    "colab": {
      "provenance": []
    },
    "kernelspec": {
      "name": "python3",
      "display_name": "Python 3"
    },
    "language_info": {
      "name": "python"
    }
  },
  "cells": [
    {
      "cell_type": "markdown",
      "source": [
        "# Dictionary"
      ],
      "metadata": {
        "id": "EciD6qLhzgl3"
      }
    },
    {
      "cell_type": "code",
      "source": [
        "d = {}\n",
        "type(d)"
      ],
      "metadata": {
        "colab": {
          "base_uri": "https://localhost:8080/"
        },
        "id": "KXo0eRp4zivA",
        "outputId": "da67a00e-28aa-4c0c-ab1f-854728409f5d"
      },
      "execution_count": 91,
      "outputs": [
        {
          "output_type": "execute_result",
          "data": {
            "text/plain": [
              "dict"
            ]
          },
          "metadata": {},
          "execution_count": 91
        }
      ]
    },
    {
      "cell_type": "code",
      "source": [
        "d1 = {\"name\" : \"Ahbay\", \"email\" : \"abhay@gmail.com\", \"number\" : 5678}\n",
        "print(d1)"
      ],
      "metadata": {
        "colab": {
          "base_uri": "https://localhost:8080/"
        },
        "id": "Snu6aXs_zlSD",
        "outputId": "fa49a768-e9b8-416b-f387-5622f7aec804"
      },
      "execution_count": 92,
      "outputs": [
        {
          "output_type": "stream",
          "name": "stdout",
          "text": [
            "{'name': 'Ahbay', 'email': 'abhay@gmail.com', 'number': 5678}\n"
          ]
        }
      ]
    },
    {
      "cell_type": "code",
      "source": [
        "d2 = {\"name\": \"Abhay\", \"name\": \"Magar\", \"surname\": \"Magar\"}\n",
        "d2"
      ],
      "metadata": {
        "colab": {
          "base_uri": "https://localhost:8080/"
        },
        "id": "RG55fwt9zxC4",
        "outputId": "6857c32b-1176-4223-89a5-143484f43162"
      },
      "execution_count": 93,
      "outputs": [
        {
          "output_type": "execute_result",
          "data": {
            "text/plain": [
              "{'name': 'Magar', 'surname': 'Magar'}"
            ]
          },
          "metadata": {},
          "execution_count": 93
        }
      ]
    },
    {
      "cell_type": "markdown",
      "source": [
        "Hence, Keys must be unique. Value can be repeated, If Key is repeated, it will take the recent value given to it which, in above e.g was Magar"
      ],
      "metadata": {
        "id": "92UGfxEZ0KkT"
      }
    },
    {
      "cell_type": "code",
      "source": [
        "# key and values can be int, float, bool, complex, str\n",
        "d3 = {345 : 56+18j}\n",
        "d4 = {56.23 : True}\n",
        "d5 = {False : 32.12}\n",
        "d6 = {3+4j : \"abc\"}"
      ],
      "metadata": {
        "id": "th1BW2xp0IfS"
      },
      "execution_count": 94,
      "outputs": []
    },
    {
      "cell_type": "code",
      "source": [
        "# key and values can not be special characters\n",
        "\n",
        "# d7 = {@ : \"abhay\"}    ---> ERROR"
      ],
      "metadata": {
        "id": "TZPqf2HQ2nHL"
      },
      "execution_count": 95,
      "outputs": []
    },
    {
      "cell_type": "code",
      "source": [
        "# we can't take list as key, but we can take list as a value\n",
        "\n",
        "# d8 = {[1,2,3]: \"abc\"}\n",
        "d8 = {\"abhay\": [1,2,3]}\n",
        "d8"
      ],
      "metadata": {
        "colab": {
          "base_uri": "https://localhost:8080/"
        },
        "id": "K280EWp33FTg",
        "outputId": "02d92f71-829b-4085-9ef9-a5c98ad33c81"
      },
      "execution_count": 96,
      "outputs": [
        {
          "output_type": "execute_result",
          "data": {
            "text/plain": [
              "{'abhay': [1, 2, 3]}"
            ]
          },
          "metadata": {},
          "execution_count": 96
        }
      ]
    },
    {
      "cell_type": "code",
      "source": [
        "# we can take tuple as key as well as value\n",
        "\n",
        "d9 = {(1,2,3): \"abc\"}\n",
        "print(d9)\n",
        "d10 = {67 : (1,2,3)}\n",
        "d10"
      ],
      "metadata": {
        "colab": {
          "base_uri": "https://localhost:8080/"
        },
        "id": "iMz4oTVs3a2v",
        "outputId": "32612bee-d83e-458e-87f9-4e223c110a99"
      },
      "execution_count": 97,
      "outputs": [
        {
          "output_type": "stream",
          "name": "stdout",
          "text": [
            "{(1, 2, 3): 'abc'}\n"
          ]
        },
        {
          "output_type": "execute_result",
          "data": {
            "text/plain": [
              "{67: (1, 2, 3)}"
            ]
          },
          "metadata": {},
          "execution_count": 97
        }
      ]
    },
    {
      "cell_type": "code",
      "source": [
        "# we can't take set as key, but we can take it as a value\n",
        "\n",
        "# d8 = {{1,2,3}: \"abc\"}\n",
        "d8 = {\"abhay\": {1,2,3}}\n",
        "d8"
      ],
      "metadata": {
        "colab": {
          "base_uri": "https://localhost:8080/"
        },
        "id": "JZN4zYgU7joS",
        "outputId": "79e64a14-97cb-4a48-8c6e-636ba0890893"
      },
      "execution_count": 98,
      "outputs": [
        {
          "output_type": "execute_result",
          "data": {
            "text/plain": [
              "{'abhay': {1, 2, 3}}"
            ]
          },
          "metadata": {},
          "execution_count": 98
        }
      ]
    },
    {
      "cell_type": "code",
      "source": [
        "# also dictionary can't be taken as a key but it can be taken as a value\n",
        "\n",
        "# d11 = {{\"NAME\": \"abhay\"} : 'abc'}\n",
        "d11 = {\"abc\": {\"name\":\"abhay\"}}\n",
        "d11\n"
      ],
      "metadata": {
        "colab": {
          "base_uri": "https://localhost:8080/"
        },
        "id": "v_ysFdNb7vEp",
        "outputId": "786e5ac0-c1a8-4694-da22-eef54cae43f5"
      },
      "execution_count": 99,
      "outputs": [
        {
          "output_type": "execute_result",
          "data": {
            "text/plain": [
              "{'abc': {'name': 'abhay'}}"
            ]
          },
          "metadata": {},
          "execution_count": 99
        }
      ]
    },
    {
      "cell_type": "code",
      "source": [
        "d12 = {\"course_name\": \"Data_Science\", \"start_date\": (12,3,23), \"mentor_name\": {\"Abhay\", \"Bhehul\", \"Vedant\", \"Shreyas\"}}\n",
        "d12"
      ],
      "metadata": {
        "colab": {
          "base_uri": "https://localhost:8080/"
        },
        "id": "ubv9prh18BUf",
        "outputId": "5b92de1e-dde0-4500-a72d-1cd7c43b91f5"
      },
      "execution_count": 100,
      "outputs": [
        {
          "output_type": "execute_result",
          "data": {
            "text/plain": [
              "{'course_name': 'Data_Science',\n",
              " 'start_date': (12, 3, 23),\n",
              " 'mentor_name': {'Abhay', 'Bhehul', 'Shreyas', 'Vedant'}}"
            ]
          },
          "metadata": {},
          "execution_count": 100
        }
      ]
    },
    {
      "cell_type": "code",
      "source": [
        "# Adding a key-value pair in a dictionary     -->  dict[key] = val\n",
        "\n",
        "d12[\"timing\"] = (8, 8, 8)\n",
        "d12"
      ],
      "metadata": {
        "colab": {
          "base_uri": "https://localhost:8080/"
        },
        "id": "oRN-f0_z_BbR",
        "outputId": "a76a364c-b429-472b-904f-6addb114ad06"
      },
      "execution_count": 101,
      "outputs": [
        {
          "output_type": "execute_result",
          "data": {
            "text/plain": [
              "{'course_name': 'Data_Science',\n",
              " 'start_date': (12, 3, 23),\n",
              " 'mentor_name': {'Abhay', 'Bhehul', 'Shreyas', 'Vedant'},\n",
              " 'timing': (8, 8, 8)}"
            ]
          },
          "metadata": {},
          "execution_count": 101
        }
      ]
    },
    {
      "cell_type": "code",
      "source": [
        "# updating a key-value pair            -->  dict[key] = val\n",
        "\n",
        "d12[\"start_date\"] = (8,3,22)\n",
        "d12"
      ],
      "metadata": {
        "colab": {
          "base_uri": "https://localhost:8080/"
        },
        "id": "O8Ql7YWy_T6t",
        "outputId": "954bed6f-a143-4032-8330-08f4b83e7f8c"
      },
      "execution_count": 102,
      "outputs": [
        {
          "output_type": "execute_result",
          "data": {
            "text/plain": [
              "{'course_name': 'Data_Science',\n",
              " 'start_date': (8, 3, 22),\n",
              " 'mentor_name': {'Abhay', 'Bhehul', 'Shreyas', 'Vedant'},\n",
              " 'timing': (8, 8, 8)}"
            ]
          },
          "metadata": {},
          "execution_count": 102
        }
      ]
    },
    {
      "cell_type": "code",
      "source": [
        "d12.get(\"start_date\")"
      ],
      "metadata": {
        "colab": {
          "base_uri": "https://localhost:8080/"
        },
        "id": "6iu8O63q_yR1",
        "outputId": "1d8077cb-595a-472e-e630-2d4afe52e36c"
      },
      "execution_count": 103,
      "outputs": [
        {
          "output_type": "execute_result",
          "data": {
            "text/plain": [
              "(8, 3, 22)"
            ]
          },
          "metadata": {},
          "execution_count": 103
        }
      ]
    },
    {
      "cell_type": "code",
      "source": [
        "d12.get(\"mentor_name\")   # or d12[\"mentor_name\"]"
      ],
      "metadata": {
        "colab": {
          "base_uri": "https://localhost:8080/"
        },
        "id": "scrMYLLcADCz",
        "outputId": "e4e4d07a-6ca1-48ec-bd89-9e112be0f1b2"
      },
      "execution_count": 104,
      "outputs": [
        {
          "output_type": "execute_result",
          "data": {
            "text/plain": [
              "{'Abhay', 'Bhehul', 'Shreyas', 'Vedant'}"
            ]
          },
          "metadata": {},
          "execution_count": 104
        }
      ]
    },
    {
      "cell_type": "markdown",
      "source": [
        "2nd way : In list or tuple we use listname[index]. Similaly, in dictionary, we can either use get() or use -> dict_name[key]"
      ],
      "metadata": {
        "id": "iPqzGEyyAN_B"
      }
    },
    {
      "cell_type": "code",
      "source": [
        "d12[\"mentor_name\"]"
      ],
      "metadata": {
        "colab": {
          "base_uri": "https://localhost:8080/"
        },
        "id": "pT2VsZHnAGCO",
        "outputId": "312658c1-adf9-4dcb-f5c6-4b6c76d7f61e"
      },
      "execution_count": 105,
      "outputs": [
        {
          "output_type": "execute_result",
          "data": {
            "text/plain": [
              "{'Abhay', 'Bhehul', 'Shreyas', 'Vedant'}"
            ]
          },
          "metadata": {},
          "execution_count": 105
        }
      ]
    },
    {
      "cell_type": "code",
      "source": [
        "type(d12[\"mentor_name\"])"
      ],
      "metadata": {
        "colab": {
          "base_uri": "https://localhost:8080/"
        },
        "id": "ldXrHlveAeyF",
        "outputId": "dfbd4d0e-dc9a-4421-d256-f12409befbd7"
      },
      "execution_count": 106,
      "outputs": [
        {
          "output_type": "execute_result",
          "data": {
            "text/plain": [
              "set"
            ]
          },
          "metadata": {},
          "execution_count": 106
        }
      ]
    },
    {
      "cell_type": "code",
      "source": [
        "d12[\"name\"] = \"abhay magar\"\n",
        "d12"
      ],
      "metadata": {
        "colab": {
          "base_uri": "https://localhost:8080/"
        },
        "id": "bPKXkT5KA14t",
        "outputId": "ec980680-db67-4d77-dd8e-a09765199156"
      },
      "execution_count": 107,
      "outputs": [
        {
          "output_type": "execute_result",
          "data": {
            "text/plain": [
              "{'course_name': 'Data_Science',\n",
              " 'start_date': (8, 3, 22),\n",
              " 'mentor_name': {'Abhay', 'Bhehul', 'Shreyas', 'Vedant'},\n",
              " 'timing': (8, 8, 8),\n",
              " 'name': 'abhay magar'}"
            ]
          },
          "metadata": {},
          "execution_count": 107
        }
      ]
    },
    {
      "cell_type": "code",
      "source": [
        "d12['name'].upper()"
      ],
      "metadata": {
        "colab": {
          "base_uri": "https://localhost:8080/",
          "height": 36
        },
        "id": "QxbX1gtDBXMj",
        "outputId": "ca6db552-2233-4ec8-d814-09ed1dfdd646"
      },
      "execution_count": 108,
      "outputs": [
        {
          "output_type": "execute_result",
          "data": {
            "text/plain": [
              "'ABHAY MAGAR'"
            ],
            "application/vnd.google.colaboratory.intrinsic+json": {
              "type": "string"
            }
          },
          "metadata": {},
          "execution_count": 108
        }
      ]
    },
    {
      "cell_type": "code",
      "source": [
        "d12.get('name').title()"
      ],
      "metadata": {
        "colab": {
          "base_uri": "https://localhost:8080/",
          "height": 36
        },
        "id": "ZQ8oAUKxBfGk",
        "outputId": "14450448-f6df-400e-8fea-599c07496af3"
      },
      "execution_count": 109,
      "outputs": [
        {
          "output_type": "execute_result",
          "data": {
            "text/plain": [
              "'Abhay Magar'"
            ],
            "application/vnd.google.colaboratory.intrinsic+json": {
              "type": "string"
            }
          },
          "metadata": {},
          "execution_count": 109
        }
      ]
    },
    {
      "cell_type": "code",
      "source": [
        "# extracting value from mulinested dict\n",
        "d11"
      ],
      "metadata": {
        "colab": {
          "base_uri": "https://localhost:8080/"
        },
        "id": "Sfnp3XD4BkXd",
        "outputId": "15373d70-926e-4adc-92eb-460e6e301e14"
      },
      "execution_count": 110,
      "outputs": [
        {
          "output_type": "execute_result",
          "data": {
            "text/plain": [
              "{'abc': {'name': 'abhay'}}"
            ]
          },
          "metadata": {},
          "execution_count": 110
        }
      ]
    },
    {
      "cell_type": "markdown",
      "source": [
        "Suppose I wnt to extract \"abhay\""
      ],
      "metadata": {
        "id": "KLEcvks-CMf_"
      }
    },
    {
      "cell_type": "code",
      "source": [
        "d11[\"abc\"]   #  -> This will give me a dictionary"
      ],
      "metadata": {
        "colab": {
          "base_uri": "https://localhost:8080/"
        },
        "id": "CyvtPeTKCD3p",
        "outputId": "fbd8f284-c6f7-4be6-a266-d9cc8f861cb8"
      },
      "execution_count": 111,
      "outputs": [
        {
          "output_type": "execute_result",
          "data": {
            "text/plain": [
              "{'name': 'abhay'}"
            ]
          },
          "metadata": {},
          "execution_count": 111
        }
      ]
    },
    {
      "cell_type": "code",
      "source": [
        "# extracting \"abhay\" from above dictionary\n",
        "\n",
        "print(  d11[\"abc\"][\"name\"]  )                       # just like extracing value from matrix of lists.  -> listname[0][1]\n",
        "\n",
        "# ORRR\n",
        "\n",
        "d = d11[\"abc\"]\n",
        "d[\"name\"]"
      ],
      "metadata": {
        "colab": {
          "base_uri": "https://localhost:8080/",
          "height": 53
        },
        "id": "9zA4inbPCRCt",
        "outputId": "7cc81651-0f3d-4153-b429-656a01556d3d"
      },
      "execution_count": 112,
      "outputs": [
        {
          "output_type": "stream",
          "name": "stdout",
          "text": [
            "abhay\n"
          ]
        },
        {
          "output_type": "execute_result",
          "data": {
            "text/plain": [
              "'abhay'"
            ],
            "application/vnd.google.colaboratory.intrinsic+json": {
              "type": "string"
            }
          },
          "metadata": {},
          "execution_count": 112
        }
      ]
    },
    {
      "cell_type": "code",
      "source": [
        "d13 = {\"name\": \"Abhay Magar\", \"rollno\": 34, \"hobbies\": {\"gaming\", \"playing\", \"anime\"}}\n",
        "d13[\"email\"] = \"abhay@gmail.com\"\n",
        "d13"
      ],
      "metadata": {
        "colab": {
          "base_uri": "https://localhost:8080/"
        },
        "id": "pUxsV9qUCcXD",
        "outputId": "3c41bca9-9127-4f36-f984-48c11ddcb8c4"
      },
      "execution_count": 113,
      "outputs": [
        {
          "output_type": "execute_result",
          "data": {
            "text/plain": [
              "{'name': 'Abhay Magar',\n",
              " 'rollno': 34,\n",
              " 'hobbies': {'anime', 'gaming', 'playing'},\n",
              " 'email': 'abhay@gmail.com'}"
            ]
          },
          "metadata": {},
          "execution_count": 113
        }
      ]
    },
    {
      "cell_type": "code",
      "source": [
        "# deleting a key-value pair\n",
        "\n",
        "del d13[\"email\"]\n",
        "d13"
      ],
      "metadata": {
        "colab": {
          "base_uri": "https://localhost:8080/"
        },
        "id": "oKDmz2LPDm8v",
        "outputId": "6cdd6b3b-c97e-4932-bae8-59b631827f38"
      },
      "execution_count": 114,
      "outputs": [
        {
          "output_type": "execute_result",
          "data": {
            "text/plain": [
              "{'name': 'Abhay Magar',\n",
              " 'rollno': 34,\n",
              " 'hobbies': {'anime', 'gaming', 'playing'}}"
            ]
          },
          "metadata": {},
          "execution_count": 114
        }
      ]
    },
    {
      "cell_type": "code",
      "source": [
        "d13.clear()       # CLEARS ENTIRE DICTIONARY\n",
        "d13"
      ],
      "metadata": {
        "colab": {
          "base_uri": "https://localhost:8080/"
        },
        "id": "mGOQplWCDvrf",
        "outputId": "c295f367-de85-4973-b276-af77e5b91071"
      },
      "execution_count": 115,
      "outputs": [
        {
          "output_type": "execute_result",
          "data": {
            "text/plain": [
              "{}"
            ]
          },
          "metadata": {},
          "execution_count": 115
        }
      ]
    },
    {
      "cell_type": "code",
      "source": [
        "print(d12)\n",
        "len(d12)             # -->  gives number of key-value pairs"
      ],
      "metadata": {
        "colab": {
          "base_uri": "https://localhost:8080/"
        },
        "id": "MwNL9PrqEBnB",
        "outputId": "9af3c66b-9998-4e03-a9f6-cbd82df1679e"
      },
      "execution_count": 116,
      "outputs": [
        {
          "output_type": "stream",
          "name": "stdout",
          "text": [
            "{'course_name': 'Data_Science', 'start_date': (8, 3, 22), 'mentor_name': {'Abhay', 'Shreyas', 'Vedant', 'Bhehul'}, 'timing': (8, 8, 8), 'name': 'abhay magar'}\n"
          ]
        },
        {
          "output_type": "execute_result",
          "data": {
            "text/plain": [
              "5"
            ]
          },
          "metadata": {},
          "execution_count": 116
        }
      ]
    },
    {
      "cell_type": "code",
      "source": [
        "d12.keys()   # returns all keys in dictionary d12"
      ],
      "metadata": {
        "colab": {
          "base_uri": "https://localhost:8080/"
        },
        "id": "A0aVYIu7EKRU",
        "outputId": "77957bab-409a-4774-c60d-422d32502909"
      },
      "execution_count": 117,
      "outputs": [
        {
          "output_type": "execute_result",
          "data": {
            "text/plain": [
              "dict_keys(['course_name', 'start_date', 'mentor_name', 'timing', 'name'])"
            ]
          },
          "metadata": {},
          "execution_count": 117
        }
      ]
    },
    {
      "cell_type": "code",
      "source": [
        "d12.values()  # returns all values in dictionary d12"
      ],
      "metadata": {
        "colab": {
          "base_uri": "https://localhost:8080/"
        },
        "id": "CBZGxjwREeNz",
        "outputId": "f2115c70-ce99-4cb1-e776-cf898b3c1a8b"
      },
      "execution_count": 118,
      "outputs": [
        {
          "output_type": "execute_result",
          "data": {
            "text/plain": [
              "dict_values(['Data_Science', (8, 3, 22), {'Abhay', 'Shreyas', 'Vedant', 'Bhehul'}, (8, 8, 8), 'abhay magar'])"
            ]
          },
          "metadata": {},
          "execution_count": 118
        }
      ]
    },
    {
      "cell_type": "code",
      "source": [
        "# converting values of dictionary into a list\n",
        "\n",
        "list(d12.values())"
      ],
      "metadata": {
        "colab": {
          "base_uri": "https://localhost:8080/"
        },
        "id": "sUtmv0lvEl4y",
        "outputId": "ab403666-e31d-4122-ed8b-cbd4ea399e34"
      },
      "execution_count": 119,
      "outputs": [
        {
          "output_type": "execute_result",
          "data": {
            "text/plain": [
              "['Data_Science',\n",
              " (8, 3, 22),\n",
              " {'Abhay', 'Bhehul', 'Shreyas', 'Vedant'},\n",
              " (8, 8, 8),\n",
              " 'abhay magar']"
            ]
          },
          "metadata": {},
          "execution_count": 119
        }
      ]
    },
    {
      "cell_type": "code",
      "source": [
        "list(d12.keys())"
      ],
      "metadata": {
        "colab": {
          "base_uri": "https://localhost:8080/"
        },
        "id": "IGUchVDEEz6H",
        "outputId": "8602913b-9b08-47b0-d9ce-eaea516391e2"
      },
      "execution_count": 120,
      "outputs": [
        {
          "output_type": "execute_result",
          "data": {
            "text/plain": [
              "['course_name', 'start_date', 'mentor_name', 'timing', 'name']"
            ]
          },
          "metadata": {},
          "execution_count": 120
        }
      ]
    },
    {
      "cell_type": "code",
      "source": [
        "d12.items()"
      ],
      "metadata": {
        "colab": {
          "base_uri": "https://localhost:8080/"
        },
        "id": "rkaNoMNWGZ1A",
        "outputId": "2442dd5c-d4af-483f-ae21-b57bf9115950"
      },
      "execution_count": 121,
      "outputs": [
        {
          "output_type": "execute_result",
          "data": {
            "text/plain": [
              "dict_items([('course_name', 'Data_Science'), ('start_date', (8, 3, 22)), ('mentor_name', {'Abhay', 'Shreyas', 'Vedant', 'Bhehul'}), ('timing', (8, 8, 8)), ('name', 'abhay magar')])"
            ]
          },
          "metadata": {},
          "execution_count": 121
        }
      ]
    },
    {
      "cell_type": "code",
      "source": [
        "list(d12.items())"
      ],
      "metadata": {
        "colab": {
          "base_uri": "https://localhost:8080/"
        },
        "id": "L9Elii2CGgt4",
        "outputId": "6b1931f4-8b34-4828-952a-f7c6b0adcc2b"
      },
      "execution_count": 122,
      "outputs": [
        {
          "output_type": "execute_result",
          "data": {
            "text/plain": [
              "[('course_name', 'Data_Science'),\n",
              " ('start_date', (8, 3, 22)),\n",
              " ('mentor_name', {'Abhay', 'Bhehul', 'Shreyas', 'Vedant'}),\n",
              " ('timing', (8, 8, 8)),\n",
              " ('name', 'abhay magar')]"
            ]
          },
          "metadata": {},
          "execution_count": 122
        }
      ]
    },
    {
      "cell_type": "code",
      "source": [
        "d12 = {\"name\": \"Abhay Magar\", \"rollno\": 34, \"hobbies\": {\"gaming\", \"playing\", \"anime\"}}\n",
        "d13 = d12.copy()\n",
        "d14 = d12"
      ],
      "metadata": {
        "id": "8id6aPHAGnSb"
      },
      "execution_count": 123,
      "outputs": []
    },
    {
      "cell_type": "code",
      "source": [
        "del d12[\"name\"]\n",
        "d12"
      ],
      "metadata": {
        "colab": {
          "base_uri": "https://localhost:8080/"
        },
        "id": "IGOv5ofXJUhu",
        "outputId": "a809af94-95b5-418b-b64f-42d0b0be04dd"
      },
      "execution_count": 124,
      "outputs": [
        {
          "output_type": "execute_result",
          "data": {
            "text/plain": [
              "{'rollno': 34, 'hobbies': {'anime', 'gaming', 'playing'}}"
            ]
          },
          "metadata": {},
          "execution_count": 124
        }
      ]
    },
    {
      "cell_type": "code",
      "source": [
        "d13"
      ],
      "metadata": {
        "colab": {
          "base_uri": "https://localhost:8080/"
        },
        "id": "rpLkw3yMJfBS",
        "outputId": "8933751d-9cb2-4cef-b149-a6ceb2aba30e"
      },
      "execution_count": 125,
      "outputs": [
        {
          "output_type": "execute_result",
          "data": {
            "text/plain": [
              "{'name': 'Abhay Magar',\n",
              " 'rollno': 34,\n",
              " 'hobbies': {'anime', 'gaming', 'playing'}}"
            ]
          },
          "metadata": {},
          "execution_count": 125
        }
      ]
    },
    {
      "cell_type": "code",
      "source": [
        "d14"
      ],
      "metadata": {
        "colab": {
          "base_uri": "https://localhost:8080/"
        },
        "id": "xBnWTrxVJkO-",
        "outputId": "d0065a6f-e7f9-4e45-e6a6-e397365ba48d"
      },
      "execution_count": 126,
      "outputs": [
        {
          "output_type": "execute_result",
          "data": {
            "text/plain": [
              "{'rollno': 34, 'hobbies': {'anime', 'gaming', 'playing'}}"
            ]
          },
          "metadata": {},
          "execution_count": 126
        }
      ]
    },
    {
      "cell_type": "code",
      "source": [
        "print(id(d12))\n",
        "print(id(d13))\n",
        "print(id(d14))"
      ],
      "metadata": {
        "colab": {
          "base_uri": "https://localhost:8080/"
        },
        "id": "8jrPN7VBKNQj",
        "outputId": "b7673068-d35e-42b3-b7b1-86e9efccf677"
      },
      "execution_count": 127,
      "outputs": [
        {
          "output_type": "stream",
          "name": "stdout",
          "text": [
            "139804506790720\n",
            "139804846061632\n",
            "139804506790720\n"
          ]
        }
      ]
    },
    {
      "cell_type": "markdown",
      "source": [
        "## d12 is deeply copied into d13. Hence, d13 is assigned new location. address of d12 and d14 is same, but d13's address is different. Hence, changes made in d12 will be replicated in d14 but not in d13."
      ],
      "metadata": {
        "id": "ziR72qewKFVD"
      }
    },
    {
      "cell_type": "code",
      "source": [
        "d13  "
      ],
      "metadata": {
        "colab": {
          "base_uri": "https://localhost:8080/"
        },
        "id": "Tmg_Cg3HKfoA",
        "outputId": "f849d2da-0bf6-44fd-d06b-96a5af6a441a"
      },
      "execution_count": 128,
      "outputs": [
        {
          "output_type": "execute_result",
          "data": {
            "text/plain": [
              "{'name': 'Abhay Magar',\n",
              " 'rollno': 34,\n",
              " 'hobbies': {'anime', 'gaming', 'playing'}}"
            ]
          },
          "metadata": {},
          "execution_count": 128
        }
      ]
    },
    {
      "cell_type": "code",
      "source": [
        "# d13.pop()     ---> error: WE HAVE TO SPECIFY THE KEY ALSO\n",
        "\n",
        "print(  d13.pop(\"name\")  )\n",
        "d13"
      ],
      "metadata": {
        "colab": {
          "base_uri": "https://localhost:8080/"
        },
        "id": "ktIXeZsXKtHT",
        "outputId": "c7abb075-147f-4a28-cba1-7754b7baa459"
      },
      "execution_count": 129,
      "outputs": [
        {
          "output_type": "stream",
          "name": "stdout",
          "text": [
            "Abhay Magar\n"
          ]
        },
        {
          "output_type": "execute_result",
          "data": {
            "text/plain": [
              "{'rollno': 34, 'hobbies': {'anime', 'gaming', 'playing'}}"
            ]
          },
          "metadata": {},
          "execution_count": 129
        }
      ]
    },
    {
      "cell_type": "code",
      "source": [
        "print(  d13.pop(\"hobbies\")  )\n",
        "d13"
      ],
      "metadata": {
        "colab": {
          "base_uri": "https://localhost:8080/"
        },
        "id": "QzX5eLEvKzn2",
        "outputId": "57f531fc-7fcb-4b46-edcf-54fb05b9daea"
      },
      "execution_count": 130,
      "outputs": [
        {
          "output_type": "stream",
          "name": "stdout",
          "text": [
            "{'gaming', 'playing', 'anime'}\n"
          ]
        },
        {
          "output_type": "execute_result",
          "data": {
            "text/plain": [
              "{'rollno': 34}"
            ]
          },
          "metadata": {},
          "execution_count": 130
        }
      ]
    },
    {
      "cell_type": "code",
      "source": [
        "# fromkeys -> takes 2 arg, where first arg is iterable keys and next arg is values\n",
        "d.fromkeys((1,2,\"abc\", (1,2,3)), {\"abhay\", \"Magar\"})"
      ],
      "metadata": {
        "colab": {
          "base_uri": "https://localhost:8080/"
        },
        "id": "ZmgCfwgcLGZY",
        "outputId": "d6f1d477-7475-48a2-e9cb-5dfa5ec41e49"
      },
      "execution_count": 131,
      "outputs": [
        {
          "output_type": "execute_result",
          "data": {
            "text/plain": [
              "{1: {'Magar', 'abhay'},\n",
              " 2: {'Magar', 'abhay'},\n",
              " 'abc': {'Magar', 'abhay'},\n",
              " (1, 2, 3): {'Magar', 'abhay'}}"
            ]
          },
          "metadata": {},
          "execution_count": 131
        }
      ]
    },
    {
      "cell_type": "code",
      "execution_count": 132,
      "metadata": {
        "id": "9ff1a27b-674d-4147-8f11-d562480b7d4d"
      },
      "outputs": [],
      "source": [
        "d19 = {\"key1\" : \"value\" , \"key2\" : \"value2\"}\n",
        "d20 = {\"key3\" : \"value3\" , \"key4\" :\"value4\"}"
      ]
    },
    {
      "cell_type": "code",
      "execution_count": 133,
      "metadata": {
        "id": "93cd01a1-c9ee-45f5-8b5f-1ae7c353a49a",
        "outputId": "c30c3def-733f-4db4-a219-ecd0557a7824",
        "colab": {
          "base_uri": "https://localhost:8080/"
        }
      },
      "outputs": [
        {
          "output_type": "execute_result",
          "data": {
            "text/plain": [
              "({'key1': 'value', 'key2': 'value2'}, {'key3': 'value3', 'key4': 'value4'})"
            ]
          },
          "metadata": {},
          "execution_count": 133
        }
      ],
      "source": [
        "(d19,d20)"
      ]
    },
    {
      "cell_type": "code",
      "execution_count": 134,
      "metadata": {
        "id": "f4b4bc9f-c75c-4ba4-9502-dbb51a4c213b"
      },
      "outputs": [],
      "source": [
        "d19.update(d20)"
      ]
    },
    {
      "cell_type": "code",
      "execution_count": 135,
      "metadata": {
        "id": "4acfa6eb-a378-41c8-9ebe-839119e77916",
        "outputId": "518f87cb-f197-4951-f53e-50b22e80e3f0",
        "colab": {
          "base_uri": "https://localhost:8080/"
        }
      },
      "outputs": [
        {
          "output_type": "execute_result",
          "data": {
            "text/plain": [
              "{'key1': 'value', 'key2': 'value2', 'key3': 'value3', 'key4': 'value4'}"
            ]
          },
          "metadata": {},
          "execution_count": 135
        }
      ],
      "source": [
        "d19"
      ]
    },
    {
      "cell_type": "code",
      "execution_count": 136,
      "metadata": {
        "id": "f9f8c7e5-fd82-47e2-92fe-ab1be1e21916",
        "outputId": "6321d5f6-cbb0-4c87-df93-bac949aca557",
        "colab": {
          "base_uri": "https://localhost:8080/"
        }
      },
      "outputs": [
        {
          "output_type": "execute_result",
          "data": {
            "text/plain": [
              "{'key3': 'value3', 'key4': 'value4'}"
            ]
          },
          "metadata": {},
          "execution_count": 136
        }
      ],
      "source": [
        "d20"
      ]
    },
    {
      "cell_type": "code",
      "execution_count": 137,
      "metadata": {
        "id": "606bbed3-8025-4205-ac93-8b02fd195484"
      },
      "outputs": [],
      "source": [
        "d20.update(d19)"
      ]
    },
    {
      "cell_type": "code",
      "execution_count": 138,
      "metadata": {
        "id": "f5ad9e0b-74ac-49c6-b5a4-8f3b33f35642",
        "outputId": "cbdaa66c-87f0-4e94-faf4-38d9db17d8c1",
        "colab": {
          "base_uri": "https://localhost:8080/"
        }
      },
      "outputs": [
        {
          "output_type": "execute_result",
          "data": {
            "text/plain": [
              "{'key3': 'value3', 'key4': 'value4', 'key1': 'value', 'key2': 'value2'}"
            ]
          },
          "metadata": {},
          "execution_count": 138
        }
      ],
      "source": [
        "d20"
      ]
    },
    {
      "cell_type": "code",
      "execution_count": 139,
      "metadata": {
        "id": "c1444366-3cdc-4eab-8d0b-17c72c57f262"
      },
      "outputs": [],
      "source": [
        "d20.get(\"sudh\")"
      ]
    },
    {
      "cell_type": "code",
      "execution_count": 140,
      "metadata": {
        "id": "4c391885-8935-4578-92ff-2238e4e93ec3",
        "outputId": "c2299512-f8b6-46bc-9017-4e4c3fa1f9e5",
        "colab": {
          "base_uri": "https://localhost:8080/",
          "height": 36
        }
      },
      "outputs": [
        {
          "output_type": "execute_result",
          "data": {
            "text/plain": [
              "'value3'"
            ],
            "application/vnd.google.colaboratory.intrinsic+json": {
              "type": "string"
            }
          },
          "metadata": {},
          "execution_count": 140
        }
      ],
      "source": [
        "d20.get(\"key3\")"
      ]
    },
    {
      "cell_type": "code",
      "execution_count": 141,
      "metadata": {
        "id": "5056dde6-b18b-4fea-8a9d-a804ab65e5f9",
        "outputId": "73c16dc5-cbff-4877-b800-5a1c8ab30f53",
        "colab": {
          "base_uri": "https://localhost:8080/",
          "height": 36
        }
      },
      "outputs": [
        {
          "output_type": "execute_result",
          "data": {
            "text/plain": [
              "'value3'"
            ],
            "application/vnd.google.colaboratory.intrinsic+json": {
              "type": "string"
            }
          },
          "metadata": {},
          "execution_count": 141
        }
      ],
      "source": [
        "d20[\"key3\"]"
      ]
    },
    {
      "cell_type": "code",
      "execution_count": 142,
      "metadata": {
        "id": "d03d4933-a2c4-49cc-b089-a825f481ff57"
      },
      "outputs": [],
      "source": [
        "# d20[\"sudh\"]     --> gives error unlike get() function"
      ]
    },
    {
      "cell_type": "markdown",
      "metadata": {
        "id": "f3cdefe5-89c2-497e-802f-69232ab3eb0d"
      },
      "source": [
        "### Dictionary Comprehensions"
      ]
    },
    {
      "cell_type": "code",
      "execution_count": 143,
      "metadata": {
        "id": "cbec9e65-e344-427e-80b5-dd806acf0dbe",
        "outputId": "f291cf1e-b596-406d-f5a9-4c5ef9a53def",
        "colab": {
          "base_uri": "https://localhost:8080/"
        }
      },
      "outputs": [
        {
          "output_type": "execute_result",
          "data": {
            "text/plain": [
              "{1: 1, 2: 4, 3: 9, 4: 16, 5: 25, 6: 36, 7: 49, 8: 64, 9: 81, 10: 100}"
            ]
          },
          "metadata": {},
          "execution_count": 143
        }
      ],
      "source": [
        "{i : i**2 for i in range(1,11)}"
      ]
    },
    {
      "cell_type": "code",
      "source": [
        "{i:i+10 for i in range(1,11)}"
      ],
      "metadata": {
        "colab": {
          "base_uri": "https://localhost:8080/"
        },
        "id": "gkBie_KyePK-",
        "outputId": "8fb285cd-85e2-47d3-ca69-1d56d8dab6c5"
      },
      "execution_count": 144,
      "outputs": [
        {
          "output_type": "execute_result",
          "data": {
            "text/plain": [
              "{1: 11, 2: 12, 3: 13, 4: 14, 5: 15, 6: 16, 7: 17, 8: 18, 9: 19, 10: 20}"
            ]
          },
          "metadata": {},
          "execution_count": 144
        }
      ]
    },
    {
      "cell_type": "code",
      "source": [
        "import math\n",
        "\n",
        "d16 = {i:math.log10(i) for i in range(1,11)}\n",
        "d16"
      ],
      "metadata": {
        "colab": {
          "base_uri": "https://localhost:8080/"
        },
        "id": "D8S0ECItehzO",
        "outputId": "b4f33bfe-a2b4-49c6-b608-bc5fcd2f6c64"
      },
      "execution_count": 145,
      "outputs": [
        {
          "output_type": "execute_result",
          "data": {
            "text/plain": [
              "{1: 0.0,\n",
              " 2: 0.3010299956639812,\n",
              " 3: 0.47712125471966244,\n",
              " 4: 0.6020599913279624,\n",
              " 5: 0.6989700043360189,\n",
              " 6: 0.7781512503836436,\n",
              " 7: 0.8450980400142568,\n",
              " 8: 0.9030899869919435,\n",
              " 9: 0.9542425094393249,\n",
              " 10: 1.0}"
            ]
          },
          "metadata": {},
          "execution_count": 145
        }
      ]
    },
    {
      "cell_type": "code",
      "source": [
        "d12"
      ],
      "metadata": {
        "colab": {
          "base_uri": "https://localhost:8080/"
        },
        "id": "21dT5xWDe0mK",
        "outputId": "6fac346b-5509-49ba-a690-fde12ebe378b"
      },
      "execution_count": 146,
      "outputs": [
        {
          "output_type": "execute_result",
          "data": {
            "text/plain": [
              "{'rollno': 34, 'hobbies': {'anime', 'gaming', 'playing'}}"
            ]
          },
          "metadata": {},
          "execution_count": 146
        }
      ]
    },
    {
      "cell_type": "code",
      "source": [
        "'rollno' in d12"
      ],
      "metadata": {
        "colab": {
          "base_uri": "https://localhost:8080/"
        },
        "id": "JmwRORkcfMSI",
        "outputId": "60d635ae-9357-4c7e-ebed-fbb56282ed42"
      },
      "execution_count": 147,
      "outputs": [
        {
          "output_type": "execute_result",
          "data": {
            "text/plain": [
              "True"
            ]
          },
          "metadata": {},
          "execution_count": 147
        }
      ]
    },
    {
      "cell_type": "code",
      "source": [
        "'anime' in d12"
      ],
      "metadata": {
        "colab": {
          "base_uri": "https://localhost:8080/"
        },
        "id": "Azgk6vCyfWqF",
        "outputId": "b0c0d7ff-c5ac-4a68-bbe4-46ecfc02cc34"
      },
      "execution_count": 148,
      "outputs": [
        {
          "output_type": "execute_result",
          "data": {
            "text/plain": [
              "False"
            ]
          },
          "metadata": {},
          "execution_count": 148
        }
      ]
    },
    {
      "cell_type": "code",
      "source": [
        "'hobbies' in d12        # HENCE 'in' ONLY WORKS FOR KEYS IN DICTIONARY"
      ],
      "metadata": {
        "colab": {
          "base_uri": "https://localhost:8080/"
        },
        "id": "H08y0AgafbcM",
        "outputId": "7c1c10e8-0425-4d52-8df6-be4a81db0c3a"
      },
      "execution_count": 149,
      "outputs": [
        {
          "output_type": "execute_result",
          "data": {
            "text/plain": [
              "True"
            ]
          },
          "metadata": {},
          "execution_count": 149
        }
      ]
    },
    {
      "cell_type": "code",
      "source": [
        "d16"
      ],
      "metadata": {
        "colab": {
          "base_uri": "https://localhost:8080/"
        },
        "id": "IqsNLpdtfgHZ",
        "outputId": "a18b798e-29be-45a4-e8f8-f88c9695ffd9"
      },
      "execution_count": 150,
      "outputs": [
        {
          "output_type": "execute_result",
          "data": {
            "text/plain": [
              "{1: 0.0,\n",
              " 2: 0.3010299956639812,\n",
              " 3: 0.47712125471966244,\n",
              " 4: 0.6020599913279624,\n",
              " 5: 0.6989700043360189,\n",
              " 6: 0.7781512503836436,\n",
              " 7: 0.8450980400142568,\n",
              " 8: 0.9030899869919435,\n",
              " 9: 0.9542425094393249,\n",
              " 10: 1.0}"
            ]
          },
          "metadata": {},
          "execution_count": 150
        }
      ]
    },
    {
      "cell_type": "code",
      "source": [
        "for i in d16: \n",
        "  print(i, end=\" \")"
      ],
      "metadata": {
        "colab": {
          "base_uri": "https://localhost:8080/"
        },
        "id": "v5-lHaT6gjlQ",
        "outputId": "f0dd263f-c659-4461-8943-167c94951f32"
      },
      "execution_count": 151,
      "outputs": [
        {
          "output_type": "stream",
          "name": "stdout",
          "text": [
            "1 2 3 4 5 6 7 8 9 10 "
          ]
        }
      ]
    },
    {
      "cell_type": "code",
      "source": [
        "# Filter out even values from d16\n",
        "\n",
        "for i in d16:    # or   for i in d16.keys()\n",
        "  if i%2 == 0:\n",
        "    print(d16[i])"
      ],
      "metadata": {
        "colab": {
          "base_uri": "https://localhost:8080/"
        },
        "id": "1QuG3GYFfz5I",
        "outputId": "082700fd-f989-47ec-dedc-d53b6477ab27"
      },
      "execution_count": 152,
      "outputs": [
        {
          "output_type": "stream",
          "name": "stdout",
          "text": [
            "0.3010299956639812\n",
            "0.6020599913279624\n",
            "0.7781512503836436\n",
            "0.9030899869919435\n",
            "1.0\n"
          ]
        }
      ]
    }
  ]
}