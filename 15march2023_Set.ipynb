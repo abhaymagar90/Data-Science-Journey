{
  "nbformat": 4,
  "nbformat_minor": 0,
  "metadata": {
    "colab": {
      "provenance": []
    },
    "kernelspec": {
      "name": "python3",
      "display_name": "Python 3"
    },
    "language_info": {
      "name": "python"
    }
  },
  "cells": [
    {
      "cell_type": "markdown",
      "source": [
        "# Set"
      ],
      "metadata": {
        "id": "ySrKot_VjgWP"
      }
    },
    {
      "cell_type": "code",
      "source": [
        "s = {}\n",
        "type(s)"
      ],
      "metadata": {
        "colab": {
          "base_uri": "https://localhost:8080/"
        },
        "id": "rEmUYHV-jje9",
        "outputId": "6f29db85-a61a-4e61-9672-ff866ed1f33f"
      },
      "execution_count": 1,
      "outputs": [
        {
          "output_type": "execute_result",
          "data": {
            "text/plain": [
              "dict"
            ]
          },
          "metadata": {},
          "execution_count": 1
        }
      ]
    },
    {
      "cell_type": "code",
      "source": [
        "s1 = {1,2,3,4,5}\n",
        "type(s1)"
      ],
      "metadata": {
        "colab": {
          "base_uri": "https://localhost:8080/"
        },
        "id": "15vFmDF9jliD",
        "outputId": "6556c983-d432-48d1-a6a4-c25164c2b1ea"
      },
      "execution_count": 2,
      "outputs": [
        {
          "output_type": "execute_result",
          "data": {
            "text/plain": [
              "set"
            ]
          },
          "metadata": {},
          "execution_count": 2
        }
      ]
    },
    {
      "cell_type": "code",
      "source": [
        "s3 = {1,2,3,4,2,3,5,6,6,7,7,8,8,8,10,10}"
      ],
      "metadata": {
        "id": "Y8z67wVfjpUE"
      },
      "execution_count": 3,
      "outputs": []
    },
    {
      "cell_type": "code",
      "source": [
        "print(s3)"
      ],
      "metadata": {
        "colab": {
          "base_uri": "https://localhost:8080/"
        },
        "id": "ufSvAHfnj9L2",
        "outputId": "70947a6e-97a0-41fa-d274-9309fb44a707"
      },
      "execution_count": 4,
      "outputs": [
        {
          "output_type": "stream",
          "name": "stdout",
          "text": [
            "{1, 2, 3, 4, 5, 6, 7, 8, 10}\n"
          ]
        }
      ]
    },
    {
      "cell_type": "markdown",
      "source": [
        "### Hence, from above eg. it is clear that, SET consists of unique elements only.It does not contain duplicate values/ repeating values. It discards them."
      ],
      "metadata": {
        "id": "oBW5qCvnkABw"
      }
    },
    {
      "cell_type": "code",
      "source": [
        "tuple(s3)"
      ],
      "metadata": {
        "colab": {
          "base_uri": "https://localhost:8080/"
        },
        "id": "zw3hNdSwo6n0",
        "outputId": "fd626ca6-9bf4-44da-bef0-f8e533cfc6c7"
      },
      "execution_count": 8,
      "outputs": [
        {
          "output_type": "execute_result",
          "data": {
            "text/plain": [
              "(1, 2, 3, 4, 5, 6, 7, 8, 10)"
            ]
          },
          "metadata": {},
          "execution_count": 8
        }
      ]
    },
    {
      "cell_type": "code",
      "source": [
        "l = list(s3)"
      ],
      "metadata": {
        "id": "M52Ge-b6j-iq"
      },
      "execution_count": 5,
      "outputs": []
    },
    {
      "cell_type": "code",
      "source": [
        "l"
      ],
      "metadata": {
        "colab": {
          "base_uri": "https://localhost:8080/"
        },
        "id": "SUElAk2Go3uY",
        "outputId": "ba611b75-da81-43f2-bcf2-3bf3c174a691"
      },
      "execution_count": 6,
      "outputs": [
        {
          "output_type": "execute_result",
          "data": {
            "text/plain": [
              "[1, 2, 3, 4, 5, 6, 7, 8, 10]"
            ]
          },
          "metadata": {},
          "execution_count": 6
        }
      ]
    },
    {
      "cell_type": "code",
      "source": [
        "set(l)"
      ],
      "metadata": {
        "colab": {
          "base_uri": "https://localhost:8080/"
        },
        "id": "lGzTMOQNo4fa",
        "outputId": "6e56ba4f-da6b-42d0-cfde-312ce80365b2"
      },
      "execution_count": 9,
      "outputs": [
        {
          "output_type": "execute_result",
          "data": {
            "text/plain": [
              "{1, 2, 3, 4, 5, 6, 7, 8, 10}"
            ]
          },
          "metadata": {},
          "execution_count": 9
        }
      ]
    },
    {
      "cell_type": "markdown",
      "source": [
        "Suppose you want to remove duplicates from a list. Simply just convert list into set, it will automatically remove duplicates and convert it back to a list"
      ],
      "metadata": {
        "id": "tndRViTlo_-6"
      }
    },
    {
      "cell_type": "code",
      "source": [
        "# set1 = {1,2,3,4,[1,2,3,4]}    ---> error: unhashable type 'list'\n",
        "set2 = {1,2,3,4,(1,2,3,4)}\n",
        "set2"
      ],
      "metadata": {
        "colab": {
          "base_uri": "https://localhost:8080/"
        },
        "id": "B0DS3Kkto5jV",
        "outputId": "d3785bda-53ce-438f-fd1f-11e555a6ca1c"
      },
      "execution_count": 12,
      "outputs": [
        {
          "output_type": "execute_result",
          "data": {
            "text/plain": [
              "{(1, 2, 3, 4), 1, 2, 3, 4}"
            ]
          },
          "metadata": {},
          "execution_count": 12
        }
      ]
    },
    {
      "cell_type": "markdown",
      "source": [
        "A set allows us to include tuples but not lists. This is because lists are mutable and can be changed which makes it difficult for the set to create hashing indexes internally. Tuple, on the other hand is immutable .i.e can't be changed"
      ],
      "metadata": {
        "id": "N5Qc8FYgp62X"
      }
    },
    {
      "cell_type": "code",
      "source": [
        "s5 = {\"abhay\", \"Abhay\", 2,3,4}\n",
        "print(s5)\n",
        "s6 = {\"abhay\", \"abhay\", 2,3,4}\n",
        "s6"
      ],
      "metadata": {
        "colab": {
          "base_uri": "https://localhost:8080/"
        },
        "id": "04oOFMPIpeWF",
        "outputId": "0107ce12-90b6-4a22-b51e-fe474e3472b7"
      },
      "execution_count": 20,
      "outputs": [
        {
          "output_type": "stream",
          "name": "stdout",
          "text": [
            "{2, 3, 4, 'abhay', 'Abhay'}\n"
          ]
        },
        {
          "output_type": "execute_result",
          "data": {
            "text/plain": [
              "{2, 3, 4, 'abhay'}"
            ]
          },
          "metadata": {},
          "execution_count": 20
        }
      ]
    },
    {
      "cell_type": "code",
      "source": [
        "s7 = {4,2,7,5,98,45,12,42}\n",
        "print(s7)"
      ],
      "metadata": {
        "colab": {
          "base_uri": "https://localhost:8080/"
        },
        "id": "0g_O_00-qaFd",
        "outputId": "2db79b86-5bba-4736-855a-3eab651df46d"
      },
      "execution_count": 21,
      "outputs": [
        {
          "output_type": "stream",
          "name": "stdout",
          "text": [
            "{2, 98, 4, 5, 7, 42, 12, 45}\n"
          ]
        }
      ]
    },
    {
      "cell_type": "code",
      "source": [
        "# s7[5]  --> error as indexing is not possible in sets because sets try to create hashing indexes internally\n",
        "# s7[1:5]"
      ],
      "metadata": {
        "id": "QgYkcOZPqvPY"
      },
      "execution_count": 25,
      "outputs": []
    },
    {
      "cell_type": "code",
      "source": [
        "s7"
      ],
      "metadata": {
        "colab": {
          "base_uri": "https://localhost:8080/"
        },
        "id": "-3MfLD-wtdJ7",
        "outputId": "63f8a0ee-3eaa-4564-e541-df8cae8dae27"
      },
      "execution_count": 26,
      "outputs": [
        {
          "output_type": "execute_result",
          "data": {
            "text/plain": [
              "{2, 4, 5, 7, 12, 42, 45, 98}"
            ]
          },
          "metadata": {},
          "execution_count": 26
        }
      ]
    },
    {
      "cell_type": "code",
      "source": [
        "for i in  s7:\n",
        "  print(i, end=\" \")"
      ],
      "metadata": {
        "colab": {
          "base_uri": "https://localhost:8080/"
        },
        "id": "XaGyPgc0teMP",
        "outputId": "85d5dda2-fd89-45e9-b090-a02f03ef497e"
      },
      "execution_count": 28,
      "outputs": [
        {
          "output_type": "stream",
          "name": "stdout",
          "text": [
            "2 98 4 5 7 42 12 45 "
          ]
        }
      ]
    },
    {
      "cell_type": "code",
      "source": [
        "s7.add(47)\n",
        "s7"
      ],
      "metadata": {
        "colab": {
          "base_uri": "https://localhost:8080/"
        },
        "id": "8CuZSVYGthCi",
        "outputId": "b2011674-5df4-4622-edcc-32a682b4ab88"
      },
      "execution_count": 31,
      "outputs": [
        {
          "output_type": "execute_result",
          "data": {
            "text/plain": [
              "{2, 4, 5, 7, 12, 42, 45, 47, 98}"
            ]
          },
          "metadata": {},
          "execution_count": 31
        }
      ]
    },
    {
      "cell_type": "code",
      "source": [
        "len(s7)"
      ],
      "metadata": {
        "colab": {
          "base_uri": "https://localhost:8080/"
        },
        "id": "iCklof4jtsyU",
        "outputId": "0428f3cd-bb94-49da-bccb-641f9ac83249"
      },
      "execution_count": 32,
      "outputs": [
        {
          "output_type": "execute_result",
          "data": {
            "text/plain": [
              "9"
            ]
          },
          "metadata": {},
          "execution_count": 32
        }
      ]
    },
    {
      "cell_type": "code",
      "source": [
        "s7.pop()"
      ],
      "metadata": {
        "colab": {
          "base_uri": "https://localhost:8080/"
        },
        "id": "u_1yp-tAuFca",
        "outputId": "21cf0730-82c4-4898-c037-91302c73bb37"
      },
      "execution_count": 33,
      "outputs": [
        {
          "output_type": "execute_result",
          "data": {
            "text/plain": [
              "2"
            ]
          },
          "metadata": {},
          "execution_count": 33
        }
      ]
    },
    {
      "cell_type": "code",
      "source": [
        "# s7.pop(4)           ---> error"
      ],
      "metadata": {
        "colab": {
          "base_uri": "https://localhost:8080/",
          "height": 165
        },
        "id": "jQip3Y3AuHdr",
        "outputId": "c5f9140b-32ec-4e57-8c89-10ed8fcfa082"
      },
      "execution_count": 34,
      "outputs": [
        {
          "output_type": "error",
          "ename": "TypeError",
          "evalue": "ignored",
          "traceback": [
            "\u001b[0;31m---------------------------------------------------------------------------\u001b[0m",
            "\u001b[0;31mTypeError\u001b[0m                                 Traceback (most recent call last)",
            "\u001b[0;32m<ipython-input-34-14fdce9c8202>\u001b[0m in \u001b[0;36m<module>\u001b[0;34m\u001b[0m\n\u001b[0;32m----> 1\u001b[0;31m \u001b[0ms7\u001b[0m\u001b[0;34m.\u001b[0m\u001b[0mpop\u001b[0m\u001b[0;34m(\u001b[0m\u001b[0;36m4\u001b[0m\u001b[0;34m)\u001b[0m\u001b[0;34m\u001b[0m\u001b[0;34m\u001b[0m\u001b[0m\n\u001b[0m",
            "\u001b[0;31mTypeError\u001b[0m: set.pop() takes no arguments (1 given)"
          ]
        }
      ]
    },
    {
      "cell_type": "code",
      "source": [
        "s7.pop()"
      ],
      "metadata": {
        "colab": {
          "base_uri": "https://localhost:8080/"
        },
        "id": "hW840HB4uIwq",
        "outputId": "3b43540f-f25c-44dd-f74a-f8f1a5793566"
      },
      "execution_count": 35,
      "outputs": [
        {
          "output_type": "execute_result",
          "data": {
            "text/plain": [
              "98"
            ]
          },
          "metadata": {},
          "execution_count": 35
        }
      ]
    },
    {
      "cell_type": "code",
      "source": [
        "s7.pop()"
      ],
      "metadata": {
        "colab": {
          "base_uri": "https://localhost:8080/"
        },
        "id": "8iPJ1HcruNvc",
        "outputId": "2046d656-f998-4562-d480-d81f020a1003"
      },
      "execution_count": 36,
      "outputs": [
        {
          "output_type": "execute_result",
          "data": {
            "text/plain": [
              "4"
            ]
          },
          "metadata": {},
          "execution_count": 36
        }
      ]
    },
    {
      "cell_type": "code",
      "source": [
        "s7.pop()"
      ],
      "metadata": {
        "colab": {
          "base_uri": "https://localhost:8080/"
        },
        "id": "twKkxugZuPTA",
        "outputId": "0037acb2-c5b3-4f3f-a72a-34ba9617f87a"
      },
      "execution_count": 37,
      "outputs": [
        {
          "output_type": "execute_result",
          "data": {
            "text/plain": [
              "5"
            ]
          },
          "metadata": {},
          "execution_count": 37
        }
      ]
    },
    {
      "cell_type": "code",
      "source": [
        "s7"
      ],
      "metadata": {
        "colab": {
          "base_uri": "https://localhost:8080/"
        },
        "id": "pYZTTWY0uQxn",
        "outputId": "3223bb77-47c7-4917-e4ab-fd9df97fadc4"
      },
      "execution_count": 38,
      "outputs": [
        {
          "output_type": "execute_result",
          "data": {
            "text/plain": [
              "{7, 12, 42, 45, 47}"
            ]
          },
          "metadata": {},
          "execution_count": 38
        }
      ]
    },
    {
      "cell_type": "code",
      "source": [
        "s7.clear()"
      ],
      "metadata": {
        "id": "DpnDVqH1uRuZ"
      },
      "execution_count": 39,
      "outputs": []
    },
    {
      "cell_type": "code",
      "source": [
        "s7"
      ],
      "metadata": {
        "colab": {
          "base_uri": "https://localhost:8080/"
        },
        "id": "Nqe6E0W4uTG_",
        "outputId": "1342c16c-be47-47e5-a37e-019c75768006"
      },
      "execution_count": 40,
      "outputs": [
        {
          "output_type": "execute_result",
          "data": {
            "text/plain": [
              "set()"
            ]
          },
          "metadata": {},
          "execution_count": 40
        }
      ]
    },
    {
      "cell_type": "code",
      "source": [
        "s8 = {1,2,7,5,3}\n",
        "s9 = {2,9,10,33}\n",
        "\n",
        "print(s8.difference(s9))\n",
        "print(s9.difference(s8))"
      ],
      "metadata": {
        "colab": {
          "base_uri": "https://localhost:8080/"
        },
        "id": "k1_z5SEfuURC",
        "outputId": "3b8ce168-28df-4097-a0fd-1eea34e08bbe"
      },
      "execution_count": 44,
      "outputs": [
        {
          "output_type": "stream",
          "name": "stdout",
          "text": [
            "{1, 3, 5, 7}\n",
            "{9, 10, 33}\n"
          ]
        }
      ]
    },
    {
      "cell_type": "code",
      "source": [
        "s10 = {5,6,7,8}\n",
        "s11 = {5,6,7,9}\n",
        "print(s10.difference(s11))\n",
        "print(s11.difference(s10))"
      ],
      "metadata": {
        "colab": {
          "base_uri": "https://localhost:8080/"
        },
        "id": "-WCv9MERuZ7q",
        "outputId": "befb00e1-0c4d-4dba-a75f-802d4f08b187"
      },
      "execution_count": 46,
      "outputs": [
        {
          "output_type": "stream",
          "name": "stdout",
          "text": [
            "{8}\n",
            "{9}\n"
          ]
        }
      ]
    }
  ]
}