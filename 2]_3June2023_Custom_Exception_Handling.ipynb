{
  "nbformat": 4,
  "nbformat_minor": 0,
  "metadata": {
    "colab": {
      "provenance": []
    },
    "kernelspec": {
      "name": "python3",
      "display_name": "Python 3"
    },
    "language_info": {
      "name": "python"
    }
  },
  "cells": [
    {
      "cell_type": "code",
      "source": [
        "age = int(input(\"Enter valid age: \"))"
      ],
      "metadata": {
        "colab": {
          "base_uri": "https://localhost:8080/"
        },
        "id": "wWBozoGlpMyA",
        "outputId": "d9f9f035-7111-4467-86c7-31b9798b3fd8"
      },
      "execution_count": 32,
      "outputs": [
        {
          "name": "stdout",
          "output_type": "stream",
          "text": [
            "Enter valid age: -112\n"
          ]
        }
      ]
    },
    {
      "cell_type": "markdown",
      "source": [
        "The above thing is impossile. Hence, we can raise an Exception"
      ],
      "metadata": {
        "id": "X9nvbwwfpUmI"
      }
    },
    {
      "cell_type": "code",
      "source": [
        "class validateage(Exception):    # validateage is inherited from class Exception\n",
        "  def __init__(self, msg):\n",
        "    self.msg = msg\n",
        "\n",
        "def validate_age(age):\n",
        "  if age < 0:\n",
        "    raise validateage(\"age should not be lesser than zero \")\n",
        "  elif age > 200:\n",
        "    raise validateage(\"age too high\")\n",
        "  else:\n",
        "    print(\"age is valid\")\n",
        "\n",
        "try:\n",
        "  age = int(input(\"Enter age \"))\n",
        "  validate_age(age)\n",
        "except validateage as e:\n",
        "  print(e)"
      ],
      "metadata": {
        "colab": {
          "base_uri": "https://localhost:8080/"
        },
        "id": "QL6-4_HOpQ7h",
        "outputId": "bfc5393e-6910-4675-b189-b9bb058c9c52"
      },
      "execution_count": 44,
      "outputs": [
        {
          "output_type": "stream",
          "name": "stdout",
          "text": [
            "Enter age 5000\n",
            "age too high\n"
          ]
        }
      ]
    },
    {
      "cell_type": "code",
      "source": [
        "# Also you can do like this\n",
        "\n",
        "def valid_age(age):\n",
        "  if age < 0:\n",
        "    raise Exception(\"age cannot be less than 0\")\n",
        "  elif age >200 :\n",
        "    raise Exception(\"age too high \")\n",
        "  else:\n",
        "    print(\"Valid age\")"
      ],
      "metadata": {
        "id": "4fF6gjNbqHsp"
      },
      "execution_count": 45,
      "outputs": []
    },
    {
      "cell_type": "code",
      "source": [
        "try:\n",
        "  age = int(input(\"Enter valid age: \"))\n",
        "  valid_age(age)\n",
        "except Exception as e:\n",
        "  print(e)"
      ],
      "metadata": {
        "colab": {
          "base_uri": "https://localhost:8080/"
        },
        "id": "s39AsTYpz9iv",
        "outputId": "3d41355a-dd78-4df2-f1ae-98a1d3adc79b"
      },
      "execution_count": 48,
      "outputs": [
        {
          "output_type": "stream",
          "name": "stdout",
          "text": [
            "Enter valid age: 34\n",
            "Valid age\n"
          ]
        }
      ]
    },
    {
      "cell_type": "code",
      "source": [
        "try:\n",
        "  age = int(input(\"Enter valid age: \"))\n",
        "  valid_age(age)\n",
        "except Exception as e:\n",
        "  print(e)"
      ],
      "metadata": {
        "colab": {
          "base_uri": "https://localhost:8080/"
        },
        "id": "gJVqPUt20A-L",
        "outputId": "3b34f669-ff5b-4230-edc0-cae53f783463"
      },
      "execution_count": 49,
      "outputs": [
        {
          "output_type": "stream",
          "name": "stdout",
          "text": [
            "Enter valid age: 2000\n",
            "age too high \n"
          ]
        }
      ]
    },
    {
      "cell_type": "code",
      "source": [
        "try:\n",
        "  age = int(input(\"Enter valid age: \"))\n",
        "  valid_age(age)\n",
        "except Exception as e:\n",
        "  print(e)"
      ],
      "metadata": {
        "colab": {
          "base_uri": "https://localhost:8080/"
        },
        "id": "0p8Wr_5d0O6T",
        "outputId": "5c628b3c-5bd0-42f3-a79d-d2beace64876"
      },
      "execution_count": 50,
      "outputs": [
        {
          "output_type": "stream",
          "name": "stdout",
          "text": [
            "Enter valid age: -23\n",
            "age cannot be less than 0\n"
          ]
        }
      ]
    },
    {
      "cell_type": "markdown",
      "source": [
        "This method is way easier"
      ],
      "metadata": {
        "id": "xdQnxg970TwI"
      }
    }
  ]
}