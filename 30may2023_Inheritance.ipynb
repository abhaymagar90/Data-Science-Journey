{
  "nbformat": 4,
  "nbformat_minor": 0,
  "metadata": {
    "colab": {
      "provenance": []
    },
    "kernelspec": {
      "name": "python3",
      "display_name": "Python 3"
    },
    "language_info": {
      "name": "python"
    }
  },
  "cells": [
    {
      "cell_type": "markdown",
      "source": [
        "What is inheritance in Python?\n",
        "Inheritance allows us to define a class that inherits all the methods and properties from another class. Parent class is the class being inherited from, also called base class. Child class is the class that inherits from another class, also called derived class."
      ],
      "metadata": {
        "id": "FEm7rPPeFexM"
      }
    },
    {
      "cell_type": "code",
      "source": [
        "# class parent:\n",
        "#   def show(self):\n",
        "#     return \"This is inside parent class\"\n",
        "\n",
        "# class child:\n",
        "#   pass\n",
        "\n",
        "# child_obj = child()\n",
        "# child_obj.show()                ----> error as child class has no method named show(). However, it can be INHERITED from parent class"
      ],
      "metadata": {
        "id": "zmuh_LqOHwvq"
      },
      "execution_count": 1,
      "outputs": []
    },
    {
      "cell_type": "code",
      "source": [
        "class parent:\n",
        "  def show(self):\n",
        "    return \"This is inside parent class\"\n",
        "\n",
        "class child(parent):\n",
        "  pass\n",
        "\n",
        "child_obj = child()\n",
        "child_obj.show()  "
      ],
      "metadata": {
        "colab": {
          "base_uri": "https://localhost:8080/",
          "height": 36
        },
        "id": "CXWaOROvIDw_",
        "outputId": "04314889-50b9-4577-dacd-a10c161f4ff7"
      },
      "execution_count": 2,
      "outputs": [
        {
          "output_type": "execute_result",
          "data": {
            "text/plain": [
              "'This is inside parent class'"
            ],
            "application/vnd.google.colaboratory.intrinsic+json": {
              "type": "string"
            }
          },
          "metadata": {},
          "execution_count": 2
        }
      ]
    },
    {
      "cell_type": "code",
      "source": [
        "# Multilevel inheritance\n",
        "\n",
        "class class1:\n",
        "  def test1(self):\n",
        "    print(\"This is class1\")\n",
        "\n",
        "class class2(class1):\n",
        "  def test2(self):\n",
        "    print(\"This is class2\")\n",
        "\n",
        "class class3(class2):\n",
        "  def test3(self):\n",
        "    print(\"This is class3\")\n",
        "\n",
        "c1 = class1()\n",
        "c1.test1()              # type c1. and press \"Shift + Tab\" to see accessible variables or methods for object c1\n",
        "\n",
        "print()\n",
        "\n",
        "c2 = class2()\n",
        "c2.test1()\n",
        "c2.test2()\n",
        "\n",
        "print()\n",
        "\n",
        "c3 = class3()\n",
        "c3.test1()\n",
        "c3.test2()\n",
        "c3.test3()"
      ],
      "metadata": {
        "id": "Ur6Yd2ZGITI5",
        "colab": {
          "base_uri": "https://localhost:8080/"
        },
        "outputId": "d1cee899-067a-44b1-c633-93290359c114"
      },
      "execution_count": 6,
      "outputs": [
        {
          "output_type": "stream",
          "name": "stdout",
          "text": [
            "This is class1\n",
            "\n",
            "This is class1\n",
            "This is class2\n",
            "\n",
            "This is class1\n",
            "This is class2\n",
            "This is class3\n"
          ]
        }
      ]
    },
    {
      "cell_type": "code",
      "source": [
        "# Multiple Inheritance \n",
        "\n",
        "class class1:\n",
        "  def test1(self):\n",
        "    print(\"This is class1\")\n",
        "class class2:\n",
        "  def test2(self):\n",
        "    print(\"This is class2\")\n",
        "\n",
        "class class3(class1, class2):\n",
        "  pass\n",
        "\n",
        "c3 = class3()\n",
        "c3.test1()\n",
        "c3.test2()"
      ],
      "metadata": {
        "colab": {
          "base_uri": "https://localhost:8080/"
        },
        "id": "4N1BibToG8E2",
        "outputId": "d1739069-476f-4688-c46c-12478964d3c8"
      },
      "execution_count": 8,
      "outputs": [
        {
          "output_type": "stream",
          "name": "stdout",
          "text": [
            "This is class1\n",
            "This is class2\n"
          ]
        }
      ]
    }
  ]
}