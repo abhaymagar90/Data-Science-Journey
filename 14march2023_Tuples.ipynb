{
  "nbformat": 4,
  "nbformat_minor": 0,
  "metadata": {
    "colab": {
      "provenance": []
    },
    "kernelspec": {
      "name": "python3",
      "display_name": "Python 3"
    },
    "language_info": {
      "name": "python"
    }
  },
  "cells": [
    {
      "cell_type": "markdown",
      "source": [
        "# TUPLE"
      ],
      "metadata": {
        "id": "6wD4fsRM3L0a"
      }
    },
    {
      "cell_type": "code",
      "source": [
        "t = ()\n",
        "type(t)"
      ],
      "metadata": {
        "colab": {
          "base_uri": "https://localhost:8080/"
        },
        "id": "NuvZP8lu3ONC",
        "outputId": "40b9f964-3564-4093-f929-340c54de9314"
      },
      "execution_count": 13,
      "outputs": [
        {
          "output_type": "execute_result",
          "data": {
            "text/plain": [
              "tuple"
            ]
          },
          "metadata": {},
          "execution_count": 13
        }
      ]
    },
    {
      "cell_type": "code",
      "source": [
        "t1 = (3,5,2,12, 34.56, 34+5j, \"abhay\", False)\n",
        "print(t1)\n",
        "type(t1)"
      ],
      "metadata": {
        "colab": {
          "base_uri": "https://localhost:8080/"
        },
        "id": "tj0hbUaA3Pi4",
        "outputId": "c085f9a5-7e69-48ff-d32a-f3b7bf38f323"
      },
      "execution_count": 14,
      "outputs": [
        {
          "output_type": "stream",
          "name": "stdout",
          "text": [
            "(3, 5, 2, 12, 34.56, (34+5j), 'abhay', False)\n"
          ]
        },
        {
          "output_type": "execute_result",
          "data": {
            "text/plain": [
              "tuple"
            ]
          },
          "metadata": {},
          "execution_count": 14
        }
      ]
    },
    {
      "cell_type": "code",
      "source": [
        "# access element of tuple\n",
        "\n",
        "print(t1[6])\n",
        "print(t1[4])"
      ],
      "metadata": {
        "colab": {
          "base_uri": "https://localhost:8080/"
        },
        "id": "0eVZuQXA3aUp",
        "outputId": "6fa1c38f-138b-4b30-92e8-baa410c2bb6c"
      },
      "execution_count": 15,
      "outputs": [
        {
          "output_type": "stream",
          "name": "stdout",
          "text": [
            "abhay\n",
            "34.56\n"
          ]
        }
      ]
    },
    {
      "cell_type": "code",
      "source": [
        "# find reverse of tuple\n",
        "\n",
        "print(t1[::-1])\n",
        "print(t1)                 # changes can't be saved inside"
      ],
      "metadata": {
        "colab": {
          "base_uri": "https://localhost:8080/"
        },
        "id": "CX9YnLyr3wBb",
        "outputId": "2164d321-e8d5-485a-d58f-f63ad356f329"
      },
      "execution_count": 16,
      "outputs": [
        {
          "output_type": "stream",
          "name": "stdout",
          "text": [
            "(False, 'abhay', (34+5j), 34.56, 12, 2, 5, 3)\n",
            "(3, 5, 2, 12, 34.56, (34+5j), 'abhay', False)\n"
          ]
        }
      ]
    },
    {
      "cell_type": "code",
      "source": [
        "t1 = t1[::-1]    # here, new variable is created\n",
        "print(t1)"
      ],
      "metadata": {
        "colab": {
          "base_uri": "https://localhost:8080/"
        },
        "id": "SStptg_z4DFJ",
        "outputId": "148bcf67-e5a0-4307-ce43-d3bd82e72557"
      },
      "execution_count": 17,
      "outputs": [
        {
          "output_type": "stream",
          "name": "stdout",
          "text": [
            "(False, 'abhay', (34+5j), 34.56, 12, 2, 5, 3)\n"
          ]
        }
      ]
    },
    {
      "cell_type": "code",
      "source": [
        "print(t1[0:3])"
      ],
      "metadata": {
        "colab": {
          "base_uri": "https://localhost:8080/"
        },
        "id": "ESvjOmEh4Qmj",
        "outputId": "d11fd6fd-2a0d-4fa3-e6aa-cbcd2b233c13"
      },
      "execution_count": 18,
      "outputs": [
        {
          "output_type": "stream",
          "name": "stdout",
          "text": [
            "(False, 'abhay', (34+5j))\n"
          ]
        }
      ]
    },
    {
      "cell_type": "code",
      "source": [
        "# t1.    shows all available functions or operations that are possible on tuple t1"
      ],
      "metadata": {
        "id": "0zCpnTkI5Dmk"
      },
      "execution_count": 21,
      "outputs": []
    },
    {
      "cell_type": "code",
      "source": [
        "t1.count(\"abc\")"
      ],
      "metadata": {
        "colab": {
          "base_uri": "https://localhost:8080/"
        },
        "id": "-IlfMU7Z5a6D",
        "outputId": "9273654e-9745-44e1-cf3e-40687e619792"
      },
      "execution_count": 22,
      "outputs": [
        {
          "output_type": "execute_result",
          "data": {
            "text/plain": [
              "0"
            ]
          },
          "metadata": {},
          "execution_count": 22
        }
      ]
    },
    {
      "cell_type": "code",
      "source": [
        "t1.count(2)"
      ],
      "metadata": {
        "colab": {
          "base_uri": "https://localhost:8080/"
        },
        "id": "BFj0x0IL66KM",
        "outputId": "e19981f2-bcac-4813-e2b0-d917d105a385"
      },
      "execution_count": 23,
      "outputs": [
        {
          "output_type": "execute_result",
          "data": {
            "text/plain": [
              "1"
            ]
          },
          "metadata": {},
          "execution_count": 23
        }
      ]
    },
    {
      "cell_type": "code",
      "source": [
        "t1.index(\"abhay\")"
      ],
      "metadata": {
        "colab": {
          "base_uri": "https://localhost:8080/"
        },
        "id": "89CpMRnl68ZO",
        "outputId": "26ed89f1-c404-4471-effd-7fd4449933b7"
      },
      "execution_count": 24,
      "outputs": [
        {
          "output_type": "execute_result",
          "data": {
            "text/plain": [
              "1"
            ]
          },
          "metadata": {},
          "execution_count": 24
        }
      ]
    },
    {
      "cell_type": "code",
      "source": [
        "t1.index(12, 3,11)"
      ],
      "metadata": {
        "colab": {
          "base_uri": "https://localhost:8080/"
        },
        "id": "Ih5Da8JR7C_i",
        "outputId": "cf5d3c32-bc25-4d5e-e430-34d2a8bb4002"
      },
      "execution_count": 29,
      "outputs": [
        {
          "output_type": "execute_result",
          "data": {
            "text/plain": [
              "4"
            ]
          },
          "metadata": {},
          "execution_count": 29
        }
      ]
    },
    {
      "cell_type": "code",
      "source": [
        "t1 = (3,5,2,12, 34.56, 34+5j, \"abhay\", False, True, 1)\n",
        "t1.count(True)          # returns 2 because element '1' is also considered  as True"
      ],
      "metadata": {
        "colab": {
          "base_uri": "https://localhost:8080/"
        },
        "id": "PKcbBXbA7RlV",
        "outputId": "bb6a24e9-5300-4c14-f804-1aebdecbf674"
      },
      "execution_count": 35,
      "outputs": [
        {
          "output_type": "execute_result",
          "data": {
            "text/plain": [
              "2"
            ]
          },
          "metadata": {},
          "execution_count": 35
        }
      ]
    },
    {
      "cell_type": "code",
      "source": [
        "# similarly\n",
        "t1.count(1)"
      ],
      "metadata": {
        "colab": {
          "base_uri": "https://localhost:8080/"
        },
        "id": "mWmocTZH7afW",
        "outputId": "10e074ad-e9cd-49c4-b4df-39b521b22b87"
      },
      "execution_count": 36,
      "outputs": [
        {
          "output_type": "execute_result",
          "data": {
            "text/plain": [
              "2"
            ]
          },
          "metadata": {},
          "execution_count": 36
        }
      ]
    },
    {
      "cell_type": "markdown",
      "source": [
        "### Tuple basically follows  Immutability concepts where it is not going to allow to change any element at a perticular index"
      ],
      "metadata": {
        "id": "4uEg_hpe76Sd"
      }
    },
    {
      "cell_type": "code",
      "source": [
        "# t1[0] = 345   ---> error as tulpe is immutable"
      ],
      "metadata": {
        "id": "ZyHIbmH_7xyu"
      },
      "execution_count": 39,
      "outputs": []
    },
    {
      "cell_type": "code",
      "source": [
        "lst = [1,2,3,4]\n",
        "print(lst)\n",
        "print(type(lst))\n",
        "print(lst[1])\n",
        "lst[1] = 344\n",
        "lst"
      ],
      "metadata": {
        "colab": {
          "base_uri": "https://localhost:8080/"
        },
        "id": "MqUpPZCg8B0-",
        "outputId": "86f78d5a-b24e-4409-83c1-aeed2ddc311d"
      },
      "execution_count": 43,
      "outputs": [
        {
          "output_type": "stream",
          "name": "stdout",
          "text": [
            "[1, 2, 3, 4]\n",
            "<class 'list'>\n",
            "2\n"
          ]
        },
        {
          "output_type": "execute_result",
          "data": {
            "text/plain": [
              "[1, 344, 3, 4]"
            ]
          },
          "metadata": {},
          "execution_count": 43
        }
      ]
    },
    {
      "cell_type": "code",
      "source": [
        "for i in t1:\n",
        "  print(i, type(i))"
      ],
      "metadata": {
        "colab": {
          "base_uri": "https://localhost:8080/"
        },
        "id": "qJ1rOcB58Tza",
        "outputId": "b87f85cb-1a13-424b-8dbd-638b1edc3316"
      },
      "execution_count": 46,
      "outputs": [
        {
          "output_type": "stream",
          "name": "stdout",
          "text": [
            "3 <class 'int'>\n",
            "5 <class 'int'>\n",
            "2 <class 'int'>\n",
            "12 <class 'int'>\n",
            "34.56 <class 'float'>\n",
            "(34+5j) <class 'complex'>\n",
            "abhay <class 'str'>\n",
            "False <class 'bool'>\n",
            "True <class 'bool'>\n",
            "1 <class 'int'>\n"
          ]
        }
      ]
    },
    {
      "cell_type": "code",
      "source": [
        "t2 = (3,2,1,6,7)\n",
        "print(min(t2))\n",
        "print(max(t2))\n",
        "t2*4"
      ],
      "metadata": {
        "colab": {
          "base_uri": "https://localhost:8080/"
        },
        "id": "Or6HHfl78hS0",
        "outputId": "c689890e-34ba-4c63-ab76-92cfb2c93bf6"
      },
      "execution_count": 56,
      "outputs": [
        {
          "output_type": "stream",
          "name": "stdout",
          "text": [
            "1\n",
            "7\n"
          ]
        },
        {
          "output_type": "execute_result",
          "data": {
            "text/plain": [
              "(3, 2, 1, 6, 7, 3, 2, 1, 6, 7, 3, 2, 1, 6, 7, 3, 2, 1, 6, 7)"
            ]
          },
          "metadata": {},
          "execution_count": 56
        }
      ]
    },
    {
      "cell_type": "code",
      "source": [
        "t1 = (1,2,3)\n",
        "t2 = (4,5,6)\n",
        "t3 = t1+t2"
      ],
      "metadata": {
        "id": "WeNoEzBp8oxv"
      },
      "execution_count": 57,
      "outputs": []
    },
    {
      "cell_type": "code",
      "source": [
        "t3"
      ],
      "metadata": {
        "colab": {
          "base_uri": "https://localhost:8080/"
        },
        "id": "vRiA3KyK8tYf",
        "outputId": "1f0afa4b-e862-4ad8-aa3b-22e8637756e6"
      },
      "execution_count": 58,
      "outputs": [
        {
          "output_type": "execute_result",
          "data": {
            "text/plain": [
              "(1, 2, 3, 4, 5, 6)"
            ]
          },
          "metadata": {},
          "execution_count": 58
        }
      ]
    },
    {
      "cell_type": "code",
      "source": [
        "t4 = (t1,t2)\n",
        "t4"
      ],
      "metadata": {
        "colab": {
          "base_uri": "https://localhost:8080/"
        },
        "id": "aEo6gwlQ8ugn",
        "outputId": "5141e59d-5921-4f50-862f-f78dbb5a2a48"
      },
      "execution_count": 59,
      "outputs": [
        {
          "output_type": "execute_result",
          "data": {
            "text/plain": [
              "((1, 2, 3), (4, 5, 6))"
            ]
          },
          "metadata": {},
          "execution_count": 59
        }
      ]
    },
    {
      "cell_type": "code",
      "source": [
        "t5 = (t1,lst)\n",
        "t5"
      ],
      "metadata": {
        "colab": {
          "base_uri": "https://localhost:8080/"
        },
        "id": "Wmq8Ej_N81KW",
        "outputId": "84fe26e9-6a77-4c6a-abe9-2b86fa8a15db"
      },
      "execution_count": 60,
      "outputs": [
        {
          "output_type": "execute_result",
          "data": {
            "text/plain": [
              "((1, 2, 3), [1, 344, 3, 4])"
            ]
          },
          "metadata": {},
          "execution_count": 60
        }
      ]
    },
    {
      "cell_type": "code",
      "source": [
        "del t5\n",
        "# t5 "
      ],
      "metadata": {
        "id": "PdTLIWps9AL9"
      },
      "execution_count": 61,
      "outputs": []
    },
    {
      "cell_type": "code",
      "source": [
        "t3"
      ],
      "metadata": {
        "colab": {
          "base_uri": "https://localhost:8080/"
        },
        "id": "VsNiWRdW9CEY",
        "outputId": "177f4d12-bff6-4a62-94ba-14e35e08a15e"
      },
      "execution_count": 68,
      "outputs": [
        {
          "output_type": "execute_result",
          "data": {
            "text/plain": [
              "(1, 2, 3, 4, 5, 6)"
            ]
          },
          "metadata": {},
          "execution_count": 68
        }
      ]
    },
    {
      "cell_type": "code",
      "source": [
        "len(t3)"
      ],
      "metadata": {
        "colab": {
          "base_uri": "https://localhost:8080/"
        },
        "id": "KGLW9uqM9RFk",
        "outputId": "7dab6cce-b0cd-4d8f-aa55-3641be8352e5"
      },
      "execution_count": 69,
      "outputs": [
        {
          "output_type": "execute_result",
          "data": {
            "text/plain": [
              "6"
            ]
          },
          "metadata": {},
          "execution_count": 69
        }
      ]
    },
    {
      "cell_type": "code",
      "source": [
        "True in t3    # as 1 is present"
      ],
      "metadata": {
        "colab": {
          "base_uri": "https://localhost:8080/"
        },
        "id": "9JSC4Zbm9U26",
        "outputId": "bd90e24a-5f86-4393-cb74-cc24fc3eb200"
      },
      "execution_count": 70,
      "outputs": [
        {
          "output_type": "execute_result",
          "data": {
            "text/plain": [
              "True"
            ]
          },
          "metadata": {},
          "execution_count": 70
        }
      ]
    },
    {
      "cell_type": "code",
      "source": [
        "False in t3"
      ],
      "metadata": {
        "colab": {
          "base_uri": "https://localhost:8080/"
        },
        "id": "c70P-K4V9cmL",
        "outputId": "3efe475c-9fe6-42cc-963e-19dcef4f4aa3"
      },
      "execution_count": 71,
      "outputs": [
        {
          "output_type": "execute_result",
          "data": {
            "text/plain": [
              "False"
            ]
          },
          "metadata": {},
          "execution_count": 71
        }
      ]
    },
    {
      "cell_type": "code",
      "source": [
        "4 in t3"
      ],
      "metadata": {
        "colab": {
          "base_uri": "https://localhost:8080/"
        },
        "id": "9gELQ0_J9g2W",
        "outputId": "89560222-b11d-4284-896b-6f1cdad51196"
      },
      "execution_count": 72,
      "outputs": [
        {
          "output_type": "execute_result",
          "data": {
            "text/plain": [
              "True"
            ]
          },
          "metadata": {},
          "execution_count": 72
        }
      ]
    }
  ]
}