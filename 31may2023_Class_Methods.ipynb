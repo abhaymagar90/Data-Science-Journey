{
  "nbformat": 4,
  "nbformat_minor": 0,
  "metadata": {
    "colab": {
      "provenance": []
    },
    "kernelspec": {
      "name": "python3",
      "display_name": "Python 3"
    },
    "language_info": {
      "name": "python"
    }
  },
  "cells": [
    {
      "cell_type": "markdown",
      "source": [
        "Class methods can be used in similar way to the __init__ method and  to pass data to a class and access it. \n",
        "\n",
        "Two ways to convert method in a class method:\n",
        "\n",
        "\n",
        "* @classmethod is used to convert a method into classmethod. It is a decorator for classmethod definition.\n",
        "\n",
        "* classmethod(function) -> classmethod() is an inbuilt function in Python, which returns a class method for a given function\n",
        "\n",
        "classmethod() methods are bound to a class rather than an object. Class methods can be called by both class and object."
      ],
      "metadata": {
        "id": "sbprXJkR3b1p"
      }
    },
    {
      "cell_type": "code",
      "source": [
        "class test:\n",
        "  def __init__(self, name, email):\n",
        "    self.name = name\n",
        "    self.email = email\n",
        "  def show(self):\n",
        "    print(self.name, self.email)\n",
        "\n",
        "c = test(\"Abhay\", \"abhay@gmail.com\")\n",
        "c.show()\n"
      ],
      "metadata": {
        "colab": {
          "base_uri": "https://localhost:8080/"
        },
        "id": "Iu-TPGUm4OpJ",
        "outputId": "a0092275-9096-4b1d-c9ed-333ec27651fe"
      },
      "execution_count": 23,
      "outputs": [
        {
          "output_type": "stream",
          "name": "stdout",
          "text": [
            "Abhay abhay@gmail.com\n"
          ]
        }
      ]
    },
    {
      "cell_type": "code",
      "source": [
        "# Using classmethod\n",
        "\n",
        "class test:\n",
        "  def __init__(self, name, email):\n",
        "    self.name = name\n",
        "    self.email = email\n",
        "\n",
        "  @classmethod\n",
        "  def details(cls, name, email):\n",
        "    return cls(name, email )\n",
        "\n",
        "\n",
        "  def show(self):\n",
        "    print(self.name, self.email)"
      ],
      "metadata": {
        "id": "BAlwLfQv5StI"
      },
      "execution_count": 24,
      "outputs": []
    },
    {
      "cell_type": "code",
      "source": [
        "test.details(\"magar\", \"magar@gmail.com\")"
      ],
      "metadata": {
        "colab": {
          "base_uri": "https://localhost:8080/"
        },
        "id": "letMSP_o5lYU",
        "outputId": "cb3c5552-848c-4639-ead8-817a728e3375"
      },
      "execution_count": 25,
      "outputs": [
        {
          "output_type": "execute_result",
          "data": {
            "text/plain": [
              "<__main__.test at 0x7ff7e219ac20>"
            ]
          },
          "metadata": {},
          "execution_count": 25
        }
      ]
    },
    {
      "cell_type": "code",
      "source": [
        "t = test.details(\"magar\", \"magar@gmail.com\")\n",
        "t.name"
      ],
      "metadata": {
        "colab": {
          "base_uri": "https://localhost:8080/",
          "height": 36
        },
        "id": "ipCXGxDm5ueH",
        "outputId": "7101a64f-44fb-4471-a32a-31fe4b2f0c19"
      },
      "execution_count": 21,
      "outputs": [
        {
          "output_type": "execute_result",
          "data": {
            "text/plain": [
              "'magar'"
            ],
            "application/vnd.google.colaboratory.intrinsic+json": {
              "type": "string"
            }
          },
          "metadata": {},
          "execution_count": 21
        }
      ]
    },
    {
      "cell_type": "code",
      "source": [
        "t.email"
      ],
      "metadata": {
        "colab": {
          "base_uri": "https://localhost:8080/",
          "height": 36
        },
        "id": "TmYcoYrf6FVH",
        "outputId": "85663b1b-3d20-4338-e388-17bd829dc3a6"
      },
      "execution_count": 22,
      "outputs": [
        {
          "output_type": "execute_result",
          "data": {
            "text/plain": [
              "'magar@gmail.com'"
            ],
            "application/vnd.google.colaboratory.intrinsic+json": {
              "type": "string"
            }
          },
          "metadata": {},
          "execution_count": 22
        }
      ]
    },
    {
      "cell_type": "code",
      "source": [
        "c = test(\"Abhay\", \"abhay@gmail.com\")\n",
        "c.show()"
      ],
      "metadata": {
        "colab": {
          "base_uri": "https://localhost:8080/"
        },
        "id": "EG0mkH9f6MKg",
        "outputId": "c1436bb3-f200-4224-87a9-f413ae74f0e8"
      },
      "execution_count": 26,
      "outputs": [
        {
          "output_type": "stream",
          "name": "stdout",
          "text": [
            "Abhay abhay@gmail.com\n"
          ]
        }
      ]
    },
    {
      "cell_type": "code",
      "source": [
        "new_t = c.details(\"AISNC\", \"GMAILLL\")"
      ],
      "metadata": {
        "id": "88niiYq-6jap"
      },
      "execution_count": 29,
      "outputs": []
    },
    {
      "cell_type": "code",
      "source": [
        "new_t.name"
      ],
      "metadata": {
        "colab": {
          "base_uri": "https://localhost:8080/",
          "height": 36
        },
        "id": "NRx4Y3pq6lml",
        "outputId": "9dc9c096-4ac8-401c-bb25-535ffe7c89b8"
      },
      "execution_count": 31,
      "outputs": [
        {
          "output_type": "execute_result",
          "data": {
            "text/plain": [
              "'AISNC'"
            ],
            "application/vnd.google.colaboratory.intrinsic+json": {
              "type": "string"
            }
          },
          "metadata": {},
          "execution_count": 31
        }
      ]
    },
    {
      "cell_type": "code",
      "source": [
        "new_t.email"
      ],
      "metadata": {
        "colab": {
          "base_uri": "https://localhost:8080/",
          "height": 36
        },
        "id": "0k8wnrzh6ru2",
        "outputId": "b9fd06c8-9a69-4ceb-ee14-0826309dce68"
      },
      "execution_count": 32,
      "outputs": [
        {
          "output_type": "execute_result",
          "data": {
            "text/plain": [
              "'GMAILLL'"
            ],
            "application/vnd.google.colaboratory.intrinsic+json": {
              "type": "string"
            }
          },
          "metadata": {},
          "execution_count": 32
        }
      ]
    },
    {
      "cell_type": "markdown",
      "source": [
        "NOTE : A classmethod takes cls as argument and not self. cls is used to refer to class\n",
        "\n",
        "Hence we can access the methods of a class in two ways:\n",
        "\n",
        "* By making object/instance of the class\n",
        "* By using a classmethod"
      ],
      "metadata": {
        "id": "3j78frKY7PzO"
      }
    },
    {
      "cell_type": "code",
      "source": [
        "type(c)"
      ],
      "metadata": {
        "colab": {
          "base_uri": "https://localhost:8080/"
        },
        "id": "csO2Kd2B6v7T",
        "outputId": "c0cc5eab-8b6b-4932-c6d6-0b21c3463421"
      },
      "execution_count": 97,
      "outputs": [
        {
          "output_type": "execute_result",
          "data": {
            "text/plain": [
              "int"
            ]
          },
          "metadata": {},
          "execution_count": 97
        }
      ]
    },
    {
      "cell_type": "code",
      "source": [
        "type(t)"
      ],
      "metadata": {
        "colab": {
          "base_uri": "https://localhost:8080/"
        },
        "id": "Y81raplf8TFk",
        "outputId": "0b8b0a74-1c5a-4fd2-ba9f-cf8970156a76"
      },
      "execution_count": 98,
      "outputs": [
        {
          "output_type": "execute_result",
          "data": {
            "text/plain": [
              "NoneType"
            ]
          },
          "metadata": {},
          "execution_count": 98
        }
      ]
    },
    {
      "cell_type": "code",
      "source": [
        "# How to access a class variable?\n",
        "\n",
        "class test:\n",
        "\n",
        "  classvar = 36271\n",
        "\n",
        "\n",
        "  def __init__(self, name, email):\n",
        "    self.name = name\n",
        "    self.email = email\n",
        "\n",
        "  @classmethod\n",
        "  def details(cls, name, email):\n",
        "    return cls(name, email )\n",
        "\n",
        "\n",
        "  def show(self):\n",
        "    print(self.name, self.email)"
      ],
      "metadata": {
        "id": "Mb25QqRt8WfX"
      },
      "execution_count": 99,
      "outputs": []
    },
    {
      "cell_type": "code",
      "source": [
        "# Accessing class variavle  -> classname.varname\n",
        "\n",
        "test.classvar"
      ],
      "metadata": {
        "colab": {
          "base_uri": "https://localhost:8080/"
        },
        "id": "RJ9LCUYI8s5_",
        "outputId": "f8c7a808-7cec-4948-e9f7-5e33e389c32a"
      },
      "execution_count": 100,
      "outputs": [
        {
          "output_type": "execute_result",
          "data": {
            "text/plain": [
              "36271"
            ]
          },
          "metadata": {},
          "execution_count": 100
        }
      ]
    },
    {
      "cell_type": "code",
      "source": [
        "# Accessing classvar in show() method will be in same way\n",
        "\n",
        "class test:\n",
        "\n",
        "  classvar = 36271\n",
        "\n",
        "\n",
        "  def __init__(self, name, email):\n",
        "    self.name = name\n",
        "    self.email = email\n",
        "\n",
        "  @classmethod\n",
        "  def details(cls, name, email):\n",
        "    return cls(name, email )                # cls used as name,email are related to class\n",
        "\n",
        "\n",
        "  def show(self):\n",
        "    print(self.name, self.email, test.classvar  )"
      ],
      "metadata": {
        "id": "UqdSVq9W8x7W"
      },
      "execution_count": 121,
      "outputs": []
    },
    {
      "cell_type": "code",
      "source": [
        "# Using instance/obj of class (way 1)\n",
        "\n",
        "cls_obj = test(\"ABhay\", \"abhay@gmail\")\n",
        "cls_obj.show()"
      ],
      "metadata": {
        "colab": {
          "base_uri": "https://localhost:8080/"
        },
        "id": "vcKS-AZa89Po",
        "outputId": "ad7ae300-7530-4749-cd74-b9e10fac02f3"
      },
      "execution_count": 122,
      "outputs": [
        {
          "output_type": "stream",
          "name": "stdout",
          "text": [
            "ABhay abhay@gmail 36271\n"
          ]
        }
      ]
    },
    {
      "cell_type": "code",
      "source": [
        "# Using class method  (way 2)\n",
        "\n",
        "cls_mthd = test.details(\"MAGAR\", \"EMAIL@\")\n",
        "cls_mthd.show()"
      ],
      "metadata": {
        "colab": {
          "base_uri": "https://localhost:8080/"
        },
        "id": "NUmYUiPz9LQy",
        "outputId": "59d1774e-9131-43e0-ec62-bd855176f256"
      },
      "execution_count": 123,
      "outputs": [
        {
          "output_type": "stream",
          "name": "stdout",
          "text": [
            "MAGAR EMAIL@ 36271\n"
          ]
        }
      ]
    },
    {
      "cell_type": "markdown",
      "source": [
        "NOTE : An object can access a class method but the value of the parameters won't change. The object will always hold the value given to it during its creation.  LOOK BELOW EXAMPLE"
      ],
      "metadata": {
        "id": "3BSvdrqJ-OsU"
      }
    },
    {
      "cell_type": "code",
      "source": [
        "new_obj = test(\"OLDNAME\", \"OLD EMAIL\")\n",
        "new_obj.show()"
      ],
      "metadata": {
        "colab": {
          "base_uri": "https://localhost:8080/"
        },
        "id": "JRsXBE5V9elj",
        "outputId": "0e648cdc-0534-4d83-f63e-c2acad20ec92"
      },
      "execution_count": 124,
      "outputs": [
        {
          "output_type": "stream",
          "name": "stdout",
          "text": [
            "OLDNAME OLD EMAIL 36271\n"
          ]
        }
      ]
    },
    {
      "cell_type": "code",
      "source": [
        "# Accessing details() using this object\n",
        "\n",
        "# new_obj.details()  -> error: test.details() missing 2 required positional arguments: 'name' and 'email'\n",
        "\n",
        "new_obj.details(\"NEWNAME\", \"NEW EMAIL\")\n",
        "new_obj.show()"
      ],
      "metadata": {
        "colab": {
          "base_uri": "https://localhost:8080/"
        },
        "id": "bH3vDXLP-lrP",
        "outputId": "67a6bc4b-310f-42c7-d21b-16805fca2b7c"
      },
      "execution_count": 125,
      "outputs": [
        {
          "output_type": "stream",
          "name": "stdout",
          "text": [
            "OLDNAME OLD EMAIL 36271\n"
          ]
        }
      ]
    },
    {
      "cell_type": "markdown",
      "source": [
        "AS YOU CAN SEE ABOVE THAT THE VALUE OF THE OBJECT .I.E \"OLDNAME AND OLDEMAIL\" DIDN'T CHANGE TO \"NEWNAME AND NEWEMAIL\""
      ],
      "metadata": {
        "id": "k-1YFyLm-3QM"
      }
    },
    {
      "cell_type": "code",
      "source": [
        "# Changing value of class variable within a class method\n",
        "\n",
        "class test:\n",
        "\n",
        "  classvar = 36271\n",
        "\n",
        "\n",
        "  def __init__(self, name, email):\n",
        "    self.name = name\n",
        "    self.email = email\n",
        "\n",
        "  @classmethod\n",
        "  def details(cls, name, email):\n",
        "    return cls(name, email )\n",
        "\n",
        "\n",
        "  def show(self):\n",
        "    print(self.name, self.email, test.classvar  )\n",
        "\n",
        "# classmethod to change classvar\n",
        "\n",
        "  @classmethod\n",
        "  def changenum(cls, number):\n",
        "    test.classvar = number                   \n"
      ],
      "metadata": {
        "id": "l910qS96-uGy"
      },
      "execution_count": 126,
      "outputs": []
    },
    {
      "cell_type": "code",
      "source": [
        "test.classvar"
      ],
      "metadata": {
        "colab": {
          "base_uri": "https://localhost:8080/"
        },
        "id": "R2zh0ik1_zvD",
        "outputId": "c8573abb-e586-4099-e4be-87289e79fa3c"
      },
      "execution_count": 127,
      "outputs": [
        {
          "output_type": "execute_result",
          "data": {
            "text/plain": [
              "36271"
            ]
          },
          "metadata": {},
          "execution_count": 127
        }
      ]
    },
    {
      "cell_type": "code",
      "source": [
        "t = test.changenum(5647)\n",
        "test.classvar"
      ],
      "metadata": {
        "colab": {
          "base_uri": "https://localhost:8080/"
        },
        "id": "pXlt0-5bAPfv",
        "outputId": "86e5976b-3534-4b78-e7cf-86ae3ec204c7"
      },
      "execution_count": 128,
      "outputs": [
        {
          "output_type": "execute_result",
          "data": {
            "text/plain": [
              "5647"
            ]
          },
          "metadata": {},
          "execution_count": 128
        }
      ]
    },
    {
      "cell_type": "code",
      "source": [
        "obj = test(\"abhay\", \"email\")\n",
        "obj.show()"
      ],
      "metadata": {
        "colab": {
          "base_uri": "https://localhost:8080/"
        },
        "id": "KL29Zdu4A8rV",
        "outputId": "685bcd4e-5e15-4928-d3e7-91bb5318ebc3"
      },
      "execution_count": 129,
      "outputs": [
        {
          "output_type": "stream",
          "name": "stdout",
          "text": [
            "abhay email 5647\n"
          ]
        }
      ]
    },
    {
      "cell_type": "code",
      "source": [
        "obj.changenum(9999)\n",
        "test.classvar"
      ],
      "metadata": {
        "colab": {
          "base_uri": "https://localhost:8080/"
        },
        "id": "u5lMlPTvA9so",
        "outputId": "e2ef2116-6f91-431e-a2c2-9d079c998b6e"
      },
      "execution_count": 130,
      "outputs": [
        {
          "output_type": "execute_result",
          "data": {
            "text/plain": [
              "9999"
            ]
          },
          "metadata": {},
          "execution_count": 130
        }
      ]
    },
    {
      "cell_type": "code",
      "source": [
        "# ADdding an external function to our class\n",
        "\n",
        "def course_details(name):\n",
        "  print(\"Course name : \", name)              # no cls required as print() doesn't contain anything related to class.\n",
        "\n",
        "test.course_details = classmethod(course_details)"
      ],
      "metadata": {
        "id": "NkcxYKQhBW5B"
      },
      "execution_count": 136,
      "outputs": []
    },
    {
      "cell_type": "code",
      "source": [
        "# now course_details() is added to our class. To prove, type test. and press \"Shift+Tab\"\n",
        "\n",
        "test.course_details(\"datascience\")"
      ],
      "metadata": {
        "colab": {
          "base_uri": "https://localhost:8080/",
          "height": 207
        },
        "id": "W-LLaMevEPWu",
        "outputId": "0070fad6-c984-425e-c7c7-c1b446131871"
      },
      "execution_count": 137,
      "outputs": [
        {
          "output_type": "error",
          "ename": "TypeError",
          "evalue": "ignored",
          "traceback": [
            "\u001b[0;31m---------------------------------------------------------------------------\u001b[0m",
            "\u001b[0;31mTypeError\u001b[0m                                 Traceback (most recent call last)",
            "\u001b[0;32m<ipython-input-137-6f4501c9c7dc>\u001b[0m in \u001b[0;36m<cell line: 3>\u001b[0;34m()\u001b[0m\n\u001b[1;32m      1\u001b[0m \u001b[0;31m# now course_details() is added to our class. To prove, type test. and press \"Shift+Tab\"\u001b[0m\u001b[0;34m\u001b[0m\u001b[0;34m\u001b[0m\u001b[0m\n\u001b[1;32m      2\u001b[0m \u001b[0;34m\u001b[0m\u001b[0m\n\u001b[0;32m----> 3\u001b[0;31m \u001b[0mtest\u001b[0m\u001b[0;34m.\u001b[0m\u001b[0mcourse_details\u001b[0m\u001b[0;34m(\u001b[0m\u001b[0;34m\"datascience\"\u001b[0m\u001b[0;34m)\u001b[0m\u001b[0;34m\u001b[0m\u001b[0;34m\u001b[0m\u001b[0m\n\u001b[0m",
            "\u001b[0;31mTypeError\u001b[0m: course_details() takes 1 positional argument but 2 were given"
          ]
        }
      ]
    },
    {
      "cell_type": "markdown",
      "source": [
        "We get error in the above cell. Reason is that, we didnt give cls as an argument to course_details(). \n",
        "\n",
        "When we have a method for a class, it should have 'self' argument.\n",
        "\n",
        "In same way, a class method must have 'cls' arg which is used to refer to class"
      ],
      "metadata": {
        "id": "sgIbp7SdE0Ta"
      }
    },
    {
      "cell_type": "code",
      "source": [
        "# ADdding an external function to our class\n",
        "\n",
        "def course_details(cls, name):\n",
        "  print(\"Course name : \", name)              # no cls required as print() doesn't contain anything related to class.\n",
        "\n",
        "test.course_details = classmethod(course_details)"
      ],
      "metadata": {
        "id": "057xwvgnEpp-"
      },
      "execution_count": 138,
      "outputs": []
    },
    {
      "cell_type": "code",
      "source": [
        "# now course_details() is added to our class. To prove, type test. and press \"Shift+Tab\"\n",
        "\n",
        "test.course_details(\"datascience\")"
      ],
      "metadata": {
        "colab": {
          "base_uri": "https://localhost:8080/"
        },
        "id": "bba2JAX8Fel0",
        "outputId": "931fb4d3-549f-4ca2-8a69-44c0b8904102"
      },
      "execution_count": 139,
      "outputs": [
        {
          "output_type": "stream",
          "name": "stdout",
          "text": [
            "Course name :  datascience\n"
          ]
        }
      ]
    },
    {
      "cell_type": "code",
      "source": [
        "# Checking if object of class can access course_details\n",
        "\n",
        "objx = test(\"ABHAYMAGAR\", \"THISISEMAIL\")\n",
        "objx.course_details(\"WEB DEVELOPMENT\")"
      ],
      "metadata": {
        "colab": {
          "base_uri": "https://localhost:8080/"
        },
        "id": "Nb6efBeHFe23",
        "outputId": "3c4cab52-e010-420c-d076-448eb42eaf99"
      },
      "execution_count": 141,
      "outputs": [
        {
          "output_type": "stream",
          "name": "stdout",
          "text": [
            "Course name :  WEB DEVELOPMENT\n"
          ]
        }
      ]
    },
    {
      "cell_type": "code",
      "source": [
        "# Accessing direclty through class\n",
        "\n",
        "test.course_details(\"C++\")"
      ],
      "metadata": {
        "colab": {
          "base_uri": "https://localhost:8080/"
        },
        "id": "6kQr2K4UFuAX",
        "outputId": "4c47c06a-506b-4420-8f3d-ab4ee7cbada0"
      },
      "execution_count": 142,
      "outputs": [
        {
          "output_type": "stream",
          "name": "stdout",
          "text": [
            "Course name :  C++\n"
          ]
        }
      ]
    },
    {
      "cell_type": "markdown",
      "source": [
        "Hecne using @classmethod, we can specify a class method within a class\n",
        "\n",
        "and using classmethod() we can add class methods to a class. \n",
        "\n",
        "classmethod() can also be used  to convert a normal method of the class into a class method"
      ],
      "metadata": {
        "id": "OLlcZNTAF_1o"
      }
    },
    {
      "cell_type": "code",
      "source": [
        "\n",
        "\n",
        "class Student:\n",
        "\n",
        "\n",
        "\tname = \"Geeksforgeeks\"\n",
        "\n",
        "\n",
        "\tdef print_name(obj):\n",
        "\t\tprint(\"The name is : \", obj.name)\n",
        "\n",
        "\n",
        "Student.print_name = classmethod(Student.print_name)\n",
        "\n",
        "Student.print_name()\n"
      ],
      "metadata": {
        "colab": {
          "base_uri": "https://localhost:8080/"
        },
        "id": "Hu0fyIDLF2QL",
        "outputId": "21a7446c-2dfa-47f0-824a-72f5436c5f5e"
      },
      "execution_count": 143,
      "outputs": [
        {
          "output_type": "stream",
          "name": "stdout",
          "text": [
            "The name is :  Geeksforgeeks\n"
          ]
        }
      ]
    },
    {
      "cell_type": "markdown",
      "source": [
        "# Deleting attribute or methods from a class."
      ],
      "metadata": {
        "id": "bsHY_NlKHGKR"
      }
    },
    {
      "cell_type": "code",
      "source": [
        "# Type test. and press \"Shift+Tab\" to see available variables/attributes and functions/methods of class test\n",
        "\n",
        "test.classvar"
      ],
      "metadata": {
        "colab": {
          "base_uri": "https://localhost:8080/"
        },
        "id": "vZS8v_yGHLVJ",
        "outputId": "43eb79b6-5e49-42cb-d26f-eccb4882e2f0"
      },
      "execution_count": 144,
      "outputs": [
        {
          "output_type": "execute_result",
          "data": {
            "text/plain": [
              "9999"
            ]
          },
          "metadata": {},
          "execution_count": 144
        }
      ]
    },
    {
      "cell_type": "code",
      "source": [
        "# we can also delete them\n",
        "\n",
        "del test.changenum\n",
        "del test.classvar"
      ],
      "metadata": {
        "id": "X5jXobGxHY1G"
      },
      "execution_count": 145,
      "outputs": []
    },
    {
      "cell_type": "code",
      "source": [
        "# Now again Type test. and press \"Shift+Tab\" to see available variables/attributes and functions/methods of class test. \n",
        "\n",
        "# You won't see changenum() and classvar AS THE WERE DELETED. ACCESSING THEM WILL GIVE ERROR\n",
        "\n",
        "test.classvar"
      ],
      "metadata": {
        "colab": {
          "base_uri": "https://localhost:8080/",
          "height": 207
        },
        "id": "pP6IYcTrHjCc",
        "outputId": "a0abfc6b-9e11-414a-e688-f2caf3923509"
      },
      "execution_count": 146,
      "outputs": [
        {
          "output_type": "error",
          "ename": "AttributeError",
          "evalue": "ignored",
          "traceback": [
            "\u001b[0;31m---------------------------------------------------------------------------\u001b[0m",
            "\u001b[0;31mAttributeError\u001b[0m                            Traceback (most recent call last)",
            "\u001b[0;32m<ipython-input-146-376d062908b7>\u001b[0m in \u001b[0;36m<cell line: 5>\u001b[0;34m()\u001b[0m\n\u001b[1;32m      3\u001b[0m \u001b[0;31m# You won't see changenum() and classvar AS THE WERE DELETED. ACCESSING THEM WILL GIVE ERROR\u001b[0m\u001b[0;34m\u001b[0m\u001b[0;34m\u001b[0m\u001b[0m\n\u001b[1;32m      4\u001b[0m \u001b[0;34m\u001b[0m\u001b[0m\n\u001b[0;32m----> 5\u001b[0;31m \u001b[0mtest\u001b[0m\u001b[0;34m.\u001b[0m\u001b[0mclassvar\u001b[0m\u001b[0;34m\u001b[0m\u001b[0;34m\u001b[0m\u001b[0m\n\u001b[0m",
            "\u001b[0;31mAttributeError\u001b[0m: type object 'test' has no attribute 'classvar'"
          ]
        }
      ]
    },
    {
      "cell_type": "code",
      "source": [
        "# Another way    -> delattr(classname, \" function/attribute \")\n",
        "\n",
        "delattr(test,\"show\")"
      ],
      "metadata": {
        "id": "lL-5OZIzHtzr"
      },
      "execution_count": 147,
      "outputs": []
    },
    {
      "cell_type": "code",
      "source": [
        "test.show()"
      ],
      "metadata": {
        "colab": {
          "base_uri": "https://localhost:8080/",
          "height": 171
        },
        "id": "WduflveCIB6m",
        "outputId": "da660fe3-1491-4ecb-e20b-8f9710cf2895"
      },
      "execution_count": 148,
      "outputs": [
        {
          "output_type": "error",
          "ename": "AttributeError",
          "evalue": "ignored",
          "traceback": [
            "\u001b[0;31m---------------------------------------------------------------------------\u001b[0m",
            "\u001b[0;31mAttributeError\u001b[0m                            Traceback (most recent call last)",
            "\u001b[0;32m<ipython-input-148-892cec191f70>\u001b[0m in \u001b[0;36m<cell line: 1>\u001b[0;34m()\u001b[0m\n\u001b[0;32m----> 1\u001b[0;31m \u001b[0mtest\u001b[0m\u001b[0;34m.\u001b[0m\u001b[0mshow\u001b[0m\u001b[0;34m(\u001b[0m\u001b[0;34m)\u001b[0m\u001b[0;34m\u001b[0m\u001b[0;34m\u001b[0m\u001b[0m\n\u001b[0m",
            "\u001b[0;31mAttributeError\u001b[0m: type object 'test' has no attribute 'show'"
          ]
        }
      ]
    },
    {
      "cell_type": "code",
      "source": [
        "class test:\n",
        "  def __init__(self, name, email):\n",
        "    self.name = name\n",
        "    self.email = email\n",
        "\n",
        "  classvar = 36271\n",
        "\n",
        "  @classmethod\n",
        "  def details(cls, name, email):\n",
        "    print(name, email)\n",
        "    return cls(name, email )\n",
        "      "
      ],
      "metadata": {
        "id": "kjMmpD1NIGDW"
      },
      "execution_count": 162,
      "outputs": []
    },
    {
      "cell_type": "code",
      "source": [
        "test.details(\"vaibhav\", \"vaibhav@gmail\")"
      ],
      "metadata": {
        "colab": {
          "base_uri": "https://localhost:8080/"
        },
        "id": "QUZNfQ0TIiBZ",
        "outputId": "4f91222b-3e5d-47b1-f2d8-cbd18f1ad8f0"
      },
      "execution_count": 163,
      "outputs": [
        {
          "output_type": "stream",
          "name": "stdout",
          "text": [
            "vaibhav vaibhav@gmail\n"
          ]
        },
        {
          "output_type": "execute_result",
          "data": {
            "text/plain": [
              "<__main__.test at 0x7ff7b09189a0>"
            ]
          },
          "metadata": {},
          "execution_count": 163
        }
      ]
    },
    {
      "cell_type": "code",
      "source": [
        "t.name\n"
      ],
      "metadata": {
        "colab": {
          "base_uri": "https://localhost:8080/",
          "height": 36
        },
        "id": "SISIVslAIncg",
        "outputId": "49fca8c7-5c4f-4e35-85f2-ba5f61779e09"
      },
      "execution_count": 165,
      "outputs": [
        {
          "output_type": "execute_result",
          "data": {
            "text/plain": [
              "'vaibhav'"
            ],
            "application/vnd.google.colaboratory.intrinsic+json": {
              "type": "string"
            }
          },
          "metadata": {},
          "execution_count": 165
        }
      ]
    }
  ]
}