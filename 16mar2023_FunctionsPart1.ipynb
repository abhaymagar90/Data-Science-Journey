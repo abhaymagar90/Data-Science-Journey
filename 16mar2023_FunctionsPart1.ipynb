{
  "nbformat": 4,
  "nbformat_minor": 0,
  "metadata": {
    "colab": {
      "provenance": []
    },
    "kernelspec": {
      "name": "python3",
      "display_name": "Python 3"
    },
    "language_info": {
      "name": "python"
    }
  },
  "cells": [
    {
      "cell_type": "markdown",
      "source": [
        "# Functions Part 1"
      ],
      "metadata": {
        "id": "fv17xVrC5pQ5"
      }
    },
    {
      "cell_type": "code",
      "source": [
        "print(\"Hello There\")    # print() function"
      ],
      "metadata": {
        "colab": {
          "base_uri": "https://localhost:8080/"
        },
        "id": "gKMsY2wW5rzj",
        "outputId": "fb3a5c1e-38ca-44fc-f6eb-7ed44840b701"
      },
      "execution_count": 1,
      "outputs": [
        {
          "output_type": "stream",
          "name": "stdout",
          "text": [
            "Hello There\n"
          ]
        }
      ]
    },
    {
      "cell_type": "code",
      "source": [
        "l = [1,2,3,4]\n",
        "len(l)                      # len() function"
      ],
      "metadata": {
        "colab": {
          "base_uri": "https://localhost:8080/"
        },
        "id": "o9cbo9585xu8",
        "outputId": "26315d87-e6b2-43d9-c56b-f83cf45ec37d"
      },
      "execution_count": 2,
      "outputs": [
        {
          "output_type": "execute_result",
          "data": {
            "text/plain": [
              "4"
            ]
          },
          "metadata": {},
          "execution_count": 2
        }
      ]
    },
    {
      "cell_type": "code",
      "source": [
        "def test():\n",
        "  pass                        # ignore\n"
      ],
      "metadata": {
        "id": "jnoCS8Q754cY"
      },
      "execution_count": 7,
      "outputs": []
    },
    {
      "cell_type": "code",
      "source": [
        "def test1():\n",
        "  print(\"This is my first function\")\n",
        "\n",
        "test1()"
      ],
      "metadata": {
        "colab": {
          "base_uri": "https://localhost:8080/"
        },
        "id": "Ura_MUnB57j1",
        "outputId": "67a90620-02f8-496b-a0d6-665dff833b49"
      },
      "execution_count": 9,
      "outputs": [
        {
          "output_type": "stream",
          "name": "stdout",
          "text": [
            "This is my first function\n"
          ]
        }
      ]
    },
    {
      "cell_type": "markdown",
      "source": [
        "Function increases usability and modularity."
      ],
      "metadata": {
        "id": "t28O-HDb6VCY"
      }
    },
    {
      "cell_type": "code",
      "source": [
        "# test1() + \" I am excited\"             -> error"
      ],
      "metadata": {
        "id": "xXACB9mI6Ls6"
      },
      "execution_count": 11,
      "outputs": []
    },
    {
      "cell_type": "markdown",
      "source": [
        "Above, we get an error because the object returned by function has not type and we are trying to concatenate it with string. NoneType is returned by function only in one situation .i.e if it contains print() function"
      ],
      "metadata": {
        "id": "fLfJKEcJ9NYe"
      }
    },
    {
      "cell_type": "code",
      "source": [
        "def test2():\n",
        "  return \"This is my function with return\"\n",
        "test2()"
      ],
      "metadata": {
        "colab": {
          "base_uri": "https://localhost:8080/",
          "height": 36
        },
        "id": "yod_vdz96m-Z",
        "outputId": "6e3eeaca-59dc-4894-86da-362678ffeb3d"
      },
      "execution_count": 13,
      "outputs": [
        {
          "output_type": "execute_result",
          "data": {
            "text/plain": [
              "'This is my function with return'"
            ],
            "application/vnd.google.colaboratory.intrinsic+json": {
              "type": "string"
            }
          },
          "metadata": {},
          "execution_count": 13
        }
      ]
    },
    {
      "cell_type": "code",
      "source": [
        "test2() + \" .concatenation successful\""
      ],
      "metadata": {
        "colab": {
          "base_uri": "https://localhost:8080/",
          "height": 36
        },
        "id": "g84AggWa97QD",
        "outputId": "801eb62a-9bbe-418c-e3c0-a22485aded5d"
      },
      "execution_count": 16,
      "outputs": [
        {
          "output_type": "execute_result",
          "data": {
            "text/plain": [
              "'This is my function with return .concatenation successful'"
            ],
            "application/vnd.google.colaboratory.intrinsic+json": {
              "type": "string"
            }
          },
          "metadata": {},
          "execution_count": 16
        }
      ]
    },
    {
      "cell_type": "code",
      "source": [
        "def test3():\n",
        "  return 1,4,\"Abhay\", 34.21\n",
        "test3()          # it is possible to return multiple values\n",
        "type(test3())"
      ],
      "metadata": {
        "colab": {
          "base_uri": "https://localhost:8080/"
        },
        "id": "muD7ZgwI-B24",
        "outputId": "2cb3fe8b-0393-493d-b84a-a223a26f1fca"
      },
      "execution_count": 19,
      "outputs": [
        {
          "output_type": "execute_result",
          "data": {
            "text/plain": [
              "tuple"
            ]
          },
          "metadata": {},
          "execution_count": 19
        }
      ]
    },
    {
      "cell_type": "code",
      "source": [
        "a = 1,2,3,4,5\n",
        "a"
      ],
      "metadata": {
        "colab": {
          "base_uri": "https://localhost:8080/"
        },
        "id": "XqYDPxoF-X85",
        "outputId": "062a64b2-97ae-4982-a960-871d36c80639"
      },
      "execution_count": 20,
      "outputs": [
        {
          "output_type": "execute_result",
          "data": {
            "text/plain": [
              "(1, 2, 3, 4, 5)"
            ]
          },
          "metadata": {},
          "execution_count": 20
        }
      ]
    },
    {
      "cell_type": "code",
      "source": [
        "a,b,c,d,e = 1, 2.5, True, \"abhay\", 4+5j\n",
        "print(a,b,c,d,e)"
      ],
      "metadata": {
        "colab": {
          "base_uri": "https://localhost:8080/"
        },
        "id": "bSZFtwZv-s7z",
        "outputId": "0cd978fd-d3e2-44d4-9254-b54b7f3a763a"
      },
      "execution_count": 21,
      "outputs": [
        {
          "output_type": "stream",
          "name": "stdout",
          "text": [
            "1 2.5 True abhay (4+5j)\n"
          ]
        }
      ]
    },
    {
      "cell_type": "code",
      "source": [
        "test3()[0]"
      ],
      "metadata": {
        "colab": {
          "base_uri": "https://localhost:8080/"
        },
        "id": "_lr8DTxD-1CC",
        "outputId": "25ce3f26-8153-4381-881a-20f8f8a2ddb5"
      },
      "execution_count": 22,
      "outputs": [
        {
          "output_type": "execute_result",
          "data": {
            "text/plain": [
              "1"
            ]
          },
          "metadata": {},
          "execution_count": 22
        }
      ]
    },
    {
      "cell_type": "code",
      "source": [
        "test3()[3]"
      ],
      "metadata": {
        "colab": {
          "base_uri": "https://localhost:8080/"
        },
        "id": "AsmcYXG6_sr-",
        "outputId": "471fe16e-0687-40c0-97ff-da27f5dbe49e"
      },
      "execution_count": 26,
      "outputs": [
        {
          "output_type": "execute_result",
          "data": {
            "text/plain": [
              "34.21"
            ]
          },
          "metadata": {},
          "execution_count": 26
        }
      ]
    },
    {
      "cell_type": "code",
      "source": [
        "a,b,c,d = test3()\n",
        "print(a, b, c, d)"
      ],
      "metadata": {
        "colab": {
          "base_uri": "https://localhost:8080/"
        },
        "id": "QNWETbJT_t9A",
        "outputId": "9fa524be-28d5-40de-b567-c6fddeac3598"
      },
      "execution_count": 30,
      "outputs": [
        {
          "output_type": "stream",
          "name": "stdout",
          "text": [
            "1 4 Abhay 34.21\n"
          ]
        }
      ]
    },
    {
      "cell_type": "code",
      "source": [
        "def test4():\n",
        "  a = 3*4+5\n",
        "  return a\n",
        "test4()"
      ],
      "metadata": {
        "colab": {
          "base_uri": "https://localhost:8080/"
        },
        "id": "59vNIxAcADkr",
        "outputId": "42829e3a-3f43-4e9e-eb01-dbdea823ea41"
      },
      "execution_count": 36,
      "outputs": [
        {
          "output_type": "execute_result",
          "data": {
            "text/plain": [
              "17"
            ]
          },
          "metadata": {},
          "execution_count": 36
        }
      ]
    },
    {
      "cell_type": "code",
      "source": [
        "type(test4())"
      ],
      "metadata": {
        "colab": {
          "base_uri": "https://localhost:8080/"
        },
        "id": "hRjDucs7AV30",
        "outputId": "7d61260f-9eac-42ec-aa63-a838dc01a32b"
      },
      "execution_count": 38,
      "outputs": [
        {
          "output_type": "execute_result",
          "data": {
            "text/plain": [
              "int"
            ]
          },
          "metadata": {},
          "execution_count": 38
        }
      ]
    },
    {
      "cell_type": "code",
      "source": [
        "def test5(a,b):\n",
        "  c = a + b\n",
        "  return c\n",
        "\n",
        "res = test5(4,5)\n",
        "print(res)\n",
        "\n",
        "# test5(5)            -> Error as we must give 2 arg\n",
        "# test5(5,6,7,8)        ->give 2 arg only"
      ],
      "metadata": {
        "colab": {
          "base_uri": "https://localhost:8080/"
        },
        "id": "kPy26_RRA0I6",
        "outputId": "ee06ebc1-8980-4fbd-dc92-e8cfc7a21125"
      },
      "execution_count": 45,
      "outputs": [
        {
          "output_type": "stream",
          "name": "stdout",
          "text": [
            "9\n"
          ]
        }
      ]
    },
    {
      "cell_type": "code",
      "source": [
        "print( test5(\"abhay\",\" magar\") )    # concatenation"
      ],
      "metadata": {
        "colab": {
          "base_uri": "https://localhost:8080/"
        },
        "id": "RGVw3PLhA9ln",
        "outputId": "e43858e5-f647-429f-9e43-fcb47bbf5f39"
      },
      "execution_count": 47,
      "outputs": [
        {
          "output_type": "stream",
          "name": "stdout",
          "text": [
            "abhay magar\n"
          ]
        }
      ]
    },
    {
      "cell_type": "code",
      "source": [
        "test5(  [1,2,3,4], [5,6,7,8]  )    # list concatenation"
      ],
      "metadata": {
        "colab": {
          "base_uri": "https://localhost:8080/"
        },
        "id": "Z4-NrsvyBkLi",
        "outputId": "66c245fe-54fc-490f-96c5-ff4cfd8fc453"
      },
      "execution_count": 50,
      "outputs": [
        {
          "output_type": "execute_result",
          "data": {
            "text/plain": [
              "[1, 2, 3, 4, 5, 6, 7, 8]"
            ]
          },
          "metadata": {},
          "execution_count": 50
        }
      ]
    },
    {
      "cell_type": "code",
      "source": [
        "test5(  \"abhay\",\"magar\"  )          # positional arg"
      ],
      "metadata": {
        "colab": {
          "base_uri": "https://localhost:8080/",
          "height": 36
        },
        "id": "SZxnMajuBqO5",
        "outputId": "93fe9418-0d21-476f-cfdf-0e0d9882d1c1"
      },
      "execution_count": 53,
      "outputs": [
        {
          "output_type": "execute_result",
          "data": {
            "text/plain": [
              "'abhaymagar'"
            ],
            "application/vnd.google.colaboratory.intrinsic+json": {
              "type": "string"
            }
          },
          "metadata": {},
          "execution_count": 53
        }
      ]
    },
    {
      "cell_type": "code",
      "source": [
        "test5(  b=\"abhay\", a=\"magar\"  )       # keyword arg"
      ],
      "metadata": {
        "colab": {
          "base_uri": "https://localhost:8080/",
          "height": 36
        },
        "id": "G--L5_j9B_XU",
        "outputId": "67f0d98b-e4d5-4611-f06b-fea18a2e2694"
      },
      "execution_count": 54,
      "outputs": [
        {
          "output_type": "execute_result",
          "data": {
            "text/plain": [
              "'magarabhay'"
            ],
            "application/vnd.google.colaboratory.intrinsic+json": {
              "type": "string"
            }
          },
          "metadata": {},
          "execution_count": 54
        }
      ]
    },
    {
      "cell_type": "code",
      "source": [
        "l = [1,2,3,4,5.4, 89.1, \"abhay\" , True, {1,2,3,4}]\n",
        "\n",
        "#create a function which will filter only numeric values from above list\n",
        "\n",
        "def filter(l1):\n",
        "  a = []\n",
        "  for m in l1:\n",
        "    if (type(m) == int or type(m)==float):\n",
        "      a.append(m)\n",
        "  return a\n",
        "filter(l)\n"
      ],
      "metadata": {
        "colab": {
          "base_uri": "https://localhost:8080/"
        },
        "id": "jpu_iFCNCDZM",
        "outputId": "d7b6bf95-67ac-4574-990f-5f50ce0f7d50"
      },
      "execution_count": 57,
      "outputs": [
        {
          "output_type": "execute_result",
          "data": {
            "text/plain": [
              "[1, 2, 3, 4, 5.4, 89.1]"
            ]
          },
          "metadata": {},
          "execution_count": 57
        }
      ]
    },
    {
      "cell_type": "code",
      "source": [
        "l = [1,2,3,4,5.4, 89.1, \"abhay\" , True, [1,2,3,3,4], {2,3,4,4,5,5,5,6}]\n",
        "\n",
        "#create a function which will filter only numeric values from above list\n",
        "\n",
        "def filter(l1):\n",
        "  a = []\n",
        "  for m in l1:\n",
        "    if (type(m) == int or type(m)==float):\n",
        "      a.append(m)\n",
        "    if type(m) == list or type(m) == set or type(m) == tuple:\n",
        "      for n in m:\n",
        "        if (type(n) == int or type(n)==float):\n",
        "          a.append(n)\n",
        "  return a\n",
        "filter(l)\n"
      ],
      "metadata": {
        "colab": {
          "base_uri": "https://localhost:8080/"
        },
        "id": "dQ98-4tQE105",
        "outputId": "e132dc29-4777-4ec9-c20e-e5915493ad94"
      },
      "execution_count": 66,
      "outputs": [
        {
          "output_type": "execute_result",
          "data": {
            "text/plain": [
              "[1, 2, 3, 4, 5.4, 89.1, 1, 2, 3, 3, 4, 2, 3, 4, 5, 6]"
            ]
          },
          "metadata": {},
          "execution_count": 66
        }
      ]
    },
    {
      "cell_type": "code",
      "source": [
        "l = [1,2,3,4,5.4, 89.1, \"abhay\" , True, [1,2,3,3,4]]\n",
        "def test7(a) : \n",
        "    n = []\n",
        "    for i in a :\n",
        "        if type(i) == list :\n",
        "            for j in i :\n",
        "                if type(j) == int or type(j) == float :\n",
        "                    n.append(j)\n",
        "        else :\n",
        "            if type(i) == int or type(i) == float :\n",
        "                n.append(i)\n",
        "    return n\n",
        "test7(l)  \n",
        "            "
      ],
      "metadata": {
        "colab": {
          "base_uri": "https://localhost:8080/"
        },
        "id": "Q67CEx-bFuTO",
        "outputId": "eb92af3a-a827-41f1-94cf-044c71aa0aa9"
      },
      "execution_count": 67,
      "outputs": [
        {
          "output_type": "execute_result",
          "data": {
            "text/plain": [
              "[1, 2, 3, 4, 5.4, 89.1, 1, 2, 3, 3, 4]"
            ]
          },
          "metadata": {},
          "execution_count": 67
        }
      ]
    }
  ]
}