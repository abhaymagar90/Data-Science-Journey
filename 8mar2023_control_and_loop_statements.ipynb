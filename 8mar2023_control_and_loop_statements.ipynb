{
  "nbformat": 4,
  "nbformat_minor": 0,
  "metadata": {
    "colab": {
      "provenance": []
    },
    "kernelspec": {
      "name": "python3",
      "display_name": "Python 3"
    },
    "language_info": {
      "name": "python"
    }
  },
  "cells": [
    {
      "cell_type": "code",
      "execution_count": null,
      "metadata": {
        "id": "KswujuneZwRq"
      },
      "outputs": [],
      "source": [
        "a = 10"
      ]
    },
    {
      "cell_type": "code",
      "source": [
        "a = 'c'"
      ],
      "metadata": {
        "id": "grVUZ2nMZ0Yz"
      },
      "execution_count": null,
      "outputs": []
    },
    {
      "cell_type": "code",
      "source": [
        "type(a)"
      ],
      "metadata": {
        "colab": {
          "base_uri": "https://localhost:8080/"
        },
        "id": "n9018qVXZ2gd",
        "outputId": "1a7e848b-dee6-4a27-a7aa-79681b679f1e"
      },
      "execution_count": null,
      "outputs": [
        {
          "output_type": "execute_result",
          "data": {
            "text/plain": [
              "str"
            ]
          },
          "metadata": {},
          "execution_count": 3
        }
      ]
    },
    {
      "cell_type": "code",
      "source": [
        "int('123')"
      ],
      "metadata": {
        "colab": {
          "base_uri": "https://localhost:8080/"
        },
        "id": "Yze1pjmwZ4DW",
        "outputId": "e5bceae8-c193-4e66-f6c5-6cb8e0e6c1f0"
      },
      "execution_count": null,
      "outputs": [
        {
          "output_type": "execute_result",
          "data": {
            "text/plain": [
              "123"
            ]
          },
          "metadata": {},
          "execution_count": 5
        }
      ]
    },
    {
      "cell_type": "code",
      "source": [
        "# int('abcd')"
      ],
      "metadata": {
        "id": "W1xcBHDTbsk7"
      },
      "execution_count": null,
      "outputs": []
    },
    {
      "cell_type": "code",
      "source": [
        "print(\"Hello World\")"
      ],
      "metadata": {
        "colab": {
          "base_uri": "https://localhost:8080/"
        },
        "id": "4kGXw5PxbwOY",
        "outputId": "7b0f0fed-d810-435e-a544-c0efe547e40c"
      },
      "execution_count": null,
      "outputs": [
        {
          "output_type": "stream",
          "name": "stdout",
          "text": [
            "Hello World\n"
          ]
        }
      ]
    },
    {
      "cell_type": "code",
      "source": [
        "print(234)"
      ],
      "metadata": {
        "colab": {
          "base_uri": "https://localhost:8080/"
        },
        "id": "0JgmlMMebzv_",
        "outputId": "797c0664-fa55-470f-fa39-5556318d6d07"
      },
      "execution_count": null,
      "outputs": [
        {
          "output_type": "stream",
          "name": "stdout",
          "text": [
            "234\n"
          ]
        }
      ]
    },
    {
      "cell_type": "code",
      "source": [
        "age = 32\n",
        "print(\"My age: \", 32)\n",
        "\n",
        "# ORR\n",
        "\n",
        "print(f\"My age : {age}\")  # FORMATTING using (f string) method "
      ],
      "metadata": {
        "colab": {
          "base_uri": "https://localhost:8080/"
        },
        "id": "5PMN3xSXb4r8",
        "outputId": "4ddc875a-e4f7-4e7b-b095-bbc0c386cbbb"
      },
      "execution_count": null,
      "outputs": [
        {
          "output_type": "stream",
          "name": "stdout",
          "text": [
            "My age:  32\n",
            "My age : 32\n"
          ]
        }
      ]
    },
    {
      "cell_type": "code",
      "source": [
        "# format\n",
        "name = \"Abhay\"\n",
        "age = 21\n",
        "print(\"My name is\", name, \" and age is\", age)\n",
        "\n",
        "# ORRRRR\n",
        "print(\"My name is {} and age is {}\".format(name,age)) # using .format()"
      ],
      "metadata": {
        "colab": {
          "base_uri": "https://localhost:8080/"
        },
        "id": "2I1r95uvg4Qz",
        "outputId": "8615c768-63de-4b97-8e0b-e80ffb5a5cd4"
      },
      "execution_count": null,
      "outputs": [
        {
          "output_type": "stream",
          "name": "stdout",
          "text": [
            "My name is Abhay  and age is 21\n",
            "My name is Abhay and age is 21\n"
          ]
        }
      ]
    },
    {
      "cell_type": "code",
      "source": [
        "# placeholder\n",
        "print(\"My name is {firstname} and age is {firstage}\".format(firstname = name, firstage = age))\n",
        "print(\"My age is {firstage} and name is {firstname}\".format(firstname = name, firstage = age))"
      ],
      "metadata": {
        "colab": {
          "base_uri": "https://localhost:8080/"
        },
        "id": "JwBuibyGg7KV",
        "outputId": "694dd4d9-e6b7-4c3c-c74d-209223aae616"
      },
      "execution_count": null,
      "outputs": [
        {
          "output_type": "stream",
          "name": "stdout",
          "text": [
            "My name is Abhay and age is 21\n",
            "My age is 21 and name is Abhay\n"
          ]
        }
      ]
    },
    {
      "cell_type": "code",
      "source": [
        "# excercise\n",
        "name = \"Abhay Magar\"\n",
        "rollno = 34\n",
        "age = 21\n",
        "degree = \"BE\"\n",
        "print(\"Hello everyone. My name is {}. I am {} years old. My roll no is {}. I have completed {} in Computer Engg\".format(name, age, rollno, degree))\n",
        "\n",
        "# ORRRR\n",
        "\n",
        "print(\"Hello everyone. My name is {myname}. I am {myage} years old. My roll no is {myrno}. I have completed {mydeg} in Computer Engg\".format(myrno = rollno, myage = age, myname = name, mydeg = degree))\n",
        "\n",
        "# ORRR\n",
        "\n",
        "print(f\"Hello everyone. My name is {name}. I am {age} years old. My roll no is {rollno}. I have completed {degree} in Computer Engg\")"
      ],
      "metadata": {
        "colab": {
          "base_uri": "https://localhost:8080/"
        },
        "id": "E-qOYruEjqgc",
        "outputId": "c407b4dd-2d62-48a4-f712-b7e76e36d0d2"
      },
      "execution_count": null,
      "outputs": [
        {
          "output_type": "stream",
          "name": "stdout",
          "text": [
            "Hello everyone. My name is Abhay Magar. I am 21 years old. My roll no is 34. I have completed BE in Computer Engg\n",
            "Hello everyone. My name is Abhay Magar. I am 21 years old. My roll no is 34. I have completed BE in Computer Engg\n",
            "Hello everyone. My name is Abhay Magar. I am 21 years old. My roll no is 34. I have completed BE in Computer Engg\n"
          ]
        }
      ]
    },
    {
      "cell_type": "markdown",
      "source": [
        "# Control Statements"
      ],
      "metadata": {
        "id": "970F_G4on6iV"
      }
    },
    {
      "cell_type": "code",
      "source": [
        "age = int(input(\"ENter age \"))\n",
        "if (age<18 and age > 0):\n",
        "  print(\"You can't vote\")\n",
        "elif (age >=18):\n",
        "  print(\"You can vote\")\n",
        "else:\n",
        "  print(\"NOO\")"
      ],
      "metadata": {
        "colab": {
          "base_uri": "https://localhost:8080/"
        },
        "id": "ISMW_MQVn9H5",
        "outputId": "6c9fa60e-210e-41e6-d67e-7715a7da16da"
      },
      "execution_count": null,
      "outputs": [
        {
          "output_type": "stream",
          "name": "stdout",
          "text": [
            "ENter age 24\n",
            "You can vote\n"
          ]
        }
      ]
    },
    {
      "cell_type": "code",
      "source": [
        "name = input(\"enter your name: \")"
      ],
      "metadata": {
        "colab": {
          "base_uri": "https://localhost:8080/"
        },
        "id": "eolfLGxKossT",
        "outputId": "1e56aba3-5909-435d-a66e-d2715208de83"
      },
      "execution_count": null,
      "outputs": [
        {
          "name": "stdout",
          "output_type": "stream",
          "text": [
            "enter your name: Abhay\n"
          ]
        }
      ]
    },
    {
      "cell_type": "code",
      "source": [
        "name"
      ],
      "metadata": {
        "colab": {
          "base_uri": "https://localhost:8080/",
          "height": 36
        },
        "id": "bJsk5BQooxQy",
        "outputId": "0262d3ad-31ce-4db7-c9c9-a73cbc1f1b1f"
      },
      "execution_count": null,
      "outputs": [
        {
          "output_type": "execute_result",
          "data": {
            "text/plain": [
              "'Abhay'"
            ],
            "application/vnd.google.colaboratory.intrinsic+json": {
              "type": "string"
            }
          },
          "metadata": {},
          "execution_count": 32
        }
      ]
    },
    {
      "cell_type": "code",
      "source": [
        "# if statement\n",
        "\n",
        "age = int(input(\"Enter age: \"))\n",
        "if (age >=18 and age <=32):\n",
        "  print(\"You are Young\")"
      ],
      "metadata": {
        "colab": {
          "base_uri": "https://localhost:8080/"
        },
        "id": "u-0ubSf4pAzf",
        "outputId": "fd656d8e-1831-4726-bd96-eadd049f8aa6"
      },
      "execution_count": null,
      "outputs": [
        {
          "name": "stdout",
          "output_type": "stream",
          "text": [
            "Enter age: 45\n"
          ]
        }
      ]
    },
    {
      "cell_type": "code",
      "source": [
        "# if-else statement\n",
        "\n",
        "age = int(input(\"Enter age: \"))\n",
        "if (age >=18 and age <=32):\n",
        "  print(\"You are Young\")\n",
        "else:\n",
        "  print(\"BYE BYEEE\")"
      ],
      "metadata": {
        "colab": {
          "base_uri": "https://localhost:8080/"
        },
        "id": "D6tzwGX_pSK-",
        "outputId": "204492ff-725f-4539-d7bb-dab5b010db24"
      },
      "execution_count": null,
      "outputs": [
        {
          "output_type": "stream",
          "name": "stdout",
          "text": [
            "Enter age: 66\n",
            "BYE BYEEE\n"
          ]
        }
      ]
    },
    {
      "cell_type": "code",
      "source": [
        "# product price > 1000 then 30 % off and if product price <=1000 then 20% off\n",
        "\n",
        "p = int(input(\"Enter prod price: \"))\n",
        "if (p>1000):\n",
        "  print(f\"Product price will become {p*0.7}\")\n",
        "else:\n",
        "  print(\"Product price will become {}\".format(p-(p*0.2)))"
      ],
      "metadata": {
        "colab": {
          "base_uri": "https://localhost:8080/"
        },
        "id": "Kas1LUVnp5PT",
        "outputId": "2e723469-326e-46f2-e28c-721c7746b940"
      },
      "execution_count": null,
      "outputs": [
        {
          "output_type": "stream",
          "name": "stdout",
          "text": [
            "Enter prod price: 900\n",
            "Product price will become 720.0\n"
          ]
        }
      ]
    },
    {
      "cell_type": "code",
      "source": [
        "# if-elif-else statement\n",
        "p = int(input(\"Product price: \"))\n",
        "if (p > 3000):\n",
        "  if (p==4000):\n",
        "    print(\"You get a goa trip \\n\")\n",
        "  print(f\"Produt price is {p*0.8}\")\n",
        "elif (p >=2000 and p <=3000):\n",
        "  print(\"Product price is {}\".format(p-(p*0.3)))\n",
        "  if p == 2999:\n",
        "    print(\"You get an additional gift\")\n",
        "elif (p >=100 and p <=2000):\n",
        "  print(\"Product price is {disc}\".format(disc=p*0.6))\n",
        "else:\n",
        "  print(\"Kuch Nahi Milega\")"
      ],
      "metadata": {
        "colab": {
          "base_uri": "https://localhost:8080/"
        },
        "id": "OyHRaEHoyyRm",
        "outputId": "26704326-7e7e-47c0-f6b0-303924aeb3b4"
      },
      "execution_count": null,
      "outputs": [
        {
          "output_type": "stream",
          "name": "stdout",
          "text": [
            "Product price: 3\n",
            "Kuch Nahi Milega\n"
          ]
        }
      ]
    },
    {
      "cell_type": "code",
      "source": [
        "# single statement\n",
        "a = int(input())\n",
        "if (a < 18): print(\"a is less than 18\")\n",
        "else:\n",
        "  print(\"a is not less than 18\")"
      ],
      "metadata": {
        "colab": {
          "base_uri": "https://localhost:8080/"
        },
        "id": "e3GX0nbKzUyK",
        "outputId": "18e1a3e1-ab3b-40fa-a910-305103ad49f8"
      },
      "execution_count": null,
      "outputs": [
        {
          "output_type": "stream",
          "name": "stdout",
          "text": [
            "18\n",
            "a is not less than 18\n"
          ]
        }
      ]
    },
    {
      "cell_type": "markdown",
      "source": [
        "# Loop Statements"
      ],
      "metadata": {
        "id": "NH099KmPEYUo"
      }
    },
    {
      "cell_type": "code",
      "source": [
        "# while loop\n",
        "\n",
        "a = 20\n",
        "while (a <= 50):\n",
        "  print(\"Yes\")\n",
        "  a = a + 1\n",
        "else:\n",
        "  print(\"NOOOOO\")"
      ],
      "metadata": {
        "colab": {
          "base_uri": "https://localhost:8080/"
        },
        "id": "ys4h4sNyFzkP",
        "outputId": "6df6dab4-69ab-41c4-f5a5-f45896ae6737"
      },
      "execution_count": 52,
      "outputs": [
        {
          "output_type": "stream",
          "name": "stdout",
          "text": [
            "Yes\n",
            "Yes\n",
            "Yes\n",
            "Yes\n",
            "Yes\n",
            "Yes\n",
            "Yes\n",
            "Yes\n",
            "Yes\n",
            "Yes\n",
            "Yes\n",
            "Yes\n",
            "Yes\n",
            "Yes\n",
            "Yes\n",
            "Yes\n",
            "Yes\n",
            "Yes\n",
            "Yes\n",
            "Yes\n",
            "Yes\n",
            "Yes\n",
            "Yes\n",
            "Yes\n",
            "Yes\n",
            "Yes\n",
            "Yes\n",
            "Yes\n",
            "Yes\n",
            "Yes\n",
            "Yes\n",
            "NOOOOO\n"
          ]
        }
      ]
    },
    {
      "cell_type": "code",
      "source": [
        "total_amt = 1000\n",
        "while total_amt != 0:\n",
        "  print(total_amt)\n",
        "  total_amt = total_amt-100\n",
        "else:\n",
        "  print(\"aur paisa dalo bankwalo\")\n",
        "\n",
        "print(\"This line will always execute\")"
      ],
      "metadata": {
        "colab": {
          "base_uri": "https://localhost:8080/"
        },
        "id": "WqupCYGHWovL",
        "outputId": "a1e03e87-4960-4a03-f7d3-ca3a93790b31"
      },
      "execution_count": 54,
      "outputs": [
        {
          "output_type": "stream",
          "name": "stdout",
          "text": [
            "1000\n",
            "900\n",
            "800\n",
            "700\n",
            "600\n",
            "500\n",
            "400\n",
            "300\n",
            "200\n",
            "100\n",
            "aur paisa dalo bankwalo\n",
            "This line will always execute\n"
          ]
        }
      ]
    },
    {
      "cell_type": "markdown",
      "source": [
        "### A List is a data structure in python which can contain elements of any datatype"
      ],
      "metadata": {
        "id": "kWtst8EKXtEw"
      }
    },
    {
      "cell_type": "code",
      "source": [
        "lst = [\"Abhay\",1,2,3,4,\"Book\", \"Pen\"]\n",
        "type(lst)"
      ],
      "metadata": {
        "colab": {
          "base_uri": "https://localhost:8080/"
        },
        "id": "X1m2jtA5XJ_6",
        "outputId": "290ebf60-66f6-43ee-b68c-56a474dd7e32"
      },
      "execution_count": 56,
      "outputs": [
        {
          "output_type": "execute_result",
          "data": {
            "text/plain": [
              "list"
            ]
          },
          "metadata": {},
          "execution_count": 56
        }
      ]
    },
    {
      "cell_type": "code",
      "source": [
        "lst[5] # accessing elements of a list. Here '5' represents index of Book  "
      ],
      "metadata": {
        "colab": {
          "base_uri": "https://localhost:8080/",
          "height": 36
        },
        "id": "FPsdoqF5X_-u",
        "outputId": "a2e91c16-d019-46dd-837a-2ecda7c71c85"
      },
      "execution_count": 58,
      "outputs": [
        {
          "output_type": "execute_result",
          "data": {
            "text/plain": [
              "'Book'"
            ],
            "application/vnd.google.colaboratory.intrinsic+json": {
              "type": "string"
            }
          },
          "metadata": {},
          "execution_count": 58
        }
      ]
    },
    {
      "cell_type": "code",
      "source": [
        "# for loop_1\n",
        "a = 8\n",
        "for i in range(1,a+1):\n",
        "  print(i)"
      ],
      "metadata": {
        "colab": {
          "base_uri": "https://localhost:8080/"
        },
        "id": "Rb8bUBDFZTV7",
        "outputId": "99cba394-a33e-494e-d60a-6272c2d82e80"
      },
      "execution_count": 61,
      "outputs": [
        {
          "output_type": "stream",
          "name": "stdout",
          "text": [
            "1\n",
            "2\n",
            "3\n",
            "4\n",
            "5\n",
            "6\n",
            "7\n",
            "8\n"
          ]
        }
      ]
    },
    {
      "cell_type": "code",
      "source": [
        "# for loop_2\n",
        "lst = [\"Abhay\",1,2,3,4,\"Book\", \"Pen\"]\n",
        "\n",
        "for x in lst:\n",
        "  print(x)"
      ],
      "metadata": {
        "colab": {
          "base_uri": "https://localhost:8080/"
        },
        "id": "obyH4meVZiyn",
        "outputId": "ad2f11f3-b77d-4759-b6ea-73365290bcfe"
      },
      "execution_count": 62,
      "outputs": [
        {
          "output_type": "stream",
          "name": "stdout",
          "text": [
            "Abhay\n",
            "1\n",
            "2\n",
            "3\n",
            "4\n",
            "Book\n",
            "Pen\n"
          ]
        }
      ]
    },
    {
      "cell_type": "code",
      "source": [
        "# to print on same line, use (end) with print statment\n",
        "for x in lst:\n",
        "  print(x, end=' ')"
      ],
      "metadata": {
        "colab": {
          "base_uri": "https://localhost:8080/"
        },
        "id": "XbPHGRPEZ0Jb",
        "outputId": "4e7abd80-575d-41ed-d6a4-2952d3c8ba9f"
      },
      "execution_count": 63,
      "outputs": [
        {
          "output_type": "stream",
          "name": "stdout",
          "text": [
            "Abhay 1 2 3 4 Book Pen "
          ]
        }
      ]
    },
    {
      "cell_type": "code",
      "source": [
        "fruit = \"mango\"\n",
        "for x in fruit:\n",
        "  print(x)"
      ],
      "metadata": {
        "colab": {
          "base_uri": "https://localhost:8080/"
        },
        "id": "c6uV54HAakl6",
        "outputId": "4975f424-939f-4096-c9f4-a6d7ef64e9ac"
      },
      "execution_count": 64,
      "outputs": [
        {
          "output_type": "stream",
          "name": "stdout",
          "text": [
            "m\n",
            "a\n",
            "n\n",
            "g\n",
            "o\n"
          ]
        }
      ]
    },
    {
      "cell_type": "code",
      "source": [
        "fruit[2]  # Hence, a string is also a collection of character elements like list, but list can contain ant type of elements."
      ],
      "metadata": {
        "colab": {
          "base_uri": "https://localhost:8080/",
          "height": 36
        },
        "id": "ZQhDHulKaz9e",
        "outputId": "fab17023-7939-4c88-8970-5f60fe24a1a3"
      },
      "execution_count": 65,
      "outputs": [
        {
          "output_type": "execute_result",
          "data": {
            "text/plain": [
              "'n'"
            ],
            "application/vnd.google.colaboratory.intrinsic+json": {
              "type": "string"
            }
          },
          "metadata": {},
          "execution_count": 65
        }
      ]
    },
    {
      "cell_type": "code",
      "source": [
        "for i in range(1,10):\n",
        "  print(i, end=\" \")"
      ],
      "metadata": {
        "colab": {
          "base_uri": "https://localhost:8080/"
        },
        "id": "RdvtC8IgbAg_",
        "outputId": "b9dba2b8-ddbe-456d-80e4-b28eb0a29b5b"
      },
      "execution_count": 66,
      "outputs": [
        {
          "output_type": "stream",
          "name": "stdout",
          "text": [
            "1 2 3 4 5 6 7 8 9 "
          ]
        }
      ]
    },
    {
      "cell_type": "code",
      "source": [
        "for i in range(1,10,2):\n",
        "  print(i,end=\" \")"
      ],
      "metadata": {
        "colab": {
          "base_uri": "https://localhost:8080/"
        },
        "id": "xFl7_-xYcAYR",
        "outputId": "2a2443e3-c3de-4688-86f2-91f74b3ab1a6"
      },
      "execution_count": 67,
      "outputs": [
        {
          "output_type": "stream",
          "name": "stdout",
          "text": [
            "1 3 5 7 9 "
          ]
        }
      ]
    },
    {
      "cell_type": "code",
      "source": [
        "# nested loop (pattern)\n",
        "\n",
        "n = 7\n",
        "\n",
        "for i in range(0,n):\n",
        "  for j in range(0,i+1):\n",
        "    print(\"*\",end=\"\")\n",
        "  print(\"\\r\")"
      ],
      "metadata": {
        "colab": {
          "base_uri": "https://localhost:8080/"
        },
        "id": "pJMSQNfxcFWO",
        "outputId": "9ad1dec9-ed25-496d-d4cd-ae9491f8607b"
      },
      "execution_count": 71,
      "outputs": [
        {
          "output_type": "stream",
          "name": "stdout",
          "text": [
            "*\r\n",
            "**\r\n",
            "***\r\n",
            "****\r\n",
            "*****\r\n",
            "******\r\n",
            "*******\r\n"
          ]
        }
      ]
    },
    {
      "cell_type": "code",
      "source": [
        "# loop controls --> break & continue\n",
        "\n",
        "fruits=[\"Apple\", \"Mango\", \"Cherry\", \"Banana\"]\n",
        "for x in fruits:\n",
        "  if x == \"Mango\":\n",
        "    print(\"This is Mango\")\n",
        "  print(x)"
      ],
      "metadata": {
        "colab": {
          "base_uri": "https://localhost:8080/"
        },
        "id": "fPt-_vDte9Vd",
        "outputId": "03032841-124d-492b-ab74-8c73a0cf134f"
      },
      "execution_count": 73,
      "outputs": [
        {
          "output_type": "stream",
          "name": "stdout",
          "text": [
            "Apple\n",
            "This is Mango\n",
            "Mango\n",
            "Cherry\n",
            "Banana\n"
          ]
        }
      ]
    },
    {
      "cell_type": "code",
      "source": [
        "#break\n",
        "fruits=[\"Apple\", \"Mango\", \"Cherry\", \"Banana\"]\n",
        "for x in fruits:\n",
        "  if x == \"Mango\":\n",
        "    print(\"This is Mango\")\n",
        "    break\n",
        "  print(x)"
      ],
      "metadata": {
        "colab": {
          "base_uri": "https://localhost:8080/"
        },
        "id": "pSKYTj4AgD-_",
        "outputId": "b4450727-7f87-4e1a-ef73-29f36fdf934a"
      },
      "execution_count": 74,
      "outputs": [
        {
          "output_type": "stream",
          "name": "stdout",
          "text": [
            "Apple\n",
            "This is Mango\n"
          ]
        }
      ]
    },
    {
      "cell_type": "code",
      "source": [
        "#continue\n",
        "fruits=[\"Apple\", \"Mango\", \"Cherry\", \"Banana\"]\n",
        "for x in fruits:\n",
        "  if x == \"Mango\":\n",
        "    print(\"This is Mango\")\n",
        "    continue\n",
        "  print(x)"
      ],
      "metadata": {
        "colab": {
          "base_uri": "https://localhost:8080/"
        },
        "id": "-Hf_GXCkgKLE",
        "outputId": "e13961e1-9c5f-4f0a-8b12-8ab8454b52e6"
      },
      "execution_count": 75,
      "outputs": [
        {
          "output_type": "stream",
          "name": "stdout",
          "text": [
            "Apple\n",
            "This is Mango\n",
            "Cherry\n",
            "Banana\n"
          ]
        }
      ]
    }
  ]
}