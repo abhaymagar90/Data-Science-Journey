{
  "nbformat": 4,
  "nbformat_minor": 0,
  "metadata": {
    "colab": {
      "provenance": []
    },
    "kernelspec": {
      "name": "python3",
      "display_name": "Python 3"
    },
    "language_info": {
      "name": "python"
    }
  },
  "cells": [
    {
      "cell_type": "markdown",
      "source": [
        "Property Decorators Getters, Setters, And Deletes"
      ],
      "metadata": {
        "id": "AWDRFDlQIhCK"
      }
    },
    {
      "cell_type": "code",
      "source": [
        "class course:\n",
        "  def __init__(self, course_price, course_name):\n",
        "    self.__course_price = course_price\n",
        "    self.course_name = course_name\n",
        "\n",
        "# HERE self.__course_price is private variable whereas self.course_name is public\n"
      ],
      "metadata": {
        "id": "0iHkjv5RIh3f"
      },
      "execution_count": 20,
      "outputs": []
    },
    {
      "cell_type": "code",
      "source": [
        "c = course(5000, \"Data Science\")"
      ],
      "metadata": {
        "id": "wBZvx-WXI30t"
      },
      "execution_count": 21,
      "outputs": []
    },
    {
      "cell_type": "code",
      "source": [
        "c.course_name"
      ],
      "metadata": {
        "colab": {
          "base_uri": "https://localhost:8080/",
          "height": 36
        },
        "id": "lOcnSXvwI7Uw",
        "outputId": "0f4f666c-476d-4b18-8b51-c72249101705"
      },
      "execution_count": 22,
      "outputs": [
        {
          "output_type": "execute_result",
          "data": {
            "text/plain": [
              "'Data Science'"
            ],
            "application/vnd.google.colaboratory.intrinsic+json": {
              "type": "string"
            }
          },
          "metadata": {},
          "execution_count": 22
        }
      ]
    },
    {
      "cell_type": "code",
      "source": [
        "# c.course_price        # error -> 'course' object has no attribute 'course_price'"
      ],
      "metadata": {
        "id": "QxfKFQFXI8xn"
      },
      "execution_count": 24,
      "outputs": []
    },
    {
      "cell_type": "code",
      "source": [
        "c._course__course_price        # Owner can access private variable as owner knows exact classname and variablename"
      ],
      "metadata": {
        "colab": {
          "base_uri": "https://localhost:8080/"
        },
        "id": "EJnYsxwAI9wM",
        "outputId": "e2578472-4be2-4ece-cdd1-24affa57c907"
      },
      "execution_count": 26,
      "outputs": [
        {
          "output_type": "execute_result",
          "data": {
            "text/plain": [
              "5000"
            ]
          },
          "metadata": {},
          "execution_count": 26
        }
      ]
    },
    {
      "cell_type": "markdown",
      "source": [
        "@property decorator allows a private or protected variable to be exposed to an outer world   .i.e expose a property to outer world"
      ],
      "metadata": {
        "id": "xNnnclg9KC6k"
      }
    },
    {
      "cell_type": "code",
      "source": [
        "class course:\n",
        "  def __init__(self, course_price, course_name):\n",
        "    self.__course_price = course_price\n",
        "    self.course_name = course_name\n",
        "\n",
        "  @property\n",
        "  def course_price_access(self):\n",
        "    return self.__course_price\n",
        "\n",
        "c = course(3000, \"Web dev\")\n",
        "c.course_name"
      ],
      "metadata": {
        "colab": {
          "base_uri": "https://localhost:8080/",
          "height": 36
        },
        "id": "LKKQF3dAJDUE",
        "outputId": "37bae03e-7e28-4aad-b54a-46219f711d00"
      },
      "execution_count": 40,
      "outputs": [
        {
          "output_type": "execute_result",
          "data": {
            "text/plain": [
              "'Web dev'"
            ],
            "application/vnd.google.colaboratory.intrinsic+json": {
              "type": "string"
            }
          },
          "metadata": {},
          "execution_count": 40
        }
      ]
    },
    {
      "cell_type": "code",
      "source": [
        "c.course_price_access    "
      ],
      "metadata": {
        "colab": {
          "base_uri": "https://localhost:8080/"
        },
        "id": "5cQRI6rJK0Vq",
        "outputId": "b432c1d6-3240-49bd-b852-ebe0aaa77c33"
      },
      "execution_count": 42,
      "outputs": [
        {
          "output_type": "execute_result",
          "data": {
            "text/plain": [
              "3000"
            ]
          },
          "metadata": {},
          "execution_count": 42
        }
      ]
    },
    {
      "cell_type": "markdown",
      "source": [
        "NOTE: course_price_access acts as a variable and not function while calling. Hence, it acts as an alternate public variable to a private variable"
      ],
      "metadata": {
        "id": "BIoXp7VjM_Ou"
      }
    },
    {
      "cell_type": "markdown",
      "source": [
        "Setters allows us to set values of private/protected variables "
      ],
      "metadata": {
        "id": "n39UEVVKMrak"
      }
    },
    {
      "cell_type": "code",
      "source": [
        "class course:\n",
        "  def __init__(self, course_price, course_name):\n",
        "    self.__course_price = course_price\n",
        "    self.course_name = course_name\n",
        "\n",
        "  @property\n",
        "  def course_price_access(self):\n",
        "    return self.__course_price\n",
        "\n",
        "  @course_price_access.setter\n",
        "  def course_price_set(self, price):\n",
        "    if price < 3000:\n",
        "      pass\n",
        "    else:\n",
        "      self.__course_price = price\n",
        "\n",
        "c = course(3000, \"Web dev\")\n",
        "c.course_name"
      ],
      "metadata": {
        "colab": {
          "base_uri": "https://localhost:8080/",
          "height": 36
        },
        "id": "hFI_4KvDK8pS",
        "outputId": "4e998028-3099-49bc-aa50-6d1bbcd087c4"
      },
      "execution_count": 43,
      "outputs": [
        {
          "output_type": "execute_result",
          "data": {
            "text/plain": [
              "'Web dev'"
            ],
            "application/vnd.google.colaboratory.intrinsic+json": {
              "type": "string"
            }
          },
          "metadata": {},
          "execution_count": 43
        }
      ]
    },
    {
      "cell_type": "code",
      "source": [
        "c.course_price_access"
      ],
      "metadata": {
        "colab": {
          "base_uri": "https://localhost:8080/"
        },
        "id": "l1_7v2VaNYv9",
        "outputId": "64f8592e-45e6-46f0-9b56-98a1efce5123"
      },
      "execution_count": 44,
      "outputs": [
        {
          "output_type": "execute_result",
          "data": {
            "text/plain": [
              "3000"
            ]
          },
          "metadata": {},
          "execution_count": 44
        }
      ]
    },
    {
      "cell_type": "code",
      "source": [
        "c.course_price_set = 2000"
      ],
      "metadata": {
        "id": "I8C6cutiNazU"
      },
      "execution_count": 45,
      "outputs": []
    },
    {
      "cell_type": "code",
      "source": [
        "c.course_price_access"
      ],
      "metadata": {
        "colab": {
          "base_uri": "https://localhost:8080/"
        },
        "id": "rIt-d_0ZNdaQ",
        "outputId": "b9c5e963-babd-4929-b67e-d73fdd253047"
      },
      "execution_count": 46,
      "outputs": [
        {
          "output_type": "execute_result",
          "data": {
            "text/plain": [
              "3000"
            ]
          },
          "metadata": {},
          "execution_count": 46
        }
      ]
    },
    {
      "cell_type": "code",
      "source": [
        "c.course_price_set = 4500"
      ],
      "metadata": {
        "id": "oU4Gku8mNerY"
      },
      "execution_count": 47,
      "outputs": []
    },
    {
      "cell_type": "markdown",
      "source": [
        "As you can see here, we are not passing parameters. This is bcoz course_price_set acts as a variable and not a function"
      ],
      "metadata": {
        "id": "POxhzXZTN7o0"
      }
    },
    {
      "cell_type": "code",
      "source": [
        "c.course_price_access"
      ],
      "metadata": {
        "colab": {
          "base_uri": "https://localhost:8080/"
        },
        "id": "9RagV6nJNgPX",
        "outputId": "9c23f450-7a06-4bc5-a8c6-2fdf46f55deb"
      },
      "execution_count": 49,
      "outputs": [
        {
          "output_type": "execute_result",
          "data": {
            "text/plain": [
              "4500"
            ]
          },
          "metadata": {},
          "execution_count": 49
        }
      ]
    },
    {
      "cell_type": "markdown",
      "source": [
        "# In order to delete a private/protected variable, we use deleters"
      ],
      "metadata": {
        "id": "ye9Eg7LKOOH-"
      }
    },
    {
      "cell_type": "code",
      "source": [
        "class course:\n",
        "  def __init__(self, course_price, course_name):\n",
        "    self.__course_price = course_price\n",
        "    self.course_name = course_name\n",
        "\n",
        "  @property\n",
        "  def course_price_access(self):\n",
        "    return self.__course_price\n",
        "\n",
        "  @course_price_access.setter\n",
        "  def course_price_set(self, price):\n",
        "    if price < 3000:\n",
        "      pass\n",
        "    else:\n",
        "      self.__course_price = price\n",
        "\n",
        "  @course_price_access.deleter\n",
        "  def course_price_del(self):\n",
        "    del self.__course_price\n",
        "\n",
        "c = course(3000, \"Web dev\")\n",
        "c.course_name"
      ],
      "metadata": {
        "colab": {
          "base_uri": "https://localhost:8080/",
          "height": 36
        },
        "id": "f6MWqf7oNhT_",
        "outputId": "c8411148-35eb-42c9-f5e8-4d04d8fd6567"
      },
      "execution_count": 64,
      "outputs": [
        {
          "output_type": "execute_result",
          "data": {
            "text/plain": [
              "'Web dev'"
            ],
            "application/vnd.google.colaboratory.intrinsic+json": {
              "type": "string"
            }
          },
          "metadata": {},
          "execution_count": 64
        }
      ]
    },
    {
      "cell_type": "code",
      "source": [
        "c.course_price_access"
      ],
      "metadata": {
        "colab": {
          "base_uri": "https://localhost:8080/"
        },
        "id": "fQXzUL4IOWAG",
        "outputId": "c5d50544-8037-4bba-b81c-65f79011a751"
      },
      "execution_count": 65,
      "outputs": [
        {
          "output_type": "execute_result",
          "data": {
            "text/plain": [
              "3000"
            ]
          },
          "metadata": {},
          "execution_count": 65
        }
      ]
    },
    {
      "cell_type": "code",
      "source": [
        "del c.course_price_del          # here also we treat c.course_price_del as a variable"
      ],
      "metadata": {
        "id": "ELdo4cLTOvE3"
      },
      "execution_count": 66,
      "outputs": []
    },
    {
      "cell_type": "code",
      "source": [
        "c.course_price_access"
      ],
      "metadata": {
        "colab": {
          "base_uri": "https://localhost:8080/",
          "height": 299
        },
        "id": "7fxJbA2pOw2L",
        "outputId": "bb29752a-bfef-4ffa-f526-02fd3869f982"
      },
      "execution_count": 67,
      "outputs": [
        {
          "output_type": "error",
          "ename": "AttributeError",
          "evalue": "ignored",
          "traceback": [
            "\u001b[0;31m---------------------------------------------------------------------------\u001b[0m",
            "\u001b[0;31mAttributeError\u001b[0m                            Traceback (most recent call last)",
            "\u001b[0;32m<ipython-input-67-0c44418dc058>\u001b[0m in \u001b[0;36m<cell line: 1>\u001b[0;34m()\u001b[0m\n\u001b[0;32m----> 1\u001b[0;31m \u001b[0mc\u001b[0m\u001b[0;34m.\u001b[0m\u001b[0mcourse_price_access\u001b[0m\u001b[0;34m\u001b[0m\u001b[0;34m\u001b[0m\u001b[0m\n\u001b[0m",
            "\u001b[0;32m<ipython-input-64-5813355ecd39>\u001b[0m in \u001b[0;36mcourse_price_access\u001b[0;34m(self)\u001b[0m\n\u001b[1;32m      6\u001b[0m   \u001b[0;34m@\u001b[0m\u001b[0mproperty\u001b[0m\u001b[0;34m\u001b[0m\u001b[0;34m\u001b[0m\u001b[0m\n\u001b[1;32m      7\u001b[0m   \u001b[0;32mdef\u001b[0m \u001b[0mcourse_price_access\u001b[0m\u001b[0;34m(\u001b[0m\u001b[0mself\u001b[0m\u001b[0;34m)\u001b[0m\u001b[0;34m:\u001b[0m\u001b[0;34m\u001b[0m\u001b[0;34m\u001b[0m\u001b[0m\n\u001b[0;32m----> 8\u001b[0;31m     \u001b[0;32mreturn\u001b[0m \u001b[0mself\u001b[0m\u001b[0;34m.\u001b[0m\u001b[0m__course_price\u001b[0m\u001b[0;34m\u001b[0m\u001b[0;34m\u001b[0m\u001b[0m\n\u001b[0m\u001b[1;32m      9\u001b[0m \u001b[0;34m\u001b[0m\u001b[0m\n\u001b[1;32m     10\u001b[0m   \u001b[0;34m@\u001b[0m\u001b[0mcourse_price_access\u001b[0m\u001b[0;34m.\u001b[0m\u001b[0msetter\u001b[0m\u001b[0;34m\u001b[0m\u001b[0;34m\u001b[0m\u001b[0m\n",
            "\u001b[0;31mAttributeError\u001b[0m: 'course' object has no attribute '_course__course_price'"
          ]
        }
      ]
    },
    {
      "cell_type": "markdown",
      "source": [
        "* @property   -> expose a private/protected variable to outer world\n",
        "* setter -> set/ change value of private/protected variable\n",
        "* deleter -> delete value of private/protected variable\n",
        "\n",
        "\n",
        "In this way @property is useful in getting, setting, deleting value of private/protected variable"
      ],
      "metadata": {
        "id": "bdxKyaaUPJVy"
      }
    }
  ]
}