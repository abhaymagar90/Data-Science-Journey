{
  "nbformat": 4,
  "nbformat_minor": 0,
  "metadata": {
    "colab": {
      "provenance": []
    },
    "kernelspec": {
      "name": "python3",
      "display_name": "Python 3"
    },
    "language_info": {
      "name": "python"
    }
  },
  "cells": [
    {
      "cell_type": "code",
      "execution_count": 1,
      "metadata": {
        "colab": {
          "base_uri": "https://localhost:8080/",
          "height": 36
        },
        "id": "M0sZhns4Z6wx",
        "outputId": "df518784-784d-44cf-d543-235d67b8eace"
      },
      "outputs": [
        {
          "output_type": "execute_result",
          "data": {
            "text/plain": [
              "'dATA SCIENCE mASTERS'"
            ],
            "application/vnd.google.colaboratory.intrinsic+json": {
              "type": "string"
            }
          },
          "metadata": {},
          "execution_count": 1
        }
      ],
      "source": [
        "name = \"Data science Masters\"\n",
        "name.swapcase()"
      ]
    },
    {
      "cell_type": "code",
      "source": [
        "print(name.capitalize()) # Only first letter capital\n",
        "print(name.title()) # first letter of all words capital"
      ],
      "metadata": {
        "colab": {
          "base_uri": "https://localhost:8080/"
        },
        "id": "zA0R-2o3cIDm",
        "outputId": "5d764570-4bd9-49a1-c0e2-c6b693866c44"
      },
      "execution_count": 2,
      "outputs": [
        {
          "output_type": "stream",
          "name": "stdout",
          "text": [
            "Data science masters\n",
            "Data Science Masters\n"
          ]
        }
      ]
    },
    {
      "cell_type": "markdown",
      "source": [
        "#### Reversing a String"
      ],
      "metadata": {
        "id": "yDKnR9xrckB8"
      }
    },
    {
      "cell_type": "code",
      "source": [
        "name[::-1]"
      ],
      "metadata": {
        "colab": {
          "base_uri": "https://localhost:8080/",
          "height": 36
        },
        "id": "Cmz3VxRxcXL7",
        "outputId": "afd97729-34f4-4408-aff1-be48c8f4be99"
      },
      "execution_count": 3,
      "outputs": [
        {
          "output_type": "execute_result",
          "data": {
            "text/plain": [
              "'sretsaM ecneics ataD'"
            ],
            "application/vnd.google.colaboratory.intrinsic+json": {
              "type": "string"
            }
          },
          "metadata": {},
          "execution_count": 3
        }
      ]
    },
    {
      "cell_type": "code",
      "source": [
        "# join() function\n",
        "\n",
        "\" abhay \".join(\"Magar\")   # Hence \"abhay\" acts as a separator for string given in the join() function --> Magar"
      ],
      "metadata": {
        "colab": {
          "base_uri": "https://localhost:8080/",
          "height": 36
        },
        "id": "_1PxiweieKPy",
        "outputId": "0f2d483e-f5c4-4205-ec2d-f26f14caa4d3"
      },
      "execution_count": 4,
      "outputs": [
        {
          "output_type": "execute_result",
          "data": {
            "text/plain": [
              "'M abhay a abhay g abhay a abhay r'"
            ],
            "application/vnd.google.colaboratory.intrinsic+json": {
              "type": "string"
            }
          },
          "metadata": {},
          "execution_count": 4
        }
      ]
    },
    {
      "cell_type": "code",
      "source": [
        "''.join(reversed(name))"
      ],
      "metadata": {
        "colab": {
          "base_uri": "https://localhost:8080/",
          "height": 36
        },
        "id": "MKeGmLl9co2-",
        "outputId": "e5dea6a1-25b3-4fb4-8ec7-97c03318c66f"
      },
      "execution_count": 5,
      "outputs": [
        {
          "output_type": "execute_result",
          "data": {
            "text/plain": [
              "'sretsaM ecneics ataD'"
            ],
            "application/vnd.google.colaboratory.intrinsic+json": {
              "type": "string"
            }
          },
          "metadata": {},
          "execution_count": 5
        }
      ]
    },
    {
      "cell_type": "code",
      "source": [
        "\" \".join(reversed(name))"
      ],
      "metadata": {
        "colab": {
          "base_uri": "https://localhost:8080/",
          "height": 36
        },
        "id": "3Q2DkjlbcsM6",
        "outputId": "0acbe0d8-ad27-4741-8c32-d78931d9a116"
      },
      "execution_count": 6,
      "outputs": [
        {
          "output_type": "execute_result",
          "data": {
            "text/plain": [
              "'s r e t s a M   e c n e i c s   a t a D'"
            ],
            "application/vnd.google.colaboratory.intrinsic+json": {
              "type": "string"
            }
          },
          "metadata": {},
          "execution_count": 6
        }
      ]
    },
    {
      "cell_type": "code",
      "source": [
        "' '.join(\"abcd\")"
      ],
      "metadata": {
        "colab": {
          "base_uri": "https://localhost:8080/",
          "height": 36
        },
        "id": "cDXqtVUfc13w",
        "outputId": "f2314adf-107f-4664-ae8d-12d187635ade"
      },
      "execution_count": 7,
      "outputs": [
        {
          "output_type": "execute_result",
          "data": {
            "text/plain": [
              "'a b c d'"
            ],
            "application/vnd.google.colaboratory.intrinsic+json": {
              "type": "string"
            }
          },
          "metadata": {},
          "execution_count": 7
        }
      ]
    },
    {
      "cell_type": "code",
      "source": [
        "\" abhay \".join(reversed(name))"
      ],
      "metadata": {
        "colab": {
          "base_uri": "https://localhost:8080/",
          "height": 36
        },
        "id": "JjJrQILOc6y8",
        "outputId": "7bccf20d-349f-466a-83d4-de3f614f6c64"
      },
      "execution_count": 8,
      "outputs": [
        {
          "output_type": "execute_result",
          "data": {
            "text/plain": [
              "'s abhay r abhay e abhay t abhay s abhay a abhay M abhay   abhay e abhay c abhay n abhay e abhay i abhay c abhay s abhay   abhay a abhay t abhay a abhay D'"
            ],
            "application/vnd.google.colaboratory.intrinsic+json": {
              "type": "string"
            }
          },
          "metadata": {},
          "execution_count": 8
        }
      ]
    },
    {
      "cell_type": "markdown",
      "source": [
        "Type Casting"
      ],
      "metadata": {
        "id": "BRHMIelEdI_Y"
      }
    },
    {
      "cell_type": "code",
      "source": [
        "list(reversed(\"ant\"))"
      ],
      "metadata": {
        "colab": {
          "base_uri": "https://localhost:8080/"
        },
        "id": "JNgwRYf6c_N6",
        "outputId": "c2fb88fb-1a8d-4309-d2ad-9ef30f895b90"
      },
      "execution_count": 9,
      "outputs": [
        {
          "output_type": "execute_result",
          "data": {
            "text/plain": [
              "['t', 'n', 'a']"
            ]
          },
          "metadata": {},
          "execution_count": 9
        }
      ]
    },
    {
      "cell_type": "code",
      "source": [
        "str1 = \"Oracle is a good org\"\n",
        "print(reversed(str1))   # returns address at which object is reversed. Hence, we have to used reversed() with join()\n",
        "\"\".join(reversed(name))"
      ],
      "metadata": {
        "colab": {
          "base_uri": "https://localhost:8080/",
          "height": 53
        },
        "id": "d3kjHMDFdQft",
        "outputId": "c01ebc23-a1af-4555-cfb1-89317675cd9b"
      },
      "execution_count": 10,
      "outputs": [
        {
          "output_type": "stream",
          "name": "stdout",
          "text": [
            "<reversed object at 0x7fa26c2b29a0>\n"
          ]
        },
        {
          "output_type": "execute_result",
          "data": {
            "text/plain": [
              "'sretsaM ecneics ataD'"
            ],
            "application/vnd.google.colaboratory.intrinsic+json": {
              "type": "string"
            }
          },
          "metadata": {},
          "execution_count": 10
        }
      ]
    },
    {
      "cell_type": "code",
      "source": [
        "# instead of join() , we can also use for loop with reversed function. But we have to convert reversed object into list\n",
        "\n",
        "for i in list(reversed(name)):\n",
        "  print(i, end=\"\")"
      ],
      "metadata": {
        "colab": {
          "base_uri": "https://localhost:8080/"
        },
        "id": "r5XcSHzRdjtP",
        "outputId": "bce9e5cb-48d5-418a-a8cb-a2cdf47750ca"
      },
      "execution_count": 11,
      "outputs": [
        {
          "output_type": "stream",
          "name": "stdout",
          "text": [
            "sretsaM ecneics ataD"
          ]
        }
      ]
    },
    {
      "cell_type": "code",
      "source": [
        "# removing leading and trailing white spaces from a string\n",
        "str1 = \" Abhay \"\n",
        "str1.strip(\" \")"
      ],
      "metadata": {
        "colab": {
          "base_uri": "https://localhost:8080/",
          "height": 36
        },
        "id": "J5vKiJ11flne",
        "outputId": "781c4c4d-779c-48eb-a842-6ade3ab9d624"
      },
      "execution_count": 12,
      "outputs": [
        {
          "output_type": "execute_result",
          "data": {
            "text/plain": [
              "'Abhay'"
            ],
            "application/vnd.google.colaboratory.intrinsic+json": {
              "type": "string"
            }
          },
          "metadata": {},
          "execution_count": 12
        }
      ]
    },
    {
      "cell_type": "code",
      "source": [
        "str1.lstrip(\" \")"
      ],
      "metadata": {
        "colab": {
          "base_uri": "https://localhost:8080/",
          "height": 36
        },
        "id": "EfgMotSSgWkb",
        "outputId": "f59bd608-8801-4eeb-bff3-2fb777d53733"
      },
      "execution_count": 13,
      "outputs": [
        {
          "output_type": "execute_result",
          "data": {
            "text/plain": [
              "'Abhay '"
            ],
            "application/vnd.google.colaboratory.intrinsic+json": {
              "type": "string"
            }
          },
          "metadata": {},
          "execution_count": 13
        }
      ]
    },
    {
      "cell_type": "code",
      "source": [
        "str1.rstrip(\" \")"
      ],
      "metadata": {
        "colab": {
          "base_uri": "https://localhost:8080/",
          "height": 36
        },
        "id": "nhZuFQ3NgsRT",
        "outputId": "913c74eb-3d65-40b7-d239-1a18c9263b95"
      },
      "execution_count": 14,
      "outputs": [
        {
          "output_type": "execute_result",
          "data": {
            "text/plain": [
              "' Abhay'"
            ],
            "application/vnd.google.colaboratory.intrinsic+json": {
              "type": "string"
            }
          },
          "metadata": {},
          "execution_count": 14
        }
      ]
    },
    {
      "cell_type": "markdown",
      "source": [
        "#### Replacing a string"
      ],
      "metadata": {
        "id": "7pr5-HVXg-1y"
      }
    },
    {
      "cell_type": "code",
      "source": [
        "str1 = \"abhay likes to read\"\n",
        "str1.replace(\"read\", \"play\")       # str.replace(\"existing value\", \"new value\")\n",
        "\n",
        "# STRING IS NOT MUTABLE. replace() function returns a new copy of the old string."
      ],
      "metadata": {
        "colab": {
          "base_uri": "https://localhost:8080/",
          "height": 36
        },
        "id": "vHW9vWxtgwO0",
        "outputId": "2b8cbc15-aa94-4783-e53a-09bc58b80b8c"
      },
      "execution_count": 15,
      "outputs": [
        {
          "output_type": "execute_result",
          "data": {
            "text/plain": [
              "'abhay likes to play'"
            ],
            "application/vnd.google.colaboratory.intrinsic+json": {
              "type": "string"
            }
          },
          "metadata": {},
          "execution_count": 15
        }
      ]
    },
    {
      "cell_type": "code",
      "source": [
        "a = \"ABHAY\"\n",
        "b = a.replace(\"ABHAY\", \"MAGAR\")\n",
        "print(a)\n",
        "print(b)\n",
        "\n",
        "print(id(a))\n",
        "print(id(b))\n",
        "\n",
        "# As you can see, id of a and b is different. This proves that replace() makes a new copy of the available string. It does not change the old string.(IMMUTABLE)"
      ],
      "metadata": {
        "colab": {
          "base_uri": "https://localhost:8080/"
        },
        "id": "i1rvjp5thGQL",
        "outputId": "e9176866-19af-4cfa-f611-84af1679d5f5"
      },
      "execution_count": 16,
      "outputs": [
        {
          "output_type": "stream",
          "name": "stdout",
          "text": [
            "ABHAY\n",
            "MAGAR\n",
            "140335576304176\n",
            "140335576322416\n"
          ]
        }
      ]
    },
    {
      "cell_type": "code",
      "source": [
        "str = \"test@gmail.com\"\n",
        "str.replace(\"@\", \" \")"
      ],
      "metadata": {
        "colab": {
          "base_uri": "https://localhost:8080/",
          "height": 36
        },
        "id": "ZURDS4TokwA4",
        "outputId": "a891dfb9-2949-4f6a-8b9b-0f047d8711cb"
      },
      "execution_count": 17,
      "outputs": [
        {
          "output_type": "execute_result",
          "data": {
            "text/plain": [
              "'test gmail.com'"
            ],
            "application/vnd.google.colaboratory.intrinsic+json": {
              "type": "string"
            }
          },
          "metadata": {},
          "execution_count": 17
        }
      ]
    },
    {
      "cell_type": "code",
      "source": [
        "\"hello \\tworld\".expandtabs()   # for new line, we can diectly use \\n. But for indentation(tab space) we have to use \\t along with expandtabs() function"
      ],
      "metadata": {
        "colab": {
          "base_uri": "https://localhost:8080/",
          "height": 36
        },
        "id": "85Es67akloa7",
        "outputId": "cf46db67-b11b-43b6-a137-0ef01a717258"
      },
      "execution_count": 18,
      "outputs": [
        {
          "output_type": "execute_result",
          "data": {
            "text/plain": [
              "'hello   world'"
            ],
            "application/vnd.google.colaboratory.intrinsic+json": {
              "type": "string"
            }
          },
          "metadata": {},
          "execution_count": 18
        }
      ]
    },
    {
      "cell_type": "code",
      "source": [
        "str = \"Welcome to Dat cience\"\n",
        "str.replace(\"Dat\", \"Data\").replace(\"cience\",\"Science\")   # using replace() multiple times"
      ],
      "metadata": {
        "colab": {
          "base_uri": "https://localhost:8080/",
          "height": 36
        },
        "id": "uLx22hmfluz0",
        "outputId": "08dadec0-5b4b-44e0-c70b-7399e33ea072"
      },
      "execution_count": 19,
      "outputs": [
        {
          "output_type": "execute_result",
          "data": {
            "text/plain": [
              "'Welcome to Data Science'"
            ],
            "application/vnd.google.colaboratory.intrinsic+json": {
              "type": "string"
            }
          },
          "metadata": {},
          "execution_count": 19
        }
      ]
    },
    {
      "cell_type": "code",
      "source": [
        "str1 = \"Abhay\"\n",
        "print(str1.isupper())\n",
        "\n",
        "str2 = \"MAGAR\"\n",
        "print(str2.isupper())\n"
      ],
      "metadata": {
        "colab": {
          "base_uri": "https://localhost:8080/"
        },
        "id": "CNhfObUUmub-",
        "outputId": "4d97e1d0-01ff-4aeb-bc00-4ddc475badb2"
      },
      "execution_count": 20,
      "outputs": [
        {
          "output_type": "stream",
          "name": "stdout",
          "text": [
            "False\n",
            "True\n"
          ]
        }
      ]
    },
    {
      "cell_type": "code",
      "source": [
        "print(str1.islower())\n",
        "str3 = \"abhay\"\n",
        "str3.islower()"
      ],
      "metadata": {
        "colab": {
          "base_uri": "https://localhost:8080/"
        },
        "id": "qV9nAmLUnDIC",
        "outputId": "0c917223-570c-42e3-af25-024aae897cd7"
      },
      "execution_count": 21,
      "outputs": [
        {
          "output_type": "stream",
          "name": "stdout",
          "text": [
            "False\n"
          ]
        },
        {
          "output_type": "execute_result",
          "data": {
            "text/plain": [
              "True"
            ]
          },
          "metadata": {},
          "execution_count": 21
        }
      ]
    },
    {
      "cell_type": "code",
      "source": [
        "print(\" abhay \".isspace())\n",
        "print(\" \".isspace())      # isspace() returns True if string is empty"
      ],
      "metadata": {
        "colab": {
          "base_uri": "https://localhost:8080/"
        },
        "id": "_3E0xdtFnpyr",
        "outputId": "2655c148-92b2-4bea-bd96-59ccde1c0025"
      },
      "execution_count": 22,
      "outputs": [
        {
          "output_type": "stream",
          "name": "stdout",
          "text": [
            "False\n",
            "True\n"
          ]
        }
      ]
    },
    {
      "cell_type": "code",
      "source": [
        "print(str1.endswith(\"y\"))\n",
        "print(str3.endswith(\"x\"))"
      ],
      "metadata": {
        "colab": {
          "base_uri": "https://localhost:8080/"
        },
        "id": "nNLpkXlany6s",
        "outputId": "b7c197e9-8707-4a55-f04d-89869f3e80e1"
      },
      "execution_count": 23,
      "outputs": [
        {
          "output_type": "stream",
          "name": "stdout",
          "text": [
            "True\n",
            "False\n"
          ]
        }
      ]
    },
    {
      "cell_type": "code",
      "source": [
        "print(str2.startswith(\"m\"))\n",
        "print(str2.startswith(\"M\"))"
      ],
      "metadata": {
        "colab": {
          "base_uri": "https://localhost:8080/"
        },
        "id": "Mv90AAEvoHx3",
        "outputId": "08373da2-29cd-4de5-e464-5e70d168ee34"
      },
      "execution_count": 24,
      "outputs": [
        {
          "output_type": "stream",
          "name": "stdout",
          "text": [
            "False\n",
            "True\n"
          ]
        }
      ]
    },
    {
      "cell_type": "code",
      "source": [
        "## check if all the char in string are alphanumeric\n",
        "a=\"abcd1234\"\n",
        "a.isalnum()"
      ],
      "metadata": {
        "colab": {
          "base_uri": "https://localhost:8080/"
        },
        "id": "vYSIhreEoT4J",
        "outputId": "cb9ac3a2-e7fc-49a8-dfa2-b4d59f3651df"
      },
      "execution_count": 25,
      "outputs": [
        {
          "output_type": "execute_result",
          "data": {
            "text/plain": [
              "True"
            ]
          },
          "metadata": {},
          "execution_count": 25
        }
      ]
    },
    {
      "cell_type": "markdown",
      "source": [
        "### Count number of characters in a string"
      ],
      "metadata": {
        "id": "m6aFNVcpohKh"
      }
    },
    {
      "cell_type": "code",
      "source": [
        "count = 0\n",
        "for i in \"abhay\":\n",
        "  count=count+1\n",
        "print(count)\n",
        "\n",
        "# ORR\n",
        "\n",
        "len(\"abhay\")\n"
      ],
      "metadata": {
        "colab": {
          "base_uri": "https://localhost:8080/"
        },
        "id": "QcDxUchuoa7V",
        "outputId": "db072f5d-a886-47be-8129-0c97c6f15698"
      },
      "execution_count": 26,
      "outputs": [
        {
          "output_type": "stream",
          "name": "stdout",
          "text": [
            "5\n"
          ]
        },
        {
          "output_type": "execute_result",
          "data": {
            "text/plain": [
              "5"
            ]
          },
          "metadata": {},
          "execution_count": 26
        }
      ]
    },
    {
      "cell_type": "code",
      "source": [
        "range(1, 5)"
      ],
      "metadata": {
        "colab": {
          "base_uri": "https://localhost:8080/"
        },
        "id": "pQWiyC31ot05",
        "outputId": "425c0942-daef-492c-98aa-45b86a5e2108"
      },
      "execution_count": 27,
      "outputs": [
        {
          "output_type": "execute_result",
          "data": {
            "text/plain": [
              "range(1, 5)"
            ]
          },
          "metadata": {},
          "execution_count": 27
        }
      ]
    },
    {
      "cell_type": "code",
      "source": [
        "range(5)"
      ],
      "metadata": {
        "colab": {
          "base_uri": "https://localhost:8080/"
        },
        "id": "zJ6vnld_o7s-",
        "outputId": "ef24cf83-bdfd-4d55-ced0-4abac47997dd"
      },
      "execution_count": 28,
      "outputs": [
        {
          "output_type": "execute_result",
          "data": {
            "text/plain": [
              "range(0, 5)"
            ]
          },
          "metadata": {},
          "execution_count": 28
        }
      ]
    },
    {
      "cell_type": "code",
      "source": [
        "range(len(\"abhay\"))"
      ],
      "metadata": {
        "colab": {
          "base_uri": "https://localhost:8080/"
        },
        "id": "xPUVqBRio8y1",
        "outputId": "4671ae78-8588-418d-83df-fd568efd9fa7"
      },
      "execution_count": 29,
      "outputs": [
        {
          "output_type": "execute_result",
          "data": {
            "text/plain": [
              "range(0, 5)"
            ]
          },
          "metadata": {},
          "execution_count": 29
        }
      ]
    },
    {
      "cell_type": "code",
      "source": [
        "str = \"abhay\"\n",
        "for i in range(len(str)):\n",
        "  print(i, \" = \",str[i] )"
      ],
      "metadata": {
        "colab": {
          "base_uri": "https://localhost:8080/"
        },
        "id": "BLv5jogmo_CZ",
        "outputId": "fefa5939-4545-4741-953c-db2502712237"
      },
      "execution_count": 30,
      "outputs": [
        {
          "output_type": "stream",
          "name": "stdout",
          "text": [
            "0  =  a\n",
            "1  =  b\n",
            "2  =  h\n",
            "3  =  a\n",
            "4  =  y\n"
          ]
        }
      ]
    },
    {
      "cell_type": "code",
      "source": [
        "str = \"Abhay Magar\"\n",
        "print(len(str))\n",
        "# Reverse a string\n",
        "for i in range(len(str)-1, -1, -1):\n",
        "  print(str[i], end=\"\")"
      ],
      "metadata": {
        "id": "a_9WFkUkpEFj",
        "colab": {
          "base_uri": "https://localhost:8080/"
        },
        "outputId": "b48ab361-c437-4eab-ab15-1c32b2aa287b"
      },
      "execution_count": 31,
      "outputs": [
        {
          "output_type": "stream",
          "name": "stdout",
          "text": [
            "11\n",
            "ragaM yahbA"
          ]
        }
      ]
    },
    {
      "cell_type": "code",
      "source": [
        "# using while loop\n",
        "\n",
        "length = len(str) - 1\n",
        "while(length>=0):\n",
        "  print(str[length], end=\"\")\n",
        "  length = length-1"
      ],
      "metadata": {
        "colab": {
          "base_uri": "https://localhost:8080/"
        },
        "id": "eRvxcebkudGg",
        "outputId": "f53e87c9-01f4-4b65-b448-e6244e16cf02"
      },
      "execution_count": 32,
      "outputs": [
        {
          "output_type": "stream",
          "name": "stdout",
          "text": [
            "ragaM yahbA"
          ]
        }
      ]
    },
    {
      "cell_type": "code",
      "source": [
        "# check for vowels in a string\n",
        "\n",
        "str = \"abhaymsi\"\n",
        "vowel = \"aeiouAEIOU\"\n",
        "for ch in str:\n",
        "  if ch in vowel:\n",
        "    print(f\"{ch} is a vowel\")\n",
        "  else:\n",
        "    print(\"{} is not a vowel\".format(ch))"
      ],
      "metadata": {
        "colab": {
          "base_uri": "https://localhost:8080/"
        },
        "id": "jJ5QgQkkwhsR",
        "outputId": "c1302a5c-e6ed-4ed3-f6dc-19de178f9fc0"
      },
      "execution_count": 33,
      "outputs": [
        {
          "output_type": "stream",
          "name": "stdout",
          "text": [
            "a is a vowel\n",
            "b is not a vowel\n",
            "h is not a vowel\n",
            "a is a vowel\n",
            "y is not a vowel\n",
            "m is not a vowel\n",
            "s is not a vowel\n",
            "i is a vowel\n"
          ]
        }
      ]
    },
    {
      "cell_type": "markdown",
      "source": [
        "# List"
      ],
      "metadata": {
        "id": "HcYqIWVa0Dji"
      }
    },
    {
      "cell_type": "code",
      "source": [
        "type([1,2,3])"
      ],
      "metadata": {
        "colab": {
          "base_uri": "https://localhost:8080/"
        },
        "id": "tmnawA-VzlIi",
        "outputId": "4fbff05d-bd34-4fef-d6ff-4d8d4d6107f5"
      },
      "execution_count": 34,
      "outputs": [
        {
          "output_type": "execute_result",
          "data": {
            "text/plain": [
              "list"
            ]
          },
          "metadata": {},
          "execution_count": 34
        }
      ]
    },
    {
      "cell_type": "code",
      "source": [
        "[\"abhay\", 34, \"magar\", 321]"
      ],
      "metadata": {
        "colab": {
          "base_uri": "https://localhost:8080/"
        },
        "id": "NJpQWzoC2SuW",
        "outputId": "7445053a-93da-4327-cb5d-189cd239e211"
      },
      "execution_count": 35,
      "outputs": [
        {
          "output_type": "execute_result",
          "data": {
            "text/plain": [
              "['abhay', 34, 'magar', 321]"
            ]
          },
          "metadata": {},
          "execution_count": 35
        }
      ]
    },
    {
      "cell_type": "code",
      "source": [
        "str = \"My Name is Abhay\"\n",
        "print(list(str))\n",
        "print()\n",
        "print( list(str.split(\" \")) ) # making a list using \" \" as a separator"
      ],
      "metadata": {
        "colab": {
          "base_uri": "https://localhost:8080/"
        },
        "id": "CTX60ys32YCs",
        "outputId": "b44a7927-c02d-42c1-b263-aa51651211a3"
      },
      "execution_count": 36,
      "outputs": [
        {
          "output_type": "stream",
          "name": "stdout",
          "text": [
            "['M', 'y', ' ', 'N', 'a', 'm', 'e', ' ', 'i', 's', ' ', 'A', 'b', 'h', 'a', 'y']\n",
            "\n",
            "['My', 'Name', 'is', 'Abhay']\n"
          ]
        }
      ]
    },
    {
      "cell_type": "code",
      "source": [
        "# You don't need to typecast while using a split() function as it returns a list itself\n",
        "lst = str.split(\" \")\n",
        "print(lst)"
      ],
      "metadata": {
        "colab": {
          "base_uri": "https://localhost:8080/"
        },
        "id": "1t5reNcGctYG",
        "outputId": "1d23dfe9-d0c4-4013-8007-77bbbc5f1fc5"
      },
      "execution_count": 37,
      "outputs": [
        {
          "output_type": "stream",
          "name": "stdout",
          "text": [
            "['My', 'Name', 'is', 'Abhay']\n"
          ]
        }
      ]
    },
    {
      "cell_type": "code",
      "source": [
        "lst[1:]"
      ],
      "metadata": {
        "colab": {
          "base_uri": "https://localhost:8080/"
        },
        "id": "ersFWtdbdVrQ",
        "outputId": "9ffa033d-4c97-4a23-ee58-601e9f063c07"
      },
      "execution_count": 38,
      "outputs": [
        {
          "output_type": "execute_result",
          "data": {
            "text/plain": [
              "['Name', 'is', 'Abhay']"
            ]
          },
          "metadata": {},
          "execution_count": 38
        }
      ]
    },
    {
      "cell_type": "code",
      "source": [
        "lst[2]"
      ],
      "metadata": {
        "colab": {
          "base_uri": "https://localhost:8080/",
          "height": 36
        },
        "id": "w6VNIZC3d1_G",
        "outputId": "45682c5c-da61-4229-9ec1-d563d2c16791"
      },
      "execution_count": 39,
      "outputs": [
        {
          "output_type": "execute_result",
          "data": {
            "text/plain": [
              "'is'"
            ],
            "application/vnd.google.colaboratory.intrinsic+json": {
              "type": "string"
            }
          },
          "metadata": {},
          "execution_count": 39
        }
      ]
    },
    {
      "cell_type": "code",
      "source": [
        "lst[::-2]"
      ],
      "metadata": {
        "colab": {
          "base_uri": "https://localhost:8080/"
        },
        "id": "5szE14E6d5lR",
        "outputId": "ac7414f8-2414-48bd-e578-27bc3c1d6fe4"
      },
      "execution_count": 40,
      "outputs": [
        {
          "output_type": "execute_result",
          "data": {
            "text/plain": [
              "['Abhay', 'Name']"
            ]
          },
          "metadata": {},
          "execution_count": 40
        }
      ]
    },
    {
      "cell_type": "code",
      "source": [
        "lst[-5::-2]"
      ],
      "metadata": {
        "colab": {
          "base_uri": "https://localhost:8080/"
        },
        "id": "TzVCssuQd-lJ",
        "outputId": "eeeaef67-c639-443f-8237-bc62fb3e1d3a"
      },
      "execution_count": 41,
      "outputs": [
        {
          "output_type": "execute_result",
          "data": {
            "text/plain": [
              "[]"
            ]
          },
          "metadata": {},
          "execution_count": 41
        }
      ]
    },
    {
      "cell_type": "code",
      "source": [
        "#concatenation\n",
        "\n",
        "lst + [\"new elem\", 3]"
      ],
      "metadata": {
        "colab": {
          "base_uri": "https://localhost:8080/"
        },
        "id": "f6HEcslyeDjj",
        "outputId": "379615df-4f2e-4941-c21b-2832ebad180f"
      },
      "execution_count": 42,
      "outputs": [
        {
          "output_type": "execute_result",
          "data": {
            "text/plain": [
              "['My', 'Name', 'is', 'Abhay', 'new elem', 3]"
            ]
          },
          "metadata": {},
          "execution_count": 42
        }
      ]
    },
    {
      "cell_type": "code",
      "source": [
        "lst1 = lst + [[\"new elem\", 3]] # nested list\n",
        "lst1"
      ],
      "metadata": {
        "colab": {
          "base_uri": "https://localhost:8080/"
        },
        "id": "7UdQ9uCjeTOr",
        "outputId": "4c199050-8de1-4f77-c53d-6616dc1e2a48"
      },
      "execution_count": 43,
      "outputs": [
        {
          "output_type": "execute_result",
          "data": {
            "text/plain": [
              "['My', 'Name', 'is', 'Abhay', ['new elem', 3]]"
            ]
          },
          "metadata": {},
          "execution_count": 43
        }
      ]
    },
    {
      "cell_type": "code",
      "source": [
        "lst1[-1]"
      ],
      "metadata": {
        "colab": {
          "base_uri": "https://localhost:8080/"
        },
        "id": "wNGZ0XtjeawR",
        "outputId": "58876a6c-646e-4d9a-be48-55ce62a1c962"
      },
      "execution_count": 44,
      "outputs": [
        {
          "output_type": "execute_result",
          "data": {
            "text/plain": [
              "['new elem', 3]"
            ]
          },
          "metadata": {},
          "execution_count": 44
        }
      ]
    },
    {
      "cell_type": "code",
      "source": [
        "lst1[-1][0]  # accesing the nested list"
      ],
      "metadata": {
        "colab": {
          "base_uri": "https://localhost:8080/",
          "height": 36
        },
        "id": "hISQjyW2ey6Q",
        "outputId": "b15e5b05-684d-4f7b-bb4d-69394a1c862c"
      },
      "execution_count": 45,
      "outputs": [
        {
          "output_type": "execute_result",
          "data": {
            "text/plain": [
              "'new elem'"
            ],
            "application/vnd.google.colaboratory.intrinsic+json": {
              "type": "string"
            }
          },
          "metadata": {},
          "execution_count": 45
        }
      ]
    },
    {
      "cell_type": "code",
      "source": [
        "print(lst1*2)"
      ],
      "metadata": {
        "colab": {
          "base_uri": "https://localhost:8080/"
        },
        "id": "u9hSOYsce1Av",
        "outputId": "3fba70a6-4242-480d-9482-be2905ef1a4d"
      },
      "execution_count": 46,
      "outputs": [
        {
          "output_type": "stream",
          "name": "stdout",
          "text": [
            "['My', 'Name', 'is', 'Abhay', ['new elem', 3], 'My', 'Name', 'is', 'Abhay', ['new elem', 3]]\n"
          ]
        }
      ]
    },
    {
      "cell_type": "code",
      "source": [
        "if \"Abhay\" in lst1:\n",
        "  print(\"YES\")"
      ],
      "metadata": {
        "colab": {
          "base_uri": "https://localhost:8080/"
        },
        "id": "zFZwjPUffALf",
        "outputId": "98aa4582-209b-49f3-aa38-7958ba69455d"
      },
      "execution_count": 47,
      "outputs": [
        {
          "output_type": "stream",
          "name": "stdout",
          "text": [
            "YES\n"
          ]
        }
      ]
    },
    {
      "cell_type": "code",
      "source": [
        "for element in lst1:\n",
        "  if element == [\"new elem\", 3]:\n",
        "    print(element)\n",
        "    break"
      ],
      "metadata": {
        "colab": {
          "base_uri": "https://localhost:8080/"
        },
        "id": "6df6U6N-fJLi",
        "outputId": "2b55c952-b4b1-4017-e0d3-abdb861c3338"
      },
      "execution_count": 48,
      "outputs": [
        {
          "output_type": "stream",
          "name": "stdout",
          "text": [
            "['new elem', 3]\n"
          ]
        }
      ]
    },
    {
      "cell_type": "code",
      "execution_count": 49,
      "metadata": {
        "id": "835b2e11-71d7-4dd2-9e38-25b0267d6c41",
        "outputId": "3a3bbed6-1a78-4172-c779-413a7da47b4f",
        "colab": {
          "base_uri": "https://localhost:8080/"
        }
      },
      "outputs": [
        {
          "output_type": "execute_result",
          "data": {
            "text/plain": [
              "True"
            ]
          },
          "metadata": {},
          "execution_count": 49
        }
      ],
      "source": [
        "## check elements inside a list\n",
        "lst=[1,2,3,4]\n",
        "4 in lst"
      ]
    },
    {
      "cell_type": "code",
      "execution_count": 50,
      "metadata": {
        "id": "feb232dc-57db-4ef6-9c13-b9c72ac1327e",
        "outputId": "7880d026-96f3-487e-8caa-0a596dab6f16",
        "colab": {
          "base_uri": "https://localhost:8080/"
        }
      },
      "outputs": [
        {
          "output_type": "execute_result",
          "data": {
            "text/plain": [
              "True"
            ]
          },
          "metadata": {},
          "execution_count": 50
        }
      ],
      "source": [
        "2.0 in lst"
      ]
    },
    {
      "cell_type": "code",
      "execution_count": 51,
      "metadata": {
        "id": "cda9674b-2ad6-4a8f-99d4-5c650f9e1bbd"
      },
      "outputs": [],
      "source": [
        "lst1=[\"Zebra\",\"Monkey\",\"Donkey\",\"Lion\"]\n",
        "lst2=[5,6,2,9,5,8,6]"
      ]
    },
    {
      "cell_type": "code",
      "execution_count": 52,
      "metadata": {
        "id": "4df177a1-9364-4040-9bf5-3a611220d8d6",
        "outputId": "0eddcc3c-951d-47e5-9cd9-86ea5567c3cd",
        "colab": {
          "base_uri": "https://localhost:8080/"
        }
      },
      "outputs": [
        {
          "output_type": "stream",
          "name": "stdout",
          "text": [
            "Zebra\n"
          ]
        },
        {
          "output_type": "execute_result",
          "data": {
            "text/plain": [
              "9"
            ]
          },
          "metadata": {},
          "execution_count": 52
        }
      ],
      "source": [
        "print(max(lst1))   # it will compare based on ascii values of characters. eg--> [z ascii is 90] and [a ascii is 65]\n",
        "max(lst2)"
      ]
    },
    {
      "cell_type": "code",
      "source": [
        "print(min(lst1))\n",
        "min(lst2)"
      ],
      "metadata": {
        "colab": {
          "base_uri": "https://localhost:8080/"
        },
        "id": "N7WRniKjf5JQ",
        "outputId": "daff9334-db58-403e-8702-b43e2f710e58"
      },
      "execution_count": 53,
      "outputs": [
        {
          "output_type": "stream",
          "name": "stdout",
          "text": [
            "Donkey\n"
          ]
        },
        {
          "output_type": "execute_result",
          "data": {
            "text/plain": [
              "2"
            ]
          },
          "metadata": {},
          "execution_count": 53
        }
      ]
    },
    {
      "cell_type": "code",
      "source": [
        "1.9 in [2,4,5]"
      ],
      "metadata": {
        "colab": {
          "base_uri": "https://localhost:8080/"
        },
        "id": "NyYXmyhBgy1I",
        "outputId": "e8d69eb1-d567-4593-ae67-18d3fe5d440f"
      },
      "execution_count": 54,
      "outputs": [
        {
          "output_type": "execute_result",
          "data": {
            "text/plain": [
              "False"
            ]
          },
          "metadata": {},
          "execution_count": 54
        }
      ]
    },
    {
      "cell_type": "code",
      "source": [
        "1.9999999999999999999 in [2,4,5]"
      ],
      "metadata": {
        "colab": {
          "base_uri": "https://localhost:8080/"
        },
        "id": "z_bivgO6geUu",
        "outputId": "6df31001-9752-4da8-dbfa-983dd93cfc44"
      },
      "execution_count": 55,
      "outputs": [
        {
          "output_type": "execute_result",
          "data": {
            "text/plain": [
              "True"
            ]
          },
          "metadata": {},
          "execution_count": 55
        }
      ]
    },
    {
      "cell_type": "code",
      "source": [
        "5 == 5.0"
      ],
      "metadata": {
        "colab": {
          "base_uri": "https://localhost:8080/"
        },
        "id": "6wjK5s_SgwdX",
        "outputId": "ac818b44-a1ca-4c3c-96e3-cc8cfb7aedc8"
      },
      "execution_count": 56,
      "outputs": [
        {
          "output_type": "execute_result",
          "data": {
            "text/plain": [
              "True"
            ]
          },
          "metadata": {},
          "execution_count": 56
        }
      ]
    },
    {
      "cell_type": "code",
      "source": [
        "5 == 5.000000000000000000000089"
      ],
      "metadata": {
        "colab": {
          "base_uri": "https://localhost:8080/"
        },
        "id": "a-f16lt1g2Ko",
        "outputId": "d78063dd-a5ae-40f0-ab6c-0817df7bd9ee"
      },
      "execution_count": 57,
      "outputs": [
        {
          "output_type": "execute_result",
          "data": {
            "text/plain": [
              "True"
            ]
          },
          "metadata": {},
          "execution_count": 57
        }
      ]
    },
    {
      "cell_type": "code",
      "source": [
        "lst = [5,4,2,3,1]\n",
        "print(type(lst[0]))\n",
        "print(type(5.0))\n",
        "5.0 in lst"
      ],
      "metadata": {
        "colab": {
          "base_uri": "https://localhost:8080/"
        },
        "id": "zdu0PD_ug7og",
        "outputId": "0eca7008-c53c-4438-9108-1d3c504f4f68"
      },
      "execution_count": 58,
      "outputs": [
        {
          "output_type": "stream",
          "name": "stdout",
          "text": [
            "<class 'int'>\n",
            "<class 'float'>\n"
          ]
        },
        {
          "output_type": "execute_result",
          "data": {
            "text/plain": [
              "True"
            ]
          },
          "metadata": {},
          "execution_count": 58
        }
      ]
    },
    {
      "cell_type": "code",
      "source": [
        "# append\n",
        "\n",
        "lst = [1,2,3,4,5]\n",
        "lst.append(45)        # append is an inplace operation .i.e we dont need to save the changes in variable\n",
        "lst.append([7,\"abhay\"])    # multinestd list\n",
        "lst"
      ],
      "metadata": {
        "colab": {
          "base_uri": "https://localhost:8080/"
        },
        "id": "kk7GIhJBhLHo",
        "outputId": "7cc1b38a-6fd1-44f3-b1e0-982a0427f5d5"
      },
      "execution_count": 59,
      "outputs": [
        {
          "output_type": "execute_result",
          "data": {
            "text/plain": [
              "[1, 2, 3, 4, 5, 45, [7, 'abhay']]"
            ]
          },
          "metadata": {},
          "execution_count": 59
        }
      ]
    },
    {
      "cell_type": "code",
      "source": [
        "lst.pop()    # inplace operation that updates the list by removing last element in the list OR the most recently added element"
      ],
      "metadata": {
        "colab": {
          "base_uri": "https://localhost:8080/"
        },
        "id": "LLZ0SgAThl2B",
        "outputId": "dc2d36ba-21f7-4cd9-d2d4-d8a4695253bc"
      },
      "execution_count": 60,
      "outputs": [
        {
          "output_type": "execute_result",
          "data": {
            "text/plain": [
              "[7, 'abhay']"
            ]
          },
          "metadata": {},
          "execution_count": 60
        }
      ]
    },
    {
      "cell_type": "code",
      "source": [
        "lst"
      ],
      "metadata": {
        "colab": {
          "base_uri": "https://localhost:8080/"
        },
        "id": "7Gij1N1DneWk",
        "outputId": "020135df-6a7b-41b3-db5a-edbb997ecdd1"
      },
      "execution_count": 61,
      "outputs": [
        {
          "output_type": "execute_result",
          "data": {
            "text/plain": [
              "[1, 2, 3, 4, 5, 45]"
            ]
          },
          "metadata": {},
          "execution_count": 61
        }
      ]
    },
    {
      "cell_type": "code",
      "source": [
        "lst = [\"mango\", \"apple\", \"grapes\", \"lemon\"]\n",
        "lst.pop()"
      ],
      "metadata": {
        "colab": {
          "base_uri": "https://localhost:8080/",
          "height": 36
        },
        "id": "T3aIJQhqnf5y",
        "outputId": "243fc3ca-f28c-49d2-e4b6-2e31e13b7b87"
      },
      "execution_count": 62,
      "outputs": [
        {
          "output_type": "execute_result",
          "data": {
            "text/plain": [
              "'lemon'"
            ],
            "application/vnd.google.colaboratory.intrinsic+json": {
              "type": "string"
            }
          },
          "metadata": {},
          "execution_count": 62
        }
      ]
    },
    {
      "cell_type": "code",
      "source": [
        "lst.pop(2) # pops out element present at index 2"
      ],
      "metadata": {
        "colab": {
          "base_uri": "https://localhost:8080/",
          "height": 36
        },
        "id": "DrxjBh79n9b1",
        "outputId": "ad893bdd-ce78-4021-d0a8-1522333811c9"
      },
      "execution_count": 63,
      "outputs": [
        {
          "output_type": "execute_result",
          "data": {
            "text/plain": [
              "'grapes'"
            ],
            "application/vnd.google.colaboratory.intrinsic+json": {
              "type": "string"
            }
          },
          "metadata": {},
          "execution_count": 63
        }
      ]
    },
    {
      "cell_type": "code",
      "source": [
        "lst"
      ],
      "metadata": {
        "colab": {
          "base_uri": "https://localhost:8080/"
        },
        "id": "2DhuuQr6oBzh",
        "outputId": "3e0d1e9e-d43c-4e91-ad6c-fd543dc97e24"
      },
      "execution_count": 64,
      "outputs": [
        {
          "output_type": "execute_result",
          "data": {
            "text/plain": [
              "['mango', 'apple']"
            ]
          },
          "metadata": {},
          "execution_count": 64
        }
      ]
    },
    {
      "cell_type": "code",
      "source": [
        "lst = [\"mango\", \"apple\", \"grapes\", \"lemon\"]\n",
        "removed_elem = lst.pop(0)\n",
        "removed_elem"
      ],
      "metadata": {
        "colab": {
          "base_uri": "https://localhost:8080/",
          "height": 36
        },
        "id": "EMPIPr6QoCTZ",
        "outputId": "ef19dd2e-2d7e-4893-a8f8-af348a7566c8"
      },
      "execution_count": 65,
      "outputs": [
        {
          "output_type": "execute_result",
          "data": {
            "text/plain": [
              "'mango'"
            ],
            "application/vnd.google.colaboratory.intrinsic+json": {
              "type": "string"
            }
          },
          "metadata": {},
          "execution_count": 65
        }
      ]
    },
    {
      "cell_type": "code",
      "source": [
        "new_list = ['a','b','c','d','e','f']\n",
        "new_list[::-1]    # NOT an inplace operation"
      ],
      "metadata": {
        "colab": {
          "base_uri": "https://localhost:8080/"
        },
        "id": "d9Gr_xfXoIa9",
        "outputId": "f387243f-1d77-439a-ce97-a75e2a95cd3d"
      },
      "execution_count": 66,
      "outputs": [
        {
          "output_type": "execute_result",
          "data": {
            "text/plain": [
              "['f', 'e', 'd', 'c', 'b', 'a']"
            ]
          },
          "metadata": {},
          "execution_count": 66
        }
      ]
    },
    {
      "cell_type": "code",
      "source": [
        "new_list"
      ],
      "metadata": {
        "colab": {
          "base_uri": "https://localhost:8080/"
        },
        "id": "Mqwh_w37rfRO",
        "outputId": "6ef02693-72f7-420c-e301-f5fb76459e6e"
      },
      "execution_count": 67,
      "outputs": [
        {
          "output_type": "execute_result",
          "data": {
            "text/plain": [
              "['a', 'b', 'c', 'd', 'e', 'f']"
            ]
          },
          "metadata": {},
          "execution_count": 67
        }
      ]
    },
    {
      "cell_type": "code",
      "source": [
        "new_list.reverse()    # inplace operation\n",
        "new_list"
      ],
      "metadata": {
        "colab": {
          "base_uri": "https://localhost:8080/"
        },
        "id": "EqmMjnlwrg19",
        "outputId": "9b16a8eb-0794-45aa-eecc-dd43c60f6be2"
      },
      "execution_count": 68,
      "outputs": [
        {
          "output_type": "execute_result",
          "data": {
            "text/plain": [
              "['f', 'e', 'd', 'c', 'b', 'a']"
            ]
          },
          "metadata": {},
          "execution_count": 68
        }
      ]
    },
    {
      "cell_type": "code",
      "source": [
        "new_list.sort()     # inplace operation\n",
        "new_list"
      ],
      "metadata": {
        "colab": {
          "base_uri": "https://localhost:8080/"
        },
        "id": "2m-y384GrxrO",
        "outputId": "b53d4545-17f0-4f47-dae6-0d3bb7bfd4ee"
      },
      "execution_count": 69,
      "outputs": [
        {
          "output_type": "execute_result",
          "data": {
            "text/plain": [
              "['a', 'b', 'c', 'd', 'e', 'f']"
            ]
          },
          "metadata": {},
          "execution_count": 69
        }
      ]
    },
    {
      "cell_type": "code",
      "source": [
        "new_list.sort(reverse=True) # inplace operation\n",
        "new_list"
      ],
      "metadata": {
        "colab": {
          "base_uri": "https://localhost:8080/"
        },
        "id": "D_ONkWPgsEYY",
        "outputId": "a669a34a-cde0-447e-9374-3cb7c7ad1734"
      },
      "execution_count": 70,
      "outputs": [
        {
          "output_type": "execute_result",
          "data": {
            "text/plain": [
              "['f', 'e', 'd', 'c', 'b', 'a']"
            ]
          },
          "metadata": {},
          "execution_count": 70
        }
      ]
    },
    {
      "cell_type": "code",
      "source": [
        "lst = [2,5,1,6,9,8]\n",
        "lst.append(10)\n",
        "lst"
      ],
      "metadata": {
        "colab": {
          "base_uri": "https://localhost:8080/"
        },
        "id": "jeNi2pA2sLkl",
        "outputId": "11d4c2a1-e7b3-45b3-c23d-e551efcbd8cc"
      },
      "execution_count": 71,
      "outputs": [
        {
          "output_type": "execute_result",
          "data": {
            "text/plain": [
              "[2, 5, 1, 6, 9, 8, 10]"
            ]
          },
          "metadata": {},
          "execution_count": 71
        }
      ]
    },
    {
      "cell_type": "code",
      "source": [
        "lst.append([\"abhay\", 34])\n",
        "lst"
      ],
      "metadata": {
        "colab": {
          "base_uri": "https://localhost:8080/"
        },
        "id": "7i0QyqeosYBE",
        "outputId": "eba5890f-e6c4-41b9-afea-74aba4112302"
      },
      "execution_count": 72,
      "outputs": [
        {
          "output_type": "execute_result",
          "data": {
            "text/plain": [
              "[2, 5, 1, 6, 9, 8, 10, ['abhay', 34]]"
            ]
          },
          "metadata": {},
          "execution_count": 72
        }
      ]
    },
    {
      "cell_type": "code",
      "source": [
        "# to append multiple values in one step, use \"extend() function\"\n",
        "\n",
        "lst.extend([\"magar\", 78])\n",
        "lst"
      ],
      "metadata": {
        "colab": {
          "base_uri": "https://localhost:8080/"
        },
        "id": "mwPAgdg3sfAQ",
        "outputId": "fa092d55-3475-46e0-8db0-9714e1979961"
      },
      "execution_count": 73,
      "outputs": [
        {
          "output_type": "execute_result",
          "data": {
            "text/plain": [
              "[2, 5, 1, 6, 9, 8, 10, ['abhay', 34], 'magar', 78]"
            ]
          },
          "metadata": {},
          "execution_count": 73
        }
      ]
    },
    {
      "cell_type": "markdown",
      "source": [
        "# Nested List"
      ],
      "metadata": {
        "id": "fePqpkTruAJX"
      }
    },
    {
      "cell_type": "code",
      "source": [
        "# make 3 lists\n",
        "\n",
        "l1 = [1,2,3]\n",
        "l2 = [4,5,6]\n",
        "l3 = [7,8,9]\n",
        "\n",
        "# make a list of these 3 lists to form a matrix\n",
        "matrix = [l1,l2,l3]"
      ],
      "metadata": {
        "id": "f2ImIvv2uBn6"
      },
      "execution_count": 74,
      "outputs": []
    },
    {
      "cell_type": "code",
      "source": [
        "matrix"
      ],
      "metadata": {
        "colab": {
          "base_uri": "https://localhost:8080/"
        },
        "id": "F31_S8P4uZOQ",
        "outputId": "e96f6b43-fa35-4c8c-e52c-4419a919eaa8"
      },
      "execution_count": 75,
      "outputs": [
        {
          "output_type": "execute_result",
          "data": {
            "text/plain": [
              "[[1, 2, 3], [4, 5, 6], [7, 8, 9]]"
            ]
          },
          "metadata": {},
          "execution_count": 75
        }
      ]
    },
    {
      "cell_type": "code",
      "source": [
        "matrix[1][2]"
      ],
      "metadata": {
        "colab": {
          "base_uri": "https://localhost:8080/"
        },
        "id": "jIJPF3qluaT1",
        "outputId": "096e5d0e-8ee1-41ce-db49-1926d697c2d1"
      },
      "execution_count": 76,
      "outputs": [
        {
          "output_type": "execute_result",
          "data": {
            "text/plain": [
              "6"
            ]
          },
          "metadata": {},
          "execution_count": 76
        }
      ]
    },
    {
      "cell_type": "code",
      "source": [
        "matrix[1][1:]"
      ],
      "metadata": {
        "colab": {
          "base_uri": "https://localhost:8080/"
        },
        "id": "jwWpVJsPudFG",
        "outputId": "00593a5c-933c-4a21-cf38-26feaa6452a6"
      },
      "execution_count": 77,
      "outputs": [
        {
          "output_type": "execute_result",
          "data": {
            "text/plain": [
              "[5, 6]"
            ]
          },
          "metadata": {},
          "execution_count": 77
        }
      ]
    },
    {
      "cell_type": "code",
      "source": [
        "# list comprehension\n",
        "[i for i in range(20)]"
      ],
      "metadata": {
        "colab": {
          "base_uri": "https://localhost:8080/"
        },
        "id": "AtG7eWU3uhzk",
        "outputId": "ba0236e9-1188-490b-adf7-36f5ae03483c"
      },
      "execution_count": 78,
      "outputs": [
        {
          "output_type": "execute_result",
          "data": {
            "text/plain": [
              "[0, 1, 2, 3, 4, 5, 6, 7, 8, 9, 10, 11, 12, 13, 14, 15, 16, 17, 18, 19]"
            ]
          },
          "metadata": {},
          "execution_count": 78
        }
      ]
    },
    {
      "cell_type": "code",
      "source": [
        "# to get even values only\n",
        "[i if i%2==0 else \"ODD\" for i in range(20)]"
      ],
      "metadata": {
        "colab": {
          "base_uri": "https://localhost:8080/"
        },
        "id": "nSO_qBaQuqFX",
        "outputId": "0d506e90-9c4f-4d9c-fcae-d174109faa01"
      },
      "execution_count": 79,
      "outputs": [
        {
          "output_type": "execute_result",
          "data": {
            "text/plain": [
              "[0,\n",
              " 'ODD',\n",
              " 2,\n",
              " 'ODD',\n",
              " 4,\n",
              " 'ODD',\n",
              " 6,\n",
              " 'ODD',\n",
              " 8,\n",
              " 'ODD',\n",
              " 10,\n",
              " 'ODD',\n",
              " 12,\n",
              " 'ODD',\n",
              " 14,\n",
              " 'ODD',\n",
              " 16,\n",
              " 'ODD',\n",
              " 18,\n",
              " 'ODD']"
            ]
          },
          "metadata": {},
          "execution_count": 79
        }
      ]
    },
    {
      "cell_type": "code",
      "execution_count": 80,
      "metadata": {
        "id": "e86ab3bf-46c0-4c97-b49f-4e2e2cade2cd",
        "outputId": "37c66387-35cb-4322-a942-c3b610a3ec8d",
        "colab": {
          "base_uri": "https://localhost:8080/"
        }
      },
      "outputs": [
        {
          "output_type": "stream",
          "name": "stdout",
          "text": [
            "20\n",
            "16\n"
          ]
        }
      ],
      "source": [
        "lst = [1,2,3,4,5,6,7,8]\n",
        "\n",
        "even = 0\n",
        "odd = 0\n",
        "for i in lst:\n",
        "    if i % 2 ==0:\n",
        "        even += i\n",
        "    else:\n",
        "        odd += i        \n",
        "        \n",
        "print(even)\n",
        "print(odd)\n"
      ]
    },
    {
      "cell_type": "code",
      "execution_count": 81,
      "metadata": {
        "id": "88e4c644-8e40-42d6-8140-870806947749",
        "colab": {
          "base_uri": "https://localhost:8080/"
        },
        "outputId": "837af66e-aad0-40c4-c44f-33d5b4446555"
      },
      "outputs": [
        {
          "output_type": "execute_result",
          "data": {
            "text/plain": [
              "[1, 2, 3, 4, 5, 6, 7, 8]"
            ]
          },
          "metadata": {},
          "execution_count": 81
        }
      ],
      "source": [
        "[num for num in lst]"
      ]
    },
    {
      "cell_type": "code",
      "source": [
        "[num for num in lst if num%2 == 0]"
      ],
      "metadata": {
        "colab": {
          "base_uri": "https://localhost:8080/"
        },
        "id": "U_N1j_I9zAvF",
        "outputId": "8f501a3a-1317-48ba-9d7c-d30bd7ef6786"
      },
      "execution_count": 82,
      "outputs": [
        {
          "output_type": "execute_result",
          "data": {
            "text/plain": [
              "[2, 4, 6, 8]"
            ]
          },
          "metadata": {},
          "execution_count": 82
        }
      ]
    },
    {
      "cell_type": "code",
      "source": [
        "sum = 0\n",
        "del sum"
      ],
      "metadata": {
        "id": "hqm5vcNy1PC5"
      },
      "execution_count": 83,
      "outputs": []
    },
    {
      "cell_type": "code",
      "source": [
        "even_sum = sum([num for num in lst if num%2 == 0])"
      ],
      "metadata": {
        "id": "WuNJwJnVzE5K"
      },
      "execution_count": 84,
      "outputs": []
    },
    {
      "cell_type": "code",
      "execution_count": 85,
      "metadata": {
        "id": "b69a4753-3fad-4085-b1c3-fae94c4849bb",
        "colab": {
          "base_uri": "https://localhost:8080/"
        },
        "outputId": "f132968f-6d1f-4f95-b1d2-5a87f8ce6711"
      },
      "outputs": [
        {
          "output_type": "execute_result",
          "data": {
            "text/plain": [
              "20"
            ]
          },
          "metadata": {},
          "execution_count": 85
        }
      ],
      "source": [
        "even_sum"
      ]
    },
    {
      "cell_type": "code",
      "execution_count": 86,
      "metadata": {
        "id": "656a51c4-cf55-4650-bdd8-6f6418a9c445",
        "colab": {
          "base_uri": "https://localhost:8080/"
        },
        "outputId": "d2703477-fbe5-49e6-f2c6-aaf71a359b68"
      },
      "outputs": [
        {
          "output_type": "execute_result",
          "data": {
            "text/plain": [
              "16"
            ]
          },
          "metadata": {},
          "execution_count": 86
        }
      ],
      "source": [
        "odd_sum=sum([num for num in lst if num%2!=0])\n",
        "odd_sum"
      ]
    },
    {
      "cell_type": "code",
      "source": [
        "lst=[1,2,3,4,5,6,7,8,9,10]\n",
        "[num**2 for num in lst]"
      ],
      "metadata": {
        "colab": {
          "base_uri": "https://localhost:8080/"
        },
        "id": "BKMe11PE1zvA",
        "outputId": "765ffa31-f3ed-4ddf-c2d8-6bb49def7fd4"
      },
      "execution_count": 87,
      "outputs": [
        {
          "output_type": "execute_result",
          "data": {
            "text/plain": [
              "[1, 4, 9, 16, 25, 36, 49, 64, 81, 100]"
            ]
          },
          "metadata": {},
          "execution_count": 87
        }
      ]
    },
    {
      "cell_type": "code",
      "source": [
        "# Example 2: Create a list of only the positive numbers from a given list\n",
        "numbers = [-2, -1, 0, 1, 2, 3, 4]\n",
        "[num for num in numbers if num>0]"
      ],
      "metadata": {
        "colab": {
          "base_uri": "https://localhost:8080/"
        },
        "id": "ncq_kZMG2CuY",
        "outputId": "eb095c75-fc02-4ab3-f6e9-f172eeb9c698"
      },
      "execution_count": 88,
      "outputs": [
        {
          "output_type": "execute_result",
          "data": {
            "text/plain": [
              "[1, 2, 3, 4]"
            ]
          },
          "metadata": {},
          "execution_count": 88
        }
      ]
    },
    {
      "cell_type": "code",
      "source": [
        "# Example 3: Create a list of only the first letters of words in a list\n",
        "words = ['apple', 'banana', 'cherry', 'date']\n",
        "[i[0] for i in words]"
      ],
      "metadata": {
        "colab": {
          "base_uri": "https://localhost:8080/"
        },
        "id": "oE_iNoc22IFC",
        "outputId": "1ca9f7c3-3001-460a-b98b-eb57ec754453"
      },
      "execution_count": 89,
      "outputs": [
        {
          "output_type": "execute_result",
          "data": {
            "text/plain": [
              "['a', 'b', 'c', 'd']"
            ]
          },
          "metadata": {},
          "execution_count": 89
        }
      ]
    },
    {
      "cell_type": "code",
      "source": [
        "# Example 4: Convert a list of temperatures from Celsius to Fahrenheit uing list comprehesnion\n",
        "celsius_temperatures = [0, 10, 20, 30, 40, 50]\n",
        "\n",
        "[(9/5)*i+32 for i in celsius_temperatures]"
      ],
      "metadata": {
        "colab": {
          "base_uri": "https://localhost:8080/"
        },
        "id": "iP28IzUg2QYJ",
        "outputId": "ab6ffd42-6ea0-446b-c072-17e09eb9f551"
      },
      "execution_count": 90,
      "outputs": [
        {
          "output_type": "execute_result",
          "data": {
            "text/plain": [
              "[32.0, 50.0, 68.0, 86.0, 104.0, 122.0]"
            ]
          },
          "metadata": {},
          "execution_count": 90
        }
      ]
    },
    {
      "cell_type": "code",
      "source": [
        "# Example 5: Flatten a list of lists into a single list\n",
        "lists = [[1, 2, 3], [4, 5, 6], [7, 8, 9]]\n",
        "\n",
        "[j for i in lists for j in i]"
      ],
      "metadata": {
        "colab": {
          "base_uri": "https://localhost:8080/"
        },
        "id": "Cj8DpSHc2ohB",
        "outputId": "ff1b7788-cbe5-4274-fae5-24fad40dc8e1"
      },
      "execution_count": 91,
      "outputs": [
        {
          "output_type": "execute_result",
          "data": {
            "text/plain": [
              "[1, 2, 3, 4, 5, 6, 7, 8, 9]"
            ]
          },
          "metadata": {},
          "execution_count": 91
        }
      ]
    },
    {
      "cell_type": "code",
      "execution_count": 92,
      "metadata": {
        "id": "6cf53d9d-ba8e-44b3-8e9b-4d994d40d6e9"
      },
      "outputs": [],
      "source": [
        "## Assignment \n",
        "## Using both code and list comprehesnion\n",
        "# Example 2: Create a list of only the prime numbers from a given list\n",
        "numbers = [1, 2, 3, 4, 5, 6, 7, 8, 9, 10]\n"
      ]
    },
    {
      "cell_type": "code",
      "execution_count": 93,
      "metadata": {
        "id": "f675dd98-6908-4f39-91e8-6b4fd9f8c6cb"
      },
      "outputs": [],
      "source": [
        "# Example 3: Create a list of all the possible combinations of 2 elements from a list\n",
        "numbers = [1, 2, 3, 4, 5]"
      ]
    },
    {
      "cell_type": "code",
      "execution_count": 94,
      "metadata": {
        "id": "a0ac2faa-453b-4fda-95eb-f88b0707e089",
        "outputId": "25c670d1-a189-4f63-f4a4-8e205fdac6ee",
        "colab": {
          "base_uri": "https://localhost:8080/"
        }
      },
      "outputs": [
        {
          "output_type": "execute_result",
          "data": {
            "text/plain": [
              "((1, 2), (1, 3))"
            ]
          },
          "metadata": {},
          "execution_count": 94
        }
      ],
      "source": [
        "(1,2),(1,3)"
      ]
    },
    {
      "cell_type": "code",
      "execution_count": 95,
      "metadata": {
        "id": "9a7a9a8d-17bb-491b-a8e3-9e5a79b17634"
      },
      "outputs": [],
      "source": [
        "lst = [4,5,6,7]"
      ]
    },
    {
      "cell_type": "code",
      "execution_count": 96,
      "metadata": {
        "id": "15cff215-718e-423e-9129-5dfc0c4ad40b",
        "colab": {
          "base_uri": "https://localhost:8080/"
        },
        "outputId": "2f19796f-3508-4869-8850-06d15e079a3c"
      },
      "outputs": [
        {
          "output_type": "execute_result",
          "data": {
            "text/plain": [
              "[4, 5, 3, 6, 7]"
            ]
          },
          "metadata": {},
          "execution_count": 96
        }
      ],
      "source": [
        "lst.insert(2,3)    # inserts element \"3\" at index=2 ----> insert(index,elem)\n",
        "lst"
      ]
    },
    {
      "cell_type": "code",
      "execution_count": 97,
      "metadata": {
        "id": "a2e4d793-767b-4c68-b366-13d4fe7660a3"
      },
      "outputs": [],
      "source": [
        "c=1+2j"
      ]
    },
    {
      "cell_type": "code",
      "execution_count": 98,
      "metadata": {
        "id": "b1436805-a8aa-403c-b239-e1308a73cb4d",
        "outputId": "abb8dd25-2ff5-4bf6-fedb-541e831cc949",
        "colab": {
          "base_uri": "https://localhost:8080/"
        }
      },
      "outputs": [
        {
          "output_type": "execute_result",
          "data": {
            "text/plain": [
              "1.0"
            ]
          },
          "metadata": {},
          "execution_count": 98
        }
      ],
      "source": [
        "c.real"
      ]
    },
    {
      "cell_type": "code",
      "source": [
        "lst = [4,3,9,7,2,1,56,23,12]"
      ],
      "metadata": {
        "id": "PzlVQ97u5LIv"
      },
      "execution_count": 99,
      "outputs": []
    },
    {
      "cell_type": "code",
      "source": [
        "(sorted(lst))   # not an inplace operation"
      ],
      "metadata": {
        "colab": {
          "base_uri": "https://localhost:8080/"
        },
        "id": "6L5UP9635LpH",
        "outputId": "0d382342-fc54-4a94-d057-5508c19bab69"
      },
      "execution_count": 100,
      "outputs": [
        {
          "output_type": "execute_result",
          "data": {
            "text/plain": [
              "[1, 2, 3, 4, 7, 9, 12, 23, 56]"
            ]
          },
          "metadata": {},
          "execution_count": 100
        }
      ]
    },
    {
      "cell_type": "code",
      "source": [
        "lst"
      ],
      "metadata": {
        "colab": {
          "base_uri": "https://localhost:8080/"
        },
        "id": "JiGsgSYE5UW5",
        "outputId": "a91b648e-db23-4e16-fff8-b6d9d0a45b57"
      },
      "execution_count": 101,
      "outputs": [
        {
          "output_type": "execute_result",
          "data": {
            "text/plain": [
              "[4, 3, 9, 7, 2, 1, 56, 23, 12]"
            ]
          },
          "metadata": {},
          "execution_count": 101
        }
      ]
    },
    {
      "cell_type": "code",
      "source": [
        "lst.sort()    # inplace operation"
      ],
      "metadata": {
        "id": "LNCP5Az05dum"
      },
      "execution_count": 102,
      "outputs": []
    },
    {
      "cell_type": "code",
      "source": [
        "lst"
      ],
      "metadata": {
        "colab": {
          "base_uri": "https://localhost:8080/"
        },
        "id": "WnuLhMPD5e2f",
        "outputId": "2bb72aae-4a3d-4349-ef81-2084e3233cb7"
      },
      "execution_count": 103,
      "outputs": [
        {
          "output_type": "execute_result",
          "data": {
            "text/plain": [
              "[1, 2, 3, 4, 7, 9, 12, 23, 56]"
            ]
          },
          "metadata": {},
          "execution_count": 103
        }
      ]
    }
  ]
}