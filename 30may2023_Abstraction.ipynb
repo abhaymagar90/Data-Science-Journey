{
  "nbformat": 4,
  "nbformat_minor": 0,
  "metadata": {
    "colab": {
      "provenance": []
    },
    "kernelspec": {
      "name": "python3",
      "display_name": "Python 3"
    },
    "language_info": {
      "name": "python"
    }
  },
  "cells": [
    {
      "cell_type": "markdown",
      "source": [
        "* Abstraction is used to hide the internal functionality of the function from the users. The users only interact with the basic implementation of the function, but inner working is hidden. User is familiar with that \"what function does\" but they don't know \"how it does.\"\n",
        "\n",
        "* An abstract class can be considered as a blueprint for other classes. It allows you to create a set of methods that must be created within any child classes built from the abstract class. A class which contains one or more abstract methods is called an abstract class. An abstract method is a method that has a declaration but does not have an implementation. While we are designing large functional units we use an abstract class. When we want to provide a common interface for different implementations of a component, we use an abstract class. \n",
        "\n",
        "* By defining an abstract base class, you can define a common Application Program Interface(API) for a set of subclasses."
      ],
      "metadata": {
        "id": "0tbmXGUQLst2"
      }
    },
    {
      "cell_type": "code",
      "source": [
        "import abc\n",
        "\n",
        "class course:\n",
        "\n",
        "  @abc.abstractmethod\n",
        "  def student_details(self):\n",
        "    pass\n",
        "  @abc.abstractmethod\n",
        "  def student_marks(self):\n",
        "    pass\n",
        "  @abc.abstractmethod\n",
        "  def student_assignment(self):\n",
        "    pass\n",
        "  \n",
        "class data_science(course):\n",
        "  def student_details(self):\n",
        "    print(\"This is student details for DS\")\n",
        "  def student_assignment(self):\n",
        "    print(\"This is assignment for DS\")\n",
        "\n",
        "class web_dev(course):\n",
        "  def student_details(self):\n",
        "    print(\"This is student details for WD\")\n",
        "  def student_marks(self):\n",
        "    print(\"This is marks for WD\")\n"
      ],
      "metadata": {
        "id": "sVAGY7vjMNnN"
      },
      "execution_count": 15,
      "outputs": []
    },
    {
      "cell_type": "code",
      "source": [
        "ds = data_science()\n",
        "ds.student_assignment()"
      ],
      "metadata": {
        "colab": {
          "base_uri": "https://localhost:8080/"
        },
        "id": "sPg2Yu_AODP9",
        "outputId": "0883e835-c03e-4eff-ff1f-aa9794556e4a"
      },
      "execution_count": 13,
      "outputs": [
        {
          "output_type": "stream",
          "name": "stdout",
          "text": [
            "This is assignment for DS\n"
          ]
        }
      ]
    },
    {
      "cell_type": "code",
      "source": [
        "wd = web_dev()\n",
        "wd.student_marks()"
      ],
      "metadata": {
        "colab": {
          "base_uri": "https://localhost:8080/"
        },
        "id": "hny-6xMKONeP",
        "outputId": "ef7fbb97-03ca-4ad3-8ebd-3b46af46c9a3"
      },
      "execution_count": 17,
      "outputs": [
        {
          "output_type": "stream",
          "name": "stdout",
          "text": [
            "This is marks for WD\n"
          ]
        }
      ]
    }
  ]
}