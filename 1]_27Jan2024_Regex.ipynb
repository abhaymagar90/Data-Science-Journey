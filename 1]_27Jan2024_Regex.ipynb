{
  "nbformat": 4,
  "nbformat_minor": 0,
  "metadata": {
    "colab": {
      "provenance": []
    },
    "kernelspec": {
      "name": "python3",
      "display_name": "Python 3"
    },
    "language_info": {
      "name": "python"
    }
  },
  "cells": [
    {
      "cell_type": "code",
      "execution_count": 1,
      "metadata": {
        "id": "_ADRIo9gXlC4"
      },
      "outputs": [],
      "source": [
        "import re"
      ]
    },
    {
      "cell_type": "code",
      "source": [
        "# Sample Text\n",
        "\n",
        "text = \"The quick brown fox jumps over the lazy dog\""
      ],
      "metadata": {
        "id": "0bXAfhlkXmxb"
      },
      "execution_count": 2,
      "outputs": []
    },
    {
      "cell_type": "markdown",
      "source": [
        "# Basic Regex Operations\n",
        "\n",
        "Regex allows to perform various operations on text such as searching for patterns, replacing text and splitting strings"
      ],
      "metadata": {
        "id": "YD5aEm7lYOkr"
      }
    },
    {
      "cell_type": "code",
      "source": [
        "# Searching for a Pattern\n",
        "\n",
        "pattern = r\"fox\"\n",
        "matches = re.findall(pattern, text)\n",
        "matches"
      ],
      "metadata": {
        "colab": {
          "base_uri": "https://localhost:8080/"
        },
        "id": "ZXOb4zToXwDi",
        "outputId": "3191a26e-7f0d-41ca-97dd-18c2356eaff7"
      },
      "execution_count": 5,
      "outputs": [
        {
          "output_type": "execute_result",
          "data": {
            "text/plain": [
              "['fox']"
            ]
          },
          "metadata": {},
          "execution_count": 5
        }
      ]
    },
    {
      "cell_type": "code",
      "source": [
        "# Replacing text\n",
        "\n",
        "pattern = \"fox\"\n",
        "replacement = \"cat\"\n",
        "re.sub(pattern, replacement, text)"
      ],
      "metadata": {
        "colab": {
          "base_uri": "https://localhost:8080/",
          "height": 36
        },
        "id": "sHPPxyRsYktM",
        "outputId": "01024647-cfcf-4f71-d597-b7fa51b57110"
      },
      "execution_count": 6,
      "outputs": [
        {
          "output_type": "execute_result",
          "data": {
            "text/plain": [
              "'The quick brown cat jumps over the lazy dog'"
            ],
            "application/vnd.google.colaboratory.intrinsic+json": {
              "type": "string"
            }
          },
          "metadata": {},
          "execution_count": 6
        }
      ]
    },
    {
      "cell_type": "markdown",
      "source": [
        "# Splitting strings"
      ],
      "metadata": {
        "id": "eQo2z0G8ZqRa"
      }
    },
    {
      "cell_type": "code",
      "source": [
        "pattern = r\"\\s\" # Split on spaces\n",
        "split_text = re.split(pattern, text)\n",
        "print(\"Split Text: \", split_text)"
      ],
      "metadata": {
        "colab": {
          "base_uri": "https://localhost:8080/"
        },
        "id": "YkzpOhGZZlXc",
        "outputId": "76e3b64a-e006-460d-a878-91dec3903240"
      },
      "execution_count": 9,
      "outputs": [
        {
          "output_type": "stream",
          "name": "stdout",
          "text": [
            "Split Text:  ['The', 'quick', 'brown', 'fox', 'jumps', 'over', 'the', 'lazy', 'dog']\n"
          ]
        }
      ]
    },
    {
      "cell_type": "markdown",
      "source": [
        "# Quantifiers"
      ],
      "metadata": {
        "id": "ACFt6XbqaP4z"
      }
    },
    {
      "cell_type": "code",
      "source": [
        "pattern = r\"o{2}\" # Matches 2 consecutive o characters\n",
        "\n",
        "re.findall(pattern, text)"
      ],
      "metadata": {
        "colab": {
          "base_uri": "https://localhost:8080/"
        },
        "id": "TChr8XiXaHvH",
        "outputId": "9c151f6d-524e-4c44-f72d-c2a6048ee2a9"
      },
      "execution_count": 14,
      "outputs": [
        {
          "output_type": "execute_result",
          "data": {
            "text/plain": [
              "[]"
            ]
          },
          "metadata": {},
          "execution_count": 14
        }
      ]
    },
    {
      "cell_type": "code",
      "source": [
        "re.findall(pattern, \"Handloom is a very good product\")"
      ],
      "metadata": {
        "colab": {
          "base_uri": "https://localhost:8080/"
        },
        "id": "-rWFcw6baf86",
        "outputId": "c5e28381-d708-447c-94c5-71bece66d1c6"
      },
      "execution_count": 15,
      "outputs": [
        {
          "output_type": "execute_result",
          "data": {
            "text/plain": [
              "['oo', 'oo']"
            ]
          },
          "metadata": {},
          "execution_count": 15
        }
      ]
    },
    {
      "cell_type": "code",
      "source": [
        "# Vowels\n",
        "\n",
        "pattern = r\"[aeiou]\"\n",
        "re.findall(pattern, text)"
      ],
      "metadata": {
        "colab": {
          "base_uri": "https://localhost:8080/"
        },
        "id": "sXmttcx1brJk",
        "outputId": "e42d3658-b7e4-4d31-efe8-a10921edc804"
      },
      "execution_count": 24,
      "outputs": [
        {
          "output_type": "execute_result",
          "data": {
            "text/plain": [
              "['e', 'u', 'i', 'o', 'o', 'u', 'o', 'e', 'e', 'a', 'o']"
            ]
          },
          "metadata": {},
          "execution_count": 24
        }
      ]
    },
    {
      "cell_type": "code",
      "source": [
        "# Metacharacters and Anchors\n",
        "\n",
        "pattern = r\"\\b\\w{3}\\b\" # returns three letter words\n",
        "matches = re.findall(pattern, text)\n",
        "matches"
      ],
      "metadata": {
        "colab": {
          "base_uri": "https://localhost:8080/"
        },
        "id": "2GZStNtxauE1",
        "outputId": "419a41af-3e46-4419-9dd2-b16be94cf95a"
      },
      "execution_count": 27,
      "outputs": [
        {
          "output_type": "execute_result",
          "data": {
            "text/plain": [
              "['The', 'fox', 'the', 'dog']"
            ]
          },
          "metadata": {},
          "execution_count": 27
        }
      ]
    },
    {
      "cell_type": "code",
      "source": [
        "pattern = r\"^The\"\n",
        "re.findall(pattern, text)"
      ],
      "metadata": {
        "colab": {
          "base_uri": "https://localhost:8080/"
        },
        "id": "aCzbf6sXbRpe",
        "outputId": "3e6b72b9-20dd-42e1-9291-c44f811396ac"
      },
      "execution_count": 28,
      "outputs": [
        {
          "output_type": "execute_result",
          "data": {
            "text/plain": [
              "['The']"
            ]
          },
          "metadata": {},
          "execution_count": 28
        }
      ]
    },
    {
      "cell_type": "markdown",
      "source": [
        "Grouping and Capturing"
      ],
      "metadata": {
        "id": "G4ccxtKNfNCW"
      }
    },
    {
      "cell_type": "code",
      "source": [
        "pattern = r\"(\\w+)\\s(\\w+)\"\n",
        "re.findall(pattern, text)"
      ],
      "metadata": {
        "colab": {
          "base_uri": "https://localhost:8080/"
        },
        "id": "i830h25adQyR",
        "outputId": "0402652a-2b27-4f3b-8224-a9219a4b72d0"
      },
      "execution_count": 29,
      "outputs": [
        {
          "output_type": "execute_result",
          "data": {
            "text/plain": [
              "[('The', 'quick'), ('brown', 'fox'), ('jumps', 'over'), ('the', 'lazy')]"
            ]
          },
          "metadata": {},
          "execution_count": 29
        }
      ]
    },
    {
      "cell_type": "markdown",
      "source": [
        "# Regex Operations"
      ],
      "metadata": {
        "id": "ztJk2N5PgFU_"
      }
    },
    {
      "cell_type": "code",
      "source": [
        "text = \"This is one sentence1237098. Yes T this is a sentence\"\n",
        "re.findall(\"[Ta-z]\", text)"
      ],
      "metadata": {
        "colab": {
          "base_uri": "https://localhost:8080/"
        },
        "id": "2gxrjLhifnh2",
        "outputId": "5a78757a-69f5-4c6e-b5d2-59ada706cff4"
      },
      "execution_count": 32,
      "outputs": [
        {
          "output_type": "execute_result",
          "data": {
            "text/plain": [
              "['T',\n",
              " 'h',\n",
              " 'i',\n",
              " 's',\n",
              " 'i',\n",
              " 's',\n",
              " 'o',\n",
              " 'n',\n",
              " 'e',\n",
              " 's',\n",
              " 'e',\n",
              " 'n',\n",
              " 't',\n",
              " 'e',\n",
              " 'n',\n",
              " 'c',\n",
              " 'e',\n",
              " 'e',\n",
              " 's',\n",
              " 'T',\n",
              " 't',\n",
              " 'h',\n",
              " 'i',\n",
              " 's',\n",
              " 'i',\n",
              " 's',\n",
              " 'a',\n",
              " 's',\n",
              " 'e',\n",
              " 'n',\n",
              " 't',\n",
              " 'e',\n",
              " 'n',\n",
              " 'c',\n",
              " 'e']"
            ]
          },
          "metadata": {},
          "execution_count": 32
        }
      ]
    },
    {
      "cell_type": "code",
      "source": [
        "text = \"ab kya karu mein abhay\"\n",
        "pattern = \"a..ay\"\n",
        "re.findall(pattern, text)"
      ],
      "metadata": {
        "colab": {
          "base_uri": "https://localhost:8080/"
        },
        "id": "B83IajYVhI9y",
        "outputId": "f7634e48-1299-4229-91c2-7e615caa494e"
      },
      "execution_count": 35,
      "outputs": [
        {
          "output_type": "execute_result",
          "data": {
            "text/plain": [
              "['abhay']"
            ]
          },
          "metadata": {},
          "execution_count": 35
        }
      ]
    },
    {
      "cell_type": "code",
      "source": [
        "text = \"This starts with this\"\n",
        "pattern = \"^This\"\n",
        "re.findall(pattern, text)"
      ],
      "metadata": {
        "colab": {
          "base_uri": "https://localhost:8080/"
        },
        "id": "ULjSyld3hlL5",
        "outputId": "f89026b6-6a39-4871-81e9-7c032a598b77"
      },
      "execution_count": 37,
      "outputs": [
        {
          "output_type": "execute_result",
          "data": {
            "text/plain": [
              "['This']"
            ]
          },
          "metadata": {},
          "execution_count": 37
        }
      ]
    },
    {
      "cell_type": "code",
      "source": [
        "text = \"ab kya karu mein hay\"\n",
        "pattern = \"a.*ay\"\n",
        "re.findall(pattern, text)"
      ],
      "metadata": {
        "colab": {
          "base_uri": "https://localhost:8080/"
        },
        "id": "iBaCmDNgiCNj",
        "outputId": "ccca6291-7157-4c9e-b604-fab63e3b2e78"
      },
      "execution_count": 38,
      "outputs": [
        {
          "output_type": "execute_result",
          "data": {
            "text/plain": [
              "['ab kya karu mein hay']"
            ]
          },
          "metadata": {},
          "execution_count": 38
        }
      ]
    },
    {
      "cell_type": "code",
      "source": [
        "text = \"ello bro how are you lo\"\n",
        "pattern = \"he.*lo\"\n",
        "re.findall(pattern, text)"
      ],
      "metadata": {
        "colab": {
          "base_uri": "https://localhost:8080/"
        },
        "id": "t7UxJvz2iNFb",
        "outputId": "d4a99cb5-a453-4614-9157-e97a1e0072af"
      },
      "execution_count": 42,
      "outputs": [
        {
          "output_type": "execute_result",
          "data": {
            "text/plain": [
              "[]"
            ]
          },
          "metadata": {},
          "execution_count": 42
        }
      ]
    },
    {
      "cell_type": "code",
      "source": [
        "text = \"ello bro how are you lo\"\n",
        "pattern = \"he.+lo\"\n",
        "re.findall(pattern, text)"
      ],
      "metadata": {
        "colab": {
          "base_uri": "https://localhost:8080/"
        },
        "id": "V2ENUBRXiWbH",
        "outputId": "b16b4edc-349a-4778-a3cb-83990e7b26a1"
      },
      "execution_count": 41,
      "outputs": [
        {
          "output_type": "execute_result",
          "data": {
            "text/plain": [
              "[]"
            ]
          },
          "metadata": {},
          "execution_count": 41
        }
      ]
    }
  ]
}