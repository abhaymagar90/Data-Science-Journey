{
  "nbformat": 4,
  "nbformat_minor": 0,
  "metadata": {
    "colab": {
      "provenance": []
    },
    "kernelspec": {
      "name": "python3",
      "display_name": "Python 3"
    },
    "language_info": {
      "name": "python"
    }
  },
  "cells": [
    {
      "cell_type": "markdown",
      "source": [
        "# Function Part 3 - Generator Function\n",
        "\n",
        "## What is the use of generator in Python?\n",
        "**In Python, a generator is a function that returns an iterator that produces a sequence of values when iterated over. Generators are useful when we want to produce a large sequence of values, but we don't want to store all of them in memory at once.**"
      ],
      "metadata": {
        "id": "wZWLlxi4GKbs"
      }
    },
    {
      "cell_type": "code",
      "execution_count": 1,
      "metadata": {
        "colab": {
          "base_uri": "https://localhost:8080/"
        },
        "id": "gs-Al9vVGHAH",
        "outputId": "d9af061c-8624-4f91-b548-ff35571eddbc"
      },
      "outputs": [
        {
          "output_type": "execute_result",
          "data": {
            "text/plain": [
              "range(1, 11)"
            ]
          },
          "metadata": {},
          "execution_count": 1
        }
      ],
      "source": [
        "range(1,11)"
      ]
    },
    {
      "cell_type": "code",
      "source": [
        "for i in range(1,11):\n",
        "  print(i)"
      ],
      "metadata": {
        "colab": {
          "base_uri": "https://localhost:8080/"
        },
        "id": "lsgWW8Q7G4JF",
        "outputId": "cf63a54b-3f0f-4f52-f11d-d4d99a419e88"
      },
      "execution_count": 2,
      "outputs": [
        {
          "output_type": "stream",
          "name": "stdout",
          "text": [
            "1\n",
            "2\n",
            "3\n",
            "4\n",
            "5\n",
            "6\n",
            "7\n",
            "8\n",
            "9\n",
            "10\n"
          ]
        }
      ]
    },
    {
      "cell_type": "code",
      "source": [
        "l = [1,2,3,4,5,6,7,8,9,\"abhay\", (1,2,3), {\"name\":\"Abhay\"}]\n",
        "\n",
        "def test(a):\n",
        "  l1 = []\n",
        "  for i in l:\n",
        "    if type(i) == int:\n",
        "      l1.append(i)\n",
        "  return l1\n",
        "\n",
        "test(l)"
      ],
      "metadata": {
        "colab": {
          "base_uri": "https://localhost:8080/"
        },
        "id": "SLJG2S-wG7N_",
        "outputId": "692cc05a-0e3f-4691-c444-e7bfd2e2d403"
      },
      "execution_count": 4,
      "outputs": [
        {
          "output_type": "execute_result",
          "data": {
            "text/plain": [
              "[1, 2, 3, 4, 5, 6, 7, 8, 9]"
            ]
          },
          "metadata": {},
          "execution_count": 4
        }
      ]
    },
    {
      "cell_type": "code",
      "source": [
        "n = 10\n",
        "\n",
        "a,b = 0, 1\n",
        "sum = 0\n",
        "if n<=0:\n",
        "  print(\"enter valid input \")\n",
        "else:\n",
        "  for i in range(0, n):\n",
        "    print(sum, end=\" \")\n",
        "    a = b\n",
        "    b = sum\n",
        "    sum = a+b\n",
        "\n"
      ],
      "metadata": {
        "colab": {
          "base_uri": "https://localhost:8080/"
        },
        "id": "LG13iKIfHEzs",
        "outputId": "adb4ed73-c8c2-4d2a-b882-e1de76fd443c"
      },
      "execution_count": 23,
      "outputs": [
        {
          "output_type": "stream",
          "name": "stdout",
          "text": [
            "0 1 1 2 3 5 8 13 21 34 "
          ]
        }
      ]
    },
    {
      "cell_type": "code",
      "source": [
        "def fibb(n):\n",
        "  a,b = 0,1\n",
        "  for i in range(0, n):\n",
        "    yield a    # yeild a means find current value of a and immediately return it to function call of fibb(). Hence for every iteration, it will return current value of a\n",
        "    a,b = b, a+b\n",
        "\n",
        "fibb(10)"
      ],
      "metadata": {
        "colab": {
          "base_uri": "https://localhost:8080/"
        },
        "id": "6xGUTLAiJq32",
        "outputId": "9a149f60-ca6e-439d-cb34-fb31889d6d3e"
      },
      "execution_count": 28,
      "outputs": [
        {
          "output_type": "execute_result",
          "data": {
            "text/plain": [
              "<generator object fibb at 0x7fcc194f0900>"
            ]
          },
          "metadata": {},
          "execution_count": 28
        }
      ]
    },
    {
      "cell_type": "code",
      "source": [
        "# now to use the function\n",
        "\n",
        "for i in fibb(10):\n",
        "  print(i)              # here i holds value of whatever is yeilded at particular iteration\n",
        "\n",
        "# In first itration, i will hold first yielded val of a. In 2nd iteration, i will hold second yielded value of a\n"
      ],
      "metadata": {
        "colab": {
          "base_uri": "https://localhost:8080/"
        },
        "id": "l6BsbqPHNUHZ",
        "outputId": "6c1a4cb5-1b14-485b-8a8d-e01f4cc83785"
      },
      "execution_count": 27,
      "outputs": [
        {
          "output_type": "stream",
          "name": "stdout",
          "text": [
            "(0, 1)\n",
            "(1, 1)\n",
            "(1, 2)\n",
            "(2, 3)\n",
            "(3, 5)\n",
            "(5, 8)\n",
            "(8, 13)\n",
            "(13, 21)\n",
            "(21, 34)\n",
            "(34, 55)\n"
          ]
        }
      ]
    },
    {
      "cell_type": "markdown",
      "source": [
        "#### Main disadvantage of normal function is that, it holds the entire list till all iterations are complete and then returns the final list after execution. If number of values/iteration is large, the list will be large and function will keep on taking the storage for list till final list is returned. This is where generator function comes into picture as it keeps on returning elements per iteration and does not store the entire list. This comes very handy when we have large data. "
      ],
      "metadata": {
        "id": "nU-XRnJBPXX-"
      }
    }
  ]
}