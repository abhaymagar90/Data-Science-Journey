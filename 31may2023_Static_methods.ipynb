{
  "nbformat": 4,
  "nbformat_minor": 0,
  "metadata": {
    "colab": {
      "provenance": []
    },
    "kernelspec": {
      "name": "python3",
      "display_name": "Python 3"
    },
    "language_info": {
      "name": "python"
    }
  },
  "cells": [
    {
      "cell_type": "markdown",
      "source": [
        "Static methods in Python, in comparison to instance methods, are not bound to an object. In other words, object state cannot be accessed or changed by static methods. Additionally, Python does not automatically give the self or cls parameters to static methods. Therefore, the state of the class cannot be accessed or changed by static methods."
      ],
      "metadata": {
        "id": "m7knsqHsUCc-"
      }
    },
    {
      "cell_type": "markdown",
      "source": [
        "\n",
        "Static methods have limited use, because they don't have access to the attributes of an instance of a class (like a regular method does), and they don't have access to the attributes of the class itself (like a class method does).\n",
        "\n",
        "So they aren't useful for day-to-day methods.\n",
        "\n",
        "However, they can be useful to group some utility function together with a class - e.g. a simple conversion from one type to another - that doesn't need access to any information apart from the parameters provided (and perhaps some attributes global to the module.)\n",
        "\n",
        "*  They can also be accessed from anywhere in your code without having to create an instance of the class."
      ],
      "metadata": {
        "id": "EzkpqFpnVAP7"
      }
    },
    {
      "cell_type": "markdown",
      "source": [
        "The difference between the Class method and the static method is:\n",
        "\n",
        "A class method takes cls as the first parameter while a static method needs no specific parameters.\n",
        "A class method can access or modify the class state while a static method can’t access or modify it.\n",
        "In general, static methods know nothing about the class state. They are utility-type methods that take some parameters and work upon those parameters. On the other hand class methods must have class as a parameter.\n",
        "We use @classmethod decorator in python to create a class method and we use @staticmethod decorator to create a static method in python."
      ],
      "metadata": {
        "id": "s9ozN1YVVzYk"
      }
    },
    {
      "cell_type": "code",
      "source": [
        "class test:\n",
        "  def student_details(self, name,marks):\n",
        "    print(name, marks)\n",
        "\n",
        "t = test()\n",
        "t.student_details(\"Abhay\", 90)"
      ],
      "metadata": {
        "colab": {
          "base_uri": "https://localhost:8080/"
        },
        "id": "55RKyEovUD6F",
        "outputId": "aa51fbc1-eadd-414f-e5b8-284269f75525"
      },
      "execution_count": 2,
      "outputs": [
        {
          "output_type": "stream",
          "name": "stdout",
          "text": [
            "Abhay 90\n"
          ]
        }
      ]
    },
    {
      "cell_type": "code",
      "source": [
        "# Static method example\n",
        "\n",
        "\n",
        "class test1:\n",
        "  def student_details(self, name,marks):\n",
        "    print(name, marks)\n",
        "\n",
        "  @staticmethod\n",
        "  def class_mentor(mentor_list):\n",
        "    print(mentor_list)\n",
        "\n",
        "# static methods do not have self arg. Also to access them, no need to create object. we can directly use classname.methodname()\n",
        "\n",
        "test1.class_mentor([\"abhay\", \"vaibhav\"])\n",
        "\n"
      ],
      "metadata": {
        "colab": {
          "base_uri": "https://localhost:8080/"
        },
        "id": "lK31u395V7ee",
        "outputId": "9ef79abb-fc6b-4e1b-8532-7ae9cebf088a"
      },
      "execution_count": 6,
      "outputs": [
        {
          "output_type": "stream",
          "name": "stdout",
          "text": [
            "['abhay', 'vaibhav']\n"
          ]
        }
      ]
    },
    {
      "cell_type": "code",
      "source": [
        "class test2:\n",
        "  def student_details(self, name,marks):\n",
        "    print(name, marks)\n",
        "\n",
        "  @staticmethod\n",
        "  def class_mentor(mentor_list):\n",
        "    print(mentor_list)\n",
        "\n",
        "  def mentor(self, list_mentor):\n",
        "    print(list_mentor)\n",
        "\n",
        "test2.class_mentor([\"abhay\", \"vaibhav\"])       # accessing static method using class\n",
        "\n",
        "# accessing static method using object\n",
        "\n",
        "t2 = test2()\n",
        "t2.class_mentor([\"vaibhav\", \"anjali\"])      # accessing static method using object\n",
        "\n",
        "t2.mentor([\"anjali\", \"abhay\"])             # accessing normal method"
      ],
      "metadata": {
        "colab": {
          "base_uri": "https://localhost:8080/"
        },
        "id": "pZA1AjRhWg-b",
        "outputId": "5cf1dcff-271d-4900-f76a-de18ee4bde7e"
      },
      "execution_count": 13,
      "outputs": [
        {
          "output_type": "stream",
          "name": "stdout",
          "text": [
            "['abhay', 'vaibhav']\n",
            "['vaibhav', 'anjali']\n",
            "['anjali', 'abhay']\n"
          ]
        }
      ]
    },
    {
      "cell_type": "code",
      "source": [
        "# static methods can be accessed by other normal methods class methods, as well as other static methods \n",
        "\n",
        "\n",
        "class test2:\n",
        "  def student_details(self, name,marks):\n",
        "    print(name, marks)\n",
        "    self.class_mentor([\"arnav\", \"sita\"])\n",
        "\n",
        "  @staticmethod\n",
        "  def class_mentor(mentor_list):\n",
        "    print(mentor_list)\n",
        "\n",
        "  @classmethod\n",
        "  def clasmthd(cls, phone):\n",
        "    print(phone)\n",
        "    cls.class_mentor([\"Riya\", \"Sita\"])\n",
        "\n",
        "  def mentor(self, list_mentor):\n",
        "    print(list_mentor)\n",
        "    self.class_mentor([\"Ram\", \"Shyam\"])\n",
        "\n",
        "  @staticmethod\n",
        "  def new_stcmthd(email):\n",
        "    print(email)\n",
        "    test2.class_mentor([\"Aditya\", \"Atharva\"])"
      ],
      "metadata": {
        "id": "kSPcTAe6W70_"
      },
      "execution_count": 32,
      "outputs": []
    },
    {
      "cell_type": "code",
      "source": [
        "obj = test2()\n",
        "obj.student_details(\"abhay\", 90)"
      ],
      "metadata": {
        "colab": {
          "base_uri": "https://localhost:8080/"
        },
        "id": "2HduxYGFZceJ",
        "outputId": "c0df1fd2-f16e-4dde-cc8f-4ba5784d3af2"
      },
      "execution_count": 33,
      "outputs": [
        {
          "output_type": "stream",
          "name": "stdout",
          "text": [
            "abhay 90\n",
            "['arnav', 'sita']\n"
          ]
        }
      ]
    },
    {
      "cell_type": "code",
      "source": [
        "obj.mentor([\"abhay\", \"vineet\"])"
      ],
      "metadata": {
        "colab": {
          "base_uri": "https://localhost:8080/"
        },
        "id": "fhO81kaUaeAd",
        "outputId": "d4afae35-2896-4060-f6d8-80317083bc15"
      },
      "execution_count": 34,
      "outputs": [
        {
          "output_type": "stream",
          "name": "stdout",
          "text": [
            "['abhay', 'vineet']\n",
            "['Ram', 'Shyam']\n"
          ]
        }
      ]
    },
    {
      "cell_type": "code",
      "source": [
        "obj.clasmthd(638292)"
      ],
      "metadata": {
        "colab": {
          "base_uri": "https://localhost:8080/"
        },
        "id": "4jae2-LVaseO",
        "outputId": "cb3695e9-6dd6-405e-880d-81cdf6dc5d89"
      },
      "execution_count": 35,
      "outputs": [
        {
          "output_type": "stream",
          "name": "stdout",
          "text": [
            "638292\n",
            "['Riya', 'Sita']\n"
          ]
        }
      ]
    },
    {
      "cell_type": "code",
      "source": [
        "obj.new_stcmthd(\"gmail.com\")"
      ],
      "metadata": {
        "colab": {
          "base_uri": "https://localhost:8080/"
        },
        "id": "opsVNaiqa7JM",
        "outputId": "4eec3c6d-c3f2-4e24-dee6-5fad79591f6b"
      },
      "execution_count": 36,
      "outputs": [
        {
          "output_type": "stream",
          "name": "stdout",
          "text": [
            "gmail.com\n",
            "['Aditya', 'Atharva']\n"
          ]
        }
      ]
    },
    {
      "cell_type": "code",
      "source": [
        "# accessing static method \n",
        "\n",
        "test2.new_stcmthd(\"THIS IS GMAIL.COM\")"
      ],
      "metadata": {
        "colab": {
          "base_uri": "https://localhost:8080/"
        },
        "id": "gntAw_CgbmPI",
        "outputId": "994337e2-b287-4a2e-f6f7-1f05886be29f"
      },
      "execution_count": 37,
      "outputs": [
        {
          "output_type": "stream",
          "name": "stdout",
          "text": [
            "THIS IS GMAIL.COM\n",
            "['Aditya', 'Atharva']\n"
          ]
        }
      ]
    },
    {
      "cell_type": "markdown",
      "source": [
        "Using static methods we are saving memory, b'coz if a method is accessed several times throughout the application then there is no need to create an instance everytime to call that method."
      ],
      "metadata": {
        "id": "6Uv5OkxOcWbS"
      }
    }
  ]
}