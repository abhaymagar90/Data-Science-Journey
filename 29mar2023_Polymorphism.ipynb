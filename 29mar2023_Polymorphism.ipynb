{
  "nbformat": 4,
  "nbformat_minor": 0,
  "metadata": {
    "colab": {
      "provenance": []
    },
    "kernelspec": {
      "name": "python3",
      "display_name": "Python 3"
    },
    "language_info": {
      "name": "python"
    }
  },
  "cells": [
    {
      "cell_type": "code",
      "execution_count": 73,
      "metadata": {
        "id": "NDVqJaOa6eV3"
      },
      "outputs": [],
      "source": [
        "def test(a,b):\n",
        "  return a+b"
      ]
    },
    {
      "cell_type": "code",
      "source": [
        "test(4,5)"
      ],
      "metadata": {
        "colab": {
          "base_uri": "https://localhost:8080/"
        },
        "id": "mVUW2lWz8l1u",
        "outputId": "d140bbe9-1011-4476-a225-5eeb669770d7"
      },
      "execution_count": 74,
      "outputs": [
        {
          "output_type": "execute_result",
          "data": {
            "text/plain": [
              "9"
            ]
          },
          "metadata": {},
          "execution_count": 74
        }
      ]
    },
    {
      "cell_type": "code",
      "source": [
        "test(\"abhay \", \"magar\")"
      ],
      "metadata": {
        "colab": {
          "base_uri": "https://localhost:8080/",
          "height": 36
        },
        "id": "QV_l46Qt8nCb",
        "outputId": "3ce8185b-b25e-4e49-d8bb-2444121b975a"
      },
      "execution_count": 75,
      "outputs": [
        {
          "output_type": "execute_result",
          "data": {
            "text/plain": [
              "'abhay magar'"
            ],
            "application/vnd.google.colaboratory.intrinsic+json": {
              "type": "string"
            }
          },
          "metadata": {},
          "execution_count": 75
        }
      ]
    },
    {
      "cell_type": "code",
      "source": [
        "test([1,2,3,4] , [5,6,7,8] )"
      ],
      "metadata": {
        "colab": {
          "base_uri": "https://localhost:8080/"
        },
        "id": "oRUt1nAS8o3q",
        "outputId": "02d96037-abf2-41db-b119-636ca9398eb3"
      },
      "execution_count": 76,
      "outputs": [
        {
          "output_type": "execute_result",
          "data": {
            "text/plain": [
              "[1, 2, 3, 4, 5, 6, 7, 8]"
            ]
          },
          "metadata": {},
          "execution_count": 76
        }
      ]
    },
    {
      "cell_type": "markdown",
      "source": [
        "In above case, same function is used for concatenating different objects"
      ],
      "metadata": {
        "id": "wun96Hit8vo4"
      }
    },
    {
      "cell_type": "code",
      "source": [
        "class test2:\n",
        "  def datascience(self):\n",
        "    print(\"This is data science\")\n",
        "\n",
        "class test3:\n",
        "  def datascience(self):\n",
        "    print(\"This is data science again\")"
      ],
      "metadata": {
        "id": "FsShsD7u8tLo"
      },
      "execution_count": 77,
      "outputs": []
    },
    {
      "cell_type": "code",
      "source": [
        "data_obj = test2()\n",
        "type(data_obj)"
      ],
      "metadata": {
        "colab": {
          "base_uri": "https://localhost:8080/"
        },
        "id": "4lotNHVIA3JF",
        "outputId": "c7910f10-0e4a-48f8-8c9b-29c407a33507"
      },
      "execution_count": 78,
      "outputs": [
        {
          "output_type": "execute_result",
          "data": {
            "text/plain": [
              "__main__.test2"
            ]
          },
          "metadata": {},
          "execution_count": 78
        }
      ]
    },
    {
      "cell_type": "code",
      "source": [
        "comp_obj = test3()\n",
        "type(comp_obj)"
      ],
      "metadata": {
        "colab": {
          "base_uri": "https://localhost:8080/"
        },
        "id": "pdweXsaJBFcQ",
        "outputId": "9dbb226c-8267-4de2-eb48-3974a6d4ac48"
      },
      "execution_count": 79,
      "outputs": [
        {
          "output_type": "execute_result",
          "data": {
            "text/plain": [
              "__main__.test3"
            ]
          },
          "metadata": {},
          "execution_count": 79
        }
      ]
    },
    {
      "cell_type": "code",
      "source": [
        "comp_obj.datascience()"
      ],
      "metadata": {
        "colab": {
          "base_uri": "https://localhost:8080/"
        },
        "id": "B9ZWLTh_B5Um",
        "outputId": "faef8c31-2251-4b0a-9565-78981451e967"
      },
      "execution_count": 80,
      "outputs": [
        {
          "output_type": "stream",
          "name": "stdout",
          "text": [
            "This is data science again\n"
          ]
        }
      ]
    },
    {
      "cell_type": "code",
      "source": [
        "data_obj.datascience()"
      ],
      "metadata": {
        "colab": {
          "base_uri": "https://localhost:8080/"
        },
        "id": "52ho7Y3lCE9r",
        "outputId": "34b00e71-c6fa-4ef9-933e-e9f645df4adc"
      },
      "execution_count": 81,
      "outputs": [
        {
          "output_type": "stream",
          "name": "stdout",
          "text": [
            "This is data science\n"
          ]
        }
      ]
    },
    {
      "cell_type": "code",
      "source": [
        "def total(class_obj):\n",
        "  for i in class_obj:\n",
        "    i.datascience()"
      ],
      "metadata": {
        "id": "CLZo0p2JCe40"
      },
      "execution_count": 82,
      "outputs": []
    },
    {
      "cell_type": "code",
      "source": [
        "lst = [comp_obj, data_obj]\n",
        "total(lst)"
      ],
      "metadata": {
        "colab": {
          "base_uri": "https://localhost:8080/"
        },
        "id": "rWmDwRhBCSRT",
        "outputId": "b0f9e768-e7a4-4227-91be-2b8a8d86177c"
      },
      "execution_count": 83,
      "outputs": [
        {
          "output_type": "stream",
          "name": "stdout",
          "text": [
            "This is data science again\n",
            "This is data science\n"
          ]
        }
      ]
    },
    {
      "cell_type": "code",
      "source": [
        "# Another Example"
      ],
      "metadata": {
        "id": "UVPyc50UDVbC"
      },
      "execution_count": 84,
      "outputs": []
    },
    {
      "cell_type": "code",
      "source": [
        "class one:\n",
        "  def addition(self,a,b):\n",
        "    return a+b\n",
        "\n",
        "  def multi(self, a,b):\n",
        "    return a*b\n",
        "\n",
        "class two:\n",
        "  def addition(self,a,b,c,d):\n",
        "    return a+b+c+d\n"
      ],
      "metadata": {
        "id": "OVHbho7zDXU5"
      },
      "execution_count": 85,
      "outputs": []
    },
    {
      "cell_type": "code",
      "source": [
        "obj1 = one()\n",
        "obj2 = two()\n",
        "\n",
        "obj1.addition(5,6)"
      ],
      "metadata": {
        "colab": {
          "base_uri": "https://localhost:8080/"
        },
        "id": "hcgE-JmKE61v",
        "outputId": "b9d1d087-df67-40c6-a657-a38975ddc2ba"
      },
      "execution_count": 86,
      "outputs": [
        {
          "output_type": "execute_result",
          "data": {
            "text/plain": [
              "11"
            ]
          },
          "metadata": {},
          "execution_count": 86
        }
      ]
    },
    {
      "cell_type": "code",
      "source": [
        "obj2.addition(1,2,3,4)"
      ],
      "metadata": {
        "colab": {
          "base_uri": "https://localhost:8080/"
        },
        "id": "kCYks1KqFFuX",
        "outputId": "ea5bcb6e-c492-4de6-9e04-adedaeb580ac"
      },
      "execution_count": 87,
      "outputs": [
        {
          "output_type": "execute_result",
          "data": {
            "text/plain": [
              "10"
            ]
          },
          "metadata": {},
          "execution_count": 87
        }
      ]
    },
    {
      "cell_type": "code",
      "source": [
        "obj1.multi(9,10)"
      ],
      "metadata": {
        "colab": {
          "base_uri": "https://localhost:8080/"
        },
        "id": "CsRNYDpRFIFh",
        "outputId": "ca99e76b-997b-43d9-e0e9-576337adcbb6"
      },
      "execution_count": 88,
      "outputs": [
        {
          "output_type": "execute_result",
          "data": {
            "text/plain": [
              "90"
            ]
          },
          "metadata": {},
          "execution_count": 88
        }
      ]
    },
    {
      "cell_type": "code",
      "source": [
        "# obj2.multi(9,10)  ----> error. To do this, you will need inheritance"
      ],
      "metadata": {
        "id": "RGTTMxrBFdmd"
      },
      "execution_count": 89,
      "outputs": []
    },
    {
      "cell_type": "code",
      "source": [
        "class one:\n",
        "  def addition(self,a,b):\n",
        "    return a+b\n",
        "\n",
        "  def multi(self, a,b):\n",
        "    return a*b\n",
        "\n",
        "class two(one):             # inheritance\n",
        "  def addition(self,a,b,c,d):\n",
        "    return a+b+c+d"
      ],
      "metadata": {
        "id": "EdxykVrXGTR7"
      },
      "execution_count": 90,
      "outputs": []
    },
    {
      "cell_type": "code",
      "source": [
        "obj1 = one()\n",
        "obj2 = two()\n",
        "\n",
        "obj1.addition(5,6)"
      ],
      "metadata": {
        "colab": {
          "base_uri": "https://localhost:8080/"
        },
        "id": "HbtTJ1-4GYAo",
        "outputId": "f37e361b-9301-4a06-8f4f-d58ea3d17030"
      },
      "execution_count": 91,
      "outputs": [
        {
          "output_type": "execute_result",
          "data": {
            "text/plain": [
              "11"
            ]
          },
          "metadata": {},
          "execution_count": 91
        }
      ]
    },
    {
      "cell_type": "code",
      "source": [
        "obj2.addition(1,2,3,4)"
      ],
      "metadata": {
        "colab": {
          "base_uri": "https://localhost:8080/"
        },
        "id": "UAE5RZ3VGaMz",
        "outputId": "37e2151c-ed60-4bab-937f-f2acb2fad54c"
      },
      "execution_count": 92,
      "outputs": [
        {
          "output_type": "execute_result",
          "data": {
            "text/plain": [
              "10"
            ]
          },
          "metadata": {},
          "execution_count": 92
        }
      ]
    },
    {
      "cell_type": "code",
      "source": [
        "obj1.multi(9,10)"
      ],
      "metadata": {
        "colab": {
          "base_uri": "https://localhost:8080/"
        },
        "id": "O6zjbQgwGbqT",
        "outputId": "98fd3ed2-0d20-4651-edfe-6cfb038d3bd3"
      },
      "execution_count": 93,
      "outputs": [
        {
          "output_type": "execute_result",
          "data": {
            "text/plain": [
              "90"
            ]
          },
          "metadata": {},
          "execution_count": 93
        }
      ]
    },
    {
      "cell_type": "code",
      "source": [
        "obj2.multi(9,10)"
      ],
      "metadata": {
        "colab": {
          "base_uri": "https://localhost:8080/"
        },
        "id": "KpljcoA6GdEc",
        "outputId": "707a782b-56dd-41a6-c20a-c8b6485cf197"
      },
      "execution_count": 94,
      "outputs": [
        {
          "output_type": "execute_result",
          "data": {
            "text/plain": [
              "90"
            ]
          },
          "metadata": {},
          "execution_count": 94
        }
      ]
    }
  ]
}